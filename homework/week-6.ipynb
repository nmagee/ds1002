{
  "nbformat": 4,
  "nbformat_minor": 0,
  "metadata": {
    "colab": {
      "provenance": [],
      "authorship_tag": "ABX9TyO0JCBxvqRoe7AoJNuNsvat",
      "include_colab_link": true
    },
    "kernelspec": {
      "name": "python3",
      "display_name": "Python 3"
    },
    "language_info": {
      "name": "python"
    }
  },
  "cells": [
    {
      "cell_type": "markdown",
      "metadata": {
        "id": "view-in-github",
        "colab_type": "text"
      },
      "source": [
        "<a href=\"https://colab.research.google.com/github/nmagee/ds1002/blob/main/homework/week-6.ipynb\" target=\"_parent\"><img src=\"https://colab.research.google.com/assets/colab-badge.svg\" alt=\"Open In Colab\"/></a>"
      ]
    },
    {
      "cell_type": "markdown",
      "source": [
        "# Homework - Week 6\n",
        "\n",
        "Complete the following blocks as specified in the directions. Run each cell to return the desired output. Save your notebook back to your GitHub repository and submit the GitHub URL for your notebook for review."
      ],
      "metadata": {
        "id": "xJ6ZWHKXW4qY"
      }
    },
    {
      "cell_type": "markdown",
      "source": [
        "# Pandas\n",
        "\n",
        "## 1. Fetch and Load Data\n",
        "In class we created a DataFrame using the `read_csv` method. Go to https://catalog.data.gov/dataset/electric-vehicle-population-data and download the CSV format of the \"Electric Vehicle Population Data\" dataset. Then upload it to Google Colab.\n",
        "\n",
        "Load that data into a Pandas DataFrame and display the first 20 rows. Show your work."
      ],
      "metadata": {
        "id": "2xOjrZ-Rg28_"
      }
    },
    {
      "cell_type": "code",
      "source": [
        "# Set up pandas and populate the dataframe above using the raw data. Then continue to work with the dataframe in the questions below.\n"
      ],
      "metadata": {
        "id": "--XDmwVsbMC0"
      },
      "execution_count": null,
      "outputs": []
    },
    {
      "cell_type": "code",
      "source": [
        "# Format a command that how many rows and columns are in this dataset.\n"
      ],
      "metadata": {
        "id": "BOEWyifRiA-W"
      },
      "execution_count": null,
      "outputs": []
    },
    {
      "cell_type": "code",
      "source": [
        "# Format a command that displays every other row of records 1000 through 1999, and the columns \"City\", \"State\", \"Model Year\", and \"Make\".\n"
      ],
      "metadata": {
        "id": "RxqOYSNXiJ5U"
      },
      "execution_count": null,
      "outputs": []
    },
    {
      "cell_type": "markdown",
      "source": [
        "# 2. Cleaning/Imputing Data\n",
        "\n",
        "In class we reviewed methods for removing duplicate rows and handling empty cell values. Download [this data set](https://github.com/nmagee/ds1002/blob/main/data/very-messy-data.csv) and upload into Google Colab.\n",
        "\n",
        "Create another Pandas DataFrame from that data and perform the following steps."
      ],
      "metadata": {
        "id": "ne7qgu7nVtiI"
      }
    },
    {
      "cell_type": "code",
      "source": [
        "# Set up pandas and populate the dataframe above using the raw data. Then continue to work with the dataframe in the questions below.\n"
      ],
      "metadata": {
        "id": "sDYMm0QpWKYO"
      },
      "execution_count": null,
      "outputs": []
    },
    {
      "cell_type": "code",
      "source": [
        "# Write a snippet of code that will display the number of duplicate rows exist in the DF.\n"
      ],
      "metadata": {
        "id": "keh0p_RjWMDy"
      },
      "execution_count": null,
      "outputs": []
    },
    {
      "cell_type": "code",
      "source": [
        "# Next, remove all duplicate rows using Python.\n"
      ],
      "metadata": {
        "id": "lJqw97KwWraS"
      },
      "execution_count": null,
      "outputs": []
    },
    {
      "cell_type": "code",
      "source": [
        "# For the FOUR columns involving sepal and petal length and width, update all NaN\n",
        "# values with the column mean such that NO empty cells remain. This method\n",
        "# is called \"imputation\" because it fills in cells in a statistically less-impactful\n",
        "# way than if they were blank.\n",
        "\n",
        "# Show how you would update those four columns in code\n"
      ],
      "metadata": {
        "id": "yGbZ4Vy-W2pm"
      },
      "execution_count": null,
      "outputs": []
    },
    {
      "cell_type": "markdown",
      "source": [
        "# 3. Save to a New CSV\n",
        "\n",
        "Preserve your updated DF to a CSV file by using the method built into Pandas.\n",
        "Name the output file `very-clean-data.csv` and save it to GitHub in the same directory where you will save this homework. We will review both your Colab notebook and the cleaned data file."
      ],
      "metadata": {
        "id": "v1Y4RoeLXZnI"
      }
    }
  ]
}