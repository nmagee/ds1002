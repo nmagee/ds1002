{
  "nbformat": 4,
  "nbformat_minor": 0,
  "metadata": {
    "colab": {
      "provenance": [],
      "authorship_tag": "ABX9TyOGgVZNV7ATjDBMPtLfOaEB",
      "include_colab_link": true
    },
    "kernelspec": {
      "name": "python3",
      "display_name": "Python 3"
    },
    "language_info": {
      "name": "python"
    }
  },
  "cells": [
    {
      "cell_type": "markdown",
      "metadata": {
        "id": "view-in-github",
        "colab_type": "text"
      },
      "source": [
        "<a href=\"https://colab.research.google.com/github/nmagee/ds1002/blob/main/homework/week-12.ipynb\" target=\"_parent\"><img src=\"https://colab.research.google.com/assets/colab-badge.svg\" alt=\"Open In Colab\"/></a>"
      ]
    },
    {
      "cell_type": "markdown",
      "source": [
        "## Pie Chart (3 points)"
      ],
      "metadata": {
        "id": "CRYAujzKWHXU"
      }
    },
    {
      "cell_type": "code",
      "source": [
        "# Create a pie chart from raw values\n",
        "\n",
        "slices = [56, 66, 24, 124, 47]\n",
        "labels = [\"US\",\"UK\",\"MX\",\"CA\",\"JP\"]"
      ],
      "metadata": {
        "id": "cgb_RppwTobt"
      },
      "execution_count": null,
      "outputs": []
    },
    {
      "cell_type": "code",
      "source": [],
      "metadata": {
        "id": "aQGeX191Wdld"
      },
      "execution_count": null,
      "outputs": []
    },
    {
      "cell_type": "markdown",
      "source": [
        "## Histogram (3 points)"
      ],
      "metadata": {
        "id": "vyRVZ2WFWLSm"
      }
    },
    {
      "cell_type": "code",
      "source": [
        "# Create a histogram from random data\n",
        "\n",
        "import matplotlib.pyplot as plt\n",
        "import numpy as np\n",
        "\n",
        "n = 430 + np.random.randn(3000)"
      ],
      "metadata": {
        "id": "-yVE6AcmUo1r"
      },
      "execution_count": null,
      "outputs": []
    },
    {
      "cell_type": "code",
      "source": [],
      "metadata": {
        "id": "L-w47A8AWeOb"
      },
      "execution_count": null,
      "outputs": []
    },
    {
      "cell_type": "markdown",
      "source": [
        "## Scatterplot with Trendline (3 points)"
      ],
      "metadata": {
        "id": "dDTab9eYWNwf"
      }
    },
    {
      "cell_type": "code",
      "execution_count": null,
      "metadata": {
        "id": "dA0TuDLbTNOZ"
      },
      "outputs": [],
      "source": [
        "# Create a scatterplot with a trendline from two lists of values\n",
        "\n",
        "import matplotlib.pyplot as plt\n",
        "import numpy as np\n",
        "import pandas as pd\n",
        "\n",
        "num_points = 50\n",
        "x = 5 + np.arange(num_points) + np.random.randn(num_points)\n",
        "y = 10 + np.arange(num_points) + 5 * np.random.randn(num_points)\n",
        "\n",
        "# If you want them combined into a dataframe\n",
        "df = pd.DataFrame({'x': x, 'y': y})"
      ]
    },
    {
      "cell_type": "code",
      "source": [],
      "metadata": {
        "id": "7qWI6xVyWe_v"
      },
      "execution_count": null,
      "outputs": []
    }
  ]
}