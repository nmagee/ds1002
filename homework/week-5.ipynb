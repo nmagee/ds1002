{
  "nbformat": 4,
  "nbformat_minor": 0,
  "metadata": {
    "colab": {
      "provenance": [],
      "authorship_tag": "ABX9TyPqUwEvB1WkKA76a5VV+Qt6",
      "include_colab_link": true
    },
    "kernelspec": {
      "name": "python3",
      "display_name": "Python 3"
    },
    "language_info": {
      "name": "python"
    }
  },
  "cells": [
    {
      "cell_type": "markdown",
      "metadata": {
        "id": "view-in-github",
        "colab_type": "text"
      },
      "source": [
        "<a href=\"https://colab.research.google.com/github/nmagee/ds1002/blob/main/homework/week-5.ipynb\" target=\"_parent\"><img src=\"https://colab.research.google.com/assets/colab-badge.svg\" alt=\"Open In Colab\"/></a>"
      ]
    },
    {
      "cell_type": "markdown",
      "source": [
        "# Homework - Week 5\n",
        "\n",
        "Complete the following blocks as specified in the directions. Run each cell to return the desired output. Save your notebook back to your GitHub repository and submit the GitHub URL for your notebook for review."
      ],
      "metadata": {
        "id": "xJ6ZWHKXW4qY"
      }
    },
    {
      "cell_type": "markdown",
      "source": [
        "## 1. NumPy\n",
        "\n",
        "You have three Python lists (below). Put them into a single NumPy `ndarray` as a 2-dimensional array (with 6 columns and 3 rows). Using the 6 columns in each list, add each column's values and print out the added values. Demonstrate everything required to code such an operation in the code block below.\n",
        "\n",
        "```python\n",
        "val1 = [12,14,16,18,20,22]\n",
        "val2 = [5,10,15,20,25,30]\n",
        "val3 = [5,7,9,11,13,15]\n",
        "```"
      ],
      "metadata": {
        "id": "atxtPF2-XXiW"
      }
    },
    {
      "cell_type": "code",
      "execution_count": null,
      "metadata": {
        "id": "mdX0VBQgW1-9"
      },
      "outputs": [],
      "source": [
        "# Set up numpy and create an array from the 3 lists above. Don't just copy and\n",
        "# paste the values into a new array by hand, use the three variables to create it.\n"
      ]
    },
    {
      "cell_type": "code",
      "source": [
        "# Now format a SINGLE command that displays the first and second lines of the ndarray you just made.\n"
      ],
      "metadata": {
        "id": "OqufZNzyjfPe"
      },
      "execution_count": null,
      "outputs": []
    },
    {
      "cell_type": "code",
      "source": [
        "# Format a command that slices the ndarray, giving only the first 3 columns of the first 2 rows.\n",
        "# Display those values back in your code.\n"
      ],
      "metadata": {
        "id": "J72swip9j2fN"
      },
      "execution_count": null,
      "outputs": []
    },
    {
      "cell_type": "code",
      "source": [
        "# Finally, using the ndarray object you created above, use the .T method with it.\n",
        "# For example, if your ndarray was named \"myarray\" then issue this command:\n",
        "#\n",
        "#  myarray.T\n",
        "#\n",
        "# What does that command do to the ndarray? Write your answer in the text block below."
      ],
      "metadata": {
        "id": "6cclXhoTlcZa"
      },
      "execution_count": null,
      "outputs": []
    },
    {
      "cell_type": "markdown",
      "source": [
        "Answer here."
      ],
      "metadata": {
        "id": "18ox3zDWlxo5"
      }
    },
    {
      "cell_type": "markdown",
      "source": [
        "# 2. Pandas\n",
        "\n",
        "In class we created a DataFrame using the `read_csv` method. Another way to create a df is by hand, using Python lists. Below shows you how to do that, using a list of columns, a list of indexes, and a list of actual data for each record.\n",
        "\n",
        "```python\n",
        "df = pd.DataFrame(\n",
        "    columns=['x','y','z'],\n",
        "    index=['row1','row2','row3'],\n",
        "    data=[[9,3,7],[1,2,4],[4,6,8]])\n",
        "```"
      ],
      "metadata": {
        "id": "2xOjrZ-Rg28_"
      }
    },
    {
      "cell_type": "code",
      "source": [
        "# Set up pandas and create the dataframe above. Then continue to work with the dataframe in the questions below.\n"
      ],
      "metadata": {
        "id": "--XDmwVsbMC0"
      },
      "execution_count": null,
      "outputs": []
    },
    {
      "cell_type": "code",
      "source": [
        "# Format a command that displays the entire DataFrame.\n"
      ],
      "metadata": {
        "id": "BOEWyifRiA-W"
      },
      "execution_count": null,
      "outputs": []
    },
    {
      "cell_type": "code",
      "source": [
        "# Format a command that selects and returns only the SECOND row of data from the df.\n"
      ],
      "metadata": {
        "id": "RxqOYSNXiJ5U"
      },
      "execution_count": null,
      "outputs": []
    },
    {
      "cell_type": "code",
      "source": [
        "# Format a command that selects and returns only the `y` column of data from the df.\n"
      ],
      "metadata": {
        "id": "Ca0bVgd2jEBV"
      },
      "execution_count": null,
      "outputs": []
    },
    {
      "cell_type": "code",
      "source": [
        "# Format a command that displays the data types present in this DataFrame.\n"
      ],
      "metadata": {
        "id": "VzMEHBPRiZfH"
      },
      "execution_count": null,
      "outputs": []
    },
    {
      "cell_type": "code",
      "source": [
        "# Finally, using the DataFrame object you created above, use the .T method with it.\n",
        "# For example, if your df was named \"mydf\" then issue this command:\n",
        "#\n",
        "#  mydf.T\n",
        "#\n",
        "# What does that command do to the DataFrame? Write your answer in the text block below."
      ],
      "metadata": {
        "id": "kOuxKUktlzrY"
      },
      "execution_count": null,
      "outputs": []
    },
    {
      "cell_type": "markdown",
      "source": [
        "Answer here."
      ],
      "metadata": {
        "id": "X7KW5F-Al7oX"
      }
    }
  ]
}