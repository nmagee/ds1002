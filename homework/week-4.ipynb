{
  "nbformat": 4,
  "nbformat_minor": 0,
  "metadata": {
    "colab": {
      "provenance": [],
      "authorship_tag": "ABX9TyN2xwoM6odiCe71ac1TMeWI",
      "include_colab_link": true
    },
    "kernelspec": {
      "name": "python3",
      "display_name": "Python 3"
    },
    "language_info": {
      "name": "python"
    }
  },
  "cells": [
    {
      "cell_type": "markdown",
      "metadata": {
        "id": "view-in-github",
        "colab_type": "text"
      },
      "source": [
        "<a href=\"https://colab.research.google.com/github/nmagee/ds1002/blob/main/homework/week-4.ipynb\" target=\"_parent\"><img src=\"https://colab.research.google.com/assets/colab-badge.svg\" alt=\"Open In Colab\"/></a>"
      ]
    },
    {
      "cell_type": "markdown",
      "source": [
        "# Homework - Week 4\n",
        "\n",
        "Complete the following blocks as specified in the directions. Run each cell to return the desired output. Save your notebook back to your GitHub repository and submit the GitHub URL for your notebook for review."
      ],
      "metadata": {
        "id": "xJ6ZWHKXW4qY"
      }
    },
    {
      "cell_type": "markdown",
      "source": [
        "## 1. Lists\n",
        "\n",
        "    mylist = [\"Chicago\",\"New Orleans\", \"Tempe\", \"Denver\", \"Nashville\", \"Albany\"]\n",
        "\n",
        "Using the list above, answer these questions:\n",
        "\n",
        "1. Write a snippet of code that prints out `\"Tempe\"`.\n",
        "2. Write a snippet of code that adds `\"Atlanta\"` to this list and prints out the extended list.\n",
        "3. Write a snippet of code that prints out only `\"New Orleans\", \"Tempe\", \"Denver\"`."
      ],
      "metadata": {
        "id": "j0mCENI3XK2i"
      }
    },
    {
      "cell_type": "code",
      "execution_count": null,
      "metadata": {
        "id": "mdX0VBQgW1-9"
      },
      "outputs": [],
      "source": [
        "# Put answers below"
      ]
    },
    {
      "cell_type": "markdown",
      "source": [
        "## 2. Data Types\n",
        "\n",
        "```python\n",
        "s = \"Fox\"\n",
        "x = 17\n",
        "y = \"3\"\n",
        "z = \"false\"\n",
        "```\n",
        "\n",
        "Use the variables above and answer these questions:\n",
        "\n",
        "1. Write a snippet of code that prints out the data type of `s`\n",
        "2. Write a snippet of code that adds `x` and `y` and prints out their sum.\n",
        "2. Write ..."
      ],
      "metadata": {
        "id": "atxtPF2-XXiW"
      }
    },
    {
      "cell_type": "code",
      "source": [
        "# Put answers below"
      ],
      "metadata": {
        "id": "2szfLXZcYC_7"
      },
      "execution_count": null,
      "outputs": []
    },
    {
      "cell_type": "markdown",
      "source": [
        "# 3. Dictionaries\n",
        "\n",
        "    mydict = {\"VA\":\"Richmond\", \"NC\":\"Raleigh\", \"NJ\":\"Trenton\", \"PA\":\"Harrisburg\", \"NY\":\"Albany\"}\n",
        "\n",
        "1. Write a snippet of code that prints `\"Trenton\"`\n",
        "2. Write a snippet of code that adds `\"CO\":\"Denver\"` to `mydict`"
      ],
      "metadata": {
        "id": "GeXcT_9sYEdx"
      }
    },
    {
      "cell_type": "code",
      "source": [
        "# Put answers below"
      ],
      "metadata": {
        "id": "v3fvvKP4ZUvJ"
      },
      "execution_count": null,
      "outputs": []
    },
    {
      "cell_type": "markdown",
      "source": [
        "# 4. NumPy\n",
        "\n",
        "Create an `ndarray` that contains the following values and assign it to a variable.\n",
        "\n",
        "    2, 3, 5, 7, 11, 13, 17, 19, 23, 29, 31, 37\n",
        "\n",
        "1. Write a snippet of code that prints the data type of the elements in the array.\n",
        "2. Write a snippet of code that displays `11` from the array."
      ],
      "metadata": {
        "id": "DkVtHJBoYW34"
      }
    },
    {
      "cell_type": "code",
      "source": [
        "# Put answers below"
      ],
      "metadata": {
        "id": "db5UdbrVZSiJ"
      },
      "execution_count": null,
      "outputs": []
    }
  ]
}