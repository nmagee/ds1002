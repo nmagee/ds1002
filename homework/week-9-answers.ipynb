{
  "nbformat": 4,
  "nbformat_minor": 0,
  "metadata": {
    "colab": {
      "provenance": [],
      "authorship_tag": "ABX9TyNX7Uu9oF0ZphkQYGHhHbGD",
      "include_colab_link": true
    },
    "kernelspec": {
      "name": "python3",
      "display_name": "Python 3"
    },
    "language_info": {
      "name": "python"
    }
  },
  "cells": [
    {
      "cell_type": "markdown",
      "metadata": {
        "id": "view-in-github",
        "colab_type": "text"
      },
      "source": [
        "<a href=\"https://colab.research.google.com/github/nmagee/ds1002/blob/main/homework/week-9-answers.ipynb\" target=\"_parent\"><img src=\"https://colab.research.google.com/assets/colab-badge.svg\" alt=\"Open In Colab\"/></a>"
      ]
    },
    {
      "cell_type": "markdown",
      "source": [
        "# Homework - Week 9\n",
        "\n",
        "Complete the following blocks as specified in the directions. Run each cell to return the desired output. Save your notebook back to your GitHub repository and submit the GitHub URL to your notebook for review."
      ],
      "metadata": {
        "id": "phbaQTT5gy8A"
      }
    },
    {
      "cell_type": "markdown",
      "source": [
        "## Functions\n",
        "\n",
        "In the cell below define a function that takes one parameter (in the form of a list) called `names` and returns a simple greeting for each name, such as\n",
        "\n",
        "    \"Hello Natasha, it's so nice to meet you\"\n",
        "    \"Hello Sid, it's so nice to meet you\"\n",
        "\n",
        "Define the function and run it, and in another cell below call the function populated with a var of a list of names."
      ],
      "metadata": {
        "id": "38Pg39pMrDua"
      }
    },
    {
      "cell_type": "code",
      "source": [
        "# define the function taking 1 parameter (a list)\n",
        "\n",
        "def send_greetings(names):\n",
        "  for n in names:\n",
        "    print(\"Hello\", n, \"it's so nice to meet you\")\n"
      ],
      "metadata": {
        "id": "kdFLCHtOg53p"
      },
      "execution_count": null,
      "outputs": []
    },
    {
      "cell_type": "code",
      "source": [
        "# There is also a fancier/newer way of printing variables within things, called F-strings.\n",
        "# Here's another version of the above function using f-string printing:\n",
        "\n",
        "# define the function taking 1 parameter (a list)\n",
        "\n",
        "def send_greetings(names):\n",
        "  for n in names:\n",
        "    print(f\"Hello {n}, it's so nice to meet you\")"
      ],
      "metadata": {
        "id": "0aFXs6ZoCXPF"
      },
      "execution_count": null,
      "outputs": []
    },
    {
      "cell_type": "code",
      "source": [
        "# now push a list of names into the fcn\n",
        "\n",
        "names = [\"Neal\",\"Shandra\",\"Ravi\",\"Stephen\",\"Linda\",\"Elsa\"]\n",
        "\n",
        "send_greetings(names)\n"
      ],
      "metadata": {
        "id": "JlNPe_XUsmog",
        "outputId": "62fc4f66-5ec9-4c61-e0f8-3129ed9d9231",
        "colab": {
          "base_uri": "https://localhost:8080/"
        }
      },
      "execution_count": null,
      "outputs": [
        {
          "output_type": "stream",
          "name": "stdout",
          "text": [
            "Hello Neal it's so nice to meet you\n",
            "Hello Shandra it's so nice to meet you\n",
            "Hello Ravi it's so nice to meet you\n",
            "Hello Stephen it's so nice to meet you\n",
            "Hello Linda it's so nice to meet you\n",
            "Hello Elsa it's so nice to meet you\n"
          ]
        }
      ]
    },
    {
      "cell_type": "markdown",
      "source": [
        "Using the following list, pass it into a function you define that will evaluate the list and return a count of how many items is in it. Be creative.\n",
        "\n",
        "```\n",
        "mylist = [\"Toronto\",\"Buffalo\",\"Syracuse\",\"Albany\",\"Schenectady\",\"Brooklyn\",\"Rome\",\"Ithaca\"]\n",
        "```"
      ],
      "metadata": {
        "id": "mXqNACpkrdUZ"
      }
    },
    {
      "cell_type": "code",
      "source": [
        "# here we go - first populate the list of cities\n",
        "\n",
        "mylist = [\"Toronto\",\"Buffalo\",\"Syracuse\",\"Albany\",\"Schenectady\",\"Brooklyn\",\"Rome\",\"Ithaca\"]\n",
        "\n",
        "# next set up the function. I don't really care about WHAT is in the list, I just care about\n",
        "# how many times my loop has to for-loop. So I set up an empty counter var, and I add one to\n",
        "# that var each time it loops. Then I return that var at the end.\n",
        "\n",
        "def count_things(mylist):\n",
        "  count = 0\n",
        "  for m in mylist:\n",
        "    count += 1\n",
        "  return count\n",
        "\n",
        "# now call the fcn with the parameter\n",
        "count_things(mylist)\n"
      ],
      "metadata": {
        "id": "mvxOzRSisg0a",
        "outputId": "11267bbf-667b-4efe-effd-71da047de02a",
        "colab": {
          "base_uri": "https://localhost:8080/"
        }
      },
      "execution_count": null,
      "outputs": [
        {
          "output_type": "execute_result",
          "data": {
            "text/plain": [
              "8"
            ]
          },
          "metadata": {},
          "execution_count": 6
        }
      ]
    },
    {
      "cell_type": "markdown",
      "source": [
        "## Input Validation\n",
        "\n",
        "Write a function below that defines two input parameters as `bool` and returns a `bool`.\n",
        "In the cell below that, populate two variables with two different bools (True and False)\n",
        "and pass them into a call of your function."
      ],
      "metadata": {
        "id": "YU7FXSCXsFab"
      }
    },
    {
      "cell_type": "code",
      "source": [
        "# First set up two vars that I'll pass in as input. One is true one is false.\n",
        "var1 = True\n",
        "var2 = False\n",
        "\n",
        "# then set up a fcn that takes those vars as input parameters. In this case I chose\n",
        "# to create a new var joining var1 and var2 with an \"and\". But I could also choose \"or\".\n",
        "# This will return a bool as well.\n",
        "\n",
        "# True and True = True\n",
        "# True and False = False\n",
        "# False and True = False\n",
        "# False and False = False\n",
        "\n",
        "# True or True = True\n",
        "# True or False = True\n",
        "# False or True = True\n",
        "# False or False = False\n",
        "\n",
        "def check_my_bools(var1, var2):\n",
        "  gimme = var1 and var2\n",
        "  return gimme\n",
        "\n",
        "check_my_bools(var1,var2)\n"
      ],
      "metadata": {
        "id": "DGMJZjlysfHU",
        "outputId": "3d962409-85e1-48eb-e364-833b79cb84e2",
        "colab": {
          "base_uri": "https://localhost:8080/"
        }
      },
      "execution_count": null,
      "outputs": [
        {
          "output_type": "execute_result",
          "data": {
            "text/plain": [
              "False"
            ]
          },
          "metadata": {},
          "execution_count": 8
        }
      ]
    },
    {
      "cell_type": "markdown",
      "source": [
        "## Global Variables\n",
        "\n",
        "Define a global variable and populate it with a data type (int, str, bool, float, etc.)"
      ],
      "metadata": {
        "id": "xXZTr5fdsd5M"
      }
    },
    {
      "cell_type": "code",
      "source": [
        "# defining a \"naked\" variable outside of a fcn makes it global by default.\n",
        "# Be sure to execute this cell so the var is in memory.\n",
        "\n",
        "favorite_number = 11\n"
      ],
      "metadata": {
        "id": "HN8CFLVRs6_L"
      },
      "execution_count": null,
      "outputs": []
    },
    {
      "cell_type": "markdown",
      "source": [
        "Now create a function that prints out the global variable. Call the function and display the value of the var."
      ],
      "metadata": {
        "id": "G1Auc6l1s8F6"
      }
    },
    {
      "cell_type": "code",
      "source": [
        "# A function can fetch the value of a global var because it's global!\n",
        "# This means the global var does not have to be passed into the fcn as a\n",
        "# parameter -- the fcn can already get this value.\n",
        "\n",
        "def fetch_the_global():\n",
        "  print(favorite_number)\n",
        "\n",
        "# now call the fcn\n",
        "fetch_the_global()\n"
      ],
      "metadata": {
        "id": "Q6O0Ep_wtBWJ",
        "outputId": "34dc8aa1-8414-4d4e-8038-e68ba74b65ad",
        "colab": {
          "base_uri": "https://localhost:8080/"
        }
      },
      "execution_count": null,
      "outputs": [
        {
          "output_type": "stream",
          "name": "stdout",
          "text": [
            "11\n"
          ]
        }
      ]
    },
    {
      "cell_type": "markdown",
      "source": [
        "Now create a function that creates its own global var and populates it.\n",
        "Call the function and then print out the global var from outside of the function."
      ],
      "metadata": {
        "id": "IN2TRQI8tCC4"
      }
    },
    {
      "cell_type": "code",
      "source": [
        "# In this case the fcn needs not input parameters b/c it's going to define a\n",
        "# global var from within the fcn. The magic line is the \"global hardware\" line\n",
        "# which establishes this new var to be a global var.\n",
        "# After that I am simply populating the var with some value.\n",
        "\n",
        "def create_a_global_var():\n",
        "  global hardware\n",
        "  hardware = [\"hammer\",\"saws\",\"screwdrivers\",\"nails\"]\n",
        "\n",
        "# The fcn needs to be executed in order to create and populate the global var.\n",
        "create_a_global_var()\n",
        "\n",
        "# Finally, the global var that was created can now be used from outside of the fcn.\n",
        "print(hardware)\n"
      ],
      "metadata": {
        "id": "Oz4rnmfTtKen",
        "outputId": "2a37172c-1759-4ef1-ba15-675b97c91b41",
        "colab": {
          "base_uri": "https://localhost:8080/"
        }
      },
      "execution_count": null,
      "outputs": [
        {
          "output_type": "stream",
          "name": "stdout",
          "text": [
            "['hammer', 'saws', 'screwdrivers', 'nails']\n"
          ]
        }
      ]
    },
    {
      "cell_type": "markdown",
      "source": [
        "Finally, write a function that updates the value of the global var you defined 3 cells above.\n",
        "\n",
        "1. Within the function, print out the global var you defined 3 cells above.\n",
        "2. Update the global var to have a new value.\n",
        "3. Within the function, print the new value of the global var.\n",
        "\n",
        "Call the function and once more print out the value of the global var from outside of the function."
      ],
      "metadata": {
        "id": "jv0dtym0tLZn"
      }
    },
    {
      "cell_type": "code",
      "source": [
        "# Okay here we go...\n",
        "\n",
        "# What you will notice is that if the global declaration comes AFTER the first print statement\n",
        "# you will get an error. But changing the order is okay since you do not update the value until\n",
        "# later.\n",
        "\n",
        "# So the order of things is:\n",
        "#    1. define the fcn with no parameters\n",
        "#    2. declare a global var\n",
        "#    3. print the original value of the var\n",
        "#    4. update the value of the var\n",
        "#    5. print out the new value of the var\n",
        "#    6. call the function, with no parameters required\n",
        "#    7. once more print out the value of the global var from outside of the fcn.\n",
        "\n",
        "def the_old_changeroo():\n",
        "  global favorite_number\n",
        "  print(favorite_number)\n",
        "  favorite_number = 93\n",
        "  print(favorite_number)\n",
        "\n",
        "the_old_changeroo()\n",
        "print(favorite_number)\n"
      ],
      "metadata": {
        "id": "pnX-hfKouLcG",
        "outputId": "72822a72-5b76-48c7-eb18-335bbceed29e",
        "colab": {
          "base_uri": "https://localhost:8080/"
        }
      },
      "execution_count": null,
      "outputs": [
        {
          "output_type": "stream",
          "name": "stdout",
          "text": [
            "11\n",
            "93\n",
            "93\n"
          ]
        }
      ]
    }
  ]
}