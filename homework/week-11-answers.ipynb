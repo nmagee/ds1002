{
  "nbformat": 4,
  "nbformat_minor": 0,
  "metadata": {
    "colab": {
      "provenance": [],
      "authorship_tag": "ABX9TyMLR6xwj0HnBfN8wl8bFXrl",
      "include_colab_link": true
    },
    "kernelspec": {
      "name": "python3",
      "display_name": "Python 3"
    },
    "language_info": {
      "name": "python"
    }
  },
  "cells": [
    {
      "cell_type": "markdown",
      "metadata": {
        "id": "view-in-github",
        "colab_type": "text"
      },
      "source": [
        "<a href=\"https://colab.research.google.com/github/nmagee/ds1002/blob/main/homework/week-11-answers.ipynb\" target=\"_parent\"><img src=\"https://colab.research.google.com/assets/colab-badge.svg\" alt=\"Open In Colab\"/></a>"
      ]
    },
    {
      "cell_type": "markdown",
      "source": [
        "# Homework - Error Handling & Recursion\n",
        "\n",
        "Complete the cells below. Pay close attention to all directions given.\n",
        "\n",
        "## Error Handling (3 pts)\n",
        "\n",
        "```\n",
        "def throw_me_an_error():\n",
        "  val1 = 14\n",
        "  val2 = 0\n",
        "  return val1 / val2\n",
        "\n",
        "throw_me_an_error()\n",
        "```\n",
        "\n",
        "The function above is designed to deliberately throw an error.\n",
        "\n",
        "Create a new version of the function but add `try` and `except` statements correctly. Your exception should print out the type of error this function created. There are a couple of different ways you could do this.\n"
      ],
      "metadata": {
        "id": "v14Xtd9oiTGF"
      }
    },
    {
      "cell_type": "code",
      "execution_count": 3,
      "metadata": {
        "id": "-dfq0Vo_iSi7",
        "outputId": "dd18084c-cc0c-4e2e-9474-b1e82b0e0508",
        "colab": {
          "base_uri": "https://localhost:8080/"
        }
      },
      "outputs": [
        {
          "output_type": "stream",
          "name": "stdout",
          "text": [
            "An error occurred: division by zero\n"
          ]
        }
      ],
      "source": [
        "# The try/except clauses are critical here.\n",
        "# This except statement catches ANY type of exception\n",
        "# and stores it in a var named 'e'\n",
        "\n",
        "def throw_me_an_error():\n",
        "  val1 = 14\n",
        "  val2 = 0\n",
        "  try:\n",
        "    return val1 / val2\n",
        "  except Exception as e:\n",
        "    print(\"An error occurred:\", e)\n",
        "\n",
        "throw_me_an_error()\n",
        "\n",
        "# Note that val1/val2 can be defined outside of the try/except stanzas, since they are hard-coded values.\n",
        "# The \"logic\" as it is in this fcn performs some math, which CAN result in an exception as this example shows."
      ]
    },
    {
      "cell_type": "markdown",
      "source": [
        "## Error Handling (4 pts)\n",
        "\n",
        "Extend the class below to include some error handling. Assume the remote resource is offline for a moment: How would you give a message to the user indicating what has gone wrong? (Hint: one way you can test this is by deliberately misspelling the URL for the remote resource.)\n",
        "\n",
        "Also, include error handling logic so that execution of the class method `guid()` always returns a line \"Your request has been completed\" along with the guid it created.\n",
        "\n",
        "```\n",
        "import requests\n",
        "import json\n",
        "import sys\n",
        "\n",
        "class Id:\n",
        "\n",
        "  def guid():\n",
        "    response = requests.get('https://ids.pods.uvarc.io/guid')\n",
        "    body = json.loads(response.text)\n",
        "    return body['id']\n",
        "\n",
        "Id.guid()\n",
        "```"
      ],
      "metadata": {
        "id": "gf9m78RWmWqC"
      }
    },
    {
      "cell_type": "code",
      "source": [
        "# Here is a deeper example with TRY, EXCEPT, and the FINALLY (which prints out a line we always want returned)\n",
        "\n",
        "import requests\n",
        "import json\n",
        "import sys\n",
        "\n",
        "class Id:\n",
        "\n",
        "  def guid():\n",
        "    try:\n",
        "      response = requests.get('https://ids.pods.uvarc.io/guid')\n",
        "      body = json.loads(response.text)\n",
        "      return body['id']\n",
        "    except Exception as e:\n",
        "      print(\"An error occurred:\", e)\n",
        "    finally:\n",
        "      print(\"Your request has been completed\")\n",
        "\n",
        "Id.guid()\n",
        "\n",
        "# Note there is no instance of this class, we are simply calling the guid() method directly from the class definition, not\n",
        "# an instance. This suffices for generic class results when there is no difference between the class definition and an instance\n",
        "# of the class. In this case a new GUID is always the result."
      ],
      "metadata": {
        "id": "hT5B-LokmUbU",
        "outputId": "947b267b-e98e-4fe7-876b-eb8472a78fc1",
        "colab": {
          "base_uri": "https://localhost:8080/",
          "height": 52
        }
      },
      "execution_count": 4,
      "outputs": [
        {
          "output_type": "stream",
          "name": "stdout",
          "text": [
            "Your request has been completed\n"
          ]
        },
        {
          "output_type": "execute_result",
          "data": {
            "text/plain": [
              "'53fb2246-6264-45a3-a1e9-389ff36a2618'"
            ],
            "application/vnd.google.colaboratory.intrinsic+json": {
              "type": "string"
            }
          },
          "metadata": {},
          "execution_count": 4
        }
      ]
    },
    {
      "cell_type": "markdown",
      "source": [
        "## Recursive Functions (3 pts)\n",
        "\n",
        "In the cell below, explain line by line the logic of what is being calculated when the function is called with an input value of 2.\n",
        "\n",
        "```\n",
        "def squarer(n):\n",
        "  if n == 1:\n",
        "    return 2\n",
        "  else:\n",
        "    return squarer(n-1) ** 2 + n\n",
        "    \n",
        "squarer(2)\n",
        "```"
      ],
      "metadata": {
        "id": "XCuNofSFomZ6"
      }
    },
    {
      "cell_type": "code",
      "source": [
        "# Explain what happens when 2 is the input of the above function.\n",
        "\n",
        "Line 1 - 2 is input as the parameter for the function.\n",
        "Line 2 - This if statement evaluates the 2 and it does not meet the condition. Passes to the else statement.\n",
        "Line 3 - Not needed (yet)\n",
        "Line 4 - This catches the 2 as the original input.\n",
        "Line 5 - This now executes since 2 met the \"else\" condition. Returns the result of 2-1 passed into the function again.\n",
        "  The result of that will be squared and added to itself:\n",
        "\n",
        "  Therefore, 2-1 = 1 passed into the function again means that line 2 is now a met condition,\n",
        "  This means that line 3 will return a 2.\n",
        "  2 is the output of the second pass of the function, which is now fed into the original pass\n",
        "  2 ** 2 + 2 = 2^2 + 2 = 4 + 2 = 6\n",
        "  The return of the recursive function when given 2 is 6."
      ],
      "metadata": {
        "id": "oYiqS2cxxXm4"
      },
      "execution_count": null,
      "outputs": []
    }
  ]
}