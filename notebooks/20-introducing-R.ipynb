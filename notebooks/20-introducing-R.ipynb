{
  "nbformat": 4,
  "nbformat_minor": 0,
  "metadata": {
    "colab": {
      "provenance": [],
      "authorship_tag": "ABX9TyNTC5mx0d7jj0NnfuyYoYY7",
      "include_colab_link": true
    },
    "kernelspec": {
      "name": "ir",
      "display_name": "R"
    },
    "language_info": {
      "name": "R"
    }
  },
  "cells": [
    {
      "cell_type": "markdown",
      "metadata": {
        "id": "view-in-github",
        "colab_type": "text"
      },
      "source": [
        "<a href=\"https://colab.research.google.com/github/nmagee/ds1002/blob/main/notebooks/20-introducing-R.ipynb\" target=\"_parent\"><img src=\"https://colab.research.google.com/assets/colab-badge.svg\" alt=\"Open In Colab\"/></a>"
      ]
    },
    {
      "cell_type": "markdown",
      "source": [
        "# Introducing R\n",
        "\n",
        "<img align=\"right\" width=\"200\" height=\"200\" src=\"https://stamsgroup.com/wp-content/uploads/2020/08/R.programming-300x300.png\">\n",
        "\n",
        "**What is R?** R is a programming language for statistical computing and graphics supported by the R Core Team and the R Foundation for Statistical Computing. It was created at the University of Auckland in 1991 and became an open source project in 1995.\n",
        "\n",
        "**What are the pros and cons of R?**\n",
        "\n",
        "There are a few advantages R has over Python in the realm of statistics and data analysis:\n",
        "\n",
        "- Built for statistics\n",
        "- Data visualization\n",
        "- Additional statistical packages\n",
        "- Data wrangling\n",
        "- Academic focus\n",
        "- Customizable\n",
        "\n",
        "Disadvantages of R vs. Python:\n",
        "\n",
        "- Less readable\n",
        "- More difficult to learn well\n",
        "- Not as beginner-friendly\n",
        "\n",
        "- - -"
      ],
      "metadata": {
        "id": "FK-OA1E3FGOl"
      }
    },
    {
      "cell_type": "markdown",
      "source": [
        "## The Basics\n",
        "\n",
        "### Design:\n",
        "\n",
        "-   Designed to support statistical computing\n",
        "-   Very strong community\n",
        "-   Many domain-specific functions are built in\n",
        "-   Vector first thinking\n",
        "-   Everything is an object\n",
        "\n",
        "### R Syntax\n",
        "\n",
        "-   Syntax loosely follows traditional `C`-style\n",
        "    -   **Braces** `{` and `}` are used to form blocks.\n",
        "    -   **Semi-colons** are used optionally to end statements, required\n",
        "        if on same line.\n",
        "-   **Assignments** are made with `<-` or `->` (or `=`)\n",
        "-   **Dots** `.` have no special meaning -- they are not operators.\n",
        "-   Single and double **quotes** have the same meaning, but double\n",
        "    quotes tend to be preferred.\n",
        "    -   Use single quotes if you expect your string to contain double\n",
        "        quotes.\n",
        "\n",
        "- - -"
      ],
      "metadata": {
        "id": "w2AT-cm7GJkO"
      }
    },
    {
      "cell_type": "markdown",
      "source": [
        "## Variables\n",
        "\n",
        "Like other languages, variables (known as \"objects\" in R) can be named arbitrarily. The limits on naming are:\n",
        "\n",
        "- A variable name must start with a letter and can be a combination of letters, digits, period(.)\n",
        "and underscore(_).\n",
        "- If it starts with period(.), it cannot be followed by a digit.\n",
        "- A variable name cannot start with a number or underscore (_)\n",
        "- Variable names are case-sensitive (age, Age and AGE are three different variables)\n",
        "- Reserved words cannot be used as variables (TRUE, FALSE, NULL, if...)\n",
        "\n",
        "To assign a value to a variable, use the ` <- ` notation, which suggests \"pushing\" value into the variable.\n",
        "\n",
        "Note: Just like in Python, variables/objects can be ANYTHING. A string, an integer, a data frame, a list, etc. And just like in Python you can always print out that variable to see what it contains."
      ],
      "metadata": {
        "id": "igcp_r77Hu20"
      }
    },
    {
      "cell_type": "code",
      "source": [
        "# comments also use hashtags to indicate they are comments!\n",
        "# let's create an object and populate it.\n",
        "\n",
        "myvar <- 77\n",
        "myvar"
      ],
      "metadata": {
        "id": "wULaaJZ_IRhV"
      },
      "execution_count": null,
      "outputs": []
    },
    {
      "cell_type": "code",
      "source": [
        "# you can learn what datatype an object is using the typeof() function.\n",
        "# A \"double\" is a type of integer.\n",
        "\n",
        "typeof(myvar)"
      ],
      "metadata": {
        "id": "DdETH23sIcr5"
      },
      "execution_count": null,
      "outputs": []
    },
    {
      "cell_type": "code",
      "source": [
        "# you can also assign in the other direction if you want (though the convention is R to L)\n",
        "\n",
        "\"mickey\" -> mousename\n",
        "mousename"
      ],
      "metadata": {
        "id": "jU9Q0JT_JgDJ"
      },
      "execution_count": null,
      "outputs": []
    },
    {
      "cell_type": "code",
      "source": [
        "# Another very basic operation is to concatenate values into an object using the c() function:\n",
        "\n",
        "myname = c(\"Bob\", \"Dylan\")\n",
        "myname"
      ],
      "metadata": {
        "id": "E-YTJ7MxJ1Kr"
      },
      "execution_count": null,
      "outputs": []
    },
    {
      "cell_type": "markdown",
      "source": [
        "### R Data Types\n",
        "\n",
        "There are several basic R data types.\n",
        "\n",
        "-   [Numeric](#scrollTo=hNZPBBDdHKzi&line=35&uniqifier=1)\n",
        "-   [Integer](#scrollTo=eikm2wiRHiC_&line=47&uniqifier=1)\n",
        "-   Complex\n",
        "-   [Logical](#scrollTo=fYk9koTOHYxR&line=42&uniqifier=1)\n",
        "-   [Character](#scrollTo=nnEP2VnkHPkd&line=61&uniqifier=1)\n"
      ],
      "metadata": {
        "id": "Nf2zdOlEHofg"
      }
    },
    {
      "cell_type": "markdown",
      "source": [
        "## Numeric\n",
        "\n",
        "Decimal values are called \"numerics\" in R.\n",
        "\n",
        "It is the **default** computational data type.\n",
        "\n",
        "If we assign a decimal value to a variable x, x will be of numeric type:\n",
        "\n",
        "```{r}\n",
        "x <- 10.5       # assign a decimal value\n",
        "x              # print the value of x\n",
        "```\n",
        "\n",
        "```{r}\n",
        "class(x)      # print the class name of x\n",
        "```\n",
        "\n",
        "Even if we assign an integer to a variable k, it will still be saved\n",
        "as a numeric value.\n",
        "\n",
        "```{r}\n",
        "k <- 1\n",
        "k              # print the value of k\n",
        "```\n",
        "\n",
        "```{r}\n",
        "class(k)       # print the class name of k\n",
        "```\n",
        "\n",
        "That k is not an integer can be confirmed with `is.integer()`:\n",
        "\n",
        "```{r}\n",
        "is.integer(k)  # is k an integer?\n",
        "```\n"
      ],
      "metadata": {
        "id": "hNZPBBDdHKzi"
      }
    },
    {
      "cell_type": "markdown",
      "source": [
        "## Integers\n",
        "\n",
        "To create an integer variable in R, we use `as.integer()`.\n",
        "\n",
        "```{r}\n",
        "y <- as.integer(3)\n",
        "y              # print the value of y\n",
        "```\n",
        "\n",
        "```{r}\n",
        "class(y)       # print the class name of y\n",
        "is.integer(y)  # is y an integer?\n",
        "```\n",
        "\n",
        "We can also declare an integer by appending an `L` suffix.\n",
        "\n",
        "```{r}\n",
        "y <- 3L\n",
        "is.integer(y)  # is y an integer?\n",
        "```\n",
        "\n",
        "We can coerce, or cast, a numeric value into an integer with\n",
        "`as.integer()`.\n",
        "\n",
        "```{r}\n",
        "as.integer(3.14)    # coerce a numeric value\n",
        "```\n",
        "\n",
        "And we can parse a string for decimal values in much the same way.\n",
        "\n",
        "```{r}\n",
        "as.integer(\"5.27\")  # coerce a decimal string\n",
        "```\n",
        "\n",
        "On the other hand, it is erroneous trying to parse a non-decimal string.\n",
        "\n",
        "```{r}\n",
        "as.integer(\"Joe\")   # coerce an non-decimal string\n",
        "```\n",
        "\n",
        "We can convert booleans to numbers this way, too.\n",
        "\n",
        "```{r}\n",
        "as.integer(TRUE)    # the numeric value of TRUE\n",
        "as.integer(FALSE)   # the numeric value of FALSE\n",
        "```\n"
      ],
      "metadata": {
        "id": "eikm2wiRHiC_"
      }
    },
    {
      "cell_type": "markdown",
      "source": [
        "### Math Operators\n",
        "\n",
        "| **Operator**   | **Description**             |\n",
        "|----------------|-----------------------------|\n",
        "| **+**          | addition                    |\n",
        "| **-**          | subtraction                 |\n",
        "| **\\***         | multiplication              |\n",
        "| **/**          | division                    |\n",
        "| **\\^ or \\*\\*** | exponentiation              |\n",
        "| **x %% y**     | modulus (x mod y) 5%%2 is 1 |\n",
        "| **x %/% y**    | integer division 5%/%2 is 2 |\n",
        "\n"
      ],
      "metadata": {
        "id": "vXV6GU1KHeOe"
      }
    },
    {
      "cell_type": "markdown",
      "source": [
        "## Logical (Boolean)\n",
        "\n",
        "A logical value is often created via comparison between variables.\n",
        "\n",
        "```{r}\n",
        "x <- 1\n",
        "y <- 2   # sample values\n",
        "z <- x > y      # is x larger than y?\n",
        "z              # print the logical value\n",
        "```\n",
        "\n",
        "```{r}\n",
        "class(z)       # print the class name of z\n",
        "```\n",
        "\n",
        "### Logical Operators\n",
        "\n",
        "Standard logical operations are `&` (and), `|` (or), and `!` (negation).\n",
        "\n",
        "```{r}\n",
        "u <- TRUE\n",
        "v <- FALSE\n",
        "u & v          # u AND v\n",
        "```\n",
        "\n",
        "```{r}\n",
        "u | v          # u OR v\n",
        "```\n",
        "\n",
        "```{r}\n",
        "!u             # negation of u\n",
        "```\n",
        "\n",
        "Note that you can use `T` and `F` instead of `TRUE` and `FALSE`.\n",
        "\n",
        "```{r}\n",
        "a <- T\n",
        "b <- F\n",
        "a & b\n",
        "```\n",
        "\n"
      ],
      "metadata": {
        "id": "fYk9koTOHYxR"
      }
    },
    {
      "cell_type": "markdown",
      "source": [
        "## Characters\n",
        "\n",
        "A character object is used to represent string values in R.\n",
        "\n",
        "We convert objects into character values with the `as.character()`\n",
        "function:\n",
        "\n",
        "```{r}\n",
        "x = as.character(3.14)\n",
        "x\n",
        "```\n",
        "\n",
        "```{r}\n",
        "class(x)       # print the class name of x\n",
        "```\n",
        "\n",
        "### `paste()`\n",
        "\n",
        "Two character values can be concatenated with the `paste()` function.\n",
        "\n",
        "```{r}\n",
        "fname <- \"Joe\"\n",
        "lname <-\"Smith\"\n",
        "paste(fname, lname)\n",
        "```\n",
        "\n",
        "`paste()` takes a `sep` argument:\n",
        "\n",
        "```{r}\n",
        "paste(\"A\", \"B\", \"C\", sep=\"--\")\n",
        "```\n",
        "\n",
        "### `sprintf()`\n",
        "\n",
        "However, it is often more convenient to create a readable string with\n",
        "the `sprintf()` function, which has a C language syntax.\n",
        "\n",
        "```{r}\n",
        "sprintf(\"%s has %d dollars\", \"Sam\", 100)\n",
        "```\n",
        "\n",
        "### `substr()`\n",
        "\n",
        "To extract a substring, we apply the `substr()` function.\n",
        "\n",
        "Here is an example showing how to extract the substring between the\n",
        "third and twelfth positions in a string.\n",
        "\n",
        "```{r}\n",
        "substr(\"Mary has a little lamb.\", start=3, stop=12)\n",
        "```\n",
        "\n",
        "### `sub()`\n",
        "\n",
        "And to replace the first occurrence of the word \"little\" by another word\n",
        "\"big\" in the string, we apply the `sub()` function.\n",
        "\n",
        "```{r}\n",
        "sub(\"little\", \"big\", \"Mary has a little lamb.\")\n",
        "```\n"
      ],
      "metadata": {
        "id": "nnEP2VnkHPkd"
      }
    },
    {
      "cell_type": "markdown",
      "source": [
        "# Plotting and Visualizations"
      ],
      "metadata": {
        "id": "WTroM6XxKVb8"
      }
    },
    {
      "cell_type": "code",
      "execution_count": null,
      "metadata": {
        "id": "dzAfX3ZYhFPZ"
      },
      "outputs": [],
      "source": [
        "# Get a random log-normal distribution\n",
        "r <- rlnorm(1000)\n",
        "\n",
        "# Get the distribution without plotting it using tighter breaks\n",
        "h <- hist(r, plot=F, breaks=c(seq(0,max(r)+1, .1)))\n",
        "\n",
        "# Plot the distribution using log scale on both axes, and use\n",
        "# blue points\n",
        "plot(h$counts, log=\"xy\", pch=20, col=\"blue\",\n",
        "\tmain=\"Log-normal distribution\",\n",
        "\txlab=\"Value\", ylab=\"Frequency\")"
      ]
    }
  ]
}