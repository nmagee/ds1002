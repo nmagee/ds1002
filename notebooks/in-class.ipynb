{
  "cells": [
    {
      "cell_type": "markdown",
      "metadata": {
        "id": "view-in-github",
        "colab_type": "text"
      },
      "source": [
        "<a href=\"https://colab.research.google.com/github/nmagee/ds1002/blob/main/notebooks/in-class.ipynb\" target=\"_parent\"><img src=\"https://colab.research.google.com/assets/colab-badge.svg\" alt=\"Open In Colab\"/></a>"
      ]
    },
    {
      "cell_type": "markdown",
      "metadata": {
        "id": "dGlE2DvJRjqY"
      },
      "source": [
        "# Practice with Sorting, Viewing, Filtering & Grouping\n",
        "\n",
        "Useful tools for seeing broadly across your data set"
      ]
    },
    {
      "cell_type": "code",
      "execution_count": null,
      "metadata": {
        "id": "n3CekhjJRjqa"
      },
      "outputs": [],
      "source": [
        "# set up pandas\n",
        "import pandas as pd"
      ]
    },
    {
      "cell_type": "code",
      "execution_count": null,
      "metadata": {
        "id": "9Rbfu98URjqa"
      },
      "outputs": [],
      "source": [
        "# import your dataset\n",
        "df = pd.read_csv('https://ds1002-resources.s3.amazonaws.com/data/ride_sharing.csv')\n",
        "df.head(3)"
      ]
    },
    {
      "cell_type": "code",
      "source": [
        "# sort the df\n",
        "df.sort_values(by='column_name', ascending=True)"
      ],
      "metadata": {
        "id": "AHrp38E2Rxox"
      },
      "execution_count": null,
      "outputs": []
    },
    {
      "cell_type": "code",
      "execution_count": null,
      "metadata": {
        "id": "Z6H-Oa6yRjqb"
      },
      "outputs": [],
      "source": [
        "# view only the records based upon a given value of a given column.\n",
        "# look for all rows where station_A_id is equal to 81.\n",
        "\n",
        "# To do this, use the .query() method against your dataframe. As a parameter\n",
        "# set the \"column_name == XX\" .\n",
        "\n"
      ]
    },
    {
      "cell_type": "code",
      "execution_count": null,
      "metadata": {
        "id": "iNKZPPkoRjqc"
      },
      "outputs": [],
      "source": [
        "# We can also filter for string values with .query()\n",
        "df.query('user_gender == \"Female\"')"
      ]
    }
  ],
  "metadata": {
    "kernelspec": {
      "display_name": "Python 3",
      "language": "python",
      "name": "python3"
    },
    "language_info": {
      "codemirror_mode": {
        "name": "ipython",
        "version": 3
      },
      "file_extension": ".py",
      "mimetype": "text/x-python",
      "name": "python",
      "nbconvert_exporter": "python",
      "pygments_lexer": "ipython3",
      "version": "3.9.6"
    },
    "colab": {
      "provenance": [],
      "include_colab_link": true
    }
  },
  "nbformat": 4,
  "nbformat_minor": 0
}