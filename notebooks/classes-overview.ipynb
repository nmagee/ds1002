{
  "nbformat": 4,
  "nbformat_minor": 0,
  "metadata": {
    "colab": {
      "provenance": [],
      "authorship_tag": "ABX9TyNBrOusEUaix+DZ2ZyYDnEj",
      "include_colab_link": true
    },
    "kernelspec": {
      "name": "python3",
      "display_name": "Python 3"
    },
    "language_info": {
      "name": "python"
    }
  },
  "cells": [
    {
      "cell_type": "markdown",
      "metadata": {
        "id": "view-in-github",
        "colab_type": "text"
      },
      "source": [
        "<a href=\"https://colab.research.google.com/github/nmagee/ds1002/blob/main/notebooks/classes-overview.ipynb\" target=\"_parent\"><img src=\"https://colab.research.google.com/assets/colab-badge.svg\" alt=\"Open In Colab\"/></a>"
      ]
    },
    {
      "cell_type": "markdown",
      "source": [
        "# A Basic Class"
      ],
      "metadata": {
        "id": "-e4JcExnJAY3"
      }
    },
    {
      "cell_type": "code",
      "source": [
        "class Robots():\n",
        "\n",
        "  def introduce_self(self):\n",
        "    print(\"Hello there, my name is \" + self.name)\n"
      ],
      "metadata": {
        "id": "-YRBBhUwJDhs"
      },
      "execution_count": 46,
      "outputs": []
    },
    {
      "cell_type": "code",
      "source": [
        "# Create an instance and add some attributes\n",
        "\n"
      ],
      "metadata": {
        "id": "bU8kkMTtJyrE"
      },
      "execution_count": null,
      "outputs": []
    },
    {
      "cell_type": "markdown",
      "source": [
        "## Data Class"
      ],
      "metadata": {
        "id": "92OHV9bvXv56"
      }
    },
    {
      "cell_type": "code",
      "source": [
        "# Let's set up an empty class that we can throw a data structure into:\n",
        "class Record:\n",
        "  \"\"\"Store information about something in a structure.\"\"\"\n",
        "\n",
        "# here is some simple data in the form of a dict\n",
        "john = {\n",
        "    \"name\": \"John Doe\",\n",
        "    \"position\": \"Data Scientist\",\n",
        "    \"department\": \"Analytics\",\n",
        "    \"salary\": 94000,\n",
        "    \"hire_date\": \"2023-10-24\",\n",
        "    \"is_manager\": False,\n",
        "    \"email\": \"jdoe@company.com\"\n",
        "}\n",
        "\n",
        "# finally let's instantiate (create) an instance of a Record with a var name\n",
        "john_record = Record()"
      ],
      "metadata": {
        "id": "sQA-zOAdXwOo"
      },
      "execution_count": 14,
      "outputs": []
    },
    {
      "cell_type": "code",
      "source": [
        "# So the empty instance exists. Now let's throw the data into it by for-looping\n",
        "# the dict into the Record. Note that the \"structure\" is coming entirely by the\n",
        "# dict we are passing.\n",
        "\n",
        "for field, value in john.items():\n",
        "  setattr(john_record, field, value)"
      ],
      "metadata": {
        "id": "CVWSLzSXYHfj"
      },
      "execution_count": 15,
      "outputs": []
    },
    {
      "cell_type": "code",
      "source": [
        "# Kapow!!\n",
        "\n",
        "# Now all the data fields (attributes) for this record are available when you type\n",
        "# john_record.   (wait for Colab to suggest the available fields)\n",
        "\n",
        "print(john_record.name)\n",
        "print(john_record.salary)\n",
        "print(john_record.department)"
      ],
      "metadata": {
        "colab": {
          "base_uri": "https://localhost:8080/",
          "height": 89
        },
        "id": "z-bn5PmHYYBn",
        "outputId": "da5c1629-0841-42bf-dfe6-213f84e3274b"
      },
      "execution_count": 18,
      "outputs": [
        {
          "output_type": "stream",
          "name": "stdout",
          "text": [
            "John Doe\n",
            "94000\n",
            "Analytics\n"
          ]
        },
        {
          "output_type": "execute_result",
          "data": {
            "text/plain": [
              "'jdoe@company.com'"
            ],
            "application/vnd.google.colaboratory.intrinsic+json": {
              "type": "string"
            }
          },
          "metadata": {},
          "execution_count": 18
        }
      ]
    },
    {
      "cell_type": "code",
      "source": [
        "# or you can spit back out the entire dict structure from the Record:\n",
        "\n",
        "john_record.__dict__"
      ],
      "metadata": {
        "colab": {
          "base_uri": "https://localhost:8080/"
        },
        "id": "FyYLNR9mYuRJ",
        "outputId": "70f590e3-ed64-4cf8-81b4-5651984a0147"
      },
      "execution_count": 19,
      "outputs": [
        {
          "output_type": "execute_result",
          "data": {
            "text/plain": [
              "{'name': 'John Doe',\n",
              " 'position': 'Data Scientist',\n",
              " 'department': 'Analytics',\n",
              " 'salary': 94000,\n",
              " 'hire_date': '2023-10-24',\n",
              " 'is_manager': False,\n",
              " 'email': 'jdoe@company.com'}"
            ]
          },
          "metadata": {},
          "execution_count": 19
        }
      ]
    },
    {
      "cell_type": "markdown",
      "source": [
        "## Define a Class to Perform Operations on Data"
      ],
      "metadata": {
        "id": "Sp4NAF79nbUN"
      }
    },
    {
      "cell_type": "code",
      "execution_count": 31,
      "metadata": {
        "id": "DNSYUEC9Ru3v"
      },
      "outputs": [],
      "source": [
        "import math\n",
        "\n",
        "class Circle:\n",
        "  def __init__(self, radius):\n",
        "    self.radius = radius\n",
        "\n",
        "  def calculate_area(self):\n",
        "    return round(math.pi * self.radius ** 2, 2)\n",
        "\n",
        "  def calculate_4x_area(self,multiplier):\n",
        "    return Circle.calculate_area(self) * multiplier\n"
      ]
    },
    {
      "cell_type": "code",
      "source": [
        "# Create an instance by calling the Class and providing the required parameter\n",
        "\n",
        "circle0 = Circle(14)\n",
        "\n",
        "# Then call a class method. Note that you do not provide a parameter for this method\n",
        "\n",
        "circle0.calculate_area()"
      ],
      "metadata": {
        "colab": {
          "base_uri": "https://localhost:8080/"
        },
        "id": "QZkG2QmBRyzH",
        "outputId": "84bd3b59-5af0-42c6-c035-954250e17d40"
      },
      "execution_count": 34,
      "outputs": [
        {
          "output_type": "execute_result",
          "data": {
            "text/plain": [
              "615.75"
            ]
          },
          "metadata": {},
          "execution_count": 34
        }
      ]
    },
    {
      "cell_type": "code",
      "source": [
        "# The class instance has an additional method avaialable, which needs one parameter\n",
        "\n",
        "circle0.calculate_4x_area(4)"
      ],
      "metadata": {
        "id": "jC90p1EXpZhx",
        "outputId": "90fae1bb-b20c-40ba-ec1e-08f1ad7e5d5f",
        "colab": {
          "base_uri": "https://localhost:8080/"
        }
      },
      "execution_count": 35,
      "outputs": [
        {
          "output_type": "execute_result",
          "data": {
            "text/plain": [
              "2463.0"
            ]
          },
          "metadata": {},
          "execution_count": 35
        }
      ]
    },
    {
      "cell_type": "markdown",
      "source": [],
      "metadata": {
        "id": "mEgP8ueqVekq"
      }
    },
    {
      "cell_type": "code",
      "source": [
        "class ObjectCounter:\n",
        "  num_instances = 0\n",
        "  def __init__(self):\n",
        "    ObjectCounter.num_instances += 1"
      ],
      "metadata": {
        "id": "KHKCixwcVfVw"
      },
      "execution_count": null,
      "outputs": []
    },
    {
      "cell_type": "code",
      "source": [
        "counter = ObjectCounter()"
      ],
      "metadata": {
        "id": "6jTtvOuSVkeu"
      },
      "execution_count": null,
      "outputs": []
    },
    {
      "cell_type": "code",
      "source": [
        "counter.num_instances"
      ],
      "metadata": {
        "colab": {
          "base_uri": "https://localhost:8080/"
        },
        "id": "hQ_GvIWvVod0",
        "outputId": "207b80a7-4942-4bd5-8347-d0a36742755f"
      },
      "execution_count": null,
      "outputs": [
        {
          "output_type": "execute_result",
          "data": {
            "text/plain": [
              "2"
            ]
          },
          "metadata": {},
          "execution_count": 38
        }
      ]
    },
    {
      "cell_type": "code",
      "source": [
        "counter.num_instances = 2"
      ],
      "metadata": {
        "id": "eIXeS3j2VwxW"
      },
      "execution_count": null,
      "outputs": []
    },
    {
      "cell_type": "markdown",
      "source": [
        "## Logging Class"
      ],
      "metadata": {
        "id": "1FavBATKZtjq"
      }
    },
    {
      "cell_type": "code",
      "source": [
        "import logging\n",
        "\n",
        "class MyLogger(logging.Logger):\n",
        "\n",
        "  def __init__(self, name, level):\n",
        "    super().__init__(name, level)\n",
        "    # logging.basicConfig(filename='/content/app-error.log', filemode='a', format='%(asctime)s - %(levelname)s - %(message)s')\n",
        "\n",
        "  def log(self, message, level=logging.INFO):\n",
        "    super().log(level, message)\n"
      ],
      "metadata": {
        "id": "pD7QrswoZt15"
      },
      "execution_count": null,
      "outputs": []
    },
    {
      "cell_type": "code",
      "source": [
        "logger = MyLogger('my_logger', logging.INFO)"
      ],
      "metadata": {
        "id": "gsYz6HpHa98I"
      },
      "execution_count": null,
      "outputs": []
    },
    {
      "cell_type": "code",
      "source": [
        "logger.log('This is a message.')"
      ],
      "metadata": {
        "id": "fhkv0o6xbBx1"
      },
      "execution_count": null,
      "outputs": []
    },
    {
      "cell_type": "markdown",
      "source": [
        "## Temp Converter Class"
      ],
      "metadata": {
        "id": "R7-PryAymWi4"
      }
    },
    {
      "cell_type": "code",
      "source": [
        "# Define the class itself and initialize. This class requires one parameter to be instantiated -- a temp\n",
        "# This is what the __init__ accomplishes.\n",
        "# Next come two methods you can use with any instance of the class:\n",
        "#   - convert to F\n",
        "#   - convert to C\n",
        "\n",
        "class TempConverter:\n",
        "\n",
        "  def __init__(self, temperature):\n",
        "    self.temperature = temperature\n",
        "\n",
        "  def convert_to_fahrenheit(self):\n",
        "    return (self.temperature * 9 / 5) + 32\n",
        "\n",
        "  def convert_to_celsius(self):\n",
        "    return (self.temperature - 32) * 5 / 9\n"
      ],
      "metadata": {
        "id": "BS1ZpueCmYsF"
      },
      "execution_count": 2,
      "outputs": []
    },
    {
      "cell_type": "code",
      "source": [
        "# Here we create an instance of the class by calling it into a new object and providing the parameter\n",
        "\n",
        "mytemp = TempConverter(40)\n",
        "\n",
        "# Or you could do that using variables:\n",
        "temp_reading = 33\n",
        "mytemp2 = TempConverter(temp_reading)"
      ],
      "metadata": {
        "id": "EJVxEps7mZg9"
      },
      "execution_count": 7,
      "outputs": []
    },
    {
      "cell_type": "code",
      "source": [
        "# Now you can use the available methods against the new object (instance of the class)\n",
        "mytemp.convert_to_fahrenheit()"
      ],
      "metadata": {
        "id": "gIeluGfdmcJ-",
        "outputId": "5a846c3e-d52a-40a1-e538-198ad830c12a",
        "colab": {
          "base_uri": "https://localhost:8080/"
        }
      },
      "execution_count": 5,
      "outputs": [
        {
          "output_type": "execute_result",
          "data": {
            "text/plain": [
              "104.0"
            ]
          },
          "metadata": {},
          "execution_count": 5
        }
      ]
    },
    {
      "cell_type": "code",
      "source": [
        "# each instance exists separately\n",
        "mytemp2.convert_to_celsius()"
      ],
      "metadata": {
        "id": "idjK3cxAnEJn",
        "outputId": "14b151de-3f17-4ca8-c6a1-f035d71862a9",
        "colab": {
          "base_uri": "https://localhost:8080/"
        }
      },
      "execution_count": 8,
      "outputs": [
        {
          "output_type": "execute_result",
          "data": {
            "text/plain": [
              "0.5555555555555556"
            ]
          },
          "metadata": {},
          "execution_count": 8
        }
      ]
    },
    {
      "cell_type": "markdown",
      "source": [
        "## Define a simple class"
      ],
      "metadata": {
        "id": "jf0t6CCfqM6U"
      }
    },
    {
      "cell_type": "code",
      "source": [
        "class Bike:\n",
        "  name = \"\"\n",
        "  gear = 0"
      ],
      "metadata": {
        "id": "Qhx75gJKqOY1"
      },
      "execution_count": 39,
      "outputs": []
    },
    {
      "cell_type": "markdown",
      "source": [
        "This basic class has two variables inside of the class, `name` and `gear`.\n",
        "\n",
        "Note: Variables within a class are called \"attributes\"."
      ],
      "metadata": {
        "id": "y1WyEKb3qeka"
      }
    },
    {
      "cell_type": "code",
      "source": [
        "# Now create an instance of the class\n",
        "\n",
        "bike1 = Bike()"
      ],
      "metadata": {
        "id": "DPAxxuvZqrt0"
      },
      "execution_count": 40,
      "outputs": []
    },
    {
      "cell_type": "code",
      "source": [
        "# Set or call attributes of a class object\n",
        "\n",
        "# modify the name attribute\n",
        "bike1.name = \"Mountain Bike\"\n",
        "\n",
        "# access the gear attribute\n",
        "bike1.gear"
      ],
      "metadata": {
        "id": "LrztC457q0yS",
        "outputId": "84ef2e96-4e7a-4591-ff6b-a88236a7746d",
        "colab": {
          "base_uri": "https://localhost:8080/"
        }
      },
      "execution_count": 41,
      "outputs": [
        {
          "output_type": "execute_result",
          "data": {
            "text/plain": [
              "0"
            ]
          },
          "metadata": {},
          "execution_count": 41
        }
      ]
    },
    {
      "cell_type": "code",
      "source": [
        "# define a class\n",
        "class Bike:\n",
        "    name = \"\"\n",
        "    gear = 0\n",
        "\n",
        "# create object of class\n",
        "bike1 = Bike()\n",
        "\n",
        "# access attributes and assign new values\n",
        "bike1.gear = 11\n",
        "bike1.name = \"Mountain Bike\"\n",
        "\n",
        "print(f\"Name: {bike1.name}, Gears: {bike1.gear} \")"
      ],
      "metadata": {
        "id": "d62qfmysrDW1",
        "outputId": "4d5aef8b-d52f-4349-940c-dea3bbfc3e97",
        "colab": {
          "base_uri": "https://localhost:8080/"
        }
      },
      "execution_count": 42,
      "outputs": [
        {
          "output_type": "stream",
          "name": "stdout",
          "text": [
            "Name: Mountain Bike, Gears: 11 \n"
          ]
        }
      ]
    },
    {
      "cell_type": "markdown",
      "source": [
        "## Using a Constructor to Initialize"
      ],
      "metadata": {
        "id": "kAyhZ8aVtgy2"
      }
    },
    {
      "cell_type": "code",
      "source": [
        "class Bike:\n",
        "    name = \"\"\n",
        "...\n",
        "# create object\n",
        "bike1 = Bike()"
      ],
      "metadata": {
        "id": "tn3dcyMGtgFA"
      },
      "execution_count": null,
      "outputs": []
    },
    {
      "cell_type": "code",
      "source": [
        "class Bike:\n",
        "\n",
        "    # constructor function\n",
        "    def __init__(self, name = \"\"):\n",
        "        self.name = name\n",
        "\n",
        "bike1 = Bike()"
      ],
      "metadata": {
        "id": "Q-MHgNOStnTO"
      },
      "execution_count": null,
      "outputs": []
    },
    {
      "cell_type": "code",
      "source": [
        "bike1 = Bike(\"Mountain Bike\")"
      ],
      "metadata": {
        "id": "LDJv3RyGtpt9"
      },
      "execution_count": null,
      "outputs": []
    },
    {
      "cell_type": "markdown",
      "source": [
        "## Create Multiple Instances of a Class"
      ],
      "metadata": {
        "id": "AOoxQguRrMGQ"
      }
    },
    {
      "cell_type": "code",
      "source": [
        "# define a class\n",
        "class Employee:\n",
        "    # define an attribute\n",
        "    employee_id = 0\n",
        "\n",
        "# create two objects of the Employee class\n",
        "employee1 = Employee()\n",
        "employee2 = Employee()\n",
        "\n",
        "# access attributes using employee1\n",
        "employee1.employeeID = 1001\n",
        "print(f\"Employee ID: {employee1.employeeID}\")\n",
        "\n",
        "# access attributes using employee2\n",
        "employee2.employeeID = 1002\n",
        "print(f\"Employee ID: {employee2.employeeID}\")"
      ],
      "metadata": {
        "id": "9nbaiZ7ArJYg",
        "outputId": "0dc8e22e-2499-4eee-fbac-1768a6753f26",
        "colab": {
          "base_uri": "https://localhost:8080/"
        }
      },
      "execution_count": 43,
      "outputs": [
        {
          "output_type": "stream",
          "name": "stdout",
          "text": [
            "Employee ID: 1001\n",
            "Employee ID: 1002\n"
          ]
        }
      ]
    },
    {
      "cell_type": "markdown",
      "source": [
        "## Methods within a Class"
      ],
      "metadata": {
        "id": "iWgu6_c2rVJY"
      }
    },
    {
      "cell_type": "code",
      "source": [
        "# create a class\n",
        "class Room:\n",
        "    length = 0.0\n",
        "    breadth = 0.0\n",
        "\n",
        "    # method to calculate area\n",
        "    def calculate_area(self):\n",
        "        print(\"Area of Room =\", self.length * self.breadth)\n",
        "\n",
        "# create object of Room class\n",
        "study_room = Room()\n",
        "\n",
        "# assign values to all the attributes\n",
        "study_room.length = 42.5\n",
        "study_room.breadth = 30.8\n",
        "\n",
        "# access method inside class\n",
        "study_room.calculate_area()"
      ],
      "metadata": {
        "id": "-nbshHoxrXMW",
        "outputId": "a63c782c-1588-4137-e285-013b9e02f206",
        "colab": {
          "base_uri": "https://localhost:8080/"
        }
      },
      "execution_count": 44,
      "outputs": [
        {
          "output_type": "stream",
          "name": "stdout",
          "text": [
            "Area of Room = 1309.0\n"
          ]
        }
      ]
    }
  ]
}