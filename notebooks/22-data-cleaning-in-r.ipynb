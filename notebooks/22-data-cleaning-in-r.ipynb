{
  "nbformat": 4,
  "nbformat_minor": 0,
  "metadata": {
    "colab": {
      "provenance": [],
      "authorship_tag": "ABX9TyPRy0Dgitj+KexSZVTJ35qg",
      "include_colab_link": true
    },
    "kernelspec": {
      "name": "ir",
      "display_name": "R"
    },
    "language_info": {
      "name": "R"
    }
  },
  "cells": [
    {
      "cell_type": "markdown",
      "metadata": {
        "id": "view-in-github",
        "colab_type": "text"
      },
      "source": [
        "<a href=\"https://colab.research.google.com/github/nmagee/ds1002/blob/main/notebooks/22-data-cleaning-in-r.ipynb\" target=\"_parent\"><img src=\"https://colab.research.google.com/assets/colab-badge.svg\" alt=\"Open In Colab\"/></a>"
      ]
    },
    {
      "cell_type": "markdown",
      "source": [
        "## Normalized Data\n",
        "\n",
        "Having cleaned, ordered, organized data makes your next steps easy. Take the `airquality` sample data set for example:"
      ],
      "metadata": {
        "id": "Lz7wt8eqGdt3"
      }
    },
    {
      "cell_type": "code",
      "source": [
        "airquality"
      ],
      "metadata": {
        "id": "INgs6RtHGooL"
      },
      "execution_count": null,
      "outputs": []
    },
    {
      "cell_type": "code",
      "source": [
        "boxplot(airquality)"
      ],
      "metadata": {
        "id": "Mp5W66hCGrP9"
      },
      "execution_count": null,
      "outputs": []
    },
    {
      "cell_type": "code",
      "source": [
        "hist(airquality)"
      ],
      "metadata": {
        "id": "lNZT8GnMIb0r"
      },
      "execution_count": null,
      "outputs": []
    },
    {
      "cell_type": "markdown",
      "source": [
        "## Data Cleaning\n",
        "\n",
        "Normal cleaning and management operations are just as common in R as they are in Python. The most frequent cleaning tasks are:\n",
        "\n",
        "- Identifying and removing duplicate rows.\n",
        "- Normalizing data values.\n",
        "- Finding empty / NULL / `NA` values and determining what to do with them, i.e. deleting, imputing, etc.\n"
      ],
      "metadata": {
        "id": "Y13yIJFXJjnH"
      }
    },
    {
      "cell_type": "code",
      "source": [
        "df <- read.csv(\"https://raw.githubusercontent.com/nmagee/ds1002/main/data/very-messy-data-2.csv\")"
      ],
      "metadata": {
        "id": "7OiaM0XGNMid"
      },
      "execution_count": 42,
      "outputs": []
    },
    {
      "cell_type": "code",
      "source": [
        "# Use str() to get the structure of the data frame:\n",
        "\n",
        "str(df)"
      ],
      "metadata": {
        "id": "Y23IbpvhDorT"
      },
      "execution_count": null,
      "outputs": []
    },
    {
      "cell_type": "code",
      "source": [
        "# Use summary() to get summary data for each attribute, including empty values.\n",
        "\n",
        "summary(df)"
      ],
      "metadata": {
        "id": "rLV1gEWG28a0"
      },
      "execution_count": null,
      "outputs": []
    },
    {
      "cell_type": "code",
      "source": [
        "df"
      ],
      "metadata": {
        "id": "S7dl_RUtyJkv"
      },
      "execution_count": null,
      "outputs": []
    },
    {
      "cell_type": "markdown",
      "source": [
        "### Duplicate Rows\n",
        "\n",
        "To see how many duplicate rows exist in a data frame:"
      ],
      "metadata": {
        "id": "3jvficLhINMI"
      }
    },
    {
      "cell_type": "code",
      "source": [
        "nrow(df[duplicated(df), ])"
      ],
      "metadata": {
        "id": "eZLsIT5LIQ0s"
      },
      "execution_count": null,
      "outputs": []
    },
    {
      "cell_type": "markdown",
      "source": [
        "To remove duplicate rows from a data frame there is a simple one-line command. This will select all NON-duplicated rows from the `df` data frame and pass them into a new data frame named `df2`:"
      ],
      "metadata": {
        "id": "W3uWBP-PJ5kX"
      }
    },
    {
      "cell_type": "code",
      "source": [
        "df2 <- df[!duplicated(df), ]"
      ],
      "metadata": {
        "id": "JQhEDLd3J8--"
      },
      "execution_count": 35,
      "outputs": []
    },
    {
      "cell_type": "code",
      "source": [
        "# or, using dplyr, pass the\n",
        "\n",
        "library(dplyr)\n",
        "df2 <- df %>% distinct()"
      ],
      "metadata": {
        "id": "otf7k58QM28B"
      },
      "execution_count": null,
      "outputs": []
    },
    {
      "cell_type": "markdown",
      "source": [
        "### Look for Irregularities\n",
        "\n",
        "Sometimes a row value will be out of the bounds of expected data values. A good example of this might be a `logical` column where you expect to see `TRUE` and `FALSE`. It's useful to look at a list of the distinct values from a column. Use the `unique()` function to return these."
      ],
      "metadata": {
        "id": "_dgJNtovCLv6"
      }
    },
    {
      "cell_type": "code",
      "source": [
        "unique(df2$sepal_length)\n",
        "unique(df2$sepal_width)\n",
        "unique(df2$petal_length)\n",
        "unique(df2$petal_width)"
      ],
      "metadata": {
        "id": "7CU8EpepCLZI"
      },
      "execution_count": null,
      "outputs": []
    },
    {
      "cell_type": "markdown",
      "source": [
        "### Update Values As Needed\n",
        "\n",
        "To remove or `NA` a specific value within an observation, simply map a new value to a `df` search.\n",
        "\n",
        "Suppose you want to remove \"empty\" values and replace them with `NA`, use this syntax:\n",
        "\n",
        "```\n",
        "df2[df2==\"\"] <- NA\n",
        "```"
      ],
      "metadata": {
        "id": "OtmrntDUEO8l"
      }
    },
    {
      "cell_type": "code",
      "source": [
        "df2[df2==\"gg28\"] <- NA\n",
        "df2[df2==\"gg29\"] <- NA\n",
        "df2[df2==\"\"] <- NA\n",
        "df2"
      ],
      "metadata": {
        "id": "ptD4mthjEnyk"
      },
      "execution_count": null,
      "outputs": []
    },
    {
      "cell_type": "markdown",
      "source": [
        "The above method is useful whenever you need to push a replacement value into specific cells."
      ],
      "metadata": {
        "id": "CAHCu7zayHnj"
      }
    },
    {
      "cell_type": "markdown",
      "source": [
        "### Remove Rows with `NA` values\n",
        "\n",
        "A simple way to do this is to extract only valid data out of the data frame with the `na.omit` method:\n",
        "\n",
        "**This is a destructive action!**"
      ],
      "metadata": {
        "id": "s6WvxPKhNqUz"
      }
    },
    {
      "cell_type": "code",
      "source": [
        "df_no_empty <- na.omit(df)\n",
        "str(df_no_empty)"
      ],
      "metadata": {
        "id": "Y-2QsnGONqEv"
      },
      "execution_count": null,
      "outputs": []
    },
    {
      "cell_type": "code",
      "source": [
        "# Two other methods to achieve this:\n",
        "\n",
        "#Remove rows with NA's using complete.cases\n",
        "df <- df[complete.cases(df), ]\n",
        "\n",
        "#Remove rows with NA's using rowSums()\n",
        "df <- df[rowSums(is.na(df)) == 0, ]\n",
        "\n",
        "# Or with the tidyverse library\n",
        "library(\"tidyr\")\n",
        "\n",
        "#Remove rows with NA's using drop_na()\n",
        "df <- df %>% drop_na()"
      ],
      "metadata": {
        "id": "8MqVoIinOPR-"
      },
      "execution_count": null,
      "outputs": []
    },
    {
      "cell_type": "markdown",
      "source": [
        "### Imputate Missing Data\n",
        "\n",
        "The question surrounding imputation is WHAT to replace `NA` values with. This question is a data/statistical one and should not be treated lightly. The answer can throw off results greatly.\n",
        "\n",
        "Because R is a statistical language, getting statistical data values for a column, such as `mean` or `sum` is simple:"
      ],
      "metadata": {
        "id": "s_Afm57POv94"
      }
    },
    {
      "cell_type": "code",
      "source": [
        "nums <- c(4.14,8.26,14.84,18.6,7,11.9)"
      ],
      "metadata": {
        "id": "fREWyUSBL-Zd"
      },
      "execution_count": 53,
      "outputs": []
    },
    {
      "cell_type": "code",
      "source": [
        "mean()"
      ],
      "metadata": {
        "id": "-iEf1OYAMdw-"
      },
      "execution_count": null,
      "outputs": []
    },
    {
      "cell_type": "markdown",
      "source": [
        "With that caveat in mind, here is the method for imputing missing values and replacing them with the mean of the rest of the data.\n",
        "\n",
        "The R below will update the sepal and petal columns by replacing empty values with the mean of the valid values within each column."
      ],
      "metadata": {
        "id": "AOrWfY6jMOdY"
      }
    },
    {
      "cell_type": "code",
      "source": [
        "df2$sepal_length[is.na(df2$sepal_length)] <- mean(df2$sepal_length, na.rm = T)\n",
        "df2$sepal_width[is.na(df2$sepal_width)] <- mean(df2$sepal_width, na.rm = T)\n",
        "df2$petal_length[is.na(df2$petal_length)] <- mean(df2$petal_length, na.rm = T)\n",
        "df2$petal_width[is.na(df2$petal_width)] <- mean(df2$petal_width, na.rm = T)\n",
        "\n",
        "df2"
      ],
      "metadata": {
        "id": "V0wiEKJQPOMY"
      },
      "execution_count": null,
      "outputs": []
    },
    {
      "cell_type": "code",
      "source": [
        "# Another way to achieve this is using the Hmisc package\n",
        "\n",
        "df3 <- read.csv(\"https://raw.githubusercontent.com/nmagee/ds1002/main/data/very-messy-data.csv\")\n",
        "df3 <- df3[!duplicated(df3), ]\n",
        "\n",
        "install.packages(\"Hmisc\")\n",
        "library(Hmisc)"
      ],
      "metadata": {
        "id": "pBmdD9kLQdy2"
      },
      "execution_count": null,
      "outputs": []
    },
    {
      "cell_type": "code",
      "source": [
        "df3$sepal_length <- impute(df3$sepal_length, median)\n",
        "df3$sepal_width <- impute(df3$sepal_width, median)\n",
        "df3$petal_length <- impute(df3$petal_length, median)\n",
        "df3$petal_width <- impute(df3$petal_width, median)"
      ],
      "metadata": {
        "id": "VcFfllhyxt3c"
      },
      "execution_count": null,
      "outputs": []
    },
    {
      "cell_type": "code",
      "source": [
        "df3"
      ],
      "metadata": {
        "id": "qsu6VcGeTaHN"
      },
      "execution_count": null,
      "outputs": []
    },
    {
      "cell_type": "code",
      "source": [
        "# data()\n",
        "glimpse(faithful)\n",
        "?faithful"
      ],
      "metadata": {
        "id": "J4Sk7qAZ0TG2"
      },
      "execution_count": null,
      "outputs": []
    },
    {
      "cell_type": "markdown",
      "source": [
        "### Remove Whitespace\n",
        "\n",
        "Create a simple data frame with extra space characters thrown in:"
      ],
      "metadata": {
        "id": "QCdErmY7zDL1"
      }
    },
    {
      "cell_type": "code",
      "source": [
        "df_space <- data.frame(first  = c(\"Boston \", \" Chicago \", \"New York \", \" Minneapolis\", \" Portland\"),\n",
        "                        second = c(\"Massachusetts\", \" Illinois\", \"New  York\", \"Minnesota\", \"  Oregon\"),\n",
        "                        third = c(\"New England  \", \"Mid-West\", \" New England\", \"Mid-West\", \"North-West \")\n",
        "                      )"
      ],
      "metadata": {
        "id": "_RXDPBwxzv4I"
      },
      "execution_count": null,
      "outputs": []
    },
    {
      "cell_type": "code",
      "source": [
        "df_space$first"
      ],
      "metadata": {
        "id": "TMeQLuCCz3Aa"
      },
      "execution_count": null,
      "outputs": []
    },
    {
      "cell_type": "code",
      "source": [
        "library(dplyr)\n",
        "library(stringr)\n",
        "\n",
        "df_space %>%\n",
        "  mutate(across(where(is.character), str_trim))"
      ],
      "metadata": {
        "id": "bmu6AgdZzB_L"
      },
      "execution_count": null,
      "outputs": []
    },
    {
      "cell_type": "code",
      "source": [
        "df_space$first"
      ],
      "metadata": {
        "id": "MCizoSuRz-A6"
      },
      "execution_count": null,
      "outputs": []
    },
    {
      "cell_type": "markdown",
      "source": [
        "Note the above `dplyr` does not save the cleaned data. To do this, assign the output into the same/new parameter:"
      ],
      "metadata": {
        "id": "ldn9mRvL0qBf"
      }
    },
    {
      "cell_type": "code",
      "source": [
        "df_space <- df_space %>%\n",
        "  mutate(across(where(is.character), str_trim))"
      ],
      "metadata": {
        "id": "YDa3SKlg00ZI"
      },
      "execution_count": null,
      "outputs": []
    },
    {
      "cell_type": "markdown",
      "source": [
        "## Extracting Row Data back into Vector\n",
        "\n",
        "To extract a column of attributes back into a vector, call it out by appending `$ColName` to the data frame."
      ],
      "metadata": {
        "id": "LIRrb60I_CQI"
      }
    },
    {
      "cell_type": "code",
      "source": [
        "df2$sepal_length\n",
        "\n",
        "# Or assign into a var\n",
        "sepal_length_extracted <- df2$sepal_width"
      ],
      "metadata": {
        "id": "YBS7y1jZ-yBF"
      },
      "execution_count": null,
      "outputs": []
    }
  ]
}