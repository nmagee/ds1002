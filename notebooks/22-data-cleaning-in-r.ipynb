{
  "nbformat": 4,
  "nbformat_minor": 0,
  "metadata": {
    "colab": {
      "provenance": [],
      "authorship_tag": "ABX9TyOCVLv4pD8G2QAF5Ny+WL6G",
      "include_colab_link": true
    },
    "kernelspec": {
      "name": "ir",
      "display_name": "R"
    },
    "language_info": {
      "name": "R"
    }
  },
  "cells": [
    {
      "cell_type": "markdown",
      "metadata": {
        "id": "view-in-github",
        "colab_type": "text"
      },
      "source": [
        "<a href=\"https://colab.research.google.com/github/nmagee/ds1002/blob/main/notebooks/22-data-cleaning-in-r.ipynb\" target=\"_parent\"><img src=\"https://colab.research.google.com/assets/colab-badge.svg\" alt=\"Open In Colab\"/></a>"
      ]
    },
    {
      "cell_type": "markdown",
      "source": [
        "## Data Cleaning\n",
        "\n",
        "Normal cleaning and management operations are just as common in R as they are in Python. The most frequent cleaning tasks are:\n",
        "\n",
        "- Identifying and removing duplicate rows.\n",
        "- Finding empty / NULL / `NA` values and determining what to do with them, i.e. deleting, imputing, etc.\n"
      ],
      "metadata": {
        "id": "Y13yIJFXJjnH"
      }
    },
    {
      "cell_type": "code",
      "source": [
        "df <- read.csv(\"https://raw.githubusercontent.com/nmagee/ds1002/main/data/very-messy-data-2.csv\")\n",
        "\n",
        "# Use str() to get the structure of the data frame:\n",
        "str(df)"
      ],
      "metadata": {
        "id": "7OiaM0XGNMid"
      },
      "execution_count": null,
      "outputs": []
    },
    {
      "cell_type": "code",
      "source": [
        "df"
      ],
      "metadata": {
        "id": "S7dl_RUtyJkv"
      },
      "execution_count": null,
      "outputs": []
    },
    {
      "cell_type": "markdown",
      "source": [
        "### Duplicate Rows\n",
        "\n",
        "To remove duplicate rows from a data frame there is a simple one-line command. This will select all NON-duplicated rows from the `df` data frame and pass them into a new data frame named `df2`:"
      ],
      "metadata": {
        "id": "W3uWBP-PJ5kX"
      }
    },
    {
      "cell_type": "code",
      "source": [
        "df2 <- df[!duplicated(df), ]"
      ],
      "metadata": {
        "id": "JQhEDLd3J8--"
      },
      "execution_count": null,
      "outputs": []
    },
    {
      "cell_type": "code",
      "source": [
        "# or, using dplyr\n",
        "\n",
        "library(dplyr)\n",
        "df2 <- df %>% distinct()"
      ],
      "metadata": {
        "id": "otf7k58QM28B"
      },
      "execution_count": null,
      "outputs": []
    },
    {
      "cell_type": "markdown",
      "source": [
        "Let's import the `very-messy-data.csv` file from an earlier homework to inspect and clean."
      ],
      "metadata": {
        "id": "q7gwsAf_NHQL"
      }
    },
    {
      "cell_type": "code",
      "source": [
        "# Now remove the dupe rows\n",
        "df2 <- df[!duplicated(df), ]\n",
        "str(df2)"
      ],
      "metadata": {
        "id": "xqOBrfrdNhoh"
      },
      "execution_count": null,
      "outputs": []
    },
    {
      "cell_type": "markdown",
      "source": [
        "### Look for Data Irregularities\n",
        "\n",
        "Sometimes a row value will be out of the bounds of expected data values. A good example of this might be a `logical` column where you expect to see `TRUE` and `FALSE`. It's useful to look at a list of the distinct values from a column. Use the `unique()` function to return these."
      ],
      "metadata": {
        "id": "_dgJNtovCLv6"
      }
    },
    {
      "cell_type": "code",
      "source": [
        "unique(df2$sepal_length)\n",
        "unique(df2$sepal_width)\n",
        "unique(df2$petal_length)\n",
        "unique(df2$petal_width)"
      ],
      "metadata": {
        "id": "7CU8EpepCLZI"
      },
      "execution_count": null,
      "outputs": []
    },
    {
      "cell_type": "markdown",
      "source": [
        "### Update Values As Needed\n",
        "\n",
        "To remove or `NA` a specific value within an observation, simply map a new value to a `df` search.\n",
        "\n",
        "Suppose you want to remove \"empty\" values and replace them with `NA`:\n",
        "\n",
        "```\n",
        "df2[df2==\"\"] <- NA\n",
        "```"
      ],
      "metadata": {
        "id": "OtmrntDUEO8l"
      }
    },
    {
      "cell_type": "code",
      "source": [
        "df2[df2==\"gg28\"] <- NA\n",
        "df2[df2==\"gg29\"] <- NA\n",
        "df2[df2==\"\"] <- NA\n",
        "df2"
      ],
      "metadata": {
        "id": "ptD4mthjEnyk"
      },
      "execution_count": null,
      "outputs": []
    },
    {
      "cell_type": "markdown",
      "source": [
        "The above method is useful whenever you need to push a replacement value into specific cells."
      ],
      "metadata": {
        "id": "CAHCu7zayHnj"
      }
    },
    {
      "cell_type": "markdown",
      "source": [
        "### Remove Rows with `NA` values\n",
        "\n",
        "A simple way to do this is to extract only valid data out of the data frame with the `na.omit` method:"
      ],
      "metadata": {
        "id": "s6WvxPKhNqUz"
      }
    },
    {
      "cell_type": "code",
      "source": [
        "df_no_empty <- na.omit(df)\n",
        "str(df_no_empty)"
      ],
      "metadata": {
        "id": "Y-2QsnGONqEv"
      },
      "execution_count": null,
      "outputs": []
    },
    {
      "cell_type": "code",
      "source": [
        "# Two other methods to achieve this:\n",
        "\n",
        "#Remove rows with NA's using complete.cases\n",
        "df <- df[complete.cases(df), ]\n",
        "\n",
        "#Remove rows with NA's using rowSums()\n",
        "df <- df[rowSums(is.na(df)) == 0, ]\n",
        "\n",
        "# Or with the tidyverse library\n",
        "library(\"tidyr\")\n",
        "\n",
        "#Remove rows with NA's using drop_na()\n",
        "df <- df %>% drop_na()"
      ],
      "metadata": {
        "id": "8MqVoIinOPR-"
      },
      "execution_count": null,
      "outputs": []
    },
    {
      "cell_type": "markdown",
      "source": [
        "### Imputate Missing Data\n",
        "\n",
        "The question surrounding imputation is WHAT to replace `NA` values with. This question is a data/statistical one and should not be treated lightly. The answer can throw off results greatly.\n",
        "\n",
        "With that caveat in mind, here is the method for imputing missing values and replacing them with the mean of the rest of the data.\n",
        "\n",
        "The R below will update the sepal and petal columns by replacing empty values with the mean of the valid values within each column."
      ],
      "metadata": {
        "id": "s_Afm57POv94"
      }
    },
    {
      "cell_type": "code",
      "source": [
        "df2$sepal_length[is.na(df2$sepal_length)] <- mean(df2$sepal_length, na.rm = T)\n",
        "df2$sepal_width[is.na(df2$sepal_width)] <- mean(df2$sepal_width, na.rm = T)\n",
        "df2$petal_length[is.na(df2$petal_length)] <- mean(df2$petal_length, na.rm = T)\n",
        "df2$petal_width[is.na(df2$petal_width)] <- mean(df2$petal_width, na.rm = T)\n",
        "\n",
        "df2"
      ],
      "metadata": {
        "id": "V0wiEKJQPOMY"
      },
      "execution_count": null,
      "outputs": []
    },
    {
      "cell_type": "code",
      "source": [
        "# Another way to achieve this is using the Hmisc package\n",
        "\n",
        "df3 <- read.csv(\"https://raw.githubusercontent.com/nmagee/ds1002/main/data/very-messy-data.csv\")\n",
        "df3 <- df3[!duplicated(df3), ]\n",
        "\n",
        "install.packages(\"Hmisc\")\n",
        "library(Hmisc)"
      ],
      "metadata": {
        "id": "pBmdD9kLQdy2"
      },
      "execution_count": null,
      "outputs": []
    },
    {
      "cell_type": "code",
      "source": [
        "df3$sepal_length <- impute(df3$sepal_length, median)\n",
        "df3$sepal_width <- impute(df3$sepal_width, median)\n",
        "df3$petal_length <- impute(df3$petal_length, median)\n",
        "df3$petal_width <- impute(df3$petal_width, median)"
      ],
      "metadata": {
        "id": "VcFfllhyxt3c"
      },
      "execution_count": null,
      "outputs": []
    },
    {
      "cell_type": "code",
      "source": [
        "df3"
      ],
      "metadata": {
        "id": "qsu6VcGeTaHN",
        "outputId": "f8c0572d-71be-475a-a9f8-311430e2cac7",
        "colab": {
          "base_uri": "https://localhost:8080/",
          "height": 1000
        }
      },
      "execution_count": 10,
      "outputs": [
        {
          "output_type": "display_data",
          "data": {
            "text/html": [
              "<table class=\"dataframe\">\n",
              "<caption>A data.frame: 1000 × 6</caption>\n",
              "<thead>\n",
              "\t<tr><th></th><th scope=col>id</th><th scope=col>sepal_length</th><th scope=col>sepal_width</th><th scope=col>petal_length</th><th scope=col>petal_width</th><th scope=col>species</th></tr>\n",
              "\t<tr><th></th><th scope=col>&lt;int&gt;</th><th scope=col>&lt;impute&gt;</th><th scope=col>&lt;impute&gt;</th><th scope=col>&lt;impute&gt;</th><th scope=col>&lt;impute&gt;</th><th scope=col>&lt;chr&gt;</th></tr>\n",
              "</thead>\n",
              "<tbody>\n",
              "\t<tr><th scope=row>1</th><td> 1</td><td>3.5</td><td>2.9</td><td>1.4</td><td>0.5</td><td>virginica</td></tr>\n",
              "\t<tr><th scope=row>2</th><td> 2</td><td>3.6</td><td>3.2</td><td>3.0</td><td>0.5</td><td>setosa   </td></tr>\n",
              "\t<tr><th scope=row>3</th><td> 3</td><td>3.8</td><td>3.0</td><td>2.2</td><td>1.5</td><td>setosa   </td></tr>\n",
              "\t<tr><th scope=row>4</th><td> 4</td><td>5.8</td><td>2.7</td><td>2.6</td><td>1.2</td><td>virginica</td></tr>\n",
              "\t<tr><th scope=row>5</th><td> 5</td><td>4.9</td><td>3.6</td><td>3.0</td><td>1.2</td><td>virginica</td></tr>\n",
              "\t<tr><th scope=row>6</th><td> 6</td><td>5.0</td><td>2.7</td><td>1.4</td><td>2.3</td><td>setosa   </td></tr>\n",
              "\t<tr><th scope=row>7</th><td> 7</td><td>4.8</td><td>3.0</td><td>2.6</td><td>1.4</td><td>setosa   </td></tr>\n",
              "\t<tr><th scope=row>8</th><td> 8</td><td>5.5</td><td>2.2</td><td>2.1</td><td>2.1</td><td>virginica</td></tr>\n",
              "\t<tr><th scope=row>9</th><td> 9</td><td>5.5</td><td>2.9</td><td>1.1</td><td>3.0</td><td>setosa   </td></tr>\n",
              "\t<tr><th scope=row>10</th><td>10</td><td>4.6</td><td>3.4</td><td>2.6</td><td>1.9</td><td>virginica</td></tr>\n",
              "\t<tr><th scope=row>11</th><td>11</td><td>3.7</td><td>2.1</td><td>1.4</td><td>1.3</td><td>setosa   </td></tr>\n",
              "\t<tr><th scope=row>12</th><td>12</td><td>4.6</td><td>3.5</td><td>1.6</td><td>2.9</td><td>setosa   </td></tr>\n",
              "\t<tr><th scope=row>13</th><td>13</td><td>4.7</td><td>2.0</td><td>1.2</td><td>1.9</td><td>virginica</td></tr>\n",
              "\t<tr><th scope=row>14</th><td>14</td><td>6.0</td><td>3.0</td><td>1.1</td><td>2.6</td><td>virginica</td></tr>\n",
              "\t<tr><th scope=row>15</th><td>15</td><td>3.3</td><td>2.7</td><td>2.9</td><td>0.4</td><td>setosa   </td></tr>\n",
              "\t<tr><th scope=row>16</th><td>16</td><td>4.1</td><td>3.5</td><td>1.9</td><td>0.7</td><td>virginica</td></tr>\n",
              "\t<tr><th scope=row>17</th><td>17</td><td>4.6</td><td>2.9</td><td>2.1</td><td>2.6</td><td>virginica</td></tr>\n",
              "\t<tr><th scope=row>18</th><td>18</td><td>3.7</td><td>2.6</td><td>1.3</td><td>0.9</td><td>setosa   </td></tr>\n",
              "\t<tr><th scope=row>19</th><td>19</td><td>5.5</td><td>2.5</td><td>1.8</td><td>1.8</td><td>virginica</td></tr>\n",
              "\t<tr><th scope=row>20</th><td>20</td><td>3.7</td><td>2.4</td><td>1.2</td><td>1.6</td><td>setosa   </td></tr>\n",
              "\t<tr><th scope=row>21</th><td>21</td><td>3.1</td><td>2.4</td><td>1.4</td><td>0.7</td><td>setosa   </td></tr>\n",
              "\t<tr><th scope=row>22</th><td>22</td><td>4.4</td><td>2.1</td><td>2.8</td><td>1.9</td><td>virginica</td></tr>\n",
              "\t<tr><th scope=row>23</th><td>23</td><td>5.7</td><td>3.0</td><td>2.5</td><td>1.4</td><td>setosa   </td></tr>\n",
              "\t<tr><th scope=row>24</th><td>24</td><td>5.6</td><td>3.3</td><td>1.2</td><td>0.3</td><td>virginica</td></tr>\n",
              "\t<tr><th scope=row>25</th><td>25</td><td>3.2</td><td>3.3</td><td>2.0</td><td>0.7</td><td>virginica</td></tr>\n",
              "\t<tr><th scope=row>26</th><td>26</td><td>5.0</td><td>3.3</td><td>2.4</td><td>2.2</td><td>virginica</td></tr>\n",
              "\t<tr><th scope=row>27</th><td>27</td><td>3.9</td><td>3.2</td><td>2.7</td><td>0.1</td><td>setosa   </td></tr>\n",
              "\t<tr><th scope=row>28</th><td>28</td><td>4.6</td><td>2.2</td><td>1.5</td><td>1.2</td><td>virginica</td></tr>\n",
              "\t<tr><th scope=row>29</th><td>29</td><td>5.8</td><td>2.6</td><td>2.3</td><td>2.3</td><td>setosa   </td></tr>\n",
              "\t<tr><th scope=row>30</th><td>30</td><td>4.7</td><td>3.7</td><td>1.8</td><td>2.7</td><td>virginica</td></tr>\n",
              "\t<tr><th scope=row>⋮</th><td>⋮</td><td>⋮</td><td>⋮</td><td>⋮</td><td>⋮</td><td>⋮</td></tr>\n",
              "\t<tr><th scope=row>971</th><td> 971</td><td>3.4</td><td>3.5</td><td>2.8</td><td>2.5</td><td>         </td></tr>\n",
              "\t<tr><th scope=row>972</th><td> 972</td><td>4.3</td><td>2.7</td><td>1.6</td><td>0.0</td><td>setosa   </td></tr>\n",
              "\t<tr><th scope=row>973</th><td> 973</td><td>3.7</td><td>3.0</td><td>2.3</td><td>0.6</td><td>virginica</td></tr>\n",
              "\t<tr><th scope=row>974</th><td> 974</td><td>3.9</td><td>3.6</td><td>2.3</td><td>1.6</td><td>setosa   </td></tr>\n",
              "\t<tr><th scope=row>975</th><td> 975</td><td>3.8</td><td>2.4</td><td>3.0</td><td>2.5</td><td>virginica</td></tr>\n",
              "\t<tr><th scope=row>976</th><td> 976</td><td>3.1</td><td>4.0</td><td>2.0</td><td>0.6</td><td>setosa   </td></tr>\n",
              "\t<tr><th scope=row>977</th><td> 977</td><td>3.4</td><td>3.7</td><td>3.0</td><td>3.0</td><td>setosa   </td></tr>\n",
              "\t<tr><th scope=row>978</th><td> 978</td><td>4.8</td><td>3.3</td><td>2.0</td><td>0.9</td><td>virginica</td></tr>\n",
              "\t<tr><th scope=row>979</th><td> 979</td><td>4.6</td><td>2.6</td><td>1.4</td><td>1.3</td><td>virginica</td></tr>\n",
              "\t<tr><th scope=row>980</th><td> 980</td><td>5.7</td><td>3.0</td><td>2.6</td><td>0.6</td><td>virginica</td></tr>\n",
              "\t<tr><th scope=row>981</th><td> 981</td><td>3.6</td><td>2.6</td><td>2.3</td><td>0.9</td><td>virginica</td></tr>\n",
              "\t<tr><th scope=row>982</th><td> 982</td><td>4.0</td><td>2.6</td><td>1.9</td><td>1.6</td><td>setosa   </td></tr>\n",
              "\t<tr><th scope=row>983</th><td> 983</td><td>4.5</td><td>3.0</td><td>2.0</td><td>0.3</td><td>setosa   </td></tr>\n",
              "\t<tr><th scope=row>984</th><td> 984</td><td>5.9</td><td>2.4</td><td>1.1</td><td>2.3</td><td>setosa   </td></tr>\n",
              "\t<tr><th scope=row>985</th><td> 985</td><td>3.3</td><td>2.4</td><td>1.6</td><td>2.8</td><td>setosa   </td></tr>\n",
              "\t<tr><th scope=row>986</th><td> 986</td><td>4.6</td><td>3.9</td><td>2.4</td><td>1.8</td><td>setosa   </td></tr>\n",
              "\t<tr><th scope=row>987</th><td> 987</td><td>3.2</td><td>2.8</td><td>1.5</td><td>2.9</td><td>setosa   </td></tr>\n",
              "\t<tr><th scope=row>988</th><td> 988</td><td>4.8</td><td>3.0</td><td>2.5</td><td>2.1</td><td>virginica</td></tr>\n",
              "\t<tr><th scope=row>989</th><td> 989</td><td>5.5</td><td>2.6</td><td>2.6</td><td>0.5</td><td>setosa   </td></tr>\n",
              "\t<tr><th scope=row>990</th><td> 990</td><td>3.8</td><td>3.6</td><td>1.4</td><td>0.6</td><td>virginica</td></tr>\n",
              "\t<tr><th scope=row>991</th><td> 991</td><td>3.6</td><td>3.0</td><td>2.1</td><td>2.9</td><td>setosa   </td></tr>\n",
              "\t<tr><th scope=row>992</th><td> 992</td><td>3.7</td><td>2.5</td><td>2.6</td><td>2.8</td><td>virginica</td></tr>\n",
              "\t<tr><th scope=row>993</th><td> 993</td><td>3.2</td><td>2.4</td><td>2.0</td><td>1.2</td><td>virginica</td></tr>\n",
              "\t<tr><th scope=row>994</th><td> 994</td><td>4.5</td><td>3.7</td><td>1.2</td><td>0.3</td><td>virginica</td></tr>\n",
              "\t<tr><th scope=row>995</th><td> 995</td><td>4.0</td><td>2.9</td><td>1.0</td><td>0.2</td><td>virginica</td></tr>\n",
              "\t<tr><th scope=row>996</th><td> 996</td><td>4.5</td><td>3.6</td><td>2.0</td><td>2.7</td><td>setosa   </td></tr>\n",
              "\t<tr><th scope=row>997</th><td> 997</td><td>4.0</td><td>2.1</td><td>2.0</td><td>2.1</td><td>setosa   </td></tr>\n",
              "\t<tr><th scope=row>998</th><td> 998</td><td>5.9</td><td>2.5</td><td>2.1</td><td>2.5</td><td>virginica</td></tr>\n",
              "\t<tr><th scope=row>999</th><td> 999</td><td>5.0</td><td>2.6</td><td>1.9</td><td>1.6</td><td>         </td></tr>\n",
              "\t<tr><th scope=row>1000</th><td>1000</td><td>3.4</td><td>3.9</td><td>1.9</td><td>1.5</td><td>setosa   </td></tr>\n",
              "</tbody>\n",
              "</table>\n"
            ],
            "text/markdown": "\nA data.frame: 1000 × 6\n\n| <!--/--> | id &lt;int&gt; | sepal_length &lt;impute&gt; | sepal_width &lt;impute&gt; | petal_length &lt;impute&gt; | petal_width &lt;impute&gt; | species &lt;chr&gt; |\n|---|---|---|---|---|---|---|\n| 1 |  1 | 3.5 | 2.9 | 1.4 | 0.5 | virginica |\n| 2 |  2 | 3.6 | 3.2 | 3.0 | 0.5 | setosa    |\n| 3 |  3 | 3.8 | 3.0 | 2.2 | 1.5 | setosa    |\n| 4 |  4 | 5.8 | 2.7 | 2.6 | 1.2 | virginica |\n| 5 |  5 | 4.9 | 3.6 | 3.0 | 1.2 | virginica |\n| 6 |  6 | 5.0 | 2.7 | 1.4 | 2.3 | setosa    |\n| 7 |  7 | 4.8 | 3.0 | 2.6 | 1.4 | setosa    |\n| 8 |  8 | 5.5 | 2.2 | 2.1 | 2.1 | virginica |\n| 9 |  9 | 5.5 | 2.9 | 1.1 | 3.0 | setosa    |\n| 10 | 10 | 4.6 | 3.4 | 2.6 | 1.9 | virginica |\n| 11 | 11 | 3.7 | 2.1 | 1.4 | 1.3 | setosa    |\n| 12 | 12 | 4.6 | 3.5 | 1.6 | 2.9 | setosa    |\n| 13 | 13 | 4.7 | 2.0 | 1.2 | 1.9 | virginica |\n| 14 | 14 | 6.0 | 3.0 | 1.1 | 2.6 | virginica |\n| 15 | 15 | 3.3 | 2.7 | 2.9 | 0.4 | setosa    |\n| 16 | 16 | 4.1 | 3.5 | 1.9 | 0.7 | virginica |\n| 17 | 17 | 4.6 | 2.9 | 2.1 | 2.6 | virginica |\n| 18 | 18 | 3.7 | 2.6 | 1.3 | 0.9 | setosa    |\n| 19 | 19 | 5.5 | 2.5 | 1.8 | 1.8 | virginica |\n| 20 | 20 | 3.7 | 2.4 | 1.2 | 1.6 | setosa    |\n| 21 | 21 | 3.1 | 2.4 | 1.4 | 0.7 | setosa    |\n| 22 | 22 | 4.4 | 2.1 | 2.8 | 1.9 | virginica |\n| 23 | 23 | 5.7 | 3.0 | 2.5 | 1.4 | setosa    |\n| 24 | 24 | 5.6 | 3.3 | 1.2 | 0.3 | virginica |\n| 25 | 25 | 3.2 | 3.3 | 2.0 | 0.7 | virginica |\n| 26 | 26 | 5.0 | 3.3 | 2.4 | 2.2 | virginica |\n| 27 | 27 | 3.9 | 3.2 | 2.7 | 0.1 | setosa    |\n| 28 | 28 | 4.6 | 2.2 | 1.5 | 1.2 | virginica |\n| 29 | 29 | 5.8 | 2.6 | 2.3 | 2.3 | setosa    |\n| 30 | 30 | 4.7 | 3.7 | 1.8 | 2.7 | virginica |\n| ⋮ | ⋮ | ⋮ | ⋮ | ⋮ | ⋮ | ⋮ |\n| 971 |  971 | 3.4 | 3.5 | 2.8 | 2.5 | <!----> |\n| 972 |  972 | 4.3 | 2.7 | 1.6 | 0.0 | setosa    |\n| 973 |  973 | 3.7 | 3.0 | 2.3 | 0.6 | virginica |\n| 974 |  974 | 3.9 | 3.6 | 2.3 | 1.6 | setosa    |\n| 975 |  975 | 3.8 | 2.4 | 3.0 | 2.5 | virginica |\n| 976 |  976 | 3.1 | 4.0 | 2.0 | 0.6 | setosa    |\n| 977 |  977 | 3.4 | 3.7 | 3.0 | 3.0 | setosa    |\n| 978 |  978 | 4.8 | 3.3 | 2.0 | 0.9 | virginica |\n| 979 |  979 | 4.6 | 2.6 | 1.4 | 1.3 | virginica |\n| 980 |  980 | 5.7 | 3.0 | 2.6 | 0.6 | virginica |\n| 981 |  981 | 3.6 | 2.6 | 2.3 | 0.9 | virginica |\n| 982 |  982 | 4.0 | 2.6 | 1.9 | 1.6 | setosa    |\n| 983 |  983 | 4.5 | 3.0 | 2.0 | 0.3 | setosa    |\n| 984 |  984 | 5.9 | 2.4 | 1.1 | 2.3 | setosa    |\n| 985 |  985 | 3.3 | 2.4 | 1.6 | 2.8 | setosa    |\n| 986 |  986 | 4.6 | 3.9 | 2.4 | 1.8 | setosa    |\n| 987 |  987 | 3.2 | 2.8 | 1.5 | 2.9 | setosa    |\n| 988 |  988 | 4.8 | 3.0 | 2.5 | 2.1 | virginica |\n| 989 |  989 | 5.5 | 2.6 | 2.6 | 0.5 | setosa    |\n| 990 |  990 | 3.8 | 3.6 | 1.4 | 0.6 | virginica |\n| 991 |  991 | 3.6 | 3.0 | 2.1 | 2.9 | setosa    |\n| 992 |  992 | 3.7 | 2.5 | 2.6 | 2.8 | virginica |\n| 993 |  993 | 3.2 | 2.4 | 2.0 | 1.2 | virginica |\n| 994 |  994 | 4.5 | 3.7 | 1.2 | 0.3 | virginica |\n| 995 |  995 | 4.0 | 2.9 | 1.0 | 0.2 | virginica |\n| 996 |  996 | 4.5 | 3.6 | 2.0 | 2.7 | setosa    |\n| 997 |  997 | 4.0 | 2.1 | 2.0 | 2.1 | setosa    |\n| 998 |  998 | 5.9 | 2.5 | 2.1 | 2.5 | virginica |\n| 999 |  999 | 5.0 | 2.6 | 1.9 | 1.6 | <!----> |\n| 1000 | 1000 | 3.4 | 3.9 | 1.9 | 1.5 | setosa    |\n\n",
            "text/latex": "A data.frame: 1000 × 6\n\\begin{tabular}{r|llllll}\n  & id & sepal\\_length & sepal\\_width & petal\\_length & petal\\_width & species\\\\\n  & <int> & <impute> & <impute> & <impute> & <impute> & <chr>\\\\\n\\hline\n\t1 &  1 & 3.5 & 2.9 & 1.4 & 0.5 & virginica\\\\\n\t2 &  2 & 3.6 & 3.2 & 3.0 & 0.5 & setosa   \\\\\n\t3 &  3 & 3.8 & 3.0 & 2.2 & 1.5 & setosa   \\\\\n\t4 &  4 & 5.8 & 2.7 & 2.6 & 1.2 & virginica\\\\\n\t5 &  5 & 4.9 & 3.6 & 3.0 & 1.2 & virginica\\\\\n\t6 &  6 & 5.0 & 2.7 & 1.4 & 2.3 & setosa   \\\\\n\t7 &  7 & 4.8 & 3.0 & 2.6 & 1.4 & setosa   \\\\\n\t8 &  8 & 5.5 & 2.2 & 2.1 & 2.1 & virginica\\\\\n\t9 &  9 & 5.5 & 2.9 & 1.1 & 3.0 & setosa   \\\\\n\t10 & 10 & 4.6 & 3.4 & 2.6 & 1.9 & virginica\\\\\n\t11 & 11 & 3.7 & 2.1 & 1.4 & 1.3 & setosa   \\\\\n\t12 & 12 & 4.6 & 3.5 & 1.6 & 2.9 & setosa   \\\\\n\t13 & 13 & 4.7 & 2.0 & 1.2 & 1.9 & virginica\\\\\n\t14 & 14 & 6.0 & 3.0 & 1.1 & 2.6 & virginica\\\\\n\t15 & 15 & 3.3 & 2.7 & 2.9 & 0.4 & setosa   \\\\\n\t16 & 16 & 4.1 & 3.5 & 1.9 & 0.7 & virginica\\\\\n\t17 & 17 & 4.6 & 2.9 & 2.1 & 2.6 & virginica\\\\\n\t18 & 18 & 3.7 & 2.6 & 1.3 & 0.9 & setosa   \\\\\n\t19 & 19 & 5.5 & 2.5 & 1.8 & 1.8 & virginica\\\\\n\t20 & 20 & 3.7 & 2.4 & 1.2 & 1.6 & setosa   \\\\\n\t21 & 21 & 3.1 & 2.4 & 1.4 & 0.7 & setosa   \\\\\n\t22 & 22 & 4.4 & 2.1 & 2.8 & 1.9 & virginica\\\\\n\t23 & 23 & 5.7 & 3.0 & 2.5 & 1.4 & setosa   \\\\\n\t24 & 24 & 5.6 & 3.3 & 1.2 & 0.3 & virginica\\\\\n\t25 & 25 & 3.2 & 3.3 & 2.0 & 0.7 & virginica\\\\\n\t26 & 26 & 5.0 & 3.3 & 2.4 & 2.2 & virginica\\\\\n\t27 & 27 & 3.9 & 3.2 & 2.7 & 0.1 & setosa   \\\\\n\t28 & 28 & 4.6 & 2.2 & 1.5 & 1.2 & virginica\\\\\n\t29 & 29 & 5.8 & 2.6 & 2.3 & 2.3 & setosa   \\\\\n\t30 & 30 & 4.7 & 3.7 & 1.8 & 2.7 & virginica\\\\\n\t⋮ & ⋮ & ⋮ & ⋮ & ⋮ & ⋮ & ⋮\\\\\n\t971 &  971 & 3.4 & 3.5 & 2.8 & 2.5 &          \\\\\n\t972 &  972 & 4.3 & 2.7 & 1.6 & 0.0 & setosa   \\\\\n\t973 &  973 & 3.7 & 3.0 & 2.3 & 0.6 & virginica\\\\\n\t974 &  974 & 3.9 & 3.6 & 2.3 & 1.6 & setosa   \\\\\n\t975 &  975 & 3.8 & 2.4 & 3.0 & 2.5 & virginica\\\\\n\t976 &  976 & 3.1 & 4.0 & 2.0 & 0.6 & setosa   \\\\\n\t977 &  977 & 3.4 & 3.7 & 3.0 & 3.0 & setosa   \\\\\n\t978 &  978 & 4.8 & 3.3 & 2.0 & 0.9 & virginica\\\\\n\t979 &  979 & 4.6 & 2.6 & 1.4 & 1.3 & virginica\\\\\n\t980 &  980 & 5.7 & 3.0 & 2.6 & 0.6 & virginica\\\\\n\t981 &  981 & 3.6 & 2.6 & 2.3 & 0.9 & virginica\\\\\n\t982 &  982 & 4.0 & 2.6 & 1.9 & 1.6 & setosa   \\\\\n\t983 &  983 & 4.5 & 3.0 & 2.0 & 0.3 & setosa   \\\\\n\t984 &  984 & 5.9 & 2.4 & 1.1 & 2.3 & setosa   \\\\\n\t985 &  985 & 3.3 & 2.4 & 1.6 & 2.8 & setosa   \\\\\n\t986 &  986 & 4.6 & 3.9 & 2.4 & 1.8 & setosa   \\\\\n\t987 &  987 & 3.2 & 2.8 & 1.5 & 2.9 & setosa   \\\\\n\t988 &  988 & 4.8 & 3.0 & 2.5 & 2.1 & virginica\\\\\n\t989 &  989 & 5.5 & 2.6 & 2.6 & 0.5 & setosa   \\\\\n\t990 &  990 & 3.8 & 3.6 & 1.4 & 0.6 & virginica\\\\\n\t991 &  991 & 3.6 & 3.0 & 2.1 & 2.9 & setosa   \\\\\n\t992 &  992 & 3.7 & 2.5 & 2.6 & 2.8 & virginica\\\\\n\t993 &  993 & 3.2 & 2.4 & 2.0 & 1.2 & virginica\\\\\n\t994 &  994 & 4.5 & 3.7 & 1.2 & 0.3 & virginica\\\\\n\t995 &  995 & 4.0 & 2.9 & 1.0 & 0.2 & virginica\\\\\n\t996 &  996 & 4.5 & 3.6 & 2.0 & 2.7 & setosa   \\\\\n\t997 &  997 & 4.0 & 2.1 & 2.0 & 2.1 & setosa   \\\\\n\t998 &  998 & 5.9 & 2.5 & 2.1 & 2.5 & virginica\\\\\n\t999 &  999 & 5.0 & 2.6 & 1.9 & 1.6 &          \\\\\n\t1000 & 1000 & 3.4 & 3.9 & 1.9 & 1.5 & setosa   \\\\\n\\end{tabular}\n",
            "text/plain": [
              "     id   sepal_length sepal_width petal_length petal_width species  \n",
              "1     1   3.5          2.9         1.4          0.5         virginica\n",
              "2     2   3.6          3.2         3.0          0.5         setosa   \n",
              "3     3   3.8          3.0         2.2          1.5         setosa   \n",
              "4     4   5.8          2.7         2.6          1.2         virginica\n",
              "5     5   4.9          3.6         3.0          1.2         virginica\n",
              "6     6   5.0          2.7         1.4          2.3         setosa   \n",
              "7     7   4.8          3.0         2.6          1.4         setosa   \n",
              "8     8   5.5          2.2         2.1          2.1         virginica\n",
              "9     9   5.5          2.9         1.1          3.0         setosa   \n",
              "10   10   4.6          3.4         2.6          1.9         virginica\n",
              "11   11   3.7          2.1         1.4          1.3         setosa   \n",
              "12   12   4.6          3.5         1.6          2.9         setosa   \n",
              "13   13   4.7          2.0         1.2          1.9         virginica\n",
              "14   14   6.0          3.0         1.1          2.6         virginica\n",
              "15   15   3.3          2.7         2.9          0.4         setosa   \n",
              "16   16   4.1          3.5         1.9          0.7         virginica\n",
              "17   17   4.6          2.9         2.1          2.6         virginica\n",
              "18   18   3.7          2.6         1.3          0.9         setosa   \n",
              "19   19   5.5          2.5         1.8          1.8         virginica\n",
              "20   20   3.7          2.4         1.2          1.6         setosa   \n",
              "21   21   3.1          2.4         1.4          0.7         setosa   \n",
              "22   22   4.4          2.1         2.8          1.9         virginica\n",
              "23   23   5.7          3.0         2.5          1.4         setosa   \n",
              "24   24   5.6          3.3         1.2          0.3         virginica\n",
              "25   25   3.2          3.3         2.0          0.7         virginica\n",
              "26   26   5.0          3.3         2.4          2.2         virginica\n",
              "27   27   3.9          3.2         2.7          0.1         setosa   \n",
              "28   28   4.6          2.2         1.5          1.2         virginica\n",
              "29   29   5.8          2.6         2.3          2.3         setosa   \n",
              "30   30   4.7          3.7         1.8          2.7         virginica\n",
              "⋮    ⋮    ⋮            ⋮           ⋮            ⋮           ⋮        \n",
              "971   971 3.4          3.5         2.8          2.5                  \n",
              "972   972 4.3          2.7         1.6          0.0         setosa   \n",
              "973   973 3.7          3.0         2.3          0.6         virginica\n",
              "974   974 3.9          3.6         2.3          1.6         setosa   \n",
              "975   975 3.8          2.4         3.0          2.5         virginica\n",
              "976   976 3.1          4.0         2.0          0.6         setosa   \n",
              "977   977 3.4          3.7         3.0          3.0         setosa   \n",
              "978   978 4.8          3.3         2.0          0.9         virginica\n",
              "979   979 4.6          2.6         1.4          1.3         virginica\n",
              "980   980 5.7          3.0         2.6          0.6         virginica\n",
              "981   981 3.6          2.6         2.3          0.9         virginica\n",
              "982   982 4.0          2.6         1.9          1.6         setosa   \n",
              "983   983 4.5          3.0         2.0          0.3         setosa   \n",
              "984   984 5.9          2.4         1.1          2.3         setosa   \n",
              "985   985 3.3          2.4         1.6          2.8         setosa   \n",
              "986   986 4.6          3.9         2.4          1.8         setosa   \n",
              "987   987 3.2          2.8         1.5          2.9         setosa   \n",
              "988   988 4.8          3.0         2.5          2.1         virginica\n",
              "989   989 5.5          2.6         2.6          0.5         setosa   \n",
              "990   990 3.8          3.6         1.4          0.6         virginica\n",
              "991   991 3.6          3.0         2.1          2.9         setosa   \n",
              "992   992 3.7          2.5         2.6          2.8         virginica\n",
              "993   993 3.2          2.4         2.0          1.2         virginica\n",
              "994   994 4.5          3.7         1.2          0.3         virginica\n",
              "995   995 4.0          2.9         1.0          0.2         virginica\n",
              "996   996 4.5          3.6         2.0          2.7         setosa   \n",
              "997   997 4.0          2.1         2.0          2.1         setosa   \n",
              "998   998 5.9          2.5         2.1          2.5         virginica\n",
              "999   999 5.0          2.6         1.9          1.6                  \n",
              "1000 1000 3.4          3.9         1.9          1.5         setosa   "
            ]
          },
          "metadata": {}
        }
      ]
    },
    {
      "cell_type": "code",
      "source": [
        "# data()\n",
        "glimpse(faithful)\n",
        "?faithful"
      ],
      "metadata": {
        "id": "J4Sk7qAZ0TG2"
      },
      "execution_count": null,
      "outputs": []
    },
    {
      "cell_type": "markdown",
      "source": [
        "## Extracting Row Data back into Vector\n",
        "\n",
        "To extract a column of attributes back into a vector, call it out by appending `$ColName` to the data frame."
      ],
      "metadata": {
        "id": "LIRrb60I_CQI"
      }
    },
    {
      "cell_type": "code",
      "source": [
        "df$Album\n",
        "\n",
        "# Or assign into a var\n",
        "albums_extracted <- df$Album"
      ],
      "metadata": {
        "id": "YBS7y1jZ-yBF"
      },
      "execution_count": null,
      "outputs": []
    }
  ]
}