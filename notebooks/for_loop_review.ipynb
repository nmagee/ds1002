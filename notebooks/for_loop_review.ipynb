{
  "nbformat": 4,
  "nbformat_minor": 0,
  "metadata": {
    "colab": {
      "provenance": [],
      "authorship_tag": "ABX9TyPLxSCdAhSyql60jA5ulDmK",
      "include_colab_link": true
    },
    "kernelspec": {
      "name": "python3",
      "display_name": "Python 3"
    },
    "language_info": {
      "name": "python"
    }
  },
  "cells": [
    {
      "cell_type": "markdown",
      "metadata": {
        "id": "view-in-github",
        "colab_type": "text"
      },
      "source": [
        "<a href=\"https://colab.research.google.com/github/nmagee/ds1002/blob/main/notebooks/for_loop_review.ipynb\" target=\"_parent\"><img src=\"https://colab.research.google.com/assets/colab-badge.svg\" alt=\"Open In Colab\"/></a>"
      ]
    },
    {
      "cell_type": "markdown",
      "source": [
        "# Looping Over Things\n",
        "\n",
        "You will encounter a variety of objects you need to loop through.\n",
        "\n",
        "## Pandas DataFrames"
      ],
      "metadata": {
        "id": "w75Jv4tqSnrw"
      }
    },
    {
      "cell_type": "code",
      "execution_count": null,
      "metadata": {
        "id": "LXZCf2w9QCDn"
      },
      "outputs": [],
      "source": [
        "import pandas as pd\n",
        "\n",
        "df = pd.read_csv(\"https://s3.amazonaws.com/ds1002-resources/data/temperatures.csv\")\n",
        "df.head()"
      ]
    },
    {
      "cell_type": "code",
      "source": [
        "for row in df.iterrows():\n",
        "  print(row)"
      ],
      "metadata": {
        "id": "QiJNoZY8Qwks"
      },
      "execution_count": null,
      "outputs": []
    },
    {
      "cell_type": "code",
      "source": [
        "for i in range(len(df)):\n",
        "  print(df.loc[i, \"date\"], df.loc[i, \"temperature\"])"
      ],
      "metadata": {
        "id": "SVopO-htQq2Y"
      },
      "execution_count": null,
      "outputs": []
    },
    {
      "cell_type": "code",
      "source": [
        "for i in range(len(df)):\n",
        "  print(df.iloc[i, 0], df.iloc[i, 1])"
      ],
      "metadata": {
        "id": "_yum86r2RqMT"
      },
      "execution_count": null,
      "outputs": []
    },
    {
      "cell_type": "code",
      "source": [
        "for index, row in df.iterrows():\n",
        "  print(row[\"date\"], row[\"temperature\"])"
      ],
      "metadata": {
        "id": "xeGlOm1bR5AR"
      },
      "execution_count": null,
      "outputs": []
    },
    {
      "cell_type": "markdown",
      "source": [
        "## Dictionaries"
      ],
      "metadata": {
        "id": "BD1Wg4oSSEdz"
      }
    },
    {
      "cell_type": "code",
      "source": [
        "mydict = {'United States':'Washington DC',\n",
        "          'Italy':'Rome',\n",
        "          'England':'London',\n",
        "          'Thailand':'Bangkok',\n",
        "          'Brazil':'Brasilia'}"
      ],
      "metadata": {
        "id": "9DpHR_WzSGA8"
      },
      "execution_count": null,
      "outputs": []
    },
    {
      "cell_type": "code",
      "source": [
        "# This gets out all my keys:\n",
        "for thing in mydict:\n",
        "  print(thing)"
      ],
      "metadata": {
        "id": "Iy_i6RE3S1ta"
      },
      "execution_count": null,
      "outputs": []
    },
    {
      "cell_type": "code",
      "source": [
        "# This pulls out all the values of the dict:\n",
        "for thing in mydict:\n",
        "  print(mydict[thing])"
      ],
      "metadata": {
        "id": "eYNBRQAsS95v"
      },
      "execution_count": null,
      "outputs": []
    },
    {
      "cell_type": "code",
      "source": [
        "# This pulls both keys and values of a dict:\n",
        "for key, value in mydict.items():\n",
        "  print(key, \" \", value)"
      ],
      "metadata": {
        "id": "b1KYFdDxSH7X"
      },
      "execution_count": null,
      "outputs": []
    },
    {
      "cell_type": "markdown",
      "source": [
        "## Tuples"
      ],
      "metadata": {
        "id": "irmLi_FPUDr4"
      }
    },
    {
      "cell_type": "code",
      "source": [
        "thistuple = (\"apple\", \"banana\", \"cherry\")\n",
        "for i in thistuple:\n",
        "  print(i)"
      ],
      "metadata": {
        "id": "qYFAXDo8UHSS"
      },
      "execution_count": null,
      "outputs": []
    },
    {
      "cell_type": "code",
      "source": [
        "thistuple = (\"apple\", \"banana\", \"cherry\")\n",
        "i = 0\n",
        "while i < len(thistuple):\n",
        "  print(thistuple[i])\n",
        "  i = i + 1"
      ],
      "metadata": {
        "id": "x5Lqwg1nUFgI"
      },
      "execution_count": null,
      "outputs": []
    }
  ]
}