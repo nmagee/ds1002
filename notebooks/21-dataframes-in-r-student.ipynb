{
  "nbformat": 4,
  "nbformat_minor": 0,
  "metadata": {
    "colab": {
      "provenance": [],
      "authorship_tag": "ABX9TyPKYFEkl4osxkdYFc8Bma8/",
      "include_colab_link": true
    },
    "kernelspec": {
      "name": "ir",
      "display_name": "R"
    },
    "language_info": {
      "name": "R"
    }
  },
  "cells": [
    {
      "cell_type": "markdown",
      "metadata": {
        "id": "view-in-github",
        "colab_type": "text"
      },
      "source": [
        "<a href=\"https://colab.research.google.com/github/nmagee/ds1002/blob/main/notebooks/21-dataframes-in-r-student.ipynb\" target=\"_parent\"><img src=\"https://colab.research.google.com/assets/colab-badge.svg\" alt=\"Open In Colab\"/></a>"
      ]
    },
    {
      "cell_type": "markdown",
      "source": [
        "# Data Frames in R\n",
        "\n",
        "Build a data frame by hand."
      ],
      "metadata": {
        "id": "n9Hyle2zcFZx"
      }
    },
    {
      "cell_type": "code",
      "execution_count": 1,
      "metadata": {
        "id": "zZJftFYrcFIb"
      },
      "outputs": [],
      "source": [
        "album <- c(\"Low End Theory\", \"Nevermind\", \"Port of Morrow\",\n",
        "           \"Dark Side of the Moon\", \"Naked\", \"OK Computer\",\n",
        "           \"Abbey Road\", \"Thriller\", \"Rumours\", \"The Joshua Tree\")\n",
        "year <- c(1991, 1991, 2012, 1973, 1988, 1997, 1969, 1982, 1977, 1987)\n",
        "digital <- c(FALSE, FALSE, TRUE, FALSE, TRUE, TRUE, FALSE, FALSE, FALSE, TRUE)\n",
        "\n",
        "df <- data.frame(Album = album, Year = year, Digital = digital)"
      ]
    },
    {
      "cell_type": "code",
      "source": [],
      "metadata": {
        "id": "X_sJF7WYcQBs"
      },
      "execution_count": null,
      "outputs": []
    }
  ]
}