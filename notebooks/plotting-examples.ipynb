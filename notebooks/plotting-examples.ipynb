{
  "nbformat": 4,
  "nbformat_minor": 0,
  "metadata": {
    "colab": {
      "provenance": [],
      "authorship_tag": "ABX9TyPw3irvyj6+mqyWffAmFcCE",
      "include_colab_link": true
    },
    "kernelspec": {
      "name": "python3",
      "display_name": "Python 3"
    },
    "language_info": {
      "name": "python"
    }
  },
  "cells": [
    {
      "cell_type": "markdown",
      "metadata": {
        "id": "view-in-github",
        "colab_type": "text"
      },
      "source": [
        "<a href=\"https://colab.research.google.com/github/nmagee/ds1002/blob/main/notebooks/plotting-examples.ipynb\" target=\"_parent\"><img src=\"https://colab.research.google.com/assets/colab-badge.svg\" alt=\"Open In Colab\"/></a>"
      ]
    },
    {
      "cell_type": "markdown",
      "source": [
        "# Plotting with `matplotlib`"
      ],
      "metadata": {
        "id": "C6senYdMlTXy"
      }
    },
    {
      "cell_type": "code",
      "source": [
        "# Start with some simple numpy arrays. These are ordered pairs: x, y:\n",
        "# 8, 5\n",
        "# 13, 4\n",
        "# 14, 18\n",
        "# . . .\n",
        "\n",
        "import numpy as np\n",
        "\n",
        "x = np.array([8, 13, 14, 16, 16, 20, 25, 30, 38, 40])\n",
        "y = np.array([5, 4, 18, 14, 20, 24, 28, 33, 30, 37])"
      ],
      "metadata": {
        "id": "ARrrWsVMlgtn"
      },
      "execution_count": null,
      "outputs": []
    },
    {
      "cell_type": "code",
      "source": [
        "# Next import matplotlib.pyplot\n",
        "import matplotlib.pyplot as plt"
      ],
      "metadata": {
        "id": "vXZiJerXmHv_"
      },
      "execution_count": null,
      "outputs": []
    },
    {
      "cell_type": "code",
      "source": [
        "# Create a simple plot of the values\n",
        "plt.scatter(x, y)"
      ],
      "metadata": {
        "id": "AfWPzqZYmUB_"
      },
      "execution_count": null,
      "outputs": []
    },
    {
      "cell_type": "code",
      "source": [
        "# Let z be a new calculation of a quadratic trendline for our data\n",
        "z = np.polyfit(x, y, 2)\n",
        "\n",
        "# Then p will be a plot of that line\n",
        "p = np.poly1d(z)"
      ],
      "metadata": {
        "id": "5-sGI1uzmfh_"
      },
      "execution_count": null,
      "outputs": []
    },
    {
      "cell_type": "code",
      "source": [
        "# Combine the two!\n",
        "\n",
        "plt.plot(x, p(x))\n",
        "plt.scatter(x,y)"
      ],
      "metadata": {
        "id": "IhygGqGcm0P7"
      },
      "execution_count": null,
      "outputs": []
    },
    {
      "cell_type": "code",
      "source": [
        "# As you want other types of plots, they are each separate methods to call\n",
        "# from within pyplot:\n",
        "plt.bar(x,y)"
      ],
      "metadata": {
        "id": "Z7slBpbmoWTb"
      },
      "execution_count": null,
      "outputs": []
    },
    {
      "cell_type": "markdown",
      "source": [
        "## Pie Chart"
      ],
      "metadata": {
        "id": "L2Jj00oxpBzN"
      }
    },
    {
      "cell_type": "code",
      "source": [
        "# A pie chart is fairly simple in matplotlib\n",
        "\n",
        "# Here are our data - a simple array of values. Together (added)\n",
        "# they will make up the \"whole\" of the pie. Each value/whole will\n",
        "# then represent a slice.\n",
        "data = [44, 64, 98, 14]\n",
        "\n",
        "# The plot itself uses the data object along with labels.\n",
        "plt.pie(data, labels=['Albany','Birmingham','Cleveland','Denver'])\n",
        "\n",
        "# Then show the plot\n",
        "plt.show()"
      ],
      "metadata": {
        "id": "GKbkjDLFolgp"
      },
      "execution_count": null,
      "outputs": []
    },
    {
      "cell_type": "markdown",
      "source": [
        "# Plotting with Seaborn"
      ],
      "metadata": {
        "id": "DDaPNWQVnd1S"
      }
    },
    {
      "cell_type": "code",
      "source": [
        "import seaborn as sns\n",
        "import pandas as pd\n",
        "\n",
        "df = pd.read_csv('https://raw.githubusercontent.com/datasciencedojo/datasets/master/titanic.csv')\n",
        "df.head(5)"
      ],
      "metadata": {
        "id": "x0jo4tV4nfda"
      },
      "execution_count": null,
      "outputs": []
    },
    {
      "cell_type": "code",
      "source": [
        "# filter the df to get specific value ranges\n",
        "filtered_df = df.loc[df['Age'] < 10]\n",
        "\n",
        "# Select specific columns\n",
        "selected_columns = filtered_df[['Age', 'Fare']]\n",
        "\n",
        "print(selected_columns.head())"
      ],
      "metadata": {
        "id": "jRx9zWEungLo"
      },
      "execution_count": null,
      "outputs": []
    },
    {
      "cell_type": "code",
      "source": [
        "sns.scatterplot(x='Age', y='Fare', data=filtered_df, hue='Fare', size='Fare')"
      ],
      "metadata": {
        "id": "Z-1m-1jnngc0"
      },
      "execution_count": null,
      "outputs": []
    },
    {
      "cell_type": "code",
      "source": [
        "%pip install boto3"
      ],
      "metadata": {
        "id": "ZgOe6F7YUp3G"
      },
      "execution_count": null,
      "outputs": []
    },
    {
      "cell_type": "code",
      "source": [
        "# now save the plog as a file\n",
        "import matplotlib.pyplot as plt\n",
        "plt.savefig('scatterplot.png')\n",
        "\n",
        "# setup boto3 / client\n",
        "import boto3\n",
        "from botocore.exceptions import ClientError\n",
        "\n",
        "s3 = boto3.client('s3')\n",
        "\n",
        "# upload file to s3\n",
        "bucket = \"ds2002-jupyter\"\n",
        "file_name = \"scatterplot.png\"\n",
        "try:\n",
        "    response = s3.upload_file(file_name, bucket, file_name)\n",
        "except ClientError as e:\n",
        "    print(\"Error:\", e)"
      ],
      "metadata": {
        "id": "Ks9iAICoUL-Y"
      },
      "execution_count": null,
      "outputs": []
    },
    {
      "cell_type": "markdown",
      "source": [
        "Watch a version of this notebook:\n",
        "\n",
        "https://www.youtube.com/watch?v=HZ2dO7ax4Bw\n"
      ],
      "metadata": {
        "id": "-ly4c18ZwVzG"
      }
    }
  ]
}