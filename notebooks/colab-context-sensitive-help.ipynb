{
  "nbformat": 4,
  "nbformat_minor": 0,
  "metadata": {
    "colab": {
      "provenance": [],
      "authorship_tag": "ABX9TyPiSc92jLdFeURMy0obfhCq",
      "include_colab_link": true
    },
    "kernelspec": {
      "name": "python3",
      "display_name": "Python 3"
    },
    "language_info": {
      "name": "python"
    }
  },
  "cells": [
    {
      "cell_type": "markdown",
      "metadata": {
        "id": "view-in-github",
        "colab_type": "text"
      },
      "source": [
        "<a href=\"https://colab.research.google.com/github/nmagee/ds1002/blob/main/notebooks/colab-context-sensitive-help.ipynb\" target=\"_parent\"><img src=\"https://colab.research.google.com/assets/colab-badge.svg\" alt=\"Open In Colab\"/></a>"
      ]
    },
    {
      "cell_type": "markdown",
      "source": [
        "# Context-Sensitive Help\n",
        "\n",
        "Google Colab (and most other Python environments) has a built-in way to get details about any function or built-in method for an object.\n",
        "\n",
        "## Object Methods\n",
        "\n",
        "One good example of this is if you construct a python list and would then like to know all methods available to you. This is VERY helpful when learning a new language.\n",
        "\n",
        "To do this, you should first create the list and execute it, so the list is \"known\" by Python and exists in memory. (Otherwise Python cannot give you methods available for an object it does not yet know about.)"
      ],
      "metadata": {
        "id": "qBlUxG_KXRE7"
      }
    },
    {
      "cell_type": "code",
      "execution_count": 1,
      "metadata": {
        "id": "pymatyTyWq5w"
      },
      "outputs": [],
      "source": [
        "# Create the list and execute the cell to store in memory\n",
        "\n",
        "mylist = [\"apples\", \"bananas\", \"cherries\"]"
      ]
    },
    {
      "cell_type": "markdown",
      "source": [
        "Once the object exists in memory, to see all the methods available to that object, type its name `mylist` and a DOT: `mylist.` and the contextual help will automatically appear as a pop-up list next to your text."
      ],
      "metadata": {
        "id": "1fx7GLpkYO7F"
      }
    },
    {
      "cell_type": "code",
      "source": [
        "mylist."
      ],
      "metadata": {
        "id": "xEV5fZpEYM8W"
      },
      "execution_count": null,
      "outputs": []
    },
    {
      "cell_type": "markdown",
      "source": [
        "## Method/Function Parameters\n",
        "\n",
        "A second way that contextual help works is when you aren't sure what parameters are required (or optional) for a particular method or function. Let's say that you have created the `mylist` above, and would like to add a new value to it.\n",
        "\n",
        "So you recognize from the pop-up list above that you need to use the `.append()` method.\n",
        "\n",
        "Continue by adding `.append(` to your object like this:\n",
        "\n",
        "    mylist.append(\n",
        "\n",
        "Once you declare the start of parameters with the `(` character, contextual help will once again kick in and display a popup of all required and optional parameters for that list method.\n",
        "\n",
        "In this case, `.append()` takes only one parameter, which is a `str` since Python recognizes that this list contains a series of strings."
      ],
      "metadata": {
        "id": "H5jqE11iYaNl"
      }
    },
    {
      "cell_type": "code",
      "source": [
        "mylist.append("
      ],
      "metadata": {
        "id": "3-oM6kedZ0Zs"
      },
      "execution_count": null,
      "outputs": []
    },
    {
      "cell_type": "markdown",
      "source": [
        "Similarly, if I populated a list containing integers, the contextual help for `.append(` would suggest the only required parameter is an `int`."
      ],
      "metadata": {
        "id": "_lOO_LqOZ2sx"
      }
    },
    {
      "cell_type": "code",
      "source": [
        "myints = [1,2,3,4,5]"
      ],
      "metadata": {
        "id": "fBCCSOz3Zj9x"
      },
      "execution_count": null,
      "outputs": []
    },
    {
      "cell_type": "code",
      "source": [
        "myints.append("
      ],
      "metadata": {
        "id": "DfjPunHaZr07"
      },
      "execution_count": null,
      "outputs": []
    },
    {
      "cell_type": "markdown",
      "source": [
        "## Bonus!\n",
        "\n",
        "If you have created a list and then later mouseover the variable name for your list, context-sensitive help will display the list contents to you."
      ],
      "metadata": {
        "id": "Hm7-D4i9anSG"
      }
    }
  ]
}