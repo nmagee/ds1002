{
 "cells": [
  {
   "attachments": {},
   "cell_type": "markdown",
   "id": "7f2a553a",
   "metadata": {},
   "source": [
    "# Metadata\n",
    "\n",
    "```\n",
    "Course:      DS 1002\n",
    "Week:        Python Basics \n",
    "Topic:       Python Types, Operators, and Expressions\n",
    "```"
   ]
  },
  {
   "cell_type": "markdown",
   "id": "19ee6f8f",
   "metadata": {},
   "source": [
    "# Comments"
   ]
  },
  {
   "cell_type": "markdown",
   "id": "2e95d671",
   "metadata": {},
   "source": [
    "You can comment out any single line with a # character.\n",
    "    \n",
    "    # Here is a comment\n",
    "\n",
    "You can comment out multiple lines using triple quote marks on both ends.\n",
    "\n",
    "```python\n",
    "\"\"\" \n",
    "Here is a long comment that takes up several lines.\n",
    "I wonder how long it will go?\n",
    "Okay maybe just three lines long\n",
    "\"\"\"\n",
    "```"
   ]
  },
  {
   "cell_type": "markdown",
   "id": "420867eb",
   "metadata": {},
   "source": [
    "# Reserved Keywords"
   ]
  },
  {
   "attachments": {},
   "cell_type": "markdown",
   "id": "5c1c4907",
   "metadata": {},
   "source": [
    "Reserved keywords have specific meanings and restrictions on how they should be used. \n",
    "\n",
    "More examples:\n",
    "\n",
    "`False`   \n",
    "`await`   \t\n",
    "`else`\t \n",
    "`import`   \n",
    "`pass`  \n",
    "`None`   \n",
    "`break`   \n",
    "`except`   \n",
    "`in`   \n",
    "`raise`   \n",
    "`True`   \n",
    "`class`   \n",
    "`finally`   \n",
    "`is`\t\n",
    "`return`   \n",
    "`and`   \n",
    "`continue`   \n",
    "`for`   \n",
    "`lambda`   \n",
    "`try`   \n",
    "`as`   \n",
    "`def`   \n",
    "`from`   \n",
    "`nonlocal`   \n",
    "`while`   \n",
    "`assert`   \n",
    "`del`   \n",
    "`global`\t\n",
    "`not`   \n",
    "`with`   \n",
    "`async`   \n",
    "`elif`\t  \n",
    "`if`   \n",
    "`or`   \n",
    "`yield`"
   ]
  },
  {
   "cell_type": "markdown",
   "id": "2f7ae123",
   "metadata": {},
   "source": [
    "# Variables & Types"
   ]
  },
  {
   "attachments": {},
   "cell_type": "markdown",
   "id": "92a9caa8",
   "metadata": {},
   "source": [
    "Variables are assigned types **dynamically**. "
   ]
  },
  {
   "cell_type": "code",
   "execution_count": null,
   "id": "fe148025",
   "metadata": {},
   "outputs": [],
   "source": [
    "# variable name = assigned value\n",
    "x = 4\n",
    "x"
   ]
  },
  {
   "cell_type": "code",
   "execution_count": null,
   "id": "62a4d6d9",
   "metadata": {},
   "outputs": [],
   "source": [
    "y = 100 + 25\n",
    "y"
   ]
  },
  {
   "cell_type": "code",
   "execution_count": null,
   "id": "ec0ca490",
   "metadata": {},
   "outputs": [],
   "source": [
    "# can type variable to get value\n",
    "x"
   ]
  },
  {
   "cell_type": "code",
   "execution_count": null,
   "id": "bfb5dda2",
   "metadata": {},
   "outputs": [],
   "source": [
    "# can use print() function to view assigned value\n",
    "# the print() function has a lot of uses and will be discussed later\n",
    "print(x)"
   ]
  },
  {
   "cell_type": "code",
   "execution_count": null,
   "id": "256e6b1c",
   "metadata": {},
   "outputs": [],
   "source": [
    "# reassign variable\n",
    "x = 5\n",
    "x"
   ]
  },
  {
   "cell_type": "code",
   "execution_count": null,
   "id": "358db343",
   "metadata": {},
   "outputs": [],
   "source": [
    "# variable arithmetic\n",
    "x + y"
   ]
  },
  {
   "cell_type": "code",
   "execution_count": null,
   "id": "2f439542",
   "metadata": {},
   "outputs": [],
   "source": [
    "# variables of other data types\n",
    "float_var = 4.22\n",
    "string_var = 'virginia'\n",
    "bool_var = True"
   ]
  },
  {
   "cell_type": "code",
   "execution_count": null,
   "id": "c7450065",
   "metadata": {},
   "outputs": [],
   "source": [
    "type(float_var) # gives you type of data variable is holding"
   ]
  },
  {
   "cell_type": "code",
   "execution_count": null,
   "id": "2a29aba5",
   "metadata": {},
   "outputs": [],
   "source": [
    "# delete a variable with function del()\n",
    "del(x)\n",
    "\n",
    "x"
   ]
  },
  {
   "cell_type": "markdown",
   "id": "df67456e",
   "metadata": {},
   "source": [
    "## Object ID\n",
    "\n",
    "Every variable created in Python is given a unique ID.\n",
    "\n",
    "This ID where the variable is stored in memory. The ID is for the variable, not the variable's value.\n",
    "\n",
    "> Exception: if the number is between -5 - 256 or a simple string with no spaces, it will not be given a unique id for memory optimization purposes\n",
    "\n",
    "We can find an object's ID using `id()`"
   ]
  },
  {
   "cell_type": "code",
   "execution_count": null,
   "id": "a2e0fa0b",
   "metadata": {},
   "outputs": [],
   "source": [
    "a = 278"
   ]
  },
  {
   "cell_type": "code",
   "execution_count": null,
   "id": "015e463c",
   "metadata": {},
   "outputs": [],
   "source": [
    "b = 278"
   ]
  },
  {
   "cell_type": "code",
   "execution_count": null,
   "id": "98300a13",
   "metadata": {},
   "outputs": [],
   "source": [
    "print(id(a))\n",
    "print(id(b))"
   ]
  },
  {
   "cell_type": "code",
   "execution_count": null,
   "id": "5608f8f6",
   "metadata": {},
   "outputs": [],
   "source": [
    "a == b # 2 = 2"
   ]
  },
  {
   "cell_type": "code",
   "execution_count": null,
   "id": "7509da98",
   "metadata": {},
   "outputs": [],
   "source": [
    "id(a) == id(b)"
   ]
  },
  {
   "cell_type": "markdown",
   "id": "c2b08e1b",
   "metadata": {},
   "source": [
    "## Converting Data Types\n",
    "\n",
    "When needed you can 'cast' a variable as a different string type (remember Python automatically assigns data type to a variable).\n",
    "\n",
    "We do this through casting functions:"
   ]
  },
  {
   "cell_type": "markdown",
   "id": "dbb0c35f",
   "metadata": {},
   "source": [
    "**`int()`**"
   ]
  },
  {
   "cell_type": "code",
   "execution_count": null,
   "id": "39b9e5f5",
   "metadata": {},
   "outputs": [],
   "source": [
    "# create float variable\n",
    "var_float = 9.6\n",
    "type(var_float)"
   ]
  },
  {
   "cell_type": "code",
   "execution_count": null,
   "id": "b6440326",
   "metadata": {},
   "outputs": [],
   "source": [
    "# cast float to integer\n",
    "var_int = int(var_float)\n",
    "\n",
    "print(type(var_int))\n",
    "var_int"
   ]
  },
  {
   "cell_type": "markdown",
   "id": "7765a689",
   "metadata": {},
   "source": [
    "**`float()`**"
   ]
  },
  {
   "cell_type": "code",
   "execution_count": null,
   "id": "b052299d",
   "metadata": {},
   "outputs": [],
   "source": [
    "# create string variable\n",
    "var_str = '10.2'\n",
    "type(var_str)"
   ]
  },
  {
   "cell_type": "code",
   "execution_count": null,
   "id": "3c617d79",
   "metadata": {},
   "outputs": [],
   "source": [
    "# cast string to float\n",
    "var_float = float(var_str)\n",
    "print(type(var_float))\n",
    "print(var_float)"
   ]
  },
  {
   "cell_type": "markdown",
   "id": "a39bd925",
   "metadata": {},
   "source": [
    "# Operators\n",
    "\n",
    "If variables are **nouns**, and values **meanings**, then operators are **verbs**.\n",
    "\n",
    "In effect, they are **elementary functions** that are expressed in sequential syntax.\n",
    "\n",
    "**Each data type is associated with a set of operators** that allow you to manipulate the data in way that makes sense for its type. Numeric data types are subject to mathematical operations, booleans to logical ones, and so forth.\n",
    "\n",
    "There are also **operations appropriate to structures**. For example, list-like things have membership.\n",
    "\n",
    "The relationship between types and operators is a microcosm of the relationship betweed data structures and algorithms. **Data structures imply algorithms and algorithms assume data structures.**\n",
    "\n",
    "The w3schools site has [a good summary](https://www.w3schools.com/python/python_operators.asp).\n"
   ]
  },
  {
   "cell_type": "markdown",
   "id": "62f47df4",
   "metadata": {},
   "source": [
    "## Numeric Operators"
   ]
  },
  {
   "attachments": {},
   "cell_type": "markdown",
   "id": "36321606",
   "metadata": {},
   "source": [
    "Common: `+`, `-`, `*`, `/`\n",
    "\n",
    "\n",
    "\n",
    "Other operators: "
   ]
  },
  {
   "cell_type": "markdown",
   "id": "19c15a61",
   "metadata": {},
   "source": [
    "**floor division `//`**\n",
    "\n",
    "returns the largest integer less than or equal to the result"
   ]
  },
  {
   "cell_type": "code",
   "execution_count": null,
   "id": "b2746f37",
   "metadata": {},
   "outputs": [],
   "source": [
    "5 // 2"
   ]
  },
  {
   "cell_type": "code",
   "execution_count": null,
   "id": "54cd2cde",
   "metadata": {},
   "outputs": [],
   "source": [
    "-5 // 2"
   ]
  },
  {
   "cell_type": "markdown",
   "id": "f760f61f",
   "metadata": {},
   "source": [
    "**modulus `%`**\n",
    "\n",
    "returns the remainder after a division operation"
   ]
  },
  {
   "cell_type": "code",
   "execution_count": null,
   "id": "883ab576",
   "metadata": {},
   "outputs": [],
   "source": [
    "5 % 2"
   ]
  },
  {
   "cell_type": "code",
   "execution_count": null,
   "id": "5cd863fc",
   "metadata": {},
   "outputs": [],
   "source": [
    "print(5.5 / 2) \n",
    "print(5.5 // 2)\n",
    "print(5.5 % 2)"
   ]
  },
  {
   "cell_type": "markdown",
   "id": "f7b812d1",
   "metadata": {},
   "source": [
    "**exponentiation `**` **"
   ]
  },
  {
   "cell_type": "code",
   "execution_count": null,
   "id": "65646db4",
   "metadata": {},
   "outputs": [],
   "source": [
    "5**2"
   ]
  },
  {
   "cell_type": "markdown",
   "id": "d4e24480",
   "metadata": {},
   "source": [
    "## String Operators"
   ]
  },
  {
   "cell_type": "markdown",
   "id": "beddac76",
   "metadata": {},
   "source": [
    "**concatenation `+`**"
   ]
  },
  {
   "cell_type": "code",
   "execution_count": null,
   "id": "1b8c472f",
   "metadata": {},
   "outputs": [],
   "source": [
    "string1 = 'Hello world!'\n",
    "string2 = 'Goodbye world!'\n",
    "\n",
    "string1 + string2"
   ]
  },
  {
   "cell_type": "code",
   "execution_count": null,
   "id": "6d02ece1",
   "metadata": {},
   "outputs": [],
   "source": [
    "string1 + string2 + ' Hello again!'"
   ]
  },
  {
   "cell_type": "code",
   "execution_count": null,
   "id": "ffb4dd10",
   "metadata": {},
   "outputs": [],
   "source": [
    "print(string1 + string2 + ' Hello again!')"
   ]
  },
  {
   "cell_type": "markdown",
   "id": "e65c547f",
   "metadata": {},
   "source": [
    "**repetition `*`**"
   ]
  },
  {
   "cell_type": "code",
   "execution_count": null,
   "id": "c7f6ce3c",
   "metadata": {},
   "outputs": [],
   "source": [
    "string1 * 2"
   ]
  },
  {
   "cell_type": "code",
   "execution_count": null,
   "id": "b489cdeb",
   "metadata": {},
   "outputs": [],
   "source": [
    "# '\\n' moves to the next line (like hitting the return button)\n",
    "print((string1 + '\\n') * 5)"
   ]
  },
  {
   "cell_type": "markdown",
   "id": "1eb2f0fb",
   "metadata": {},
   "source": [
    "**subsetting a string**"
   ]
  },
  {
   "cell_type": "code",
   "execution_count": null,
   "id": "f920bead",
   "metadata": {},
   "outputs": [],
   "source": [
    "# extract the first 2 characters\n",
    "string1[:2] "
   ]
  },
  {
   "cell_type": "code",
   "execution_count": null,
   "id": "02395bc2",
   "metadata": {},
   "outputs": [],
   "source": [
    "# extract the last 2 characters\n",
    "string1[-2:]"
   ]
  },
  {
   "cell_type": "code",
   "execution_count": null,
   "id": "11b5f9fe",
   "metadata": {},
   "outputs": [],
   "source": [
    "string1.startswith('o')"
   ]
  },
  {
   "cell_type": "code",
   "execution_count": null,
   "id": "bfe6abad",
   "metadata": {},
   "outputs": [],
   "source": [
    "string1.endswith('!')"
   ]
  },
  {
   "cell_type": "markdown",
   "id": "2b532933",
   "metadata": {},
   "source": [
    "**Python strings are *immutable* - cannot reassign elements**"
   ]
  },
  {
   "cell_type": "code",
   "execution_count": null,
   "id": "3eeaf3a4",
   "metadata": {},
   "outputs": [],
   "source": [
    "string1[0] = 'Y'"
   ]
  },
  {
   "cell_type": "markdown",
   "id": "74ab041a",
   "metadata": {},
   "source": [
    "## Comparison Operators\n",
    "\n",
    "comparisons are questions and return boolean values"
   ]
  },
  {
   "cell_type": "markdown",
   "id": "223926d9",
   "metadata": {},
   "source": [
    "**equality `==`**"
   ]
  },
  {
   "cell_type": "code",
   "execution_count": null,
   "id": "238eba4f",
   "metadata": {},
   "outputs": [],
   "source": [
    "# numeric\n",
    "25 == 4**2 + 9"
   ]
  },
  {
   "cell_type": "code",
   "execution_count": null,
   "id": "bebcc082",
   "metadata": {},
   "outputs": [],
   "source": [
    "# string\n",
    "string1 == string2"
   ]
  },
  {
   "cell_type": "markdown",
   "id": "bd41f67a",
   "metadata": {},
   "source": [
    "**inequality `!=`**"
   ]
  },
  {
   "cell_type": "code",
   "execution_count": null,
   "id": "3f493f41",
   "metadata": {},
   "outputs": [],
   "source": [
    "# numeric\n",
    "25 != 20 + 6"
   ]
  },
  {
   "cell_type": "code",
   "execution_count": null,
   "id": "d3dcab60",
   "metadata": {},
   "outputs": [],
   "source": [
    "# string\n",
    "string1 != string2"
   ]
  },
  {
   "cell_type": "markdown",
   "id": "85b81fc4",
   "metadata": {},
   "source": [
    "**greater than `>`, less than `<`**"
   ]
  },
  {
   "cell_type": "code",
   "execution_count": null,
   "id": "66ae66a2",
   "metadata": {},
   "outputs": [],
   "source": [
    "20 > 10"
   ]
  },
  {
   "cell_type": "code",
   "execution_count": null,
   "id": "cbc90b9f",
   "metadata": {},
   "outputs": [],
   "source": [
    "2*10 >= 20"
   ]
  },
  {
   "cell_type": "code",
   "execution_count": null,
   "id": "c9dc02ef",
   "metadata": {},
   "outputs": [],
   "source": [
    "3%2 < 5"
   ]
  },
  {
   "cell_type": "code",
   "execution_count": null,
   "id": "822d153c",
   "metadata": {},
   "outputs": [],
   "source": [
    "-3 <= 0"
   ]
  },
  {
   "cell_type": "markdown",
   "id": "6bc15d1a",
   "metadata": {},
   "source": [
    "## Logical Operators"
   ]
  },
  {
   "cell_type": "markdown",
   "id": "0852b502",
   "metadata": {},
   "source": [
    "**conjunctions `and`, `or`, `not`**\n",
    "\n",
    "Note the we group comparisons with parentheses"
   ]
  },
  {
   "cell_type": "code",
   "execution_count": null,
   "id": "94c739af",
   "metadata": {},
   "outputs": [],
   "source": [
    "x = 10\n",
    "\n",
    "(x % 10 == 0) or (x < -1)"
   ]
  },
  {
   "cell_type": "code",
   "execution_count": null,
   "id": "c965353f",
   "metadata": {},
   "outputs": [],
   "source": [
    "(x % 10 == 0) and (x < -1)"
   ]
  },
  {
   "cell_type": "code",
   "execution_count": null,
   "id": "0a5c8923",
   "metadata": {},
   "outputs": [],
   "source": [
    "not x == 5"
   ]
  },
  {
   "cell_type": "markdown",
   "id": "2b2c6385",
   "metadata": {},
   "source": [
    "**Identity `is`**\n",
    "\n",
    "The `is` keyword is used to test if two variables refer to the same object.\n",
    "\n",
    "The test returns `True` if the two objects are the same object.\n",
    "\n",
    "The test returns False if they are not the same object, even if the two objects are 100% equal.\n",
    "\n",
    "Use the `==` operator to test if two variables are equal.\n",
    "\n",
    "-- from [W3Schools on Identity Operators](https://www.w3schools.com/python/gloss_python_identity_operators.asp)"
   ]
  },
  {
   "cell_type": "code",
   "execution_count": null,
   "id": "1fffb03e",
   "metadata": {},
   "outputs": [],
   "source": [
    "x = ['apple', 'banana']\n",
    "y = ['apple', 'banana']\n",
    "z = x"
   ]
  },
  {
   "cell_type": "code",
   "execution_count": null,
   "id": "7d1c3a7c",
   "metadata": {},
   "outputs": [],
   "source": [
    "x is z"
   ]
  },
  {
   "cell_type": "code",
   "execution_count": null,
   "id": "3ad78cc4",
   "metadata": {},
   "outputs": [],
   "source": [
    "x is y"
   ]
  },
  {
   "cell_type": "code",
   "execution_count": null,
   "id": "98ea6ee2",
   "metadata": {},
   "outputs": [],
   "source": [
    "x == y"
   ]
  },
  {
   "cell_type": "code",
   "execution_count": null,
   "id": "c652f2de",
   "metadata": {},
   "outputs": [],
   "source": [
    "x == z"
   ]
  },
  {
   "cell_type": "markdown",
   "id": "47f381d0",
   "metadata": {},
   "source": [
    "**`isinstance()`** \n",
    "\n",
    "function returns `True` if the specified object is of the specified type, otherwise `False`"
   ]
  },
  {
   "cell_type": "code",
   "execution_count": null,
   "id": "fc6373f1",
   "metadata": {},
   "outputs": [],
   "source": [
    "#example\n",
    "\n",
    "isinstance(\"Hello\", (float, int, str))"
   ]
  },
  {
   "cell_type": "code",
   "execution_count": null,
   "id": "ffc578d5",
   "metadata": {},
   "outputs": [],
   "source": [
    "#example\n",
    "isinstance(\"Hello\", int)"
   ]
  },
  {
   "cell_type": "markdown",
   "id": "eac52c21",
   "metadata": {},
   "source": [
    "## Unary Operators\n",
    "\n",
    "Python offers a short-cut for most operators. When updating a variable with an operation to that variable, such as:\n",
    "```python\n",
    "my_var = my_var + 1  # Incrementing\n",
    "```\n",
    "\n",
    "You can do this:\n",
    "```python\n",
    "my_var += 1\n",
    "```"
   ]
  },
  {
   "cell_type": "markdown",
   "id": "52ffc918",
   "metadata": {},
   "source": [
    "Python supports many operators this way. Here are some:\n",
    "```python\n",
    "a -= a\n",
    "a \\= a\n",
    "a \\\\= a\n",
    "a %= a\n",
    "a *= a\n",
    "a **= a\n",
    "```"
   ]
  },
  {
   "attachments": {},
   "cell_type": "markdown",
   "id": "aa92ce5d",
   "metadata": {},
   "source": [
    "## Expressions\n",
    "\n",
    "Variables, literal values, and operators are the building blocks of expressions.\n",
    "\n",
    "For example, the following combines three operators and four variables:"
   ]
  },
  {
   "cell_type": "code",
   "execution_count": null,
   "id": "5058a10b",
   "metadata": {},
   "outputs": [],
   "source": [
    "1 + 2 * 3 / 2"
   ]
  },
  {
   "cell_type": "markdown",
   "id": "bb74c18b",
   "metadata": {},
   "source": [
    "Python employs **operator precedence** when evaluating expressions:\n",
    "\n",
    "```\n",
    "P – Parentheses\n",
    "E – Exponentiation\n",
    "M – Multiplication\n",
    "D – Division\n",
    "A – Addition\n",
    "S – Subtraction\n",
    "```"
   ]
  },
  {
   "cell_type": "code",
   "execution_count": null,
   "id": "febc7986",
   "metadata": {},
   "outputs": [],
   "source": [
    "(1 + 2) * (3 / 2)"
   ]
  },
  {
   "cell_type": "markdown",
   "id": "fa23e2ea",
   "metadata": {},
   "source": [
    "Variables and literal values can be combined:"
   ]
  },
  {
   "cell_type": "code",
   "execution_count": null,
   "id": "775ccb3e",
   "metadata": {},
   "outputs": [],
   "source": [
    "y = 5\n",
    "m = 2.5\n",
    "b = 10"
   ]
  },
  {
   "cell_type": "code",
   "execution_count": null,
   "id": "f249f060",
   "metadata": {},
   "outputs": [],
   "source": [
    "y = m * 10 + b\n",
    "y"
   ]
  },
  {
   "cell_type": "code",
   "execution_count": null,
   "id": "cd446cc6",
   "metadata": {},
   "outputs": [],
   "source": [
    "y = m * 5 + b\n",
    "y"
   ]
  },
  {
   "cell_type": "markdown",
   "id": "fe3afbe8",
   "metadata": {},
   "source": [
    "Expresssions can be very complex.\n",
    "\n",
    "Expressions evaluate to a value, just as single variables do. \n",
    "\n",
    "Therefore, they can be put anywhere a value is accepted."
   ]
  },
  {
   "cell_type": "code",
   "execution_count": null,
   "id": "5ef7fe16",
   "metadata": {},
   "outputs": [],
   "source": [
    "int((y + 10) ** 8)"
   ]
  },
  {
   "cell_type": "code",
   "execution_count": null,
   "id": "7e1279ab",
   "metadata": {},
   "outputs": [],
   "source": []
  }
 ],
 "metadata": {
  "kernelspec": {
   "display_name": "base",
   "language": "python",
   "name": "python3"
  },
  "language_info": {
   "codemirror_mode": {
    "name": "ipython",
    "version": 3
   },
   "file_extension": ".py",
   "mimetype": "text/x-python",
   "name": "python",
   "nbconvert_exporter": "python",
   "pygments_lexer": "ipython3",
   "version": "3.9.12"
  },
  "vscode": {
   "interpreter": {
    "hash": "256476f871f41dd9f410a4535ba940f788da543573a25285757e797fedf9c871"
   }
  }
 },
 "nbformat": 4,
 "nbformat_minor": 5
}
