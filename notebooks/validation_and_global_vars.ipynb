{
  "nbformat": 4,
  "nbformat_minor": 0,
  "metadata": {
    "colab": {
      "provenance": [],
      "authorship_tag": "ABX9TyMEppgYwvfaWdQlZk1ZHKmN",
      "include_colab_link": true
    },
    "kernelspec": {
      "name": "python3",
      "display_name": "Python 3"
    },
    "language_info": {
      "name": "python"
    }
  },
  "cells": [
    {
      "cell_type": "markdown",
      "metadata": {
        "id": "view-in-github",
        "colab_type": "text"
      },
      "source": [
        "<a href=\"https://colab.research.google.com/github/nmagee/ds1002/blob/main/notebooks/validation_and_global_vars.ipynb\" target=\"_parent\"><img src=\"https://colab.research.google.com/assets/colab-badge.svg\" alt=\"Open In Colab\"/></a>"
      ]
    },
    {
      "cell_type": "markdown",
      "source": [
        "# Validating Parameters\n",
        "\n",
        "Python provides a way for you to define and document input parameter data types, along with return value data types.\n",
        "\n",
        "The `def` line of a function can include these elements:"
      ],
      "metadata": {
        "id": "HW9uYjaRKkzS"
      }
    },
    {
      "cell_type": "code",
      "source": [
        "def add_these(var1: int, var2: int) -> int:\n",
        "  return var1 + var2"
      ],
      "metadata": {
        "id": "ToEVqMtYLtG9"
      },
      "execution_count": 1,
      "outputs": []
    },
    {
      "cell_type": "markdown",
      "source": [
        "In the above example, two `int` variables are sought when consumingi the `add_these` function. Also, the return data type will be an `int`."
      ],
      "metadata": {
        "id": "dvjyzqkILyD3"
      }
    },
    {
      "cell_type": "code",
      "execution_count": null,
      "metadata": {
        "id": "lmCGo3F_Kisq"
      },
      "outputs": [],
      "source": [
        "#\n"
      ]
    },
    {
      "cell_type": "markdown",
      "source": [
        "## Duck Typing\n",
        "\n",
        "However, declaring and defining these data types does not mean Python will give you proper validation errors when the wrong data type is provided. (That would be incredibly helpful but is not yet present in Python 3.X.)\n",
        "\n",
        "For instance, try running this cell:"
      ],
      "metadata": {
        "id": "UeHkL6DBLSiC"
      }
    },
    {
      "cell_type": "code",
      "source": [
        "var1 = 7\n",
        "var2 = \"charlottesville\"\n",
        "\n",
        "add_these(var1, var2)"
      ],
      "metadata": {
        "colab": {
          "base_uri": "https://localhost:8080/",
          "height": 280
        },
        "id": "3MGejSVmLnYn",
        "outputId": "ef1647eb-ba0f-4b79-dbbb-9aee6405adc2"
      },
      "execution_count": 2,
      "outputs": [
        {
          "output_type": "error",
          "ename": "TypeError",
          "evalue": "ignored",
          "traceback": [
            "\u001b[0;31m---------------------------------------------------------------------------\u001b[0m",
            "\u001b[0;31mTypeError\u001b[0m                                 Traceback (most recent call last)",
            "\u001b[0;32m<ipython-input-2-783b6aa79096>\u001b[0m in \u001b[0;36m<cell line: 4>\u001b[0;34m()\u001b[0m\n\u001b[1;32m      2\u001b[0m \u001b[0mvar2\u001b[0m \u001b[0;34m=\u001b[0m \u001b[0;34m\"charlottesville\"\u001b[0m\u001b[0;34m\u001b[0m\u001b[0;34m\u001b[0m\u001b[0m\n\u001b[1;32m      3\u001b[0m \u001b[0;34m\u001b[0m\u001b[0m\n\u001b[0;32m----> 4\u001b[0;31m \u001b[0madd_these\u001b[0m\u001b[0;34m(\u001b[0m\u001b[0mvar1\u001b[0m\u001b[0;34m,\u001b[0m \u001b[0mvar2\u001b[0m\u001b[0;34m)\u001b[0m\u001b[0;34m\u001b[0m\u001b[0;34m\u001b[0m\u001b[0m\n\u001b[0m",
            "\u001b[0;32m<ipython-input-1-ac58abc2cdc5>\u001b[0m in \u001b[0;36madd_these\u001b[0;34m(var1, var2)\u001b[0m\n\u001b[1;32m      1\u001b[0m \u001b[0;32mdef\u001b[0m \u001b[0madd_these\u001b[0m\u001b[0;34m(\u001b[0m\u001b[0mvar1\u001b[0m\u001b[0;34m:\u001b[0m \u001b[0mint\u001b[0m\u001b[0;34m,\u001b[0m \u001b[0mvar2\u001b[0m\u001b[0;34m:\u001b[0m \u001b[0mint\u001b[0m\u001b[0;34m)\u001b[0m \u001b[0;34m->\u001b[0m \u001b[0mint\u001b[0m\u001b[0;34m:\u001b[0m\u001b[0;34m\u001b[0m\u001b[0;34m\u001b[0m\u001b[0m\n\u001b[0;32m----> 2\u001b[0;31m   \u001b[0;32mreturn\u001b[0m \u001b[0mvar1\u001b[0m \u001b[0;34m+\u001b[0m \u001b[0mvar2\u001b[0m\u001b[0;34m\u001b[0m\u001b[0;34m\u001b[0m\u001b[0m\n\u001b[0m",
            "\u001b[0;31mTypeError\u001b[0m: unsupported operand type(s) for +: 'int' and 'str'"
          ]
        }
      ]
    },
    {
      "cell_type": "markdown",
      "source": [
        "The output error is not something helpful like \"your var2 is not an int!\". Instead you get a TypeError that the code cannot add an int and a string. This is a normal error that would occur even if you did not declare data types in the function def line.\n",
        "\n",
        "**Duck Typing**\n",
        "\n",
        "> Duck Typing is a term commonly related to dynamically typed programming languages and polymorphism. The idea behind this principle is that the code itself does not care about whether an object is a duck, but instead it does only care about whether it quacks. [1](https://towardsdatascience.com/duck-typing-python-7aeac97e11f8)\n",
        "\n",
        "In other words, as a dynamically typed language (that gets interpreted when it is run, not beforehand) Python attempts to interpret objects by how they work, not by a pre-declared data type."
      ],
      "metadata": {
        "id": "ZXLRP2cVMF_k"
      }
    },
    {
      "cell_type": "markdown",
      "source": [
        "## Annotations\n",
        "\n",
        "However, Python does give us a way to document and verify the expected input and output data types using the built-in `.__annotations__` method for any function.\n",
        "\n",
        "Assuming the function we defined above, `add_these`, we are able to check for annotations:\n",
        "\n",
        "```\n",
        "print(add_these.__annotations__)\n",
        "```\n",
        "which gives this dict output:\n",
        "```\n",
        "{'var1': <class 'int'>, 'var2': <class 'int'>, 'return': <class 'int'>}\n",
        "```"
      ],
      "metadata": {
        "id": "-iHmozJ4NVc9"
      }
    },
    {
      "cell_type": "markdown",
      "source": [
        "## Try It Yourself\n",
        "\n",
        "In the cell below write a simple function and declare its input and output data types. Then, in subsequent cells, run the function with and without the proper input data types. Finally, call the function annotations to print the documentation for the function."
      ],
      "metadata": {
        "id": "qMgWFSuTN2Tk"
      }
    },
    {
      "cell_type": "code",
      "source": [],
      "metadata": {
        "id": "X2Rq2ouiMZFU"
      },
      "execution_count": null,
      "outputs": []
    },
    {
      "cell_type": "code",
      "source": [],
      "metadata": {
        "id": "J-c5WwbFOGNB"
      },
      "execution_count": null,
      "outputs": []
    },
    {
      "cell_type": "code",
      "source": [],
      "metadata": {
        "id": "gKEJzVjLOGgx"
      },
      "execution_count": null,
      "outputs": []
    },
    {
      "cell_type": "code",
      "source": [],
      "metadata": {
        "id": "rdX_oCo6OGwG"
      },
      "execution_count": null,
      "outputs": []
    },
    {
      "cell_type": "code",
      "source": [],
      "metadata": {
        "id": "vj9a_ZUwOHIo"
      },
      "execution_count": null,
      "outputs": []
    },
    {
      "cell_type": "markdown",
      "source": [
        "# Global Variables\n",
        "\n",
        "Just like in other programming languages, Python has a concept of \"scope\" for any variable. This refers to how accessible any variable is from inside and outside a function."
      ],
      "metadata": {
        "id": "SsOsarTZOHi1"
      }
    }
  ]
}