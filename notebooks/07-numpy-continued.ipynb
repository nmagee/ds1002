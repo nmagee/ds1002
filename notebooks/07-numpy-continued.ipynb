{
  "cells": [
    {
      "cell_type": "markdown",
      "metadata": {
        "id": "view-in-github",
        "colab_type": "text"
      },
      "source": [
        "<a href=\"https://colab.research.google.com/github/nmagee/ds1002/blob/main/notebooks/07-numpy-continued.ipynb\" target=\"_parent\"><img src=\"https://colab.research.google.com/assets/colab-badge.svg\" alt=\"Open In Colab\"/></a>"
      ]
    },
    {
      "cell_type": "markdown",
      "metadata": {
        "id": "1kRCtMxtGl_f"
      },
      "source": [
        "```\n",
        "Course:   DS1002\n",
        "Module:   Module 5\n",
        "Topic:    NumPy Continued\n",
        "```\n",
        "\n",
        "### PREREQUISITES\n",
        "- import / import as\n",
        "- variables\n",
        "\n",
        "### SOURCES\n",
        "- https://numpy.org/\n",
        "- https://en.wikipedia.org/wiki/NumPy\n",
        "- https://www.scipy.org/\n",
        "- https://en.wikipedia.org/wiki/SciPy\n",
        "- https://numpy.org/doc/stable/reference/generated/numpy.ndarray.html\n",
        "- https://docs.scipy.org/doc/numpy-1.15.1/reference/generated/numpy.random.randint.html\n",
        "\n",
        "### OBJECTIVES\n",
        "- Introduction to Numpy\n",
        "\n",
        "### CONCEPTS\n",
        "- The numpy package contains useful functions for math operations\n",
        "- The ndarray is the workhorse of the package"
      ]
    },
    {
      "cell_type": "code",
      "execution_count": null,
      "metadata": {
        "id": "tOzTtnqqGl_h"
      },
      "outputs": [],
      "source": [
        "import numpy as np"
      ]
    },
    {
      "cell_type": "markdown",
      "metadata": {
        "id": "w58sY0LQGl_h"
      },
      "source": [
        "###\n",
        "\n",
        "One way to control the data type of a NumPy array is to declare it when the array is created using the `dtype` keyword argument. Take a look at the data type NumPy uses by default when creating an array with `np.zeros()`. Could it be updated?\n",
        "\n",
        "* Using `np.zeros()`, create an array of zeros that has three rows and two columns; call it `zero_array`.  \n",
        "* Print the data type of `zero_array`.\n"
      ]
    },
    {
      "cell_type": "code",
      "execution_count": null,
      "metadata": {
        "id": "04n4ShhYGl_i"
      },
      "outputs": [],
      "source": [
        "# Create an array of zeros with three rows and two columns\n",
        "zero_array = np.zeros((3, 2))\n",
        "\n",
        "# Print the data type of zero_array\n",
        "print(zero_array.dtype)"
      ]
    },
    {
      "cell_type": "markdown",
      "metadata": {
        "id": "kF_0Gk_uGl_i"
      },
      "source": [
        "* Create a new array of zeros called `zero_int_array`, which will also have three rows and two columns, but the data type should be `np.int32`.  \n",
        "\n",
        "* Print the data type of `zero_int_array`."
      ]
    },
    {
      "cell_type": "code",
      "execution_count": null,
      "metadata": {
        "id": "y6nlryqqGl_i"
      },
      "outputs": [],
      "source": [
        "# Create a new array of int32 zeros with three rows and two columns\n",
        "zero_int_array = np.zeros((3, 2), dtype=np.int32)\n",
        "\n",
        "# Print the data type of zero_int_array\n",
        "print(zero_int_array.dtype)"
      ]
    },
    {
      "cell_type": "code",
      "execution_count": null,
      "metadata": {
        "id": "l_oCqdhVGl_i"
      },
      "outputs": [],
      "source": [
        "data1 = [6, 7.5, 8, 0, 1]        # create a list\n",
        "arr1 = np.array(data1)           # turn list into a numpy array\n",
        "arr1"
      ]
    },
    {
      "cell_type": "code",
      "execution_count": null,
      "metadata": {
        "id": "sR8qF3-jGl_j"
      },
      "outputs": [],
      "source": [
        "data2 = [[1, 2, 3, 4], [5, 6, 7, 8]]       # create a 2-dimensional list\n",
        "arr2 = np.array(data2)                     # turn that list into a numpy array\n",
        "arr2"
      ]
    },
    {
      "cell_type": "code",
      "execution_count": null,
      "metadata": {
        "id": "td_oNsOgGl_j"
      },
      "outputs": [],
      "source": [
        "arr2.ndim       # get the dimension"
      ]
    },
    {
      "cell_type": "code",
      "execution_count": null,
      "metadata": {
        "id": "DoU8-AfiGl_j"
      },
      "outputs": [],
      "source": [
        "arr2.shape      # get the shape"
      ]
    },
    {
      "cell_type": "code",
      "execution_count": null,
      "metadata": {
        "id": "KIBkLmL6Gl_k"
      },
      "outputs": [],
      "source": [
        "arr1.dtype      # get the data type for arr1"
      ]
    },
    {
      "cell_type": "code",
      "execution_count": null,
      "metadata": {
        "id": "Hzl8aKhgGl_k"
      },
      "outputs": [],
      "source": [
        "arr2.dtype      # get the data type for arr2"
      ]
    },
    {
      "cell_type": "markdown",
      "metadata": {
        "id": "FBquX1h7Gl_k"
      },
      "source": [
        "**Higher Dimensional Arrays**"
      ]
    },
    {
      "cell_type": "code",
      "execution_count": null,
      "metadata": {
        "editable": true,
        "jupyter": {
          "outputs_hidden": false
        },
        "id": "IBQIt8ORGl_k",
        "outputId": "2f9ccf69-5fe2-431a-d581-1801e7ab17cd"
      },
      "outputs": [
        {
          "data": {
            "text/plain": [
              "array([[1, 2, 3],\n",
              "       [4, 5, 6],\n",
              "       [7, 8, 9]])"
            ]
          },
          "execution_count": 8,
          "metadata": {},
          "output_type": "execute_result"
        }
      ],
      "source": [
        "arr2d = np.array([[1, 2, 3], [4, 5, 6], [7, 8, 9]])\n",
        "arr2d"
      ]
    },
    {
      "cell_type": "code",
      "execution_count": null,
      "metadata": {
        "editable": true,
        "jupyter": {
          "outputs_hidden": false
        },
        "id": "1Ivs8-wbGl_k",
        "outputId": "e3cb0ff0-9d7d-4fa0-9117-fd1410db81c5"
      },
      "outputs": [
        {
          "data": {
            "text/plain": [
              "array([7, 8, 9])"
            ]
          },
          "execution_count": 9,
          "metadata": {},
          "output_type": "execute_result"
        }
      ],
      "source": [
        "arr2d[2]"
      ]
    },
    {
      "cell_type": "code",
      "execution_count": null,
      "metadata": {
        "editable": true,
        "jupyter": {
          "outputs_hidden": false
        },
        "id": "Y2PBy-FYGl_k",
        "outputId": "8b9ead29-46ad-4c99-8312-b362848c49c9"
      },
      "outputs": [
        {
          "data": {
            "text/plain": [
              "3"
            ]
          },
          "execution_count": 10,
          "metadata": {},
          "output_type": "execute_result"
        }
      ],
      "source": [
        "arr2d[0][2]"
      ]
    },
    {
      "cell_type": "markdown",
      "metadata": {
        "id": "F7SMCJ6wGl_k"
      },
      "source": [
        "**Simplified notation**"
      ]
    },
    {
      "cell_type": "code",
      "execution_count": null,
      "metadata": {
        "editable": true,
        "jupyter": {
          "outputs_hidden": false
        },
        "id": "pQdXCcAvGl_k",
        "outputId": "61a03cee-b3e2-4fac-96a7-c0f09b93de50"
      },
      "outputs": [
        {
          "data": {
            "text/plain": [
              "3"
            ]
          },
          "execution_count": 11,
          "metadata": {},
          "output_type": "execute_result"
        }
      ],
      "source": [
        "arr2d[0, 2]"
      ]
    },
    {
      "cell_type": "markdown",
      "metadata": {
        "id": "kJ738cKWGl_k"
      },
      "source": [
        "A nice visual of a 2D array\n",
        "\n",
        "<img src=\"https://learning.oreilly.com/api/v2/epubs/urn:orm:book:9781449323592/files/httpatomoreillycomsourceoreillyimages2172112.png\" height=\"50%\" width=\"50%\"/>"
      ]
    },
    {
      "cell_type": "markdown",
      "metadata": {
        "id": "igH0XpJUGl_k"
      },
      "source": [
        "**Two-Dimensional Array Slicing**\n",
        "\n",
        "<img src=\"https://learning.oreilly.com/api/v2/epubs/urn:orm:book:9781449323592/files/httpatomoreillycomsourceoreillyimages2172114.png\" height=\"50%\" width=\"50%\"/>"
      ]
    },
    {
      "cell_type": "markdown",
      "metadata": {
        "id": "pCrJ0v6MGl_k"
      },
      "source": [
        "**3D arrays**"
      ]
    },
    {
      "cell_type": "code",
      "execution_count": null,
      "metadata": {
        "editable": true,
        "jupyter": {
          "outputs_hidden": false
        },
        "id": "qruGcLCKGl_l"
      },
      "outputs": [],
      "source": [
        "arr3d = np.array([[[1, 2, 3], [4, 5, 6]], [[7, 8, 9], [10, 11, 12]]])\n",
        "\n",
        "arr3d"
      ]
    },
    {
      "cell_type": "code",
      "execution_count": null,
      "metadata": {
        "id": "HKBgJxS_Gl_l"
      },
      "outputs": [],
      "source": [
        "arr3d.shape"
      ]
    },
    {
      "cell_type": "code",
      "execution_count": null,
      "metadata": {
        "editable": true,
        "jupyter": {
          "outputs_hidden": false
        },
        "id": "wRobxqT3Gl_l"
      },
      "outputs": [],
      "source": [
        "arr3d"
      ]
    },
    {
      "cell_type": "markdown",
      "metadata": {
        "tags": [],
        "id": "jHDLpaUAGl_l"
      },
      "source": [
        "If you find NumPy's way of showing the data a bit difficult to parse visually.\n",
        "\n",
        "💡 **Here is a way to visualize 3 and higher dimensional data:**\n",
        "\n",
        "```python\n",
        "[ # AXIS 0                     CONTAINS 2 ELEMENTS (arrays)\n",
        "    [ # AXIS 1                 CONTAINS 2 ELEMENTS (arrays)\n",
        "        [1, 2, 3], # AXIS 3    CONTAINS 3 ELEMENTS (integers)\n",
        "        [4, 5, 6]  # AXIS 3\n",
        "    ],  \n",
        "    [ # AXIS 1\n",
        "        [7, 8, 9],\n",
        "        [10, 11, 12]\n",
        "    ]\n",
        "]\n",
        "```\n",
        "Each axis is a level in the nested hierarchy, i.e. a tree or DAG (directed-acyclic graph).\n",
        "\n",
        "* Each axis is a container.\n",
        "* There is only one top container.\n",
        "* Only the bottom containers have data."
      ]
    },
    {
      "cell_type": "markdown",
      "metadata": {
        "id": "OFJf7SBKGl_l"
      },
      "source": [
        "**Omit lower indices**\n",
        "\n",
        "In multidimensional arrays, if you omit later indices, the returned object will be a **lower-dimensional ndarray** consisting of all the data contained by the higher indexed dimension.\n",
        "\n",
        "So in the 2 × 2 × 3 array `arr3d`:"
      ]
    },
    {
      "cell_type": "code",
      "execution_count": null,
      "metadata": {
        "editable": true,
        "jupyter": {
          "outputs_hidden": false
        },
        "id": "n9e7oWzKGl_l"
      },
      "outputs": [],
      "source": [
        "arr3d[0]"
      ]
    },
    {
      "cell_type": "markdown",
      "metadata": {
        "id": "m9UY4GO9Gl_l"
      },
      "source": [
        "Saving data before modifying an array."
      ]
    },
    {
      "cell_type": "code",
      "execution_count": null,
      "metadata": {
        "editable": true,
        "jupyter": {
          "outputs_hidden": false
        },
        "id": "aX76f_iOGl_l"
      },
      "outputs": [],
      "source": [
        "old_values = arr3d[0].copy()\n",
        "arr3d[0] = 42\n",
        "arr3d"
      ]
    },
    {
      "cell_type": "markdown",
      "metadata": {
        "id": "3HOYOwoQGl_l"
      },
      "source": [
        "Putting the data back."
      ]
    },
    {
      "cell_type": "code",
      "execution_count": null,
      "metadata": {
        "editable": true,
        "jupyter": {
          "outputs_hidden": false
        },
        "id": "ZKL-377RGl_l"
      },
      "outputs": [],
      "source": [
        "arr3d[0] = old_values\n",
        "arr3d"
      ]
    },
    {
      "cell_type": "markdown",
      "metadata": {
        "id": "9Qm7ASpuGl_l"
      },
      "source": [
        "Similarly, `arr3d[1, 0]` gives you all of the values whose indices start with (1, 0), forming a 1-dimensional array:"
      ]
    },
    {
      "cell_type": "code",
      "execution_count": null,
      "metadata": {
        "editable": true,
        "jupyter": {
          "outputs_hidden": false
        },
        "id": "TzDw76X3Gl_l"
      },
      "outputs": [],
      "source": [
        "arr3d[1, 0]"
      ]
    },
    {
      "cell_type": "code",
      "execution_count": null,
      "metadata": {
        "editable": true,
        "jupyter": {
          "outputs_hidden": false
        },
        "id": "bE1ULDkwGl_l"
      },
      "outputs": [],
      "source": [
        "x = arr3d[1]\n",
        "x"
      ]
    },
    {
      "cell_type": "code",
      "execution_count": null,
      "metadata": {
        "editable": true,
        "jupyter": {
          "outputs_hidden": false
        },
        "id": "N9Acu6gDGl_l"
      },
      "outputs": [],
      "source": [
        "x[0]"
      ]
    }
  ],
  "metadata": {
    "anaconda-cloud": {},
    "kernelspec": {
      "display_name": "Python 3.8.9 64-bit",
      "language": "python",
      "name": "python3"
    },
    "language_info": {
      "codemirror_mode": {
        "name": "ipython",
        "version": 3
      },
      "file_extension": ".py",
      "mimetype": "text/x-python",
      "name": "python",
      "nbconvert_exporter": "python",
      "pygments_lexer": "ipython3",
      "version": "3.9.6"
    },
    "vscode": {
      "interpreter": {
        "hash": "31f2aee4e71d21fbe5cf8b01ff0e069b9275f58929596ceb00d14d90e3e16cd6"
      }
    },
    "colab": {
      "provenance": [],
      "include_colab_link": true
    }
  },
  "nbformat": 4,
  "nbformat_minor": 0
}