{
  "nbformat": 4,
  "nbformat_minor": 0,
  "metadata": {
    "colab": {
      "provenance": [],
      "authorship_tag": "ABX9TyPjmlXyBBoufbUCu9nhFRyl",
      "include_colab_link": true
    },
    "kernelspec": {
      "name": "ir",
      "display_name": "R"
    },
    "language_info": {
      "name": "R"
    }
  },
  "cells": [
    {
      "cell_type": "markdown",
      "metadata": {
        "id": "view-in-github",
        "colab_type": "text"
      },
      "source": [
        "<a href=\"https://colab.research.google.com/github/nmagee/ds1002/blob/main/notebooks/21-dataframes-in-r.ipynb\" target=\"_parent\"><img src=\"https://colab.research.google.com/assets/colab-badge.svg\" alt=\"Open In Colab\"/></a>"
      ]
    },
    {
      "cell_type": "markdown",
      "source": [
        "# Data Frames in R\n",
        "\n",
        "To begin to understand data frames in R, let's build a simple example by hand with three vectors we want to relate in a table."
      ],
      "metadata": {
        "id": "sOi4LPAxw5N5"
      }
    },
    {
      "cell_type": "code",
      "execution_count": 1,
      "metadata": {
        "id": "XcGLH4Krw2GS"
      },
      "outputs": [],
      "source": [
        "album <- c(\"Low End Theory\", \"Nevermind\", \"Port of Morrow\",\n",
        "           \"Dark Side of the Moon\", \"Naked\", \"OK Computer\",\n",
        "           \"Abbey Road\", \"Thriller\", \"Rumours\", \"The Joshua Tree\")\n",
        "year <- c(1991, 1991, 2012, 1973, 1988, 1997, 1969, 1982, 1977, 1987)\n",
        "digital <- c(FALSE, FALSE, TRUE, FALSE, TRUE, TRUE, FALSE, FALSE, FALSE, TRUE)\n",
        "\n",
        "df <- data.frame(Album = album, Year = year, Digital = digital)"
      ]
    },
    {
      "cell_type": "code",
      "source": [
        "df"
      ],
      "metadata": {
        "id": "S7dl_RUtyJkv"
      },
      "execution_count": null,
      "outputs": []
    },
    {
      "cell_type": "markdown",
      "source": [
        "## Column Naming\n",
        "\n",
        "We can also name the columns of a data frame, whether we imported it or built it by hand:"
      ],
      "metadata": {
        "id": "BCkVj5pNydYp"
      }
    },
    {
      "cell_type": "code",
      "source": [
        "names(df) <- c(\"Album\", \"Year\", \"Digital\")"
      ],
      "metadata": {
        "id": "WIo5ilnIyjiG"
      },
      "execution_count": null,
      "outputs": []
    },
    {
      "cell_type": "code",
      "source": [
        "df <- data.frame(Album = album, Year = year, Digital = digital)"
      ],
      "metadata": {
        "id": "GKZJa9m7yxxu"
      },
      "execution_count": null,
      "outputs": []
    },
    {
      "cell_type": "markdown",
      "source": [
        "## Insert a Column\n",
        "\n",
        "Data can always be added or removed from a data frame after its creation."
      ],
      "metadata": {
        "id": "QxSiPXBHcz_x"
      }
    },
    {
      "cell_type": "code",
      "source": [
        "df$Artist"
      ],
      "metadata": {
        "id": "0eRVnOhzc8Z0"
      },
      "execution_count": null,
      "outputs": []
    },
    {
      "cell_type": "markdown",
      "source": [
        "## Structure\n",
        "\n",
        "To fetch the structure of a data frame, use `str()`. This tells us how many observations (rows) it contains along with how many variables (columns) each observation contains.\n",
        "\n",
        "The output looks much like a list. This shouldn't be surprising, since the dataframe can contain mixed data types. However, each column of variables must be of the same data type. (Names are all strings, Years are all numbers, and Vinyl is all bools/logicals.)"
      ],
      "metadata": {
        "id": "sF2v2JzPzG5K"
      }
    },
    {
      "cell_type": "code",
      "source": [
        "str(df)"
      ],
      "metadata": {
        "id": "6bgn-qF2zMW2"
      },
      "execution_count": null,
      "outputs": []
    },
    {
      "cell_type": "markdown",
      "source": [
        "## Selecting Columns\n",
        "\n",
        "Simply indicate the indexes for the rows you want in the second half of the slice brackets `[ ]`. This can be a range separated by a colon `:`."
      ],
      "metadata": {
        "id": "Qf0C0BgG0C_S"
      }
    },
    {
      "cell_type": "code",
      "source": [
        "df[,1:2]"
      ],
      "metadata": {
        "id": "vG9gifhx0GYI"
      },
      "execution_count": null,
      "outputs": []
    },
    {
      "cell_type": "markdown",
      "source": [
        "## Selecting & Querying\n",
        "\n",
        "Indicate the indexes of the row you want, appended with a comma and empty value for a column specification. This can be the first half of the slice brackets `[ ]`.\n",
        "\n",
        "The command below asks for all columns of records 1-3:"
      ],
      "metadata": {
        "id": "h-gXCaG80ycL"
      }
    },
    {
      "cell_type": "code",
      "source": [
        "df[1:3,]"
      ],
      "metadata": {
        "id": "LA0GRu0U0hQV"
      },
      "execution_count": null,
      "outputs": []
    },
    {
      "cell_type": "markdown",
      "source": [
        "Or this example asks for records 1-3, and columns 1-2."
      ],
      "metadata": {
        "id": "8peoVEG91EFj"
      }
    },
    {
      "cell_type": "code",
      "source": [
        "df[1:3,1:2]"
      ],
      "metadata": {
        "id": "GVCCKzcQ0Xzz"
      },
      "execution_count": null,
      "outputs": []
    },
    {
      "cell_type": "markdown",
      "source": [
        "Select specific rows by combining them into the first half of the slice bracket `[ ]`."
      ],
      "metadata": {
        "id": "5zLCIQ13AcGO"
      }
    },
    {
      "cell_type": "code",
      "source": [
        "df[c(1,3,4),]"
      ],
      "metadata": {
        "id": "6sXb7VFOAHJr"
      },
      "execution_count": null,
      "outputs": []
    },
    {
      "cell_type": "markdown",
      "source": [
        "Select specific rows based on filter. Here we **query** the data frame for all albums with a `FALSE` value for the `vinyl` column."
      ],
      "metadata": {
        "id": "9DBBaJYXA3Gj"
      }
    },
    {
      "cell_type": "code",
      "source": [
        "df[df$Digital == FALSE,]"
      ],
      "metadata": {
        "id": "4-KEbOt9A_ZV"
      },
      "execution_count": null,
      "outputs": []
    },
    {
      "cell_type": "code",
      "source": [
        "# Now we can search a larger data set:\n",
        "df[df$Digital == TRUE,]"
      ],
      "metadata": {
        "id": "e0NVotYFChW7"
      },
      "execution_count": null,
      "outputs": []
    },
    {
      "cell_type": "code",
      "source": [
        "# Or using mathematical operators to filter:\n",
        "df[df$Year > 1990,]"
      ],
      "metadata": {
        "id": "oRCI49okCmG5"
      },
      "execution_count": null,
      "outputs": []
    },
    {
      "cell_type": "code",
      "source": [
        "# Or combine operators to filter more carefully. All comparison operators can be used\n",
        "# ( ==, !=, <, >, <=, <= )\n",
        "#\n",
        "# as well as all logical operators\n",
        "#   - AND: %\n",
        "#   -  OR: |\n",
        "#   - NOT: !\n",
        "\n",
        "df[df$Year > 1990 & df$Digital == TRUE,]"
      ],
      "metadata": {
        "id": "PGA6204YC6L5"
      },
      "execution_count": null,
      "outputs": []
    },
    {
      "cell_type": "code",
      "source": [
        "df[df$Year > 1990 | df$Digital == FALSE,]"
      ],
      "metadata": {
        "id": "Jc3bTjvGU2Oe"
      },
      "execution_count": null,
      "outputs": []
    },
    {
      "cell_type": "markdown",
      "source": [
        "## Sorting"
      ],
      "metadata": {
        "id": "Oq97kv7GD_Aw"
      }
    },
    {
      "cell_type": "code",
      "source": [
        "df_by_year <- df[order(df$Year),]\n",
        "df_by_year"
      ],
      "metadata": {
        "id": "gJexNaicEBAr"
      },
      "execution_count": null,
      "outputs": []
    },
    {
      "cell_type": "markdown",
      "source": [
        "## `tidyverse`\n",
        "\n",
        "All of the above operations -- selecting, querying, filtering, sorting -- are also possible (more easily) using methods built into the `tidyverse` library.\n",
        "\n",
        "Import that and then we will review those operations.\n",
        "\n",
        "```\n",
        "Understand the PIPE in tidyverse: %>%\n",
        "```"
      ],
      "metadata": {
        "id": "WgHUTHCs7lYl"
      }
    },
    {
      "cell_type": "code",
      "source": [
        "library(tidyverse)"
      ],
      "metadata": {
        "id": "UzQePd_e7y6i"
      },
      "execution_count": null,
      "outputs": []
    },
    {
      "cell_type": "code",
      "source": [
        "df %>%\n",
        "  select(Album, Year) %>%\n",
        "  filter(Year > 1990)"
      ],
      "metadata": {
        "colab": {
          "base_uri": "https://localhost:8080/",
          "height": 223
        },
        "id": "dqPUb20q8Z_1",
        "outputId": "a83f9cda-8e52-483d-87c7-beabcf0904ac"
      },
      "execution_count": null,
      "outputs": [
        {
          "output_type": "display_data",
          "data": {
            "text/html": [
              "<table class=\"dataframe\">\n",
              "<caption>A data.frame: 4 × 2</caption>\n",
              "<thead>\n",
              "\t<tr><th scope=col>Album</th><th scope=col>Year</th></tr>\n",
              "\t<tr><th scope=col>&lt;chr&gt;</th><th scope=col>&lt;dbl&gt;</th></tr>\n",
              "</thead>\n",
              "<tbody>\n",
              "\t<tr><td>Low End Theory</td><td>1991</td></tr>\n",
              "\t<tr><td>Nevermind     </td><td>1991</td></tr>\n",
              "\t<tr><td>Port of Morrow</td><td>2012</td></tr>\n",
              "\t<tr><td>OK Computer   </td><td>1997</td></tr>\n",
              "</tbody>\n",
              "</table>\n"
            ],
            "text/markdown": "\nA data.frame: 4 × 2\n\n| Album &lt;chr&gt; | Year &lt;dbl&gt; |\n|---|---|\n| Low End Theory | 1991 |\n| Nevermind      | 1991 |\n| Port of Morrow | 2012 |\n| OK Computer    | 1997 |\n\n",
            "text/latex": "A data.frame: 4 × 2\n\\begin{tabular}{ll}\n Album & Year\\\\\n <chr> & <dbl>\\\\\n\\hline\n\t Low End Theory & 1991\\\\\n\t Nevermind      & 1991\\\\\n\t Port of Morrow & 2012\\\\\n\t OK Computer    & 1997\\\\\n\\end{tabular}\n",
            "text/plain": [
              "  Album          Year\n",
              "1 Low End Theory 1991\n",
              "2 Nevermind      1991\n",
              "3 Port of Morrow 2012\n",
              "4 OK Computer    1997"
            ]
          },
          "metadata": {}
        }
      ]
    },
    {
      "cell_type": "markdown",
      "source": [
        "## Import CSV Data\n",
        "\n",
        "Just as with Pandas in Python, it is much more common to load data from files, such as CSV. This is possible manually, as well as by using the `tidyverse` library.\n",
        "\n",
        "### Import a CSV Manually\n",
        "\n",
        "R has a native `read.csv()` method. A few things to note as you run this cell:\n",
        "\n",
        "- This method automatically creates a data frame from the CSV data.\n",
        "- The file can be local or remote via URL.\n",
        "- Since the data file has a header row, names are automatically assigned to columns."
      ],
      "metadata": {
        "id": "Kr03QFsqFpxM"
      }
    },
    {
      "cell_type": "code",
      "source": [
        "titanic <- read.csv(\"https://raw.githubusercontent.com/datasciencedojo/datasets/master/titanic.csv\")\n",
        "titanic"
      ],
      "metadata": {
        "id": "GC5_9rLCGHkw"
      },
      "execution_count": null,
      "outputs": []
    },
    {
      "cell_type": "markdown",
      "source": [
        "We can now use the same filtering methods as above to inspect the data. Here we save each successive query as a new data frame."
      ],
      "metadata": {
        "id": "LjVmasd7HSAc"
      }
    },
    {
      "cell_type": "code",
      "source": [
        "titanic %>%\n",
        "  select(Pclass, Name, Sex, Fare, Age) %>%\n",
        "  filter(Sex == \"female\") %>%\n",
        "  filter(Pclass == 3) %>%\n",
        "  filter(Age < 20) %>%\n",
        "  arrange(Name)"
      ],
      "metadata": {
        "colab": {
          "base_uri": "https://localhost:8080/",
          "height": 1000
        },
        "id": "ySkJS01I9FfY",
        "outputId": "876da100-80cf-42aa-f3e6-8a7633a9de9d"
      },
      "execution_count": null,
      "outputs": [
        {
          "output_type": "display_data",
          "data": {
            "text/html": [
              "<table class=\"dataframe\">\n",
              "<caption>A data.frame: 45 × 5</caption>\n",
              "<thead>\n",
              "\t<tr><th scope=col>Pclass</th><th scope=col>Name</th><th scope=col>Sex</th><th scope=col>Fare</th><th scope=col>Age</th></tr>\n",
              "\t<tr><th scope=col>&lt;int&gt;</th><th scope=col>&lt;chr&gt;</th><th scope=col>&lt;chr&gt;</th><th scope=col>&lt;dbl&gt;</th><th scope=col>&lt;dbl&gt;</th></tr>\n",
              "</thead>\n",
              "<tbody>\n",
              "\t<tr><td>3</td><td>Aks, Mrs. Sam (Leah Rosen)                     </td><td>female</td><td> 9.3500</td><td>18.00</td></tr>\n",
              "\t<tr><td>3</td><td>Andersen-Jensen, Miss. Carla Christine Nielsine</td><td>female</td><td> 7.8542</td><td>19.00</td></tr>\n",
              "\t<tr><td>3</td><td>Andersson, Miss. Ebba Iris Alfrida             </td><td>female</td><td>31.2750</td><td> 6.00</td></tr>\n",
              "\t<tr><td>3</td><td>Andersson, Miss. Ellis Anna Maria              </td><td>female</td><td>31.2750</td><td> 2.00</td></tr>\n",
              "\t<tr><td>3</td><td>Andersson, Miss. Erna Alexandra                </td><td>female</td><td> 7.9250</td><td>17.00</td></tr>\n",
              "\t<tr><td>3</td><td>Andersson, Miss. Ingeborg Constanzia           </td><td>female</td><td>31.2750</td><td> 9.00</td></tr>\n",
              "\t<tr><td>3</td><td>Andersson, Miss. Sigrid Elisabeth              </td><td>female</td><td>31.2750</td><td>11.00</td></tr>\n",
              "\t<tr><td>3</td><td>Arnold-Franchi, Mrs. Josef (Josefine Franchi)  </td><td>female</td><td>17.8000</td><td>18.00</td></tr>\n",
              "\t<tr><td>3</td><td>Asplund, Miss. Lillian Gertrud                 </td><td>female</td><td>31.3875</td><td> 5.00</td></tr>\n",
              "\t<tr><td>3</td><td>Attalah, Miss. Malake                          </td><td>female</td><td>14.4583</td><td>17.00</td></tr>\n",
              "\t<tr><td>3</td><td>Ayoub, Miss. Banoura                           </td><td>female</td><td> 7.2292</td><td>13.00</td></tr>\n",
              "\t<tr><td>3</td><td>Baclini, Miss. Eugenie                         </td><td>female</td><td>19.2583</td><td> 0.75</td></tr>\n",
              "\t<tr><td>3</td><td>Baclini, Miss. Helene Barbara                  </td><td>female</td><td>19.2583</td><td> 0.75</td></tr>\n",
              "\t<tr><td>3</td><td>Baclini, Miss. Marie Catherine                 </td><td>female</td><td>19.2583</td><td> 5.00</td></tr>\n",
              "\t<tr><td>3</td><td>Barbara, Miss. Saiide                          </td><td>female</td><td>14.4542</td><td>18.00</td></tr>\n",
              "\t<tr><td>3</td><td>Boulos, Miss. Nourelain                        </td><td>female</td><td>15.2458</td><td> 9.00</td></tr>\n",
              "\t<tr><td>3</td><td>Carr, Miss. Helen \"Ellen\"                      </td><td>female</td><td> 7.7500</td><td>16.00</td></tr>\n",
              "\t<tr><td>3</td><td>Devaney, Miss. Margaret Delia                  </td><td>female</td><td> 7.8792</td><td>19.00</td></tr>\n",
              "\t<tr><td>3</td><td>Emanuel, Miss. Virginia Ethel                  </td><td>female</td><td>12.4750</td><td> 5.00</td></tr>\n",
              "\t<tr><td>3</td><td>Ford, Miss. Robina Maggie \"Ruby\"               </td><td>female</td><td>34.3750</td><td> 9.00</td></tr>\n",
              "\t<tr><td>3</td><td>Gilnagh, Miss. Katherine \"Katie\"               </td><td>female</td><td> 7.7333</td><td>16.00</td></tr>\n",
              "\t<tr><td>3</td><td>Goodwin, Miss. Lillian Amy                     </td><td>female</td><td>46.9000</td><td>16.00</td></tr>\n",
              "\t<tr><td>3</td><td>Hegarty, Miss. Hanora \"Nora\"                   </td><td>female</td><td> 6.7500</td><td>18.00</td></tr>\n",
              "\t<tr><td>3</td><td>Hirvonen, Miss. Hildur E                       </td><td>female</td><td>12.2875</td><td> 2.00</td></tr>\n",
              "\t<tr><td>3</td><td>Johnson, Miss. Eleanor Ileen                   </td><td>female</td><td>11.1333</td><td> 1.00</td></tr>\n",
              "\t<tr><td>3</td><td>Karun, Miss. Manca                             </td><td>female</td><td>13.4167</td><td> 4.00</td></tr>\n",
              "\t<tr><td>3</td><td>Kink-Heilmann, Miss. Luise Gretchen            </td><td>female</td><td>22.0250</td><td> 4.00</td></tr>\n",
              "\t<tr><td>3</td><td>McGowan, Miss. Anna \"Annie\"                    </td><td>female</td><td> 8.0292</td><td>15.00</td></tr>\n",
              "\t<tr><td>3</td><td>Najib, Miss. Adele Kiamie \"Jane\"               </td><td>female</td><td> 7.2250</td><td>15.00</td></tr>\n",
              "\t<tr><td>3</td><td>Nakid, Miss. Maria (\"Mary\")                    </td><td>female</td><td>15.7417</td><td> 1.00</td></tr>\n",
              "\t<tr><td>3</td><td>Nicola-Yarred, Miss. Jamila                    </td><td>female</td><td>11.2417</td><td>14.00</td></tr>\n",
              "\t<tr><td>3</td><td>Palsson, Miss. Stina Viola                     </td><td>female</td><td>21.0750</td><td> 3.00</td></tr>\n",
              "\t<tr><td>3</td><td>Palsson, Miss. Torborg Danira                  </td><td>female</td><td>21.0750</td><td> 8.00</td></tr>\n",
              "\t<tr><td>3</td><td>Pettersson, Miss. Ellen Natalia                </td><td>female</td><td> 7.7750</td><td>18.00</td></tr>\n",
              "\t<tr><td>3</td><td>Sandstrom, Miss. Marguerite Rut                </td><td>female</td><td>16.7000</td><td> 4.00</td></tr>\n",
              "\t<tr><td>3</td><td>Sjoblom, Miss. Anna Sofia                      </td><td>female</td><td> 7.4958</td><td>18.00</td></tr>\n",
              "\t<tr><td>3</td><td>Skoog, Miss. Mabel                             </td><td>female</td><td>27.9000</td><td> 9.00</td></tr>\n",
              "\t<tr><td>3</td><td>Skoog, Miss. Margit Elizabeth                  </td><td>female</td><td>27.9000</td><td> 2.00</td></tr>\n",
              "\t<tr><td>3</td><td>Strom, Miss. Telma Matilda                     </td><td>female</td><td>10.4625</td><td> 2.00</td></tr>\n",
              "\t<tr><td>3</td><td>Turja, Miss. Anna Sofia                        </td><td>female</td><td> 9.8417</td><td>18.00</td></tr>\n",
              "\t<tr><td>3</td><td>Van Impe, Miss. Catharina                      </td><td>female</td><td>24.1500</td><td>10.00</td></tr>\n",
              "\t<tr><td>3</td><td>Vander Planke, Miss. Augusta Maria             </td><td>female</td><td>18.0000</td><td>18.00</td></tr>\n",
              "\t<tr><td>3</td><td>Vestrom, Miss. Hulda Amanda Adolfina           </td><td>female</td><td> 7.8542</td><td>14.00</td></tr>\n",
              "\t<tr><td>3</td><td>Yasbeck, Mrs. Antoni (Selini Alexander)        </td><td>female</td><td>14.4542</td><td>15.00</td></tr>\n",
              "\t<tr><td>3</td><td>Zabour, Miss. Hileni                           </td><td>female</td><td>14.4542</td><td>14.50</td></tr>\n",
              "</tbody>\n",
              "</table>\n"
            ],
            "text/markdown": "\nA data.frame: 45 × 5\n\n| Pclass &lt;int&gt; | Name &lt;chr&gt; | Sex &lt;chr&gt; | Fare &lt;dbl&gt; | Age &lt;dbl&gt; |\n|---|---|---|---|---|\n| 3 | Aks, Mrs. Sam (Leah Rosen)                      | female |  9.3500 | 18.00 |\n| 3 | Andersen-Jensen, Miss. Carla Christine Nielsine | female |  7.8542 | 19.00 |\n| 3 | Andersson, Miss. Ebba Iris Alfrida              | female | 31.2750 |  6.00 |\n| 3 | Andersson, Miss. Ellis Anna Maria               | female | 31.2750 |  2.00 |\n| 3 | Andersson, Miss. Erna Alexandra                 | female |  7.9250 | 17.00 |\n| 3 | Andersson, Miss. Ingeborg Constanzia            | female | 31.2750 |  9.00 |\n| 3 | Andersson, Miss. Sigrid Elisabeth               | female | 31.2750 | 11.00 |\n| 3 | Arnold-Franchi, Mrs. Josef (Josefine Franchi)   | female | 17.8000 | 18.00 |\n| 3 | Asplund, Miss. Lillian Gertrud                  | female | 31.3875 |  5.00 |\n| 3 | Attalah, Miss. Malake                           | female | 14.4583 | 17.00 |\n| 3 | Ayoub, Miss. Banoura                            | female |  7.2292 | 13.00 |\n| 3 | Baclini, Miss. Eugenie                          | female | 19.2583 |  0.75 |\n| 3 | Baclini, Miss. Helene Barbara                   | female | 19.2583 |  0.75 |\n| 3 | Baclini, Miss. Marie Catherine                  | female | 19.2583 |  5.00 |\n| 3 | Barbara, Miss. Saiide                           | female | 14.4542 | 18.00 |\n| 3 | Boulos, Miss. Nourelain                         | female | 15.2458 |  9.00 |\n| 3 | Carr, Miss. Helen \"Ellen\"                       | female |  7.7500 | 16.00 |\n| 3 | Devaney, Miss. Margaret Delia                   | female |  7.8792 | 19.00 |\n| 3 | Emanuel, Miss. Virginia Ethel                   | female | 12.4750 |  5.00 |\n| 3 | Ford, Miss. Robina Maggie \"Ruby\"                | female | 34.3750 |  9.00 |\n| 3 | Gilnagh, Miss. Katherine \"Katie\"                | female |  7.7333 | 16.00 |\n| 3 | Goodwin, Miss. Lillian Amy                      | female | 46.9000 | 16.00 |\n| 3 | Hegarty, Miss. Hanora \"Nora\"                    | female |  6.7500 | 18.00 |\n| 3 | Hirvonen, Miss. Hildur E                        | female | 12.2875 |  2.00 |\n| 3 | Johnson, Miss. Eleanor Ileen                    | female | 11.1333 |  1.00 |\n| 3 | Karun, Miss. Manca                              | female | 13.4167 |  4.00 |\n| 3 | Kink-Heilmann, Miss. Luise Gretchen             | female | 22.0250 |  4.00 |\n| 3 | McGowan, Miss. Anna \"Annie\"                     | female |  8.0292 | 15.00 |\n| 3 | Najib, Miss. Adele Kiamie \"Jane\"                | female |  7.2250 | 15.00 |\n| 3 | Nakid, Miss. Maria (\"Mary\")                     | female | 15.7417 |  1.00 |\n| 3 | Nicola-Yarred, Miss. Jamila                     | female | 11.2417 | 14.00 |\n| 3 | Palsson, Miss. Stina Viola                      | female | 21.0750 |  3.00 |\n| 3 | Palsson, Miss. Torborg Danira                   | female | 21.0750 |  8.00 |\n| 3 | Pettersson, Miss. Ellen Natalia                 | female |  7.7750 | 18.00 |\n| 3 | Sandstrom, Miss. Marguerite Rut                 | female | 16.7000 |  4.00 |\n| 3 | Sjoblom, Miss. Anna Sofia                       | female |  7.4958 | 18.00 |\n| 3 | Skoog, Miss. Mabel                              | female | 27.9000 |  9.00 |\n| 3 | Skoog, Miss. Margit Elizabeth                   | female | 27.9000 |  2.00 |\n| 3 | Strom, Miss. Telma Matilda                      | female | 10.4625 |  2.00 |\n| 3 | Turja, Miss. Anna Sofia                         | female |  9.8417 | 18.00 |\n| 3 | Van Impe, Miss. Catharina                       | female | 24.1500 | 10.00 |\n| 3 | Vander Planke, Miss. Augusta Maria              | female | 18.0000 | 18.00 |\n| 3 | Vestrom, Miss. Hulda Amanda Adolfina            | female |  7.8542 | 14.00 |\n| 3 | Yasbeck, Mrs. Antoni (Selini Alexander)         | female | 14.4542 | 15.00 |\n| 3 | Zabour, Miss. Hileni                            | female | 14.4542 | 14.50 |\n\n",
            "text/latex": "A data.frame: 45 × 5\n\\begin{tabular}{lllll}\n Pclass & Name & Sex & Fare & Age\\\\\n <int> & <chr> & <chr> & <dbl> & <dbl>\\\\\n\\hline\n\t 3 & Aks, Mrs. Sam (Leah Rosen)                      & female &  9.3500 & 18.00\\\\\n\t 3 & Andersen-Jensen, Miss. Carla Christine Nielsine & female &  7.8542 & 19.00\\\\\n\t 3 & Andersson, Miss. Ebba Iris Alfrida              & female & 31.2750 &  6.00\\\\\n\t 3 & Andersson, Miss. Ellis Anna Maria               & female & 31.2750 &  2.00\\\\\n\t 3 & Andersson, Miss. Erna Alexandra                 & female &  7.9250 & 17.00\\\\\n\t 3 & Andersson, Miss. Ingeborg Constanzia            & female & 31.2750 &  9.00\\\\\n\t 3 & Andersson, Miss. Sigrid Elisabeth               & female & 31.2750 & 11.00\\\\\n\t 3 & Arnold-Franchi, Mrs. Josef (Josefine Franchi)   & female & 17.8000 & 18.00\\\\\n\t 3 & Asplund, Miss. Lillian Gertrud                  & female & 31.3875 &  5.00\\\\\n\t 3 & Attalah, Miss. Malake                           & female & 14.4583 & 17.00\\\\\n\t 3 & Ayoub, Miss. Banoura                            & female &  7.2292 & 13.00\\\\\n\t 3 & Baclini, Miss. Eugenie                          & female & 19.2583 &  0.75\\\\\n\t 3 & Baclini, Miss. Helene Barbara                   & female & 19.2583 &  0.75\\\\\n\t 3 & Baclini, Miss. Marie Catherine                  & female & 19.2583 &  5.00\\\\\n\t 3 & Barbara, Miss. Saiide                           & female & 14.4542 & 18.00\\\\\n\t 3 & Boulos, Miss. Nourelain                         & female & 15.2458 &  9.00\\\\\n\t 3 & Carr, Miss. Helen \"Ellen\"                       & female &  7.7500 & 16.00\\\\\n\t 3 & Devaney, Miss. Margaret Delia                   & female &  7.8792 & 19.00\\\\\n\t 3 & Emanuel, Miss. Virginia Ethel                   & female & 12.4750 &  5.00\\\\\n\t 3 & Ford, Miss. Robina Maggie \"Ruby\"                & female & 34.3750 &  9.00\\\\\n\t 3 & Gilnagh, Miss. Katherine \"Katie\"                & female &  7.7333 & 16.00\\\\\n\t 3 & Goodwin, Miss. Lillian Amy                      & female & 46.9000 & 16.00\\\\\n\t 3 & Hegarty, Miss. Hanora \"Nora\"                    & female &  6.7500 & 18.00\\\\\n\t 3 & Hirvonen, Miss. Hildur E                        & female & 12.2875 &  2.00\\\\\n\t 3 & Johnson, Miss. Eleanor Ileen                    & female & 11.1333 &  1.00\\\\\n\t 3 & Karun, Miss. Manca                              & female & 13.4167 &  4.00\\\\\n\t 3 & Kink-Heilmann, Miss. Luise Gretchen             & female & 22.0250 &  4.00\\\\\n\t 3 & McGowan, Miss. Anna \"Annie\"                     & female &  8.0292 & 15.00\\\\\n\t 3 & Najib, Miss. Adele Kiamie \"Jane\"                & female &  7.2250 & 15.00\\\\\n\t 3 & Nakid, Miss. Maria (\"Mary\")                     & female & 15.7417 &  1.00\\\\\n\t 3 & Nicola-Yarred, Miss. Jamila                     & female & 11.2417 & 14.00\\\\\n\t 3 & Palsson, Miss. Stina Viola                      & female & 21.0750 &  3.00\\\\\n\t 3 & Palsson, Miss. Torborg Danira                   & female & 21.0750 &  8.00\\\\\n\t 3 & Pettersson, Miss. Ellen Natalia                 & female &  7.7750 & 18.00\\\\\n\t 3 & Sandstrom, Miss. Marguerite Rut                 & female & 16.7000 &  4.00\\\\\n\t 3 & Sjoblom, Miss. Anna Sofia                       & female &  7.4958 & 18.00\\\\\n\t 3 & Skoog, Miss. Mabel                              & female & 27.9000 &  9.00\\\\\n\t 3 & Skoog, Miss. Margit Elizabeth                   & female & 27.9000 &  2.00\\\\\n\t 3 & Strom, Miss. Telma Matilda                      & female & 10.4625 &  2.00\\\\\n\t 3 & Turja, Miss. Anna Sofia                         & female &  9.8417 & 18.00\\\\\n\t 3 & Van Impe, Miss. Catharina                       & female & 24.1500 & 10.00\\\\\n\t 3 & Vander Planke, Miss. Augusta Maria              & female & 18.0000 & 18.00\\\\\n\t 3 & Vestrom, Miss. Hulda Amanda Adolfina            & female &  7.8542 & 14.00\\\\\n\t 3 & Yasbeck, Mrs. Antoni (Selini Alexander)         & female & 14.4542 & 15.00\\\\\n\t 3 & Zabour, Miss. Hileni                            & female & 14.4542 & 14.50\\\\\n\\end{tabular}\n",
            "text/plain": [
              "   Pclass Name                                            Sex    Fare    Age  \n",
              "1  3      Aks, Mrs. Sam (Leah Rosen)                      female  9.3500 18.00\n",
              "2  3      Andersen-Jensen, Miss. Carla Christine Nielsine female  7.8542 19.00\n",
              "3  3      Andersson, Miss. Ebba Iris Alfrida              female 31.2750  6.00\n",
              "4  3      Andersson, Miss. Ellis Anna Maria               female 31.2750  2.00\n",
              "5  3      Andersson, Miss. Erna Alexandra                 female  7.9250 17.00\n",
              "6  3      Andersson, Miss. Ingeborg Constanzia            female 31.2750  9.00\n",
              "7  3      Andersson, Miss. Sigrid Elisabeth               female 31.2750 11.00\n",
              "8  3      Arnold-Franchi, Mrs. Josef (Josefine Franchi)   female 17.8000 18.00\n",
              "9  3      Asplund, Miss. Lillian Gertrud                  female 31.3875  5.00\n",
              "10 3      Attalah, Miss. Malake                           female 14.4583 17.00\n",
              "11 3      Ayoub, Miss. Banoura                            female  7.2292 13.00\n",
              "12 3      Baclini, Miss. Eugenie                          female 19.2583  0.75\n",
              "13 3      Baclini, Miss. Helene Barbara                   female 19.2583  0.75\n",
              "14 3      Baclini, Miss. Marie Catherine                  female 19.2583  5.00\n",
              "15 3      Barbara, Miss. Saiide                           female 14.4542 18.00\n",
              "16 3      Boulos, Miss. Nourelain                         female 15.2458  9.00\n",
              "17 3      Carr, Miss. Helen \"Ellen\"                       female  7.7500 16.00\n",
              "18 3      Devaney, Miss. Margaret Delia                   female  7.8792 19.00\n",
              "19 3      Emanuel, Miss. Virginia Ethel                   female 12.4750  5.00\n",
              "20 3      Ford, Miss. Robina Maggie \"Ruby\"                female 34.3750  9.00\n",
              "21 3      Gilnagh, Miss. Katherine \"Katie\"                female  7.7333 16.00\n",
              "22 3      Goodwin, Miss. Lillian Amy                      female 46.9000 16.00\n",
              "23 3      Hegarty, Miss. Hanora \"Nora\"                    female  6.7500 18.00\n",
              "24 3      Hirvonen, Miss. Hildur E                        female 12.2875  2.00\n",
              "25 3      Johnson, Miss. Eleanor Ileen                    female 11.1333  1.00\n",
              "26 3      Karun, Miss. Manca                              female 13.4167  4.00\n",
              "27 3      Kink-Heilmann, Miss. Luise Gretchen             female 22.0250  4.00\n",
              "28 3      McGowan, Miss. Anna \"Annie\"                     female  8.0292 15.00\n",
              "29 3      Najib, Miss. Adele Kiamie \"Jane\"                female  7.2250 15.00\n",
              "30 3      Nakid, Miss. Maria (\"Mary\")                     female 15.7417  1.00\n",
              "31 3      Nicola-Yarred, Miss. Jamila                     female 11.2417 14.00\n",
              "32 3      Palsson, Miss. Stina Viola                      female 21.0750  3.00\n",
              "33 3      Palsson, Miss. Torborg Danira                   female 21.0750  8.00\n",
              "34 3      Pettersson, Miss. Ellen Natalia                 female  7.7750 18.00\n",
              "35 3      Sandstrom, Miss. Marguerite Rut                 female 16.7000  4.00\n",
              "36 3      Sjoblom, Miss. Anna Sofia                       female  7.4958 18.00\n",
              "37 3      Skoog, Miss. Mabel                              female 27.9000  9.00\n",
              "38 3      Skoog, Miss. Margit Elizabeth                   female 27.9000  2.00\n",
              "39 3      Strom, Miss. Telma Matilda                      female 10.4625  2.00\n",
              "40 3      Turja, Miss. Anna Sofia                         female  9.8417 18.00\n",
              "41 3      Van Impe, Miss. Catharina                       female 24.1500 10.00\n",
              "42 3      Vander Planke, Miss. Augusta Maria              female 18.0000 18.00\n",
              "43 3      Vestrom, Miss. Hulda Amanda Adolfina            female  7.8542 14.00\n",
              "44 3      Yasbeck, Mrs. Antoni (Selini Alexander)         female 14.4542 15.00\n",
              "45 3      Zabour, Miss. Hileni                            female 14.4542 14.50"
            ]
          },
          "metadata": {}
        }
      ]
    },
    {
      "cell_type": "markdown",
      "source": [
        "Or we can explore one of the built-in data sets from R. In this case let's use the `starwars` data set."
      ],
      "metadata": {
        "id": "S-3aoMei8_QA"
      }
    },
    {
      "cell_type": "code",
      "source": [
        "starwars %>%   # and-then\n",
        "  select(gender, mass, height, species) %>%\n",
        "  filter(species == \"Human\") %>%\n",
        "  na.omit()"
      ],
      "metadata": {
        "id": "-9Cxo-pW92KJ"
      },
      "execution_count": null,
      "outputs": []
    },
    {
      "cell_type": "code",
      "source": [
        "starwars %>%   # and-then\n",
        "  select(gender, mass, height, species) %>%\n",
        "  filter(species == \"Human\") %>%\n",
        "  na.omit() %>%\n",
        "  mutate(height = height / 100) %>%\n",
        "  mutate(BMI = mass / height^2) %>%\n",
        "  group_by(gender) %>%\n",
        "  summarise(Average_BMI = mean(BMI))"
      ],
      "metadata": {
        "id": "cu3DQOAQelgd"
      },
      "execution_count": null,
      "outputs": []
    },
    {
      "cell_type": "markdown",
      "source": [
        "Finally, we can explore the `msleep` (Mammal Sleep) sample data set using `tidyverse`."
      ],
      "metadata": {
        "id": "sB-uy9sP-JwC"
      }
    },
    {
      "cell_type": "code",
      "source": [
        "my_data <- msleep %>%\n",
        "  select(name, order, bodywt, sleep_total) %>%\n",
        "  filter(order == \"Primates\", bodywt > 20) %>%\n",
        "  arrange(bodywt)\n",
        "\n",
        "my_data"
      ],
      "metadata": {
        "id": "P8vJHf0pgJtK"
      },
      "execution_count": null,
      "outputs": []
    },
    {
      "cell_type": "markdown",
      "source": [
        "## Data Cleaning\n",
        "\n",
        "Normal cleaning and management operations are just as common in R as they are in Python. The most frequent cleaning tasks are:\n",
        "\n",
        "- Identifying and removing duplicate rows.\n",
        "- Finding empty / NULL / `NA` values and determining what to do with them, i.e. deleting, imputing, etc.\n"
      ],
      "metadata": {
        "id": "Y13yIJFXJjnH"
      }
    },
    {
      "cell_type": "markdown",
      "source": [
        "### Duplicate Rows\n",
        "\n",
        "To remove duplicate rows from a data frame there is a simple one-line command. This will select all NON-duplicated rows from the `df` data frame and pass them into a new data frame named `df2`:"
      ],
      "metadata": {
        "id": "W3uWBP-PJ5kX"
      }
    },
    {
      "cell_type": "code",
      "source": [
        "df2 <- df[!duplicated(df), ]"
      ],
      "metadata": {
        "id": "JQhEDLd3J8--"
      },
      "execution_count": null,
      "outputs": []
    },
    {
      "cell_type": "code",
      "source": [
        "# or, using dplyr\n",
        "\n",
        "library(dplyr)\n",
        "df2 <- df %>% distinct()"
      ],
      "metadata": {
        "id": "otf7k58QM28B"
      },
      "execution_count": null,
      "outputs": []
    },
    {
      "cell_type": "markdown",
      "source": [
        "Let's import the `very-messy-data.csv` file from an earlier homework to inspect and clean."
      ],
      "metadata": {
        "id": "q7gwsAf_NHQL"
      }
    },
    {
      "cell_type": "code",
      "source": [
        "df <- read.csv(\"https://raw.githubusercontent.com/nmagee/ds1002/main/data/very-messy-data.csv\")\n",
        "\n",
        "# Use str() to get the structure of the data frame:\n",
        "str(df)"
      ],
      "metadata": {
        "id": "7OiaM0XGNMid"
      },
      "execution_count": null,
      "outputs": []
    },
    {
      "cell_type": "code",
      "source": [
        "# Now remove the dupe rows\n",
        "df2 <- df[!duplicated(df), ]\n",
        "str(df2)"
      ],
      "metadata": {
        "id": "xqOBrfrdNhoh"
      },
      "execution_count": null,
      "outputs": []
    },
    {
      "cell_type": "markdown",
      "source": [
        "### Remove Rows with `NA` values\n",
        "\n",
        "A simple way to do this is to extract only valid data out of the data frame with the `na.omit` method:"
      ],
      "metadata": {
        "id": "s6WvxPKhNqUz"
      }
    },
    {
      "cell_type": "code",
      "source": [
        "df_no_empty <- na.omit(df)\n",
        "str(df_no_empty)"
      ],
      "metadata": {
        "id": "Y-2QsnGONqEv"
      },
      "execution_count": null,
      "outputs": []
    },
    {
      "cell_type": "code",
      "source": [
        "# Two other methods to achieve this:\n",
        "\n",
        "#Remove rows with NA's using complete.cases\n",
        "df <- df[complete.cases(df), ]\n",
        "\n",
        "#Remove rows with NA's using rowSums()\n",
        "df <- df[rowSums(is.na(df)) == 0, ]\n",
        "\n",
        "# Or with the tidyverse library\n",
        "library(\"tidyr\")\n",
        "\n",
        "#Remove rows with NA's using drop_na()\n",
        "df <- df %>% drop_na()"
      ],
      "metadata": {
        "id": "8MqVoIinOPR-"
      },
      "execution_count": null,
      "outputs": []
    },
    {
      "cell_type": "markdown",
      "source": [
        "### Imputation of Missing Data\n",
        "\n",
        "The question surrounding imputation is WHAT to replace `NA` values with. This question is a data/statistical one and should not be treated lightly. The answer can throw off results greatly.\n",
        "\n",
        "With that caveat in mind, here is the method for imputing missing values and replacing them with the mean of the rest of the data.\n",
        "\n",
        "The R below will update the sepal and petal columns by replacing empty values with the mean of the valid values within each column."
      ],
      "metadata": {
        "id": "s_Afm57POv94"
      }
    },
    {
      "cell_type": "code",
      "source": [
        "df2$sepal_length[is.na(df2$sepal_length)] <- mean(df2$sepal_length, na.rm = T)\n",
        "df2$sepal_width[is.na(df2$sepal_width)] <- mean(df2$sepal_width, na.rm = T)\n",
        "df2$petal_length[is.na(df2$petal_length)] <- mean(df2$petal_length, na.rm = T)\n",
        "df2$petal_width[is.na(df2$petal_width)] <- mean(df2$petal_width, na.rm = T)\n",
        "\n",
        "df2"
      ],
      "metadata": {
        "id": "V0wiEKJQPOMY"
      },
      "execution_count": null,
      "outputs": []
    },
    {
      "cell_type": "code",
      "source": [
        "# Another way to achieve this is using the Hmisc package\n",
        "\n",
        "df3 <- read.csv(\"https://raw.githubusercontent.com/nmagee/ds1002/main/data/very-messy-data.csv\")\n",
        "df3 <- df[!duplicated(df3), ]\n",
        "\n",
        "install.packages(\"Hmisc\")\n",
        "library(Hmisc)\n",
        "\n",
        "impute(df3$sepal_length, median)"
      ],
      "metadata": {
        "id": "pBmdD9kLQdy2"
      },
      "execution_count": null,
      "outputs": []
    },
    {
      "cell_type": "code",
      "source": [
        "df3"
      ],
      "metadata": {
        "id": "qsu6VcGeTaHN"
      },
      "execution_count": null,
      "outputs": []
    },
    {
      "cell_type": "code",
      "source": [
        "# data()\n",
        "glimpse(faithful)\n",
        "?faithful"
      ],
      "metadata": {
        "id": "J4Sk7qAZ0TG2"
      },
      "execution_count": null,
      "outputs": []
    },
    {
      "cell_type": "markdown",
      "source": [
        "## Extract Row Data back into Vector\n",
        "\n",
        "To extract a column of attributes back into a vector, call it out by appending `$ColName` to the data frame."
      ],
      "metadata": {
        "id": "LIRrb60I_CQI"
      }
    },
    {
      "cell_type": "code",
      "source": [
        "df$Album\n",
        "\n",
        "# Or assign into a var\n",
        "albums_extracted <- df$Album"
      ],
      "metadata": {
        "id": "YBS7y1jZ-yBF"
      },
      "execution_count": null,
      "outputs": []
    }
  ]
}