{
  "nbformat": 4,
  "nbformat_minor": 0,
  "metadata": {
    "colab": {
      "provenance": [],
      "authorship_tag": "ABX9TyPMKuo2oVpQ5CsN8DkFeaUm",
      "include_colab_link": true
    },
    "kernelspec": {
      "name": "ir",
      "display_name": "R"
    },
    "language_info": {
      "name": "R"
    }
  },
  "cells": [
    {
      "cell_type": "markdown",
      "metadata": {
        "id": "view-in-github",
        "colab_type": "text"
      },
      "source": [
        "<a href=\"https://colab.research.google.com/github/nmagee/ds1002/blob/main/notebooks/21-dataframes-in-r.ipynb\" target=\"_parent\"><img src=\"https://colab.research.google.com/assets/colab-badge.svg\" alt=\"Open In Colab\"/></a>"
      ]
    },
    {
      "cell_type": "markdown",
      "source": [
        "# Data Frames in R\n",
        "\n",
        "To begin to understand data frames in R, let's build a simple example by hand with three vectors we want to relate in a table."
      ],
      "metadata": {
        "id": "sOi4LPAxw5N5"
      }
    },
    {
      "cell_type": "code",
      "execution_count": 1,
      "metadata": {
        "id": "XcGLH4Krw2GS"
      },
      "outputs": [],
      "source": [
        "album <- c(\"Low End Theory\", \"Nevermind\", \"Port of Morrow\",\n",
        "           \"Dark Side of the Moon\", \"Naked\", \"OK Computer\",\n",
        "           \"Abbey Road\", \"Thriller\", \"Rumours\", \"The Joshua Tree\")\n",
        "year <- c(1991, 1991, 2012, 1973, 1988, 1997, 1969, 1982, 1977, 1987)\n",
        "digital <- c(FALSE, FALSE, TRUE, FALSE, TRUE, TRUE, FALSE, FALSE, FALSE, TRUE)\n",
        "\n",
        "df <- data.frame(Album = album, Year = year, Digital = digital)"
      ]
    },
    {
      "cell_type": "code",
      "source": [
        "df"
      ],
      "metadata": {
        "id": "S7dl_RUtyJkv"
      },
      "execution_count": null,
      "outputs": []
    },
    {
      "cell_type": "markdown",
      "source": [
        "## Column Naming\n",
        "\n",
        "We can also name the columns of a data frame, whether we imported it or built it by hand:"
      ],
      "metadata": {
        "id": "BCkVj5pNydYp"
      }
    },
    {
      "cell_type": "code",
      "source": [
        "df <- data.frame(Album = album, Year = year, Digital = digital)"
      ],
      "metadata": {
        "id": "GKZJa9m7yxxu"
      },
      "execution_count": null,
      "outputs": []
    },
    {
      "cell_type": "code",
      "source": [
        "names(df) <- c(\"Album\", \"Year\", \"Digital\")"
      ],
      "metadata": {
        "id": "WIo5ilnIyjiG"
      },
      "execution_count": null,
      "outputs": []
    },
    {
      "cell_type": "markdown",
      "source": [
        "## Insert a Column\n",
        "\n",
        "Data can always be added or removed from a data frame after its creation."
      ],
      "metadata": {
        "id": "QxSiPXBHcz_x"
      }
    },
    {
      "cell_type": "code",
      "source": [
        "df$Album\n",
        "df$Artist"
      ],
      "metadata": {
        "id": "0eRVnOhzc8Z0"
      },
      "execution_count": null,
      "outputs": []
    },
    {
      "cell_type": "markdown",
      "source": [
        "## Structure\n",
        "\n",
        "To fetch the structure of a data frame, use `str()`. This tells us how many observations (rows) it contains along with how many variables (columns) each observation contains.\n",
        "\n",
        "The output looks much like a list. This shouldn't be surprising, since the dataframe can contain mixed data types. However, each column of variables must be of the same data type. (Names are all strings, Years are all numbers, and Vinyl is all bools/logicals.)"
      ],
      "metadata": {
        "id": "sF2v2JzPzG5K"
      }
    },
    {
      "cell_type": "code",
      "source": [
        "str(df)"
      ],
      "metadata": {
        "id": "6bgn-qF2zMW2"
      },
      "execution_count": null,
      "outputs": []
    },
    {
      "cell_type": "markdown",
      "source": [
        "## Selecting Columns\n",
        "\n",
        "Simply indicate the indexes for the rows you want in the second half of the slice brackets `[ ]`. This can be a range separated by a colon `:`."
      ],
      "metadata": {
        "id": "Qf0C0BgG0C_S"
      }
    },
    {
      "cell_type": "code",
      "source": [
        "df[,1:2]"
      ],
      "metadata": {
        "id": "vG9gifhx0GYI"
      },
      "execution_count": null,
      "outputs": []
    },
    {
      "cell_type": "markdown",
      "source": [
        "## Selecting & Querying\n",
        "\n",
        "Indicate the indexes of the row you want, appended with a comma and empty value for a column specification. This can be the first half of the slice brackets `[ ]`.\n",
        "\n",
        "The command below asks for all columns of records 1-3:"
      ],
      "metadata": {
        "id": "h-gXCaG80ycL"
      }
    },
    {
      "cell_type": "code",
      "source": [
        "df[1:3,]"
      ],
      "metadata": {
        "id": "LA0GRu0U0hQV"
      },
      "execution_count": null,
      "outputs": []
    },
    {
      "cell_type": "markdown",
      "source": [
        "Or this example asks for records 1-3, and columns 1-2."
      ],
      "metadata": {
        "id": "8peoVEG91EFj"
      }
    },
    {
      "cell_type": "code",
      "source": [
        "df[1:3,1:2]"
      ],
      "metadata": {
        "id": "GVCCKzcQ0Xzz"
      },
      "execution_count": null,
      "outputs": []
    },
    {
      "cell_type": "markdown",
      "source": [
        "Select specific rows by combining them into the first half of the slice bracket `[ ]`."
      ],
      "metadata": {
        "id": "5zLCIQ13AcGO"
      }
    },
    {
      "cell_type": "code",
      "source": [
        "df[c(1,3,4),]"
      ],
      "metadata": {
        "id": "6sXb7VFOAHJr"
      },
      "execution_count": null,
      "outputs": []
    },
    {
      "cell_type": "markdown",
      "source": [
        "Select specific rows based on filter. Here we **query** the data frame for all albums with a `FALSE` value for the `vinyl` column."
      ],
      "metadata": {
        "id": "9DBBaJYXA3Gj"
      }
    },
    {
      "cell_type": "code",
      "source": [
        "df[df$Digital == FALSE,]"
      ],
      "metadata": {
        "id": "4-KEbOt9A_ZV"
      },
      "execution_count": null,
      "outputs": []
    },
    {
      "cell_type": "code",
      "source": [
        "# Now we can search a larger data set:\n",
        "df[df$Digital == TRUE,]"
      ],
      "metadata": {
        "id": "e0NVotYFChW7"
      },
      "execution_count": null,
      "outputs": []
    },
    {
      "cell_type": "code",
      "source": [
        "# Or using mathematical operators to filter:\n",
        "df[df$Year > 1990,]"
      ],
      "metadata": {
        "id": "oRCI49okCmG5"
      },
      "execution_count": null,
      "outputs": []
    },
    {
      "cell_type": "code",
      "source": [
        "# Or combine operators to filter more carefully. All comparison operators can be used\n",
        "# ( ==, !=, <, >, <=, <= )\n",
        "#\n",
        "# as well as all logical operators\n",
        "#   - AND: %\n",
        "#   -  OR: |\n",
        "#   - NOT: !\n",
        "\n",
        "df[df$Year > 1990 & df$Digital == TRUE,]"
      ],
      "metadata": {
        "id": "PGA6204YC6L5"
      },
      "execution_count": null,
      "outputs": []
    },
    {
      "cell_type": "code",
      "source": [
        "df[df$Year > 1990 | df$Digital == FALSE,]"
      ],
      "metadata": {
        "id": "Jc3bTjvGU2Oe"
      },
      "execution_count": null,
      "outputs": []
    },
    {
      "cell_type": "markdown",
      "source": [
        "## Sorting"
      ],
      "metadata": {
        "id": "Oq97kv7GD_Aw"
      }
    },
    {
      "cell_type": "code",
      "source": [
        "df_by_year <- df[order(df$Year),]\n",
        "df_by_year"
      ],
      "metadata": {
        "id": "gJexNaicEBAr"
      },
      "execution_count": null,
      "outputs": []
    },
    {
      "cell_type": "markdown",
      "source": [
        "## `tidyverse`\n",
        "\n",
        "All of the above operations -- selecting, querying, filtering, sorting -- are also possible (more easily) using methods built into the `tidyverse` library.\n",
        "\n",
        "Import that and then we will review those operations.\n",
        "\n",
        "```\n",
        "Understand the PIPE in tidyverse: %>%\n",
        "```"
      ],
      "metadata": {
        "id": "WgHUTHCs7lYl"
      }
    },
    {
      "cell_type": "code",
      "source": [
        "library(tidyverse)"
      ],
      "metadata": {
        "id": "UzQePd_e7y6i"
      },
      "execution_count": null,
      "outputs": []
    },
    {
      "cell_type": "code",
      "source": [
        "df %>%\n",
        "  select(Album, Year) %>%\n",
        "  filter(Year > 1990)"
      ],
      "metadata": {
        "colab": {
          "base_uri": "https://localhost:8080/",
          "height": 223
        },
        "id": "dqPUb20q8Z_1",
        "outputId": "a83f9cda-8e52-483d-87c7-beabcf0904ac"
      },
      "execution_count": null,
      "outputs": [
        {
          "output_type": "display_data",
          "data": {
            "text/html": [
              "<table class=\"dataframe\">\n",
              "<caption>A data.frame: 4 × 2</caption>\n",
              "<thead>\n",
              "\t<tr><th scope=col>Album</th><th scope=col>Year</th></tr>\n",
              "\t<tr><th scope=col>&lt;chr&gt;</th><th scope=col>&lt;dbl&gt;</th></tr>\n",
              "</thead>\n",
              "<tbody>\n",
              "\t<tr><td>Low End Theory</td><td>1991</td></tr>\n",
              "\t<tr><td>Nevermind     </td><td>1991</td></tr>\n",
              "\t<tr><td>Port of Morrow</td><td>2012</td></tr>\n",
              "\t<tr><td>OK Computer   </td><td>1997</td></tr>\n",
              "</tbody>\n",
              "</table>\n"
            ],
            "text/markdown": "\nA data.frame: 4 × 2\n\n| Album &lt;chr&gt; | Year &lt;dbl&gt; |\n|---|---|\n| Low End Theory | 1991 |\n| Nevermind      | 1991 |\n| Port of Morrow | 2012 |\n| OK Computer    | 1997 |\n\n",
            "text/latex": "A data.frame: 4 × 2\n\\begin{tabular}{ll}\n Album & Year\\\\\n <chr> & <dbl>\\\\\n\\hline\n\t Low End Theory & 1991\\\\\n\t Nevermind      & 1991\\\\\n\t Port of Morrow & 2012\\\\\n\t OK Computer    & 1997\\\\\n\\end{tabular}\n",
            "text/plain": [
              "  Album          Year\n",
              "1 Low End Theory 1991\n",
              "2 Nevermind      1991\n",
              "3 Port of Morrow 2012\n",
              "4 OK Computer    1997"
            ]
          },
          "metadata": {}
        }
      ]
    },
    {
      "cell_type": "markdown",
      "source": [
        "## Import CSV Data\n",
        "\n",
        "Just as with Pandas in Python, it is much more common to load data from files, such as CSV. This is possible manually, as well as by using the `tidyverse` library.\n",
        "\n",
        "### Import a CSV Manually\n",
        "\n",
        "R has a native `read.csv()` method. A few things to note as you run this cell:\n",
        "\n",
        "- This method automatically creates a data frame from the CSV data.\n",
        "- The file can be local or remote via URL.\n",
        "- Since the data file has a header row, names are automatically assigned to columns."
      ],
      "metadata": {
        "id": "Kr03QFsqFpxM"
      }
    },
    {
      "cell_type": "code",
      "source": [
        "titanic <- read.csv(\"https://raw.githubusercontent.com/datasciencedojo/datasets/master/titanic.csv\")\n",
        "titanic"
      ],
      "metadata": {
        "id": "GC5_9rLCGHkw"
      },
      "execution_count": null,
      "outputs": []
    },
    {
      "cell_type": "markdown",
      "source": [
        "We can now use the same filtering methods as above to inspect the data. Here we save each successive query as a new data frame."
      ],
      "metadata": {
        "id": "LjVmasd7HSAc"
      }
    },
    {
      "cell_type": "code",
      "source": [
        "titanic %>%\n",
        "  select(Pclass, Name, Sex, Fare, Age) %>%\n",
        "  filter(Sex == \"female\") %>%\n",
        "  filter(Pclass == 3) %>%\n",
        "  filter(Age < 20) %>%\n",
        "  arrange(Name)"
      ],
      "metadata": {
        "id": "ySkJS01I9FfY"
      },
      "execution_count": null,
      "outputs": []
    },
    {
      "cell_type": "markdown",
      "source": [
        "Or we can explore one of the built-in data sets from R. In this case let's use the `starwars` data set."
      ],
      "metadata": {
        "id": "S-3aoMei8_QA"
      }
    },
    {
      "cell_type": "code",
      "source": [
        "starwars %>%   # and-then\n",
        "  select(gender, mass, height, species) %>%\n",
        "  filter(species == \"Human\") %>%\n",
        "  na.omit()"
      ],
      "metadata": {
        "id": "-9Cxo-pW92KJ"
      },
      "execution_count": null,
      "outputs": []
    },
    {
      "cell_type": "code",
      "source": [
        "starwars %>%   # and-then\n",
        "  select(gender, mass, height, species) %>%\n",
        "  filter(species == \"Human\") %>%\n",
        "  na.omit() %>%\n",
        "  mutate(height = height / 100) %>%\n",
        "  mutate(BMI = mass / height^2) %>%\n",
        "  group_by(gender) %>%\n",
        "  summarise(Average_BMI = mean(BMI))"
      ],
      "metadata": {
        "id": "cu3DQOAQelgd"
      },
      "execution_count": null,
      "outputs": []
    },
    {
      "cell_type": "markdown",
      "source": [
        "Finally, we can explore the `msleep` (Mammal Sleep) sample data set using `tidyverse`."
      ],
      "metadata": {
        "id": "sB-uy9sP-JwC"
      }
    },
    {
      "cell_type": "code",
      "source": [
        "my_data <- msleep %>%\n",
        "  select(name, order, bodywt, sleep_total) %>%\n",
        "  filter(order == \"Primates\", bodywt > 20) %>%\n",
        "  arrange(bodywt)\n",
        "\n",
        "my_data"
      ],
      "metadata": {
        "id": "P8vJHf0pgJtK"
      },
      "execution_count": null,
      "outputs": []
    },
    {
      "cell_type": "markdown",
      "source": [
        "## Data Cleaning\n",
        "\n",
        "Normal cleaning and management operations are just as common in R as they are in Python. The most frequent cleaning tasks are:\n",
        "\n",
        "- Identifying and removing duplicate rows.\n",
        "- Finding empty / NULL / `NA` values and determining what to do with them, i.e. deleting, imputing, etc.\n"
      ],
      "metadata": {
        "id": "Y13yIJFXJjnH"
      }
    },
    {
      "cell_type": "markdown",
      "source": [
        "### Duplicate Rows\n",
        "\n",
        "To remove duplicate rows from a data frame there is a simple one-line command. This will select all NON-duplicated rows from the `df` data frame and pass them into a new data frame named `df2`:"
      ],
      "metadata": {
        "id": "W3uWBP-PJ5kX"
      }
    },
    {
      "cell_type": "code",
      "source": [
        "df2 <- df[!duplicated(df), ]"
      ],
      "metadata": {
        "id": "JQhEDLd3J8--"
      },
      "execution_count": null,
      "outputs": []
    },
    {
      "cell_type": "code",
      "source": [
        "# or, using dplyr\n",
        "\n",
        "library(dplyr)\n",
        "df2 <- df %>% distinct()"
      ],
      "metadata": {
        "id": "otf7k58QM28B"
      },
      "execution_count": null,
      "outputs": []
    },
    {
      "cell_type": "markdown",
      "source": [
        "Let's import the `very-messy-data.csv` file from an earlier homework to inspect and clean."
      ],
      "metadata": {
        "id": "q7gwsAf_NHQL"
      }
    },
    {
      "cell_type": "code",
      "source": [
        "df <- read.csv(\"https://raw.githubusercontent.com/nmagee/ds1002/main/data/very-messy-data.csv\")\n",
        "\n",
        "# Use str() to get the structure of the data frame:\n",
        "str(df)"
      ],
      "metadata": {
        "id": "7OiaM0XGNMid"
      },
      "execution_count": null,
      "outputs": []
    },
    {
      "cell_type": "code",
      "source": [
        "# Now remove the dupe rows\n",
        "df2 <- df[!duplicated(df), ]\n",
        "str(df2)"
      ],
      "metadata": {
        "id": "xqOBrfrdNhoh"
      },
      "execution_count": null,
      "outputs": []
    },
    {
      "cell_type": "markdown",
      "source": [
        "### Remove Rows with `NA` values\n",
        "\n",
        "A simple way to do this is to extract only valid data out of the data frame with the `na.omit` method:"
      ],
      "metadata": {
        "id": "s6WvxPKhNqUz"
      }
    },
    {
      "cell_type": "code",
      "source": [
        "df_no_empty <- na.omit(df)\n",
        "str(df_no_empty)"
      ],
      "metadata": {
        "id": "Y-2QsnGONqEv"
      },
      "execution_count": null,
      "outputs": []
    },
    {
      "cell_type": "code",
      "source": [
        "# Two other methods to achieve this:\n",
        "\n",
        "#Remove rows with NA's using complete.cases\n",
        "df <- df[complete.cases(df), ]\n",
        "\n",
        "#Remove rows with NA's using rowSums()\n",
        "df <- df[rowSums(is.na(df)) == 0, ]\n",
        "\n",
        "# Or with the tidyverse library\n",
        "library(\"tidyr\")\n",
        "\n",
        "#Remove rows with NA's using drop_na()\n",
        "df <- df %>% drop_na()"
      ],
      "metadata": {
        "id": "8MqVoIinOPR-"
      },
      "execution_count": null,
      "outputs": []
    },
    {
      "cell_type": "markdown",
      "source": [
        "### Imputation of Missing Data\n",
        "\n",
        "The question surrounding imputation is WHAT to replace `NA` values with. This question is a data/statistical one and should not be treated lightly. The answer can throw off results greatly.\n",
        "\n",
        "With that caveat in mind, here is the method for imputing missing values and replacing them with the mean of the rest of the data.\n",
        "\n",
        "The R below will update the sepal and petal columns by replacing empty values with the mean of the valid values within each column."
      ],
      "metadata": {
        "id": "s_Afm57POv94"
      }
    },
    {
      "cell_type": "code",
      "source": [
        "df2$sepal_length[is.na(df2$sepal_length)] <- mean(df2$sepal_length, na.rm = T)\n",
        "df2$sepal_width[is.na(df2$sepal_width)] <- mean(df2$sepal_width, na.rm = T)\n",
        "df2$petal_length[is.na(df2$petal_length)] <- mean(df2$petal_length, na.rm = T)\n",
        "df2$petal_width[is.na(df2$petal_width)] <- mean(df2$petal_width, na.rm = T)\n",
        "\n",
        "df2"
      ],
      "metadata": {
        "id": "V0wiEKJQPOMY"
      },
      "execution_count": null,
      "outputs": []
    },
    {
      "cell_type": "code",
      "source": [
        "# Another way to achieve this is using the Hmisc package\n",
        "\n",
        "df3 <- read.csv(\"https://raw.githubusercontent.com/nmagee/ds1002/main/data/very-messy-data.csv\")\n",
        "df3 <- df[!duplicated(df3), ]\n",
        "\n",
        "install.packages(\"Hmisc\")\n",
        "library(Hmisc)\n",
        "\n",
        "impute(df3$sepal_length, median)"
      ],
      "metadata": {
        "id": "pBmdD9kLQdy2"
      },
      "execution_count": null,
      "outputs": []
    },
    {
      "cell_type": "code",
      "source": [
        "df3"
      ],
      "metadata": {
        "id": "qsu6VcGeTaHN"
      },
      "execution_count": null,
      "outputs": []
    },
    {
      "cell_type": "code",
      "source": [
        "# data()\n",
        "glimpse(faithful)\n",
        "?faithful"
      ],
      "metadata": {
        "id": "J4Sk7qAZ0TG2"
      },
      "execution_count": null,
      "outputs": []
    },
    {
      "cell_type": "markdown",
      "source": [
        "## Extract Row Data back into Vector\n",
        "\n",
        "To extract a column of attributes back into a vector, call it out by appending `$ColName` to the data frame."
      ],
      "metadata": {
        "id": "LIRrb60I_CQI"
      }
    },
    {
      "cell_type": "code",
      "source": [
        "df$Album\n",
        "\n",
        "# Or assign into a var\n",
        "albums_extracted <- df$Album"
      ],
      "metadata": {
        "id": "YBS7y1jZ-yBF"
      },
      "execution_count": null,
      "outputs": []
    }
  ]
}