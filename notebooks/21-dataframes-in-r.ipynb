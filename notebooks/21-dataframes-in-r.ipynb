{
  "nbformat": 4,
  "nbformat_minor": 0,
  "metadata": {
    "colab": {
      "provenance": [],
      "authorship_tag": "ABX9TyMGLbg5Z88PjPw5V1pIluHZ",
      "include_colab_link": true
    },
    "kernelspec": {
      "name": "ir",
      "display_name": "R"
    },
    "language_info": {
      "name": "R"
    }
  },
  "cells": [
    {
      "cell_type": "markdown",
      "metadata": {
        "id": "view-in-github",
        "colab_type": "text"
      },
      "source": [
        "<a href=\"https://colab.research.google.com/github/nmagee/ds1002/blob/main/notebooks/21-dataframes-in-r.ipynb\" target=\"_parent\"><img src=\"https://colab.research.google.com/assets/colab-badge.svg\" alt=\"Open In Colab\"/></a>"
      ]
    },
    {
      "cell_type": "markdown",
      "source": [
        "# Data Frames in R\n",
        "\n",
        "To begin to understand data frames in R, let's build a simple example by hand with three vectors we want to relate in a table."
      ],
      "metadata": {
        "id": "sOi4LPAxw5N5"
      }
    },
    {
      "cell_type": "code",
      "execution_count": 7,
      "metadata": {
        "id": "XcGLH4Krw2GS"
      },
      "outputs": [],
      "source": [
        "album <- c(\"The Low End Theory\", \"Nevermind\", \"Port of Morrow\",\n",
        "           \"Dark Side of the Moon\", \"Naked\", \"OK Computer\",\n",
        "           \"Abbey Road\", \"Thriller\", \"Rumours\", \"The Joshua Tree\")\n",
        "year <- c(1991, 1991, 2012, 1973, 1988, 1997, 1969, 1982, 1977, 1987)\n",
        "digital <- c(FALSE, FALSE, TRUE, FALSE, TRUE, TRUE, FALSE, FALSE, FALSE, TRUE)\n",
        "\n",
        "df <- data.frame(Album = album, Year = year, Digital = digital)"
      ]
    },
    {
      "cell_type": "code",
      "source": [
        "# display the df\n",
        "df"
      ],
      "metadata": {
        "id": "S7dl_RUtyJkv",
        "colab": {
          "base_uri": "https://localhost:8080/",
          "height": 412
        },
        "outputId": "6143bf89-8300-474b-b9fb-78d831551f36"
      },
      "execution_count": 8,
      "outputs": [
        {
          "output_type": "display_data",
          "data": {
            "text/html": [
              "<table class=\"dataframe\">\n",
              "<caption>A data.frame: 10 × 3</caption>\n",
              "<thead>\n",
              "\t<tr><th scope=col>Album</th><th scope=col>Year</th><th scope=col>Digital</th></tr>\n",
              "\t<tr><th scope=col>&lt;chr&gt;</th><th scope=col>&lt;dbl&gt;</th><th scope=col>&lt;lgl&gt;</th></tr>\n",
              "</thead>\n",
              "<tbody>\n",
              "\t<tr><td>The Low End Theory   </td><td>1991</td><td>FALSE</td></tr>\n",
              "\t<tr><td>Nevermind            </td><td>1991</td><td>FALSE</td></tr>\n",
              "\t<tr><td>Port of Morrow       </td><td>2012</td><td> TRUE</td></tr>\n",
              "\t<tr><td>Dark Side of the Moon</td><td>1973</td><td>FALSE</td></tr>\n",
              "\t<tr><td>Naked                </td><td>1988</td><td> TRUE</td></tr>\n",
              "\t<tr><td>OK Computer          </td><td>1997</td><td> TRUE</td></tr>\n",
              "\t<tr><td>Abbey Road           </td><td>1969</td><td>FALSE</td></tr>\n",
              "\t<tr><td>Thriller             </td><td>1982</td><td>FALSE</td></tr>\n",
              "\t<tr><td>Rumours              </td><td>1977</td><td>FALSE</td></tr>\n",
              "\t<tr><td>The Joshua Tree      </td><td>1987</td><td> TRUE</td></tr>\n",
              "</tbody>\n",
              "</table>\n"
            ],
            "text/markdown": "\nA data.frame: 10 × 3\n\n| Album &lt;chr&gt; | Year &lt;dbl&gt; | Digital &lt;lgl&gt; |\n|---|---|---|\n| The Low End Theory    | 1991 | FALSE |\n| Nevermind             | 1991 | FALSE |\n| Port of Morrow        | 2012 |  TRUE |\n| Dark Side of the Moon | 1973 | FALSE |\n| Naked                 | 1988 |  TRUE |\n| OK Computer           | 1997 |  TRUE |\n| Abbey Road            | 1969 | FALSE |\n| Thriller              | 1982 | FALSE |\n| Rumours               | 1977 | FALSE |\n| The Joshua Tree       | 1987 |  TRUE |\n\n",
            "text/latex": "A data.frame: 10 × 3\n\\begin{tabular}{lll}\n Album & Year & Digital\\\\\n <chr> & <dbl> & <lgl>\\\\\n\\hline\n\t The Low End Theory    & 1991 & FALSE\\\\\n\t Nevermind             & 1991 & FALSE\\\\\n\t Port of Morrow        & 2012 &  TRUE\\\\\n\t Dark Side of the Moon & 1973 & FALSE\\\\\n\t Naked                 & 1988 &  TRUE\\\\\n\t OK Computer           & 1997 &  TRUE\\\\\n\t Abbey Road            & 1969 & FALSE\\\\\n\t Thriller              & 1982 & FALSE\\\\\n\t Rumours               & 1977 & FALSE\\\\\n\t The Joshua Tree       & 1987 &  TRUE\\\\\n\\end{tabular}\n",
            "text/plain": [
              "   Album                 Year Digital\n",
              "1  The Low End Theory    1991 FALSE  \n",
              "2  Nevermind             1991 FALSE  \n",
              "3  Port of Morrow        2012  TRUE  \n",
              "4  Dark Side of the Moon 1973 FALSE  \n",
              "5  Naked                 1988  TRUE  \n",
              "6  OK Computer           1997  TRUE  \n",
              "7  Abbey Road            1969 FALSE  \n",
              "8  Thriller              1982 FALSE  \n",
              "9  Rumours               1977 FALSE  \n",
              "10 The Joshua Tree       1987  TRUE  "
            ]
          },
          "metadata": {}
        }
      ]
    },
    {
      "cell_type": "markdown",
      "source": [
        "## Column Naming\n",
        "\n",
        "We can also name the columns of a data frame, whether we imported it or built it by hand:"
      ],
      "metadata": {
        "id": "BCkVj5pNydYp"
      }
    },
    {
      "cell_type": "code",
      "source": [
        "df <- data.frame(Album = album, Year = year, Digital = digital)"
      ],
      "metadata": {
        "id": "GKZJa9m7yxxu"
      },
      "execution_count": null,
      "outputs": []
    },
    {
      "cell_type": "code",
      "source": [
        "names(df) <- c(\"Album\", \"Year\", \"Digital\")"
      ],
      "metadata": {
        "id": "WIo5ilnIyjiG"
      },
      "execution_count": null,
      "outputs": []
    },
    {
      "cell_type": "markdown",
      "source": [
        "## Insert a Column\n",
        "\n",
        "Data can always be added or removed from a data frame after its creation."
      ],
      "metadata": {
        "id": "QxSiPXBHcz_x"
      }
    },
    {
      "cell_type": "code",
      "source": [
        "df$Year"
      ],
      "metadata": {
        "id": "0eRVnOhzc8Z0",
        "colab": {
          "base_uri": "https://localhost:8080/",
          "height": 34
        },
        "outputId": "abc3acc3-e97c-4b1d-d6b8-38a479bf2198"
      },
      "execution_count": 9,
      "outputs": [
        {
          "output_type": "display_data",
          "data": {
            "text/html": [
              "<style>\n",
              ".list-inline {list-style: none; margin:0; padding: 0}\n",
              ".list-inline>li {display: inline-block}\n",
              ".list-inline>li:not(:last-child)::after {content: \"\\00b7\"; padding: 0 .5ex}\n",
              "</style>\n",
              "<ol class=list-inline><li>1991</li><li>1991</li><li>2012</li><li>1973</li><li>1988</li><li>1997</li><li>1969</li><li>1982</li><li>1977</li><li>1987</li></ol>\n"
            ],
            "text/markdown": "1. 1991\n2. 1991\n3. 2012\n4. 1973\n5. 1988\n6. 1997\n7. 1969\n8. 1982\n9. 1977\n10. 1987\n\n\n",
            "text/latex": "\\begin{enumerate*}\n\\item 1991\n\\item 1991\n\\item 2012\n\\item 1973\n\\item 1988\n\\item 1997\n\\item 1969\n\\item 1982\n\\item 1977\n\\item 1987\n\\end{enumerate*}\n",
            "text/plain": [
              " [1] 1991 1991 2012 1973 1988 1997 1969 1982 1977 1987"
            ]
          },
          "metadata": {}
        }
      ]
    },
    {
      "cell_type": "code",
      "source": [
        "df$Artist <- c(\"A Tribe Called Quest\", \"Nirvana\", \"The Shins\", \"Pink Floyd\", \"Talking Heads\", \"Radiohead\", \"The Beatles\", \"Michael Jackson\", \"Fleetwood Mac\", \"U2\")"
      ],
      "metadata": {
        "id": "qD3Sjwy90ytQ"
      },
      "execution_count": 10,
      "outputs": []
    },
    {
      "cell_type": "code",
      "source": [
        "df"
      ],
      "metadata": {
        "id": "09lQ06dE1hfd",
        "outputId": "26d48f69-8b61-4560-ab01-5befba25bfc5",
        "colab": {
          "base_uri": "https://localhost:8080/",
          "height": 412
        }
      },
      "execution_count": 11,
      "outputs": [
        {
          "output_type": "display_data",
          "data": {
            "text/html": [
              "<table class=\"dataframe\">\n",
              "<caption>A data.frame: 10 × 4</caption>\n",
              "<thead>\n",
              "\t<tr><th scope=col>Album</th><th scope=col>Year</th><th scope=col>Digital</th><th scope=col>Artist</th></tr>\n",
              "\t<tr><th scope=col>&lt;chr&gt;</th><th scope=col>&lt;dbl&gt;</th><th scope=col>&lt;lgl&gt;</th><th scope=col>&lt;chr&gt;</th></tr>\n",
              "</thead>\n",
              "<tbody>\n",
              "\t<tr><td>The Low End Theory   </td><td>1991</td><td>FALSE</td><td>A Tribe Called Quest</td></tr>\n",
              "\t<tr><td>Nevermind            </td><td>1991</td><td>FALSE</td><td>Nirvana             </td></tr>\n",
              "\t<tr><td>Port of Morrow       </td><td>2012</td><td> TRUE</td><td>The Shins           </td></tr>\n",
              "\t<tr><td>Dark Side of the Moon</td><td>1973</td><td>FALSE</td><td>Pink Floyd          </td></tr>\n",
              "\t<tr><td>Naked                </td><td>1988</td><td> TRUE</td><td>Talking Heads       </td></tr>\n",
              "\t<tr><td>OK Computer          </td><td>1997</td><td> TRUE</td><td>Radiohead           </td></tr>\n",
              "\t<tr><td>Abbey Road           </td><td>1969</td><td>FALSE</td><td>The Beatles         </td></tr>\n",
              "\t<tr><td>Thriller             </td><td>1982</td><td>FALSE</td><td>Michael Jackson     </td></tr>\n",
              "\t<tr><td>Rumours              </td><td>1977</td><td>FALSE</td><td>Fleetwood Mac       </td></tr>\n",
              "\t<tr><td>The Joshua Tree      </td><td>1987</td><td> TRUE</td><td>U2                  </td></tr>\n",
              "</tbody>\n",
              "</table>\n"
            ],
            "text/markdown": "\nA data.frame: 10 × 4\n\n| Album &lt;chr&gt; | Year &lt;dbl&gt; | Digital &lt;lgl&gt; | Artist &lt;chr&gt; |\n|---|---|---|---|\n| The Low End Theory    | 1991 | FALSE | A Tribe Called Quest |\n| Nevermind             | 1991 | FALSE | Nirvana              |\n| Port of Morrow        | 2012 |  TRUE | The Shins            |\n| Dark Side of the Moon | 1973 | FALSE | Pink Floyd           |\n| Naked                 | 1988 |  TRUE | Talking Heads        |\n| OK Computer           | 1997 |  TRUE | Radiohead            |\n| Abbey Road            | 1969 | FALSE | The Beatles          |\n| Thriller              | 1982 | FALSE | Michael Jackson      |\n| Rumours               | 1977 | FALSE | Fleetwood Mac        |\n| The Joshua Tree       | 1987 |  TRUE | U2                   |\n\n",
            "text/latex": "A data.frame: 10 × 4\n\\begin{tabular}{llll}\n Album & Year & Digital & Artist\\\\\n <chr> & <dbl> & <lgl> & <chr>\\\\\n\\hline\n\t The Low End Theory    & 1991 & FALSE & A Tribe Called Quest\\\\\n\t Nevermind             & 1991 & FALSE & Nirvana             \\\\\n\t Port of Morrow        & 2012 &  TRUE & The Shins           \\\\\n\t Dark Side of the Moon & 1973 & FALSE & Pink Floyd          \\\\\n\t Naked                 & 1988 &  TRUE & Talking Heads       \\\\\n\t OK Computer           & 1997 &  TRUE & Radiohead           \\\\\n\t Abbey Road            & 1969 & FALSE & The Beatles         \\\\\n\t Thriller              & 1982 & FALSE & Michael Jackson     \\\\\n\t Rumours               & 1977 & FALSE & Fleetwood Mac       \\\\\n\t The Joshua Tree       & 1987 &  TRUE & U2                  \\\\\n\\end{tabular}\n",
            "text/plain": [
              "   Album                 Year Digital Artist              \n",
              "1  The Low End Theory    1991 FALSE   A Tribe Called Quest\n",
              "2  Nevermind             1991 FALSE   Nirvana             \n",
              "3  Port of Morrow        2012  TRUE   The Shins           \n",
              "4  Dark Side of the Moon 1973 FALSE   Pink Floyd          \n",
              "5  Naked                 1988  TRUE   Talking Heads       \n",
              "6  OK Computer           1997  TRUE   Radiohead           \n",
              "7  Abbey Road            1969 FALSE   The Beatles         \n",
              "8  Thriller              1982 FALSE   Michael Jackson     \n",
              "9  Rumours               1977 FALSE   Fleetwood Mac       \n",
              "10 The Joshua Tree       1987  TRUE   U2                  "
            ]
          },
          "metadata": {}
        }
      ]
    },
    {
      "cell_type": "markdown",
      "source": [
        "## Structure\n",
        "\n",
        "To fetch the structure of a data frame, use `str()`. This tells us how many observations (rows) it contains along with how many variables (columns) each observation contains.\n",
        "\n",
        "The output looks much like a list. This shouldn't be surprising, since the dataframe can contain mixed data types. However, each column of variables must be of the same data type. (Names are all strings, Years are all numbers, and Vinyl is all bools/logicals.)"
      ],
      "metadata": {
        "id": "sF2v2JzPzG5K"
      }
    },
    {
      "cell_type": "code",
      "source": [
        "str(df)"
      ],
      "metadata": {
        "id": "6bgn-qF2zMW2",
        "colab": {
          "base_uri": "https://localhost:8080/"
        },
        "outputId": "4c0111e8-58e5-4ae1-eece-b203a40e4be3"
      },
      "execution_count": 12,
      "outputs": [
        {
          "output_type": "stream",
          "name": "stdout",
          "text": [
            "'data.frame':\t10 obs. of  4 variables:\n",
            " $ Album  : chr  \"The Low End Theory\" \"Nevermind\" \"Port of Morrow\" \"Dark Side of the Moon\" ...\n",
            " $ Year   : num  1991 1991 2012 1973 1988 ...\n",
            " $ Digital: logi  FALSE FALSE TRUE FALSE TRUE TRUE ...\n",
            " $ Artist : chr  \"A Tribe Called Quest\" \"Nirvana\" \"The Shins\" \"Pink Floyd\" ...\n"
          ]
        }
      ]
    },
    {
      "cell_type": "code",
      "source": [],
      "metadata": {
        "id": "6aLGFsNerbxM"
      },
      "execution_count": null,
      "outputs": []
    },
    {
      "cell_type": "markdown",
      "source": [
        "## Selecting Columns\n",
        "\n",
        "Simply indicate the indexes for the rows you want in the second half of the slice brackets `[ ]`. This can be a range separated by a colon `:`."
      ],
      "metadata": {
        "id": "Qf0C0BgG0C_S"
      }
    },
    {
      "cell_type": "code",
      "source": [
        "df[ROWS, COLUMNS]"
      ],
      "metadata": {
        "id": "RDUnQTPN1_4j"
      },
      "execution_count": null,
      "outputs": []
    },
    {
      "cell_type": "code",
      "source": [
        "df[ ,1:2]"
      ],
      "metadata": {
        "id": "vG9gifhx0GYI",
        "colab": {
          "base_uri": "https://localhost:8080/",
          "height": 412
        },
        "outputId": "efd3fe5b-fd12-425f-a273-7e9b02c771ea"
      },
      "execution_count": 13,
      "outputs": [
        {
          "output_type": "display_data",
          "data": {
            "text/html": [
              "<table class=\"dataframe\">\n",
              "<caption>A data.frame: 10 × 2</caption>\n",
              "<thead>\n",
              "\t<tr><th scope=col>Album</th><th scope=col>Year</th></tr>\n",
              "\t<tr><th scope=col>&lt;chr&gt;</th><th scope=col>&lt;dbl&gt;</th></tr>\n",
              "</thead>\n",
              "<tbody>\n",
              "\t<tr><td>The Low End Theory   </td><td>1991</td></tr>\n",
              "\t<tr><td>Nevermind            </td><td>1991</td></tr>\n",
              "\t<tr><td>Port of Morrow       </td><td>2012</td></tr>\n",
              "\t<tr><td>Dark Side of the Moon</td><td>1973</td></tr>\n",
              "\t<tr><td>Naked                </td><td>1988</td></tr>\n",
              "\t<tr><td>OK Computer          </td><td>1997</td></tr>\n",
              "\t<tr><td>Abbey Road           </td><td>1969</td></tr>\n",
              "\t<tr><td>Thriller             </td><td>1982</td></tr>\n",
              "\t<tr><td>Rumours              </td><td>1977</td></tr>\n",
              "\t<tr><td>The Joshua Tree      </td><td>1987</td></tr>\n",
              "</tbody>\n",
              "</table>\n"
            ],
            "text/markdown": "\nA data.frame: 10 × 2\n\n| Album &lt;chr&gt; | Year &lt;dbl&gt; |\n|---|---|\n| The Low End Theory    | 1991 |\n| Nevermind             | 1991 |\n| Port of Morrow        | 2012 |\n| Dark Side of the Moon | 1973 |\n| Naked                 | 1988 |\n| OK Computer           | 1997 |\n| Abbey Road            | 1969 |\n| Thriller              | 1982 |\n| Rumours               | 1977 |\n| The Joshua Tree       | 1987 |\n\n",
            "text/latex": "A data.frame: 10 × 2\n\\begin{tabular}{ll}\n Album & Year\\\\\n <chr> & <dbl>\\\\\n\\hline\n\t The Low End Theory    & 1991\\\\\n\t Nevermind             & 1991\\\\\n\t Port of Morrow        & 2012\\\\\n\t Dark Side of the Moon & 1973\\\\\n\t Naked                 & 1988\\\\\n\t OK Computer           & 1997\\\\\n\t Abbey Road            & 1969\\\\\n\t Thriller              & 1982\\\\\n\t Rumours               & 1977\\\\\n\t The Joshua Tree       & 1987\\\\\n\\end{tabular}\n",
            "text/plain": [
              "   Album                 Year\n",
              "1  The Low End Theory    1991\n",
              "2  Nevermind             1991\n",
              "3  Port of Morrow        2012\n",
              "4  Dark Side of the Moon 1973\n",
              "5  Naked                 1988\n",
              "6  OK Computer           1997\n",
              "7  Abbey Road            1969\n",
              "8  Thriller              1982\n",
              "9  Rumours               1977\n",
              "10 The Joshua Tree       1987"
            ]
          },
          "metadata": {}
        }
      ]
    },
    {
      "cell_type": "code",
      "source": [
        "df[1:5,]"
      ],
      "metadata": {
        "id": "38AL3VN1rcdw",
        "outputId": "218f9f84-2f72-4872-cc9f-101cf952d1d3",
        "colab": {
          "base_uri": "https://localhost:8080/",
          "height": 255
        }
      },
      "execution_count": 14,
      "outputs": [
        {
          "output_type": "display_data",
          "data": {
            "text/html": [
              "<table class=\"dataframe\">\n",
              "<caption>A data.frame: 5 × 4</caption>\n",
              "<thead>\n",
              "\t<tr><th></th><th scope=col>Album</th><th scope=col>Year</th><th scope=col>Digital</th><th scope=col>Artist</th></tr>\n",
              "\t<tr><th></th><th scope=col>&lt;chr&gt;</th><th scope=col>&lt;dbl&gt;</th><th scope=col>&lt;lgl&gt;</th><th scope=col>&lt;chr&gt;</th></tr>\n",
              "</thead>\n",
              "<tbody>\n",
              "\t<tr><th scope=row>1</th><td>The Low End Theory   </td><td>1991</td><td>FALSE</td><td>A Tribe Called Quest</td></tr>\n",
              "\t<tr><th scope=row>2</th><td>Nevermind            </td><td>1991</td><td>FALSE</td><td>Nirvana             </td></tr>\n",
              "\t<tr><th scope=row>3</th><td>Port of Morrow       </td><td>2012</td><td> TRUE</td><td>The Shins           </td></tr>\n",
              "\t<tr><th scope=row>4</th><td>Dark Side of the Moon</td><td>1973</td><td>FALSE</td><td>Pink Floyd          </td></tr>\n",
              "\t<tr><th scope=row>5</th><td>Naked                </td><td>1988</td><td> TRUE</td><td>Talking Heads       </td></tr>\n",
              "</tbody>\n",
              "</table>\n"
            ],
            "text/markdown": "\nA data.frame: 5 × 4\n\n| <!--/--> | Album &lt;chr&gt; | Year &lt;dbl&gt; | Digital &lt;lgl&gt; | Artist &lt;chr&gt; |\n|---|---|---|---|---|\n| 1 | The Low End Theory    | 1991 | FALSE | A Tribe Called Quest |\n| 2 | Nevermind             | 1991 | FALSE | Nirvana              |\n| 3 | Port of Morrow        | 2012 |  TRUE | The Shins            |\n| 4 | Dark Side of the Moon | 1973 | FALSE | Pink Floyd           |\n| 5 | Naked                 | 1988 |  TRUE | Talking Heads        |\n\n",
            "text/latex": "A data.frame: 5 × 4\n\\begin{tabular}{r|llll}\n  & Album & Year & Digital & Artist\\\\\n  & <chr> & <dbl> & <lgl> & <chr>\\\\\n\\hline\n\t1 & The Low End Theory    & 1991 & FALSE & A Tribe Called Quest\\\\\n\t2 & Nevermind             & 1991 & FALSE & Nirvana             \\\\\n\t3 & Port of Morrow        & 2012 &  TRUE & The Shins           \\\\\n\t4 & Dark Side of the Moon & 1973 & FALSE & Pink Floyd          \\\\\n\t5 & Naked                 & 1988 &  TRUE & Talking Heads       \\\\\n\\end{tabular}\n",
            "text/plain": [
              "  Album                 Year Digital Artist              \n",
              "1 The Low End Theory    1991 FALSE   A Tribe Called Quest\n",
              "2 Nevermind             1991 FALSE   Nirvana             \n",
              "3 Port of Morrow        2012  TRUE   The Shins           \n",
              "4 Dark Side of the Moon 1973 FALSE   Pink Floyd          \n",
              "5 Naked                 1988  TRUE   Talking Heads       "
            ]
          },
          "metadata": {}
        }
      ]
    },
    {
      "cell_type": "code",
      "source": [
        "df[,]"
      ],
      "metadata": {
        "id": "GbnBZ83_2bMN",
        "outputId": "8519a0bf-c27d-4bf3-9db7-fc63e842a367",
        "colab": {
          "base_uri": "https://localhost:8080/",
          "height": 412
        }
      },
      "execution_count": 15,
      "outputs": [
        {
          "output_type": "display_data",
          "data": {
            "text/html": [
              "<table class=\"dataframe\">\n",
              "<caption>A data.frame: 10 × 4</caption>\n",
              "<thead>\n",
              "\t<tr><th scope=col>Album</th><th scope=col>Year</th><th scope=col>Digital</th><th scope=col>Artist</th></tr>\n",
              "\t<tr><th scope=col>&lt;chr&gt;</th><th scope=col>&lt;dbl&gt;</th><th scope=col>&lt;lgl&gt;</th><th scope=col>&lt;chr&gt;</th></tr>\n",
              "</thead>\n",
              "<tbody>\n",
              "\t<tr><td>The Low End Theory   </td><td>1991</td><td>FALSE</td><td>A Tribe Called Quest</td></tr>\n",
              "\t<tr><td>Nevermind            </td><td>1991</td><td>FALSE</td><td>Nirvana             </td></tr>\n",
              "\t<tr><td>Port of Morrow       </td><td>2012</td><td> TRUE</td><td>The Shins           </td></tr>\n",
              "\t<tr><td>Dark Side of the Moon</td><td>1973</td><td>FALSE</td><td>Pink Floyd          </td></tr>\n",
              "\t<tr><td>Naked                </td><td>1988</td><td> TRUE</td><td>Talking Heads       </td></tr>\n",
              "\t<tr><td>OK Computer          </td><td>1997</td><td> TRUE</td><td>Radiohead           </td></tr>\n",
              "\t<tr><td>Abbey Road           </td><td>1969</td><td>FALSE</td><td>The Beatles         </td></tr>\n",
              "\t<tr><td>Thriller             </td><td>1982</td><td>FALSE</td><td>Michael Jackson     </td></tr>\n",
              "\t<tr><td>Rumours              </td><td>1977</td><td>FALSE</td><td>Fleetwood Mac       </td></tr>\n",
              "\t<tr><td>The Joshua Tree      </td><td>1987</td><td> TRUE</td><td>U2                  </td></tr>\n",
              "</tbody>\n",
              "</table>\n"
            ],
            "text/markdown": "\nA data.frame: 10 × 4\n\n| Album &lt;chr&gt; | Year &lt;dbl&gt; | Digital &lt;lgl&gt; | Artist &lt;chr&gt; |\n|---|---|---|---|\n| The Low End Theory    | 1991 | FALSE | A Tribe Called Quest |\n| Nevermind             | 1991 | FALSE | Nirvana              |\n| Port of Morrow        | 2012 |  TRUE | The Shins            |\n| Dark Side of the Moon | 1973 | FALSE | Pink Floyd           |\n| Naked                 | 1988 |  TRUE | Talking Heads        |\n| OK Computer           | 1997 |  TRUE | Radiohead            |\n| Abbey Road            | 1969 | FALSE | The Beatles          |\n| Thriller              | 1982 | FALSE | Michael Jackson      |\n| Rumours               | 1977 | FALSE | Fleetwood Mac        |\n| The Joshua Tree       | 1987 |  TRUE | U2                   |\n\n",
            "text/latex": "A data.frame: 10 × 4\n\\begin{tabular}{llll}\n Album & Year & Digital & Artist\\\\\n <chr> & <dbl> & <lgl> & <chr>\\\\\n\\hline\n\t The Low End Theory    & 1991 & FALSE & A Tribe Called Quest\\\\\n\t Nevermind             & 1991 & FALSE & Nirvana             \\\\\n\t Port of Morrow        & 2012 &  TRUE & The Shins           \\\\\n\t Dark Side of the Moon & 1973 & FALSE & Pink Floyd          \\\\\n\t Naked                 & 1988 &  TRUE & Talking Heads       \\\\\n\t OK Computer           & 1997 &  TRUE & Radiohead           \\\\\n\t Abbey Road            & 1969 & FALSE & The Beatles         \\\\\n\t Thriller              & 1982 & FALSE & Michael Jackson     \\\\\n\t Rumours               & 1977 & FALSE & Fleetwood Mac       \\\\\n\t The Joshua Tree       & 1987 &  TRUE & U2                  \\\\\n\\end{tabular}\n",
            "text/plain": [
              "   Album                 Year Digital Artist              \n",
              "1  The Low End Theory    1991 FALSE   A Tribe Called Quest\n",
              "2  Nevermind             1991 FALSE   Nirvana             \n",
              "3  Port of Morrow        2012  TRUE   The Shins           \n",
              "4  Dark Side of the Moon 1973 FALSE   Pink Floyd          \n",
              "5  Naked                 1988  TRUE   Talking Heads       \n",
              "6  OK Computer           1997  TRUE   Radiohead           \n",
              "7  Abbey Road            1969 FALSE   The Beatles         \n",
              "8  Thriller              1982 FALSE   Michael Jackson     \n",
              "9  Rumours               1977 FALSE   Fleetwood Mac       \n",
              "10 The Joshua Tree       1987  TRUE   U2                  "
            ]
          },
          "metadata": {}
        }
      ]
    },
    {
      "cell_type": "code",
      "source": [
        "df[ , c(1,4)]"
      ],
      "metadata": {
        "id": "Gak4q8U13UpB",
        "outputId": "056bca85-79ea-41ba-df8b-564d2f8f626f",
        "colab": {
          "base_uri": "https://localhost:8080/",
          "height": 412
        }
      },
      "execution_count": 20,
      "outputs": [
        {
          "output_type": "display_data",
          "data": {
            "text/html": [
              "<table class=\"dataframe\">\n",
              "<caption>A data.frame: 10 × 2</caption>\n",
              "<thead>\n",
              "\t<tr><th scope=col>Album</th><th scope=col>Artist</th></tr>\n",
              "\t<tr><th scope=col>&lt;chr&gt;</th><th scope=col>&lt;chr&gt;</th></tr>\n",
              "</thead>\n",
              "<tbody>\n",
              "\t<tr><td>The Low End Theory   </td><td>A Tribe Called Quest</td></tr>\n",
              "\t<tr><td>Nevermind            </td><td>Nirvana             </td></tr>\n",
              "\t<tr><td>Port of Morrow       </td><td>The Shins           </td></tr>\n",
              "\t<tr><td>Dark Side of the Moon</td><td>Pink Floyd          </td></tr>\n",
              "\t<tr><td>Naked                </td><td>Talking Heads       </td></tr>\n",
              "\t<tr><td>OK Computer          </td><td>Radiohead           </td></tr>\n",
              "\t<tr><td>Abbey Road           </td><td>The Beatles         </td></tr>\n",
              "\t<tr><td>Thriller             </td><td>Michael Jackson     </td></tr>\n",
              "\t<tr><td>Rumours              </td><td>Fleetwood Mac       </td></tr>\n",
              "\t<tr><td>The Joshua Tree      </td><td>U2                  </td></tr>\n",
              "</tbody>\n",
              "</table>\n"
            ],
            "text/markdown": "\nA data.frame: 10 × 2\n\n| Album &lt;chr&gt; | Artist &lt;chr&gt; |\n|---|---|\n| The Low End Theory    | A Tribe Called Quest |\n| Nevermind             | Nirvana              |\n| Port of Morrow        | The Shins            |\n| Dark Side of the Moon | Pink Floyd           |\n| Naked                 | Talking Heads        |\n| OK Computer           | Radiohead            |\n| Abbey Road            | The Beatles          |\n| Thriller              | Michael Jackson      |\n| Rumours               | Fleetwood Mac        |\n| The Joshua Tree       | U2                   |\n\n",
            "text/latex": "A data.frame: 10 × 2\n\\begin{tabular}{ll}\n Album & Artist\\\\\n <chr> & <chr>\\\\\n\\hline\n\t The Low End Theory    & A Tribe Called Quest\\\\\n\t Nevermind             & Nirvana             \\\\\n\t Port of Morrow        & The Shins           \\\\\n\t Dark Side of the Moon & Pink Floyd          \\\\\n\t Naked                 & Talking Heads       \\\\\n\t OK Computer           & Radiohead           \\\\\n\t Abbey Road            & The Beatles         \\\\\n\t Thriller              & Michael Jackson     \\\\\n\t Rumours               & Fleetwood Mac       \\\\\n\t The Joshua Tree       & U2                  \\\\\n\\end{tabular}\n",
            "text/plain": [
              "   Album                 Artist              \n",
              "1  The Low End Theory    A Tribe Called Quest\n",
              "2  Nevermind             Nirvana             \n",
              "3  Port of Morrow        The Shins           \n",
              "4  Dark Side of the Moon Pink Floyd          \n",
              "5  Naked                 Talking Heads       \n",
              "6  OK Computer           Radiohead           \n",
              "7  Abbey Road            The Beatles         \n",
              "8  Thriller              Michael Jackson     \n",
              "9  Rumours               Fleetwood Mac       \n",
              "10 The Joshua Tree       U2                  "
            ]
          },
          "metadata": {}
        }
      ]
    },
    {
      "cell_type": "code",
      "source": [
        "df[ 6, 4]"
      ],
      "metadata": {
        "id": "cO-40Noy2jrs",
        "outputId": "e36d8256-4b50-42c8-e887-df871c840efb",
        "colab": {
          "base_uri": "https://localhost:8080/",
          "height": 34
        }
      },
      "execution_count": 17,
      "outputs": [
        {
          "output_type": "display_data",
          "data": {
            "text/html": [
              "'Radiohead'"
            ],
            "text/markdown": "'Radiohead'",
            "text/latex": "'Radiohead'",
            "text/plain": [
              "[1] \"Radiohead\""
            ]
          },
          "metadata": {}
        }
      ]
    },
    {
      "cell_type": "code",
      "source": [
        "df[  , -(2:3) ]"
      ],
      "metadata": {
        "id": "fvPYvHRY22HZ",
        "outputId": "cd5e2f91-fb9d-4762-fedc-0bff22c04356",
        "colab": {
          "base_uri": "https://localhost:8080/",
          "height": 412
        }
      },
      "execution_count": 19,
      "outputs": [
        {
          "output_type": "display_data",
          "data": {
            "text/html": [
              "<table class=\"dataframe\">\n",
              "<caption>A data.frame: 10 × 2</caption>\n",
              "<thead>\n",
              "\t<tr><th scope=col>Album</th><th scope=col>Artist</th></tr>\n",
              "\t<tr><th scope=col>&lt;chr&gt;</th><th scope=col>&lt;chr&gt;</th></tr>\n",
              "</thead>\n",
              "<tbody>\n",
              "\t<tr><td>The Low End Theory   </td><td>A Tribe Called Quest</td></tr>\n",
              "\t<tr><td>Nevermind            </td><td>Nirvana             </td></tr>\n",
              "\t<tr><td>Port of Morrow       </td><td>The Shins           </td></tr>\n",
              "\t<tr><td>Dark Side of the Moon</td><td>Pink Floyd          </td></tr>\n",
              "\t<tr><td>Naked                </td><td>Talking Heads       </td></tr>\n",
              "\t<tr><td>OK Computer          </td><td>Radiohead           </td></tr>\n",
              "\t<tr><td>Abbey Road           </td><td>The Beatles         </td></tr>\n",
              "\t<tr><td>Thriller             </td><td>Michael Jackson     </td></tr>\n",
              "\t<tr><td>Rumours              </td><td>Fleetwood Mac       </td></tr>\n",
              "\t<tr><td>The Joshua Tree      </td><td>U2                  </td></tr>\n",
              "</tbody>\n",
              "</table>\n"
            ],
            "text/markdown": "\nA data.frame: 10 × 2\n\n| Album &lt;chr&gt; | Artist &lt;chr&gt; |\n|---|---|\n| The Low End Theory    | A Tribe Called Quest |\n| Nevermind             | Nirvana              |\n| Port of Morrow        | The Shins            |\n| Dark Side of the Moon | Pink Floyd           |\n| Naked                 | Talking Heads        |\n| OK Computer           | Radiohead            |\n| Abbey Road            | The Beatles          |\n| Thriller              | Michael Jackson      |\n| Rumours               | Fleetwood Mac        |\n| The Joshua Tree       | U2                   |\n\n",
            "text/latex": "A data.frame: 10 × 2\n\\begin{tabular}{ll}\n Album & Artist\\\\\n <chr> & <chr>\\\\\n\\hline\n\t The Low End Theory    & A Tribe Called Quest\\\\\n\t Nevermind             & Nirvana             \\\\\n\t Port of Morrow        & The Shins           \\\\\n\t Dark Side of the Moon & Pink Floyd          \\\\\n\t Naked                 & Talking Heads       \\\\\n\t OK Computer           & Radiohead           \\\\\n\t Abbey Road            & The Beatles         \\\\\n\t Thriller              & Michael Jackson     \\\\\n\t Rumours               & Fleetwood Mac       \\\\\n\t The Joshua Tree       & U2                  \\\\\n\\end{tabular}\n",
            "text/plain": [
              "   Album                 Artist              \n",
              "1  The Low End Theory    A Tribe Called Quest\n",
              "2  Nevermind             Nirvana             \n",
              "3  Port of Morrow        The Shins           \n",
              "4  Dark Side of the Moon Pink Floyd          \n",
              "5  Naked                 Talking Heads       \n",
              "6  OK Computer           Radiohead           \n",
              "7  Abbey Road            The Beatles         \n",
              "8  Thriller              Michael Jackson     \n",
              "9  Rumours               Fleetwood Mac       \n",
              "10 The Joshua Tree       U2                  "
            ]
          },
          "metadata": {}
        }
      ]
    },
    {
      "cell_type": "markdown",
      "source": [
        "## Slicing & Filtering\n",
        "\n",
        "Indicate the indexes of the row you want, appended with a comma and empty value for a column specification. This can be the first half of the slice brackets `[ ]`.\n",
        "\n",
        "The command below asks for all columns of records 1-3:"
      ],
      "metadata": {
        "id": "h-gXCaG80ycL"
      }
    },
    {
      "cell_type": "code",
      "source": [
        "df"
      ],
      "metadata": {
        "id": "ITNDQcqb3mWl",
        "outputId": "8aa3bd7d-ec8c-4ae9-d425-514797a82d6d",
        "colab": {
          "base_uri": "https://localhost:8080/",
          "height": 412
        }
      },
      "execution_count": 21,
      "outputs": [
        {
          "output_type": "display_data",
          "data": {
            "text/html": [
              "<table class=\"dataframe\">\n",
              "<caption>A data.frame: 10 × 4</caption>\n",
              "<thead>\n",
              "\t<tr><th scope=col>Album</th><th scope=col>Year</th><th scope=col>Digital</th><th scope=col>Artist</th></tr>\n",
              "\t<tr><th scope=col>&lt;chr&gt;</th><th scope=col>&lt;dbl&gt;</th><th scope=col>&lt;lgl&gt;</th><th scope=col>&lt;chr&gt;</th></tr>\n",
              "</thead>\n",
              "<tbody>\n",
              "\t<tr><td>The Low End Theory   </td><td>1991</td><td>FALSE</td><td>A Tribe Called Quest</td></tr>\n",
              "\t<tr><td>Nevermind            </td><td>1991</td><td>FALSE</td><td>Nirvana             </td></tr>\n",
              "\t<tr><td>Port of Morrow       </td><td>2012</td><td> TRUE</td><td>The Shins           </td></tr>\n",
              "\t<tr><td>Dark Side of the Moon</td><td>1973</td><td>FALSE</td><td>Pink Floyd          </td></tr>\n",
              "\t<tr><td>Naked                </td><td>1988</td><td> TRUE</td><td>Talking Heads       </td></tr>\n",
              "\t<tr><td>OK Computer          </td><td>1997</td><td> TRUE</td><td>Radiohead           </td></tr>\n",
              "\t<tr><td>Abbey Road           </td><td>1969</td><td>FALSE</td><td>The Beatles         </td></tr>\n",
              "\t<tr><td>Thriller             </td><td>1982</td><td>FALSE</td><td>Michael Jackson     </td></tr>\n",
              "\t<tr><td>Rumours              </td><td>1977</td><td>FALSE</td><td>Fleetwood Mac       </td></tr>\n",
              "\t<tr><td>The Joshua Tree      </td><td>1987</td><td> TRUE</td><td>U2                  </td></tr>\n",
              "</tbody>\n",
              "</table>\n"
            ],
            "text/markdown": "\nA data.frame: 10 × 4\n\n| Album &lt;chr&gt; | Year &lt;dbl&gt; | Digital &lt;lgl&gt; | Artist &lt;chr&gt; |\n|---|---|---|---|\n| The Low End Theory    | 1991 | FALSE | A Tribe Called Quest |\n| Nevermind             | 1991 | FALSE | Nirvana              |\n| Port of Morrow        | 2012 |  TRUE | The Shins            |\n| Dark Side of the Moon | 1973 | FALSE | Pink Floyd           |\n| Naked                 | 1988 |  TRUE | Talking Heads        |\n| OK Computer           | 1997 |  TRUE | Radiohead            |\n| Abbey Road            | 1969 | FALSE | The Beatles          |\n| Thriller              | 1982 | FALSE | Michael Jackson      |\n| Rumours               | 1977 | FALSE | Fleetwood Mac        |\n| The Joshua Tree       | 1987 |  TRUE | U2                   |\n\n",
            "text/latex": "A data.frame: 10 × 4\n\\begin{tabular}{llll}\n Album & Year & Digital & Artist\\\\\n <chr> & <dbl> & <lgl> & <chr>\\\\\n\\hline\n\t The Low End Theory    & 1991 & FALSE & A Tribe Called Quest\\\\\n\t Nevermind             & 1991 & FALSE & Nirvana             \\\\\n\t Port of Morrow        & 2012 &  TRUE & The Shins           \\\\\n\t Dark Side of the Moon & 1973 & FALSE & Pink Floyd          \\\\\n\t Naked                 & 1988 &  TRUE & Talking Heads       \\\\\n\t OK Computer           & 1997 &  TRUE & Radiohead           \\\\\n\t Abbey Road            & 1969 & FALSE & The Beatles         \\\\\n\t Thriller              & 1982 & FALSE & Michael Jackson     \\\\\n\t Rumours               & 1977 & FALSE & Fleetwood Mac       \\\\\n\t The Joshua Tree       & 1987 &  TRUE & U2                  \\\\\n\\end{tabular}\n",
            "text/plain": [
              "   Album                 Year Digital Artist              \n",
              "1  The Low End Theory    1991 FALSE   A Tribe Called Quest\n",
              "2  Nevermind             1991 FALSE   Nirvana             \n",
              "3  Port of Morrow        2012  TRUE   The Shins           \n",
              "4  Dark Side of the Moon 1973 FALSE   Pink Floyd          \n",
              "5  Naked                 1988  TRUE   Talking Heads       \n",
              "6  OK Computer           1997  TRUE   Radiohead           \n",
              "7  Abbey Road            1969 FALSE   The Beatles         \n",
              "8  Thriller              1982 FALSE   Michael Jackson     \n",
              "9  Rumours               1977 FALSE   Fleetwood Mac       \n",
              "10 The Joshua Tree       1987  TRUE   U2                  "
            ]
          },
          "metadata": {}
        }
      ]
    },
    {
      "cell_type": "code",
      "source": [
        "df[ c(1,9,4,5) , c(4,2)]"
      ],
      "metadata": {
        "id": "YmT3QzrA3pvm",
        "outputId": "0218da09-10fa-4b20-fd61-b525268113a1",
        "colab": {
          "base_uri": "https://localhost:8080/",
          "height": 224
        }
      },
      "execution_count": 23,
      "outputs": [
        {
          "output_type": "display_data",
          "data": {
            "text/html": [
              "<table class=\"dataframe\">\n",
              "<caption>A data.frame: 4 × 2</caption>\n",
              "<thead>\n",
              "\t<tr><th></th><th scope=col>Artist</th><th scope=col>Year</th></tr>\n",
              "\t<tr><th></th><th scope=col>&lt;chr&gt;</th><th scope=col>&lt;dbl&gt;</th></tr>\n",
              "</thead>\n",
              "<tbody>\n",
              "\t<tr><th scope=row>1</th><td>A Tribe Called Quest</td><td>1991</td></tr>\n",
              "\t<tr><th scope=row>9</th><td>Fleetwood Mac       </td><td>1977</td></tr>\n",
              "\t<tr><th scope=row>4</th><td>Pink Floyd          </td><td>1973</td></tr>\n",
              "\t<tr><th scope=row>5</th><td>Talking Heads       </td><td>1988</td></tr>\n",
              "</tbody>\n",
              "</table>\n"
            ],
            "text/markdown": "\nA data.frame: 4 × 2\n\n| <!--/--> | Artist &lt;chr&gt; | Year &lt;dbl&gt; |\n|---|---|---|\n| 1 | A Tribe Called Quest | 1991 |\n| 9 | Fleetwood Mac        | 1977 |\n| 4 | Pink Floyd           | 1973 |\n| 5 | Talking Heads        | 1988 |\n\n",
            "text/latex": "A data.frame: 4 × 2\n\\begin{tabular}{r|ll}\n  & Artist & Year\\\\\n  & <chr> & <dbl>\\\\\n\\hline\n\t1 & A Tribe Called Quest & 1991\\\\\n\t9 & Fleetwood Mac        & 1977\\\\\n\t4 & Pink Floyd           & 1973\\\\\n\t5 & Talking Heads        & 1988\\\\\n\\end{tabular}\n",
            "text/plain": [
              "  Artist               Year\n",
              "1 A Tribe Called Quest 1991\n",
              "9 Fleetwood Mac        1977\n",
              "4 Pink Floyd           1973\n",
              "5 Talking Heads        1988"
            ]
          },
          "metadata": {}
        }
      ]
    },
    {
      "cell_type": "code",
      "source": [
        "df[1:3,]"
      ],
      "metadata": {
        "id": "LA0GRu0U0hQV"
      },
      "execution_count": null,
      "outputs": []
    },
    {
      "cell_type": "code",
      "source": [],
      "metadata": {
        "id": "i3P7nUp8rc_S"
      },
      "execution_count": null,
      "outputs": []
    },
    {
      "cell_type": "markdown",
      "source": [
        "Or this example asks for records 1-3, and columns 1-2."
      ],
      "metadata": {
        "id": "8peoVEG91EFj"
      }
    },
    {
      "cell_type": "code",
      "source": [
        "df[1:3,1:2]"
      ],
      "metadata": {
        "id": "GVCCKzcQ0Xzz"
      },
      "execution_count": null,
      "outputs": []
    },
    {
      "cell_type": "code",
      "source": [],
      "metadata": {
        "id": "wePwxBOBrdYo"
      },
      "execution_count": null,
      "outputs": []
    },
    {
      "cell_type": "markdown",
      "source": [
        "Select specific rows by combining them into the first half of the slice bracket `[ ]`."
      ],
      "metadata": {
        "id": "5zLCIQ13AcGO"
      }
    },
    {
      "cell_type": "code",
      "source": [
        "df[c(1,3,4),]"
      ],
      "metadata": {
        "id": "6sXb7VFOAHJr"
      },
      "execution_count": null,
      "outputs": []
    },
    {
      "cell_type": "code",
      "source": [],
      "metadata": {
        "id": "87hUVCUore15"
      },
      "execution_count": null,
      "outputs": []
    },
    {
      "cell_type": "code",
      "source": [
        "df[ , c(\"Album\",\"Artist\")]"
      ],
      "metadata": {
        "id": "peITLKjS4LY2",
        "outputId": "971e2fd9-4f8b-473e-8316-bc58e4a48036",
        "colab": {
          "base_uri": "https://localhost:8080/",
          "height": 412
        }
      },
      "execution_count": 25,
      "outputs": [
        {
          "output_type": "display_data",
          "data": {
            "text/html": [
              "<table class=\"dataframe\">\n",
              "<caption>A data.frame: 10 × 2</caption>\n",
              "<thead>\n",
              "\t<tr><th scope=col>Album</th><th scope=col>Artist</th></tr>\n",
              "\t<tr><th scope=col>&lt;chr&gt;</th><th scope=col>&lt;chr&gt;</th></tr>\n",
              "</thead>\n",
              "<tbody>\n",
              "\t<tr><td>The Low End Theory   </td><td>A Tribe Called Quest</td></tr>\n",
              "\t<tr><td>Nevermind            </td><td>Nirvana             </td></tr>\n",
              "\t<tr><td>Port of Morrow       </td><td>The Shins           </td></tr>\n",
              "\t<tr><td>Dark Side of the Moon</td><td>Pink Floyd          </td></tr>\n",
              "\t<tr><td>Naked                </td><td>Talking Heads       </td></tr>\n",
              "\t<tr><td>OK Computer          </td><td>Radiohead           </td></tr>\n",
              "\t<tr><td>Abbey Road           </td><td>The Beatles         </td></tr>\n",
              "\t<tr><td>Thriller             </td><td>Michael Jackson     </td></tr>\n",
              "\t<tr><td>Rumours              </td><td>Fleetwood Mac       </td></tr>\n",
              "\t<tr><td>The Joshua Tree      </td><td>U2                  </td></tr>\n",
              "</tbody>\n",
              "</table>\n"
            ],
            "text/markdown": "\nA data.frame: 10 × 2\n\n| Album &lt;chr&gt; | Artist &lt;chr&gt; |\n|---|---|\n| The Low End Theory    | A Tribe Called Quest |\n| Nevermind             | Nirvana              |\n| Port of Morrow        | The Shins            |\n| Dark Side of the Moon | Pink Floyd           |\n| Naked                 | Talking Heads        |\n| OK Computer           | Radiohead            |\n| Abbey Road            | The Beatles          |\n| Thriller              | Michael Jackson      |\n| Rumours               | Fleetwood Mac        |\n| The Joshua Tree       | U2                   |\n\n",
            "text/latex": "A data.frame: 10 × 2\n\\begin{tabular}{ll}\n Album & Artist\\\\\n <chr> & <chr>\\\\\n\\hline\n\t The Low End Theory    & A Tribe Called Quest\\\\\n\t Nevermind             & Nirvana             \\\\\n\t Port of Morrow        & The Shins           \\\\\n\t Dark Side of the Moon & Pink Floyd          \\\\\n\t Naked                 & Talking Heads       \\\\\n\t OK Computer           & Radiohead           \\\\\n\t Abbey Road            & The Beatles         \\\\\n\t Thriller              & Michael Jackson     \\\\\n\t Rumours               & Fleetwood Mac       \\\\\n\t The Joshua Tree       & U2                  \\\\\n\\end{tabular}\n",
            "text/plain": [
              "   Album                 Artist              \n",
              "1  The Low End Theory    A Tribe Called Quest\n",
              "2  Nevermind             Nirvana             \n",
              "3  Port of Morrow        The Shins           \n",
              "4  Dark Side of the Moon Pink Floyd          \n",
              "5  Naked                 Talking Heads       \n",
              "6  OK Computer           Radiohead           \n",
              "7  Abbey Road            The Beatles         \n",
              "8  Thriller              Michael Jackson     \n",
              "9  Rumours               Fleetwood Mac       \n",
              "10 The Joshua Tree       U2                  "
            ]
          },
          "metadata": {}
        }
      ]
    },
    {
      "cell_type": "markdown",
      "source": [
        "Select specific rows based on filter. Here we **query** the data frame for all albums with a `FALSE` value for the `vinyl` column."
      ],
      "metadata": {
        "id": "9DBBaJYXA3Gj"
      }
    },
    {
      "cell_type": "code",
      "source": [
        "df"
      ],
      "metadata": {
        "id": "jAGMKlt_4BV8",
        "outputId": "d7fc3b7d-3e45-4a45-c0ee-bd5e88601294",
        "colab": {
          "base_uri": "https://localhost:8080/",
          "height": 412
        }
      },
      "execution_count": 24,
      "outputs": [
        {
          "output_type": "display_data",
          "data": {
            "text/html": [
              "<table class=\"dataframe\">\n",
              "<caption>A data.frame: 10 × 4</caption>\n",
              "<thead>\n",
              "\t<tr><th scope=col>Album</th><th scope=col>Year</th><th scope=col>Digital</th><th scope=col>Artist</th></tr>\n",
              "\t<tr><th scope=col>&lt;chr&gt;</th><th scope=col>&lt;dbl&gt;</th><th scope=col>&lt;lgl&gt;</th><th scope=col>&lt;chr&gt;</th></tr>\n",
              "</thead>\n",
              "<tbody>\n",
              "\t<tr><td>The Low End Theory   </td><td>1991</td><td>FALSE</td><td>A Tribe Called Quest</td></tr>\n",
              "\t<tr><td>Nevermind            </td><td>1991</td><td>FALSE</td><td>Nirvana             </td></tr>\n",
              "\t<tr><td>Port of Morrow       </td><td>2012</td><td> TRUE</td><td>The Shins           </td></tr>\n",
              "\t<tr><td>Dark Side of the Moon</td><td>1973</td><td>FALSE</td><td>Pink Floyd          </td></tr>\n",
              "\t<tr><td>Naked                </td><td>1988</td><td> TRUE</td><td>Talking Heads       </td></tr>\n",
              "\t<tr><td>OK Computer          </td><td>1997</td><td> TRUE</td><td>Radiohead           </td></tr>\n",
              "\t<tr><td>Abbey Road           </td><td>1969</td><td>FALSE</td><td>The Beatles         </td></tr>\n",
              "\t<tr><td>Thriller             </td><td>1982</td><td>FALSE</td><td>Michael Jackson     </td></tr>\n",
              "\t<tr><td>Rumours              </td><td>1977</td><td>FALSE</td><td>Fleetwood Mac       </td></tr>\n",
              "\t<tr><td>The Joshua Tree      </td><td>1987</td><td> TRUE</td><td>U2                  </td></tr>\n",
              "</tbody>\n",
              "</table>\n"
            ],
            "text/markdown": "\nA data.frame: 10 × 4\n\n| Album &lt;chr&gt; | Year &lt;dbl&gt; | Digital &lt;lgl&gt; | Artist &lt;chr&gt; |\n|---|---|---|---|\n| The Low End Theory    | 1991 | FALSE | A Tribe Called Quest |\n| Nevermind             | 1991 | FALSE | Nirvana              |\n| Port of Morrow        | 2012 |  TRUE | The Shins            |\n| Dark Side of the Moon | 1973 | FALSE | Pink Floyd           |\n| Naked                 | 1988 |  TRUE | Talking Heads        |\n| OK Computer           | 1997 |  TRUE | Radiohead            |\n| Abbey Road            | 1969 | FALSE | The Beatles          |\n| Thriller              | 1982 | FALSE | Michael Jackson      |\n| Rumours               | 1977 | FALSE | Fleetwood Mac        |\n| The Joshua Tree       | 1987 |  TRUE | U2                   |\n\n",
            "text/latex": "A data.frame: 10 × 4\n\\begin{tabular}{llll}\n Album & Year & Digital & Artist\\\\\n <chr> & <dbl> & <lgl> & <chr>\\\\\n\\hline\n\t The Low End Theory    & 1991 & FALSE & A Tribe Called Quest\\\\\n\t Nevermind             & 1991 & FALSE & Nirvana             \\\\\n\t Port of Morrow        & 2012 &  TRUE & The Shins           \\\\\n\t Dark Side of the Moon & 1973 & FALSE & Pink Floyd          \\\\\n\t Naked                 & 1988 &  TRUE & Talking Heads       \\\\\n\t OK Computer           & 1997 &  TRUE & Radiohead           \\\\\n\t Abbey Road            & 1969 & FALSE & The Beatles         \\\\\n\t Thriller              & 1982 & FALSE & Michael Jackson     \\\\\n\t Rumours               & 1977 & FALSE & Fleetwood Mac       \\\\\n\t The Joshua Tree       & 1987 &  TRUE & U2                  \\\\\n\\end{tabular}\n",
            "text/plain": [
              "   Album                 Year Digital Artist              \n",
              "1  The Low End Theory    1991 FALSE   A Tribe Called Quest\n",
              "2  Nevermind             1991 FALSE   Nirvana             \n",
              "3  Port of Morrow        2012  TRUE   The Shins           \n",
              "4  Dark Side of the Moon 1973 FALSE   Pink Floyd          \n",
              "5  Naked                 1988  TRUE   Talking Heads       \n",
              "6  OK Computer           1997  TRUE   Radiohead           \n",
              "7  Abbey Road            1969 FALSE   The Beatles         \n",
              "8  Thriller              1982 FALSE   Michael Jackson     \n",
              "9  Rumours               1977 FALSE   Fleetwood Mac       \n",
              "10 The Joshua Tree       1987  TRUE   U2                  "
            ]
          },
          "metadata": {}
        }
      ]
    },
    {
      "cell_type": "code",
      "source": [
        "df[df$Digital == FALSE,]"
      ],
      "metadata": {
        "id": "4-KEbOt9A_ZV"
      },
      "execution_count": null,
      "outputs": []
    },
    {
      "cell_type": "code",
      "source": [
        "df[df$Digital != FALSE , ]"
      ],
      "metadata": {
        "id": "HQuMUqWt4gF4",
        "outputId": "d6ce1d42-98ee-4e44-8c14-6132ef32c5d6",
        "colab": {
          "base_uri": "https://localhost:8080/",
          "height": 224
        }
      },
      "execution_count": 28,
      "outputs": [
        {
          "output_type": "display_data",
          "data": {
            "text/html": [
              "<table class=\"dataframe\">\n",
              "<caption>A data.frame: 4 × 4</caption>\n",
              "<thead>\n",
              "\t<tr><th></th><th scope=col>Album</th><th scope=col>Year</th><th scope=col>Digital</th><th scope=col>Artist</th></tr>\n",
              "\t<tr><th></th><th scope=col>&lt;chr&gt;</th><th scope=col>&lt;dbl&gt;</th><th scope=col>&lt;lgl&gt;</th><th scope=col>&lt;chr&gt;</th></tr>\n",
              "</thead>\n",
              "<tbody>\n",
              "\t<tr><th scope=row>3</th><td>Port of Morrow </td><td>2012</td><td>TRUE</td><td>The Shins    </td></tr>\n",
              "\t<tr><th scope=row>5</th><td>Naked          </td><td>1988</td><td>TRUE</td><td>Talking Heads</td></tr>\n",
              "\t<tr><th scope=row>6</th><td>OK Computer    </td><td>1997</td><td>TRUE</td><td>Radiohead    </td></tr>\n",
              "\t<tr><th scope=row>10</th><td>The Joshua Tree</td><td>1987</td><td>TRUE</td><td>U2           </td></tr>\n",
              "</tbody>\n",
              "</table>\n"
            ],
            "text/markdown": "\nA data.frame: 4 × 4\n\n| <!--/--> | Album &lt;chr&gt; | Year &lt;dbl&gt; | Digital &lt;lgl&gt; | Artist &lt;chr&gt; |\n|---|---|---|---|---|\n| 3 | Port of Morrow  | 2012 | TRUE | The Shins     |\n| 5 | Naked           | 1988 | TRUE | Talking Heads |\n| 6 | OK Computer     | 1997 | TRUE | Radiohead     |\n| 10 | The Joshua Tree | 1987 | TRUE | U2            |\n\n",
            "text/latex": "A data.frame: 4 × 4\n\\begin{tabular}{r|llll}\n  & Album & Year & Digital & Artist\\\\\n  & <chr> & <dbl> & <lgl> & <chr>\\\\\n\\hline\n\t3 & Port of Morrow  & 2012 & TRUE & The Shins    \\\\\n\t5 & Naked           & 1988 & TRUE & Talking Heads\\\\\n\t6 & OK Computer     & 1997 & TRUE & Radiohead    \\\\\n\t10 & The Joshua Tree & 1987 & TRUE & U2           \\\\\n\\end{tabular}\n",
            "text/plain": [
              "   Album           Year Digital Artist       \n",
              "3  Port of Morrow  2012 TRUE    The Shins    \n",
              "5  Naked           1988 TRUE    Talking Heads\n",
              "6  OK Computer     1997 TRUE    Radiohead    \n",
              "10 The Joshua Tree 1987 TRUE    U2           "
            ]
          },
          "metadata": {}
        }
      ]
    },
    {
      "cell_type": "code",
      "source": [
        "# Now we can search a larger data set:\n",
        "df[df$Digital == TRUE,]"
      ],
      "metadata": {
        "id": "e0NVotYFChW7"
      },
      "execution_count": null,
      "outputs": []
    },
    {
      "cell_type": "code",
      "source": [
        "# Or using mathematical operators to filter:\n",
        "\n",
        "df[df$Year > 1990,]"
      ],
      "metadata": {
        "id": "oRCI49okCmG5",
        "colab": {
          "base_uri": "https://localhost:8080/",
          "height": 224
        },
        "outputId": "d03ff315-7f73-4d02-9289-44a55feb9f04"
      },
      "execution_count": 29,
      "outputs": [
        {
          "output_type": "display_data",
          "data": {
            "text/html": [
              "<table class=\"dataframe\">\n",
              "<caption>A data.frame: 4 × 4</caption>\n",
              "<thead>\n",
              "\t<tr><th></th><th scope=col>Album</th><th scope=col>Year</th><th scope=col>Digital</th><th scope=col>Artist</th></tr>\n",
              "\t<tr><th></th><th scope=col>&lt;chr&gt;</th><th scope=col>&lt;dbl&gt;</th><th scope=col>&lt;lgl&gt;</th><th scope=col>&lt;chr&gt;</th></tr>\n",
              "</thead>\n",
              "<tbody>\n",
              "\t<tr><th scope=row>1</th><td>The Low End Theory</td><td>1991</td><td>FALSE</td><td>A Tribe Called Quest</td></tr>\n",
              "\t<tr><th scope=row>2</th><td>Nevermind         </td><td>1991</td><td>FALSE</td><td>Nirvana             </td></tr>\n",
              "\t<tr><th scope=row>3</th><td>Port of Morrow    </td><td>2012</td><td> TRUE</td><td>The Shins           </td></tr>\n",
              "\t<tr><th scope=row>6</th><td>OK Computer       </td><td>1997</td><td> TRUE</td><td>Radiohead           </td></tr>\n",
              "</tbody>\n",
              "</table>\n"
            ],
            "text/markdown": "\nA data.frame: 4 × 4\n\n| <!--/--> | Album &lt;chr&gt; | Year &lt;dbl&gt; | Digital &lt;lgl&gt; | Artist &lt;chr&gt; |\n|---|---|---|---|---|\n| 1 | The Low End Theory | 1991 | FALSE | A Tribe Called Quest |\n| 2 | Nevermind          | 1991 | FALSE | Nirvana              |\n| 3 | Port of Morrow     | 2012 |  TRUE | The Shins            |\n| 6 | OK Computer        | 1997 |  TRUE | Radiohead            |\n\n",
            "text/latex": "A data.frame: 4 × 4\n\\begin{tabular}{r|llll}\n  & Album & Year & Digital & Artist\\\\\n  & <chr> & <dbl> & <lgl> & <chr>\\\\\n\\hline\n\t1 & The Low End Theory & 1991 & FALSE & A Tribe Called Quest\\\\\n\t2 & Nevermind          & 1991 & FALSE & Nirvana             \\\\\n\t3 & Port of Morrow     & 2012 &  TRUE & The Shins           \\\\\n\t6 & OK Computer        & 1997 &  TRUE & Radiohead           \\\\\n\\end{tabular}\n",
            "text/plain": [
              "  Album              Year Digital Artist              \n",
              "1 The Low End Theory 1991 FALSE   A Tribe Called Quest\n",
              "2 Nevermind          1991 FALSE   Nirvana             \n",
              "3 Port of Morrow     2012  TRUE   The Shins           \n",
              "6 OK Computer        1997  TRUE   Radiohead           "
            ]
          },
          "metadata": {}
        }
      ]
    },
    {
      "cell_type": "code",
      "source": [
        "# Or combine operators to filter more carefully. All comparison operators can be used\n",
        "# ( ==, !=, <, >, <=, <= )\n",
        "#\n",
        "# as well as all logical operators\n",
        "#   - AND: &\n",
        "#   -  OR: |\n",
        "#   - NOT: !\n",
        "\n",
        "df[df$Year > 1990 & df$Digital == TRUE,]"
      ],
      "metadata": {
        "id": "PGA6204YC6L5",
        "colab": {
          "base_uri": "https://localhost:8080/",
          "height": 161
        },
        "outputId": "dbd1067e-e15f-4a36-a0dd-41f59aa89362"
      },
      "execution_count": 32,
      "outputs": [
        {
          "output_type": "display_data",
          "data": {
            "text/html": [
              "<table class=\"dataframe\">\n",
              "<caption>A data.frame: 2 × 4</caption>\n",
              "<thead>\n",
              "\t<tr><th></th><th scope=col>Album</th><th scope=col>Year</th><th scope=col>Digital</th><th scope=col>Artist</th></tr>\n",
              "\t<tr><th></th><th scope=col>&lt;chr&gt;</th><th scope=col>&lt;dbl&gt;</th><th scope=col>&lt;lgl&gt;</th><th scope=col>&lt;chr&gt;</th></tr>\n",
              "</thead>\n",
              "<tbody>\n",
              "\t<tr><th scope=row>3</th><td>Port of Morrow</td><td>2012</td><td>TRUE</td><td>The Shins</td></tr>\n",
              "\t<tr><th scope=row>6</th><td>OK Computer   </td><td>1997</td><td>TRUE</td><td>Radiohead</td></tr>\n",
              "</tbody>\n",
              "</table>\n"
            ],
            "text/markdown": "\nA data.frame: 2 × 4\n\n| <!--/--> | Album &lt;chr&gt; | Year &lt;dbl&gt; | Digital &lt;lgl&gt; | Artist &lt;chr&gt; |\n|---|---|---|---|---|\n| 3 | Port of Morrow | 2012 | TRUE | The Shins |\n| 6 | OK Computer    | 1997 | TRUE | Radiohead |\n\n",
            "text/latex": "A data.frame: 2 × 4\n\\begin{tabular}{r|llll}\n  & Album & Year & Digital & Artist\\\\\n  & <chr> & <dbl> & <lgl> & <chr>\\\\\n\\hline\n\t3 & Port of Morrow & 2012 & TRUE & The Shins\\\\\n\t6 & OK Computer    & 1997 & TRUE & Radiohead\\\\\n\\end{tabular}\n",
            "text/plain": [
              "  Album          Year Digital Artist   \n",
              "3 Port of Morrow 2012 TRUE    The Shins\n",
              "6 OK Computer    1997 TRUE    Radiohead"
            ]
          },
          "metadata": {}
        }
      ]
    },
    {
      "cell_type": "code",
      "source": [
        "df[df$Year > 1990 | df$Digital == FALSE,]"
      ],
      "metadata": {
        "id": "Jc3bTjvGU2Oe",
        "colab": {
          "base_uri": "https://localhost:8080/",
          "height": 349
        },
        "outputId": "a32ab956-a0a4-4e99-f48c-1c98a67f2b43"
      },
      "execution_count": 34,
      "outputs": [
        {
          "output_type": "display_data",
          "data": {
            "text/html": [
              "<table class=\"dataframe\">\n",
              "<caption>A data.frame: 8 × 4</caption>\n",
              "<thead>\n",
              "\t<tr><th></th><th scope=col>Album</th><th scope=col>Year</th><th scope=col>Digital</th><th scope=col>Artist</th></tr>\n",
              "\t<tr><th></th><th scope=col>&lt;chr&gt;</th><th scope=col>&lt;dbl&gt;</th><th scope=col>&lt;lgl&gt;</th><th scope=col>&lt;chr&gt;</th></tr>\n",
              "</thead>\n",
              "<tbody>\n",
              "\t<tr><th scope=row>1</th><td>The Low End Theory   </td><td>1991</td><td>FALSE</td><td>A Tribe Called Quest</td></tr>\n",
              "\t<tr><th scope=row>2</th><td>Nevermind            </td><td>1991</td><td>FALSE</td><td>Nirvana             </td></tr>\n",
              "\t<tr><th scope=row>3</th><td>Port of Morrow       </td><td>2012</td><td> TRUE</td><td>The Shins           </td></tr>\n",
              "\t<tr><th scope=row>4</th><td>Dark Side of the Moon</td><td>1973</td><td>FALSE</td><td>Pink Floyd          </td></tr>\n",
              "\t<tr><th scope=row>6</th><td>OK Computer          </td><td>1997</td><td> TRUE</td><td>Radiohead           </td></tr>\n",
              "\t<tr><th scope=row>7</th><td>Abbey Road           </td><td>1969</td><td>FALSE</td><td>The Beatles         </td></tr>\n",
              "\t<tr><th scope=row>8</th><td>Thriller             </td><td>1982</td><td>FALSE</td><td>Michael Jackson     </td></tr>\n",
              "\t<tr><th scope=row>9</th><td>Rumours              </td><td>1977</td><td>FALSE</td><td>Fleetwood Mac       </td></tr>\n",
              "</tbody>\n",
              "</table>\n"
            ],
            "text/markdown": "\nA data.frame: 8 × 4\n\n| <!--/--> | Album &lt;chr&gt; | Year &lt;dbl&gt; | Digital &lt;lgl&gt; | Artist &lt;chr&gt; |\n|---|---|---|---|---|\n| 1 | The Low End Theory    | 1991 | FALSE | A Tribe Called Quest |\n| 2 | Nevermind             | 1991 | FALSE | Nirvana              |\n| 3 | Port of Morrow        | 2012 |  TRUE | The Shins            |\n| 4 | Dark Side of the Moon | 1973 | FALSE | Pink Floyd           |\n| 6 | OK Computer           | 1997 |  TRUE | Radiohead            |\n| 7 | Abbey Road            | 1969 | FALSE | The Beatles          |\n| 8 | Thriller              | 1982 | FALSE | Michael Jackson      |\n| 9 | Rumours               | 1977 | FALSE | Fleetwood Mac        |\n\n",
            "text/latex": "A data.frame: 8 × 4\n\\begin{tabular}{r|llll}\n  & Album & Year & Digital & Artist\\\\\n  & <chr> & <dbl> & <lgl> & <chr>\\\\\n\\hline\n\t1 & The Low End Theory    & 1991 & FALSE & A Tribe Called Quest\\\\\n\t2 & Nevermind             & 1991 & FALSE & Nirvana             \\\\\n\t3 & Port of Morrow        & 2012 &  TRUE & The Shins           \\\\\n\t4 & Dark Side of the Moon & 1973 & FALSE & Pink Floyd          \\\\\n\t6 & OK Computer           & 1997 &  TRUE & Radiohead           \\\\\n\t7 & Abbey Road            & 1969 & FALSE & The Beatles         \\\\\n\t8 & Thriller              & 1982 & FALSE & Michael Jackson     \\\\\n\t9 & Rumours               & 1977 & FALSE & Fleetwood Mac       \\\\\n\\end{tabular}\n",
            "text/plain": [
              "  Album                 Year Digital Artist              \n",
              "1 The Low End Theory    1991 FALSE   A Tribe Called Quest\n",
              "2 Nevermind             1991 FALSE   Nirvana             \n",
              "3 Port of Morrow        2012  TRUE   The Shins           \n",
              "4 Dark Side of the Moon 1973 FALSE   Pink Floyd          \n",
              "6 OK Computer           1997  TRUE   Radiohead           \n",
              "7 Abbey Road            1969 FALSE   The Beatles         \n",
              "8 Thriller              1982 FALSE   Michael Jackson     \n",
              "9 Rumours               1977 FALSE   Fleetwood Mac       "
            ]
          },
          "metadata": {}
        }
      ]
    },
    {
      "cell_type": "markdown",
      "source": [
        "## Sorting"
      ],
      "metadata": {
        "id": "Oq97kv7GD_Aw"
      }
    },
    {
      "cell_type": "code",
      "source": [
        "df_by_year <- df[order(df$Year),]\n",
        "df_by_year"
      ],
      "metadata": {
        "id": "gJexNaicEBAr"
      },
      "execution_count": null,
      "outputs": []
    },
    {
      "cell_type": "markdown",
      "source": [
        "## `tidyverse`\n",
        "\n",
        "All of the above operations -- selecting, querying, filtering, sorting -- are also possible (more easily) using methods built into the `tidyverse` library.\n",
        "\n",
        "Import that and then we will review those operations.\n",
        "\n",
        "```\n",
        "Understand the PIPE in tidyverse: %>%\n",
        "```"
      ],
      "metadata": {
        "id": "WgHUTHCs7lYl"
      }
    },
    {
      "cell_type": "code",
      "source": [
        "install.packages(\"tidyverse\")\n",
        "library(tidyverse)"
      ],
      "metadata": {
        "id": "UzQePd_e7y6i"
      },
      "execution_count": 36,
      "outputs": []
    },
    {
      "cell_type": "code",
      "source": [
        "%>% = piping"
      ],
      "metadata": {
        "id": "0h24cni1qIaT"
      },
      "execution_count": null,
      "outputs": []
    },
    {
      "cell_type": "code",
      "source": [
        "df %>%\n",
        "  select(Album, Year) %>%\n",
        "  filter(Year > 1990)"
      ],
      "metadata": {
        "colab": {
          "base_uri": "https://localhost:8080/",
          "height": 224
        },
        "id": "dqPUb20q8Z_1",
        "outputId": "ca9e5a3c-22bc-416d-a080-409426a614b4"
      },
      "execution_count": 37,
      "outputs": [
        {
          "output_type": "display_data",
          "data": {
            "text/html": [
              "<table class=\"dataframe\">\n",
              "<caption>A data.frame: 4 × 2</caption>\n",
              "<thead>\n",
              "\t<tr><th scope=col>Album</th><th scope=col>Year</th></tr>\n",
              "\t<tr><th scope=col>&lt;chr&gt;</th><th scope=col>&lt;dbl&gt;</th></tr>\n",
              "</thead>\n",
              "<tbody>\n",
              "\t<tr><td>The Low End Theory</td><td>1991</td></tr>\n",
              "\t<tr><td>Nevermind         </td><td>1991</td></tr>\n",
              "\t<tr><td>Port of Morrow    </td><td>2012</td></tr>\n",
              "\t<tr><td>OK Computer       </td><td>1997</td></tr>\n",
              "</tbody>\n",
              "</table>\n"
            ],
            "text/markdown": "\nA data.frame: 4 × 2\n\n| Album &lt;chr&gt; | Year &lt;dbl&gt; |\n|---|---|\n| The Low End Theory | 1991 |\n| Nevermind          | 1991 |\n| Port of Morrow     | 2012 |\n| OK Computer        | 1997 |\n\n",
            "text/latex": "A data.frame: 4 × 2\n\\begin{tabular}{ll}\n Album & Year\\\\\n <chr> & <dbl>\\\\\n\\hline\n\t The Low End Theory & 1991\\\\\n\t Nevermind          & 1991\\\\\n\t Port of Morrow     & 2012\\\\\n\t OK Computer        & 1997\\\\\n\\end{tabular}\n",
            "text/plain": [
              "  Album              Year\n",
              "1 The Low End Theory 1991\n",
              "2 Nevermind          1991\n",
              "3 Port of Morrow     2012\n",
              "4 OK Computer        1997"
            ]
          },
          "metadata": {}
        }
      ]
    },
    {
      "cell_type": "markdown",
      "source": [
        "## Import CSV Data\n",
        "\n",
        "Just as with Pandas in Python, it is much more common to load data from files, such as CSV. This is possible manually, as well as by using the `tidyverse` library.\n",
        "\n",
        "### Import a CSV Manually\n",
        "\n",
        "R has a native `read.csv()` method. A few things to note as you run this cell:\n",
        "\n",
        "- This method automatically creates a data frame from the CSV data.\n",
        "- The file can be local or remote via URL.\n",
        "- Since the data file has a header row, names are automatically assigned to columns."
      ],
      "metadata": {
        "id": "Kr03QFsqFpxM"
      }
    },
    {
      "cell_type": "code",
      "source": [
        "titanic <- read.csv(\"https://raw.githubusercontent.com/datasciencedojo/datasets/master/titanic.csv\")\n",
        "titanic"
      ],
      "metadata": {
        "id": "GC5_9rLCGHkw"
      },
      "execution_count": null,
      "outputs": []
    },
    {
      "cell_type": "markdown",
      "source": [
        "We can now use the same filtering methods as above to inspect the data. Here we save each successive query as a new data frame."
      ],
      "metadata": {
        "id": "LjVmasd7HSAc"
      }
    },
    {
      "cell_type": "code",
      "source": [
        "titanic %>%\n",
        "  select(Pclass, Name, Sex, Fare, Age) %>%\n",
        "  filter(Sex == \"female\") %>%\n",
        "  filter(Pclass == 3) %>%\n",
        "  filter(Age < 20) %>%\n",
        "  arrange(Age)"
      ],
      "metadata": {
        "id": "ySkJS01I9FfY"
      },
      "execution_count": null,
      "outputs": []
    },
    {
      "cell_type": "code",
      "source": [
        "df2 <- titanic %>%\n",
        "  select(Pclass, Name, Sex, Fare, Age) %>%\n",
        "  filter(Sex == \"female\") %>%\n",
        "  filter(Pclass == 3) %>%\n",
        "  filter(Age < 20) %>%\n",
        "  arrange(Age)"
      ],
      "metadata": {
        "id": "6wHXJy_W8D32"
      },
      "execution_count": null,
      "outputs": []
    },
    {
      "cell_type": "markdown",
      "source": [
        "Or we can explore one of the built-in data sets from R. In this case let's use the `starwars` data set."
      ],
      "metadata": {
        "id": "S-3aoMei8_QA"
      }
    },
    {
      "cell_type": "code",
      "source": [
        "data()"
      ],
      "metadata": {
        "id": "JUboL7nl8eBQ"
      },
      "execution_count": 41,
      "outputs": []
    },
    {
      "cell_type": "code",
      "source": [
        "str(starwars)"
      ],
      "metadata": {
        "id": "XsViKnsd8wQM"
      },
      "execution_count": null,
      "outputs": []
    },
    {
      "cell_type": "code",
      "source": [
        "head(starwars)"
      ],
      "metadata": {
        "id": "FIrd3ydf9jcg"
      },
      "execution_count": null,
      "outputs": []
    },
    {
      "cell_type": "code",
      "source": [
        "starwars %>%   # and-then\n",
        "  select(gender, mass, height, species) %>%\n",
        "  filter(species == \"Human\") %>%\n",
        "  na.omit()"
      ],
      "metadata": {
        "id": "-9Cxo-pW92KJ",
        "colab": {
          "base_uri": "https://localhost:8080/",
          "height": 788
        },
        "outputId": "3f9ecf56-de74-4bac-976e-ff1e49b89a76"
      },
      "execution_count": 46,
      "outputs": [
        {
          "output_type": "display_data",
          "data": {
            "text/html": [
              "<table class=\"dataframe\">\n",
              "<caption>A tibble: 22 × 4</caption>\n",
              "<thead>\n",
              "\t<tr><th scope=col>gender</th><th scope=col>mass</th><th scope=col>height</th><th scope=col>species</th></tr>\n",
              "\t<tr><th scope=col>&lt;chr&gt;</th><th scope=col>&lt;dbl&gt;</th><th scope=col>&lt;int&gt;</th><th scope=col>&lt;chr&gt;</th></tr>\n",
              "</thead>\n",
              "<tbody>\n",
              "\t<tr><td>masculine</td><td> 77.0</td><td>172</td><td>Human</td></tr>\n",
              "\t<tr><td>masculine</td><td>136.0</td><td>202</td><td>Human</td></tr>\n",
              "\t<tr><td>feminine </td><td> 49.0</td><td>150</td><td>Human</td></tr>\n",
              "\t<tr><td>masculine</td><td>120.0</td><td>178</td><td>Human</td></tr>\n",
              "\t<tr><td>feminine </td><td> 75.0</td><td>165</td><td>Human</td></tr>\n",
              "\t<tr><td>masculine</td><td> 84.0</td><td>183</td><td>Human</td></tr>\n",
              "\t<tr><td>masculine</td><td> 77.0</td><td>182</td><td>Human</td></tr>\n",
              "\t<tr><td>masculine</td><td> 84.0</td><td>188</td><td>Human</td></tr>\n",
              "\t<tr><td>masculine</td><td> 80.0</td><td>180</td><td>Human</td></tr>\n",
              "\t<tr><td>masculine</td><td> 77.0</td><td>170</td><td>Human</td></tr>\n",
              "\t<tr><td>masculine</td><td>110.0</td><td>180</td><td>Human</td></tr>\n",
              "\t<tr><td>masculine</td><td> 75.0</td><td>170</td><td>Human</td></tr>\n",
              "\t<tr><td>masculine</td><td> 78.2</td><td>183</td><td>Human</td></tr>\n",
              "\t<tr><td>masculine</td><td> 79.0</td><td>177</td><td>Human</td></tr>\n",
              "\t<tr><td>masculine</td><td> 79.0</td><td>175</td><td>Human</td></tr>\n",
              "\t<tr><td>masculine</td><td> 89.0</td><td>193</td><td>Human</td></tr>\n",
              "\t<tr><td>masculine</td><td> 84.0</td><td>188</td><td>Human</td></tr>\n",
              "\t<tr><td>masculine</td><td> 85.0</td><td>185</td><td>Human</td></tr>\n",
              "\t<tr><td>masculine</td><td> 80.0</td><td>193</td><td>Human</td></tr>\n",
              "\t<tr><td>masculine</td><td> 79.0</td><td>183</td><td>Human</td></tr>\n",
              "\t<tr><td>masculine</td><td> 79.0</td><td>188</td><td>Human</td></tr>\n",
              "\t<tr><td>feminine </td><td> 45.0</td><td>165</td><td>Human</td></tr>\n",
              "</tbody>\n",
              "</table>\n"
            ],
            "text/markdown": "\nA tibble: 22 × 4\n\n| gender &lt;chr&gt; | mass &lt;dbl&gt; | height &lt;int&gt; | species &lt;chr&gt; |\n|---|---|---|---|\n| masculine |  77.0 | 172 | Human |\n| masculine | 136.0 | 202 | Human |\n| feminine  |  49.0 | 150 | Human |\n| masculine | 120.0 | 178 | Human |\n| feminine  |  75.0 | 165 | Human |\n| masculine |  84.0 | 183 | Human |\n| masculine |  77.0 | 182 | Human |\n| masculine |  84.0 | 188 | Human |\n| masculine |  80.0 | 180 | Human |\n| masculine |  77.0 | 170 | Human |\n| masculine | 110.0 | 180 | Human |\n| masculine |  75.0 | 170 | Human |\n| masculine |  78.2 | 183 | Human |\n| masculine |  79.0 | 177 | Human |\n| masculine |  79.0 | 175 | Human |\n| masculine |  89.0 | 193 | Human |\n| masculine |  84.0 | 188 | Human |\n| masculine |  85.0 | 185 | Human |\n| masculine |  80.0 | 193 | Human |\n| masculine |  79.0 | 183 | Human |\n| masculine |  79.0 | 188 | Human |\n| feminine  |  45.0 | 165 | Human |\n\n",
            "text/latex": "A tibble: 22 × 4\n\\begin{tabular}{llll}\n gender & mass & height & species\\\\\n <chr> & <dbl> & <int> & <chr>\\\\\n\\hline\n\t masculine &  77.0 & 172 & Human\\\\\n\t masculine & 136.0 & 202 & Human\\\\\n\t feminine  &  49.0 & 150 & Human\\\\\n\t masculine & 120.0 & 178 & Human\\\\\n\t feminine  &  75.0 & 165 & Human\\\\\n\t masculine &  84.0 & 183 & Human\\\\\n\t masculine &  77.0 & 182 & Human\\\\\n\t masculine &  84.0 & 188 & Human\\\\\n\t masculine &  80.0 & 180 & Human\\\\\n\t masculine &  77.0 & 170 & Human\\\\\n\t masculine & 110.0 & 180 & Human\\\\\n\t masculine &  75.0 & 170 & Human\\\\\n\t masculine &  78.2 & 183 & Human\\\\\n\t masculine &  79.0 & 177 & Human\\\\\n\t masculine &  79.0 & 175 & Human\\\\\n\t masculine &  89.0 & 193 & Human\\\\\n\t masculine &  84.0 & 188 & Human\\\\\n\t masculine &  85.0 & 185 & Human\\\\\n\t masculine &  80.0 & 193 & Human\\\\\n\t masculine &  79.0 & 183 & Human\\\\\n\t masculine &  79.0 & 188 & Human\\\\\n\t feminine  &  45.0 & 165 & Human\\\\\n\\end{tabular}\n",
            "text/plain": [
              "   gender    mass  height species\n",
              "1  masculine  77.0 172    Human  \n",
              "2  masculine 136.0 202    Human  \n",
              "3  feminine   49.0 150    Human  \n",
              "4  masculine 120.0 178    Human  \n",
              "5  feminine   75.0 165    Human  \n",
              "6  masculine  84.0 183    Human  \n",
              "7  masculine  77.0 182    Human  \n",
              "8  masculine  84.0 188    Human  \n",
              "9  masculine  80.0 180    Human  \n",
              "10 masculine  77.0 170    Human  \n",
              "11 masculine 110.0 180    Human  \n",
              "12 masculine  75.0 170    Human  \n",
              "13 masculine  78.2 183    Human  \n",
              "14 masculine  79.0 177    Human  \n",
              "15 masculine  79.0 175    Human  \n",
              "16 masculine  89.0 193    Human  \n",
              "17 masculine  84.0 188    Human  \n",
              "18 masculine  85.0 185    Human  \n",
              "19 masculine  80.0 193    Human  \n",
              "20 masculine  79.0 183    Human  \n",
              "21 masculine  79.0 188    Human  \n",
              "22 feminine   45.0 165    Human  "
            ]
          },
          "metadata": {}
        }
      ]
    },
    {
      "cell_type": "code",
      "source": [
        "starwars %>%   # and-then\n",
        "  select(gender, mass, height, species) %>%\n",
        "  filter(species == \"Human\") %>%\n",
        "  na.omit() %>%\n",
        "  mutate(height = height / 100) %>%\n",
        "  mutate(BMI = mass / height^2) %>%\n",
        "  group_by(gender) %>%\n",
        "  summarize(Average_BMI = mean(BMI))"
      ],
      "metadata": {
        "id": "cu3DQOAQelgd",
        "colab": {
          "base_uri": "https://localhost:8080/",
          "height": 161
        },
        "outputId": "97721a8f-c810-4c26-edd8-037793fdaa66"
      },
      "execution_count": 49,
      "outputs": [
        {
          "output_type": "display_data",
          "data": {
            "text/html": [
              "<table class=\"dataframe\">\n",
              "<caption>A tibble: 2 × 2</caption>\n",
              "<thead>\n",
              "\t<tr><th scope=col>gender</th><th scope=col>Average_BMI</th></tr>\n",
              "\t<tr><th scope=col>&lt;chr&gt;</th><th scope=col>&lt;dbl&gt;</th></tr>\n",
              "</thead>\n",
              "<tbody>\n",
              "\t<tr><td>feminine </td><td>21.95164</td></tr>\n",
              "\t<tr><td>masculine</td><td>26.04427</td></tr>\n",
              "</tbody>\n",
              "</table>\n"
            ],
            "text/markdown": "\nA tibble: 2 × 2\n\n| gender &lt;chr&gt; | Average_BMI &lt;dbl&gt; |\n|---|---|\n| feminine  | 21.95164 |\n| masculine | 26.04427 |\n\n",
            "text/latex": "A tibble: 2 × 2\n\\begin{tabular}{ll}\n gender & Average\\_BMI\\\\\n <chr> & <dbl>\\\\\n\\hline\n\t feminine  & 21.95164\\\\\n\t masculine & 26.04427\\\\\n\\end{tabular}\n",
            "text/plain": [
              "  gender    Average_BMI\n",
              "1 feminine  21.95164   \n",
              "2 masculine 26.04427   "
            ]
          },
          "metadata": {}
        }
      ]
    },
    {
      "cell_type": "markdown",
      "source": [
        "Finally, we can explore the `msleep` (Mammal Sleep) sample data set using `tidyverse`."
      ],
      "metadata": {
        "id": "sB-uy9sP-JwC"
      }
    },
    {
      "cell_type": "code",
      "source": [
        "my_data <- msleep %>%\n",
        "  select(name, order, bodywt, sleep_total) %>%\n",
        "  filter(order == \"Primates\", bodywt > 20) %>%\n",
        "  arrange(bodywt)\n",
        "\n",
        "my_data"
      ],
      "metadata": {
        "id": "P8vJHf0pgJtK",
        "colab": {
          "base_uri": "https://localhost:8080/",
          "height": 192
        },
        "outputId": "20cbcb52-70e5-4d5a-86d8-52a174b74fcf"
      },
      "execution_count": 53,
      "outputs": [
        {
          "output_type": "display_data",
          "data": {
            "text/html": [
              "<table class=\"dataframe\">\n",
              "<caption>A tibble: 3 × 4</caption>\n",
              "<thead>\n",
              "\t<tr><th scope=col>name</th><th scope=col>order</th><th scope=col>bodywt</th><th scope=col>sleep_total</th></tr>\n",
              "\t<tr><th scope=col>&lt;chr&gt;</th><th scope=col>&lt;chr&gt;</th><th scope=col>&lt;dbl&gt;</th><th scope=col>&lt;dbl&gt;</th></tr>\n",
              "</thead>\n",
              "<tbody>\n",
              "\t<tr><td>Baboon    </td><td>Primates</td><td>25.235</td><td>9.4</td></tr>\n",
              "\t<tr><td>Chimpanzee</td><td>Primates</td><td>52.200</td><td>9.7</td></tr>\n",
              "\t<tr><td>Human     </td><td>Primates</td><td>62.000</td><td>8.0</td></tr>\n",
              "</tbody>\n",
              "</table>\n"
            ],
            "text/markdown": "\nA tibble: 3 × 4\n\n| name &lt;chr&gt; | order &lt;chr&gt; | bodywt &lt;dbl&gt; | sleep_total &lt;dbl&gt; |\n|---|---|---|---|\n| Baboon     | Primates | 25.235 | 9.4 |\n| Chimpanzee | Primates | 52.200 | 9.7 |\n| Human      | Primates | 62.000 | 8.0 |\n\n",
            "text/latex": "A tibble: 3 × 4\n\\begin{tabular}{llll}\n name & order & bodywt & sleep\\_total\\\\\n <chr> & <chr> & <dbl> & <dbl>\\\\\n\\hline\n\t Baboon     & Primates & 25.235 & 9.4\\\\\n\t Chimpanzee & Primates & 52.200 & 9.7\\\\\n\t Human      & Primates & 62.000 & 8.0\\\\\n\\end{tabular}\n",
            "text/plain": [
              "  name       order    bodywt sleep_total\n",
              "1 Baboon     Primates 25.235 9.4        \n",
              "2 Chimpanzee Primates 52.200 9.7        \n",
              "3 Human      Primates 62.000 8.0        "
            ]
          },
          "metadata": {}
        }
      ]
    },
    {
      "cell_type": "markdown",
      "source": [
        "## Extract a **Column** into a Vector\n",
        "\n",
        "To extract a column of attributes back into a vector, call it out by appending `$ColName` to the data frame."
      ],
      "metadata": {
        "id": "LIRrb60I_CQI"
      }
    },
    {
      "cell_type": "code",
      "source": [
        "# assign into a var\n",
        "albums_extracted <- df$Album\n",
        "albums_extracted"
      ],
      "metadata": {
        "id": "YBS7y1jZ-yBF",
        "colab": {
          "base_uri": "https://localhost:8080/",
          "height": 34
        },
        "outputId": "6a8c73a0-7a7a-4b93-9215-f588f504650e"
      },
      "execution_count": 52,
      "outputs": [
        {
          "output_type": "display_data",
          "data": {
            "text/html": [
              "<style>\n",
              ".list-inline {list-style: none; margin:0; padding: 0}\n",
              ".list-inline>li {display: inline-block}\n",
              ".list-inline>li:not(:last-child)::after {content: \"\\00b7\"; padding: 0 .5ex}\n",
              "</style>\n",
              "<ol class=list-inline><li>'The Low End Theory'</li><li>'Nevermind'</li><li>'Port of Morrow'</li><li>'Dark Side of the Moon'</li><li>'Naked'</li><li>'OK Computer'</li><li>'Abbey Road'</li><li>'Thriller'</li><li>'Rumours'</li><li>'The Joshua Tree'</li></ol>\n"
            ],
            "text/markdown": "1. 'The Low End Theory'\n2. 'Nevermind'\n3. 'Port of Morrow'\n4. 'Dark Side of the Moon'\n5. 'Naked'\n6. 'OK Computer'\n7. 'Abbey Road'\n8. 'Thriller'\n9. 'Rumours'\n10. 'The Joshua Tree'\n\n\n",
            "text/latex": "\\begin{enumerate*}\n\\item 'The Low End Theory'\n\\item 'Nevermind'\n\\item 'Port of Morrow'\n\\item 'Dark Side of the Moon'\n\\item 'Naked'\n\\item 'OK Computer'\n\\item 'Abbey Road'\n\\item 'Thriller'\n\\item 'Rumours'\n\\item 'The Joshua Tree'\n\\end{enumerate*}\n",
            "text/plain": [
              " [1] \"The Low End Theory\"    \"Nevermind\"             \"Port of Morrow\"       \n",
              " [4] \"Dark Side of the Moon\" \"Naked\"                 \"OK Computer\"          \n",
              " [7] \"Abbey Road\"            \"Thriller\"              \"Rumours\"              \n",
              "[10] \"The Joshua Tree\"      "
            ]
          },
          "metadata": {}
        }
      ]
    }
  ]
}