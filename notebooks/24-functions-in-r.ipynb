{
  "nbformat": 4,
  "nbformat_minor": 0,
  "metadata": {
    "colab": {
      "provenance": [],
      "authorship_tag": "ABX9TyPKE/cTt2vOXSZGgfqD70x0",
      "include_colab_link": true
    },
    "kernelspec": {
      "name": "ir",
      "display_name": "R"
    },
    "language_info": {
      "name": "R"
    }
  },
  "cells": [
    {
      "cell_type": "markdown",
      "metadata": {
        "id": "view-in-github",
        "colab_type": "text"
      },
      "source": [
        "<a href=\"https://colab.research.google.com/github/nmagee/ds1002/blob/main/notebooks/24-functions-in-r.ipynb\" target=\"_parent\"><img src=\"https://colab.research.google.com/assets/colab-badge.svg\" alt=\"Open In Colab\"/></a>"
      ]
    },
    {
      "cell_type": "markdown",
      "source": [
        "# Functions in R\n",
        "\n",
        "The syntax of a function in R is as follows:\n",
        "\n",
        "```\n",
        "1   name <- function(param1, param2) {\n",
        "2     # logic goes here\n",
        "3   }\n",
        "```\n",
        "\n",
        "- Line 1\n",
        "    - the function is assigned to a variable name\n",
        "    - the function() method is called, listing the parameters within the parentheses.\n",
        "    - the function logic is initiated with `{`\n",
        "- Line 2ff - The logic of the function\n",
        "- Line 3 - The function logic is closed with `}`\n",
        "\n",
        "Here is a simple example that takes two integers and adds them:"
      ],
      "metadata": {
        "id": "BjjdrdlnBLNp"
      }
    },
    {
      "cell_type": "code",
      "source": [
        "add_these <- function(var1, var2) {\n",
        "  sum = var1 + var2\n",
        "}"
      ],
      "metadata": {
        "id": "DN8vSxwnBz5b"
      },
      "execution_count": null,
      "outputs": []
    },
    {
      "cell_type": "markdown",
      "source": [
        "That defines a function, expecting two variables. But it does nothing at the moment until it is called."
      ],
      "metadata": {
        "id": "Cq81N5InCMWm"
      }
    },
    {
      "cell_type": "code",
      "source": [
        "print(add_these(7,14))"
      ],
      "metadata": {
        "id": "sU9_PbveCQsV"
      },
      "execution_count": null,
      "outputs": []
    },
    {
      "cell_type": "markdown",
      "source": [
        "That works and produces output because the function is called within a `print()` command.\n",
        "\n",
        "But notice how, below, when two parameters exist with values, and are passed into the function in the final line, nothing prints.\n",
        "In Python we had the notion of `return` where a function is instructed in how to provide output."
      ],
      "metadata": {
        "id": "vqwnvjoyCUMA"
      }
    },
    {
      "cell_type": "code",
      "source": [
        "var1 = 8\n",
        "var2 = 16\n",
        "\n",
        "add_these <- function(var1, var2) {\n",
        "  sum = var1 + var2\n",
        "}\n",
        "\n",
        "add_these(var1, var2)"
      ],
      "metadata": {
        "id": "K2gyTPXWCHDk"
      },
      "execution_count": null,
      "outputs": []
    },
    {
      "cell_type": "markdown",
      "source": [
        "To resolve this, use the built-in `return()` function."
      ],
      "metadata": {
        "id": "-L5c0h4fDBHR"
      }
    },
    {
      "cell_type": "code",
      "source": [
        "var1 = 8\n",
        "var2 = 16\n",
        "\n",
        "add_these <- function(var1, var2) {\n",
        "  sum = var1 + var2\n",
        "  return(sum)\n",
        "}\n",
        "\n",
        "add_these(var1, var2)"
      ],
      "metadata": {
        "id": "DzFKPe8UDFM5"
      },
      "execution_count": null,
      "outputs": []
    },
    {
      "cell_type": "markdown",
      "source": [
        "Remember that `print()` is never the same as `return()`."
      ],
      "metadata": {
        "id": "3eAnk_4aDNDc"
      }
    },
    {
      "cell_type": "markdown",
      "source": [
        "A function can still pass back a value without the `return()` function, if the value is called as part of the function logic."
      ],
      "metadata": {
        "id": "ggQufaw9Dz2J"
      }
    },
    {
      "cell_type": "code",
      "source": [
        "add_them = function(val1,val2) {\n",
        "  # perform the math\n",
        "  add = val1 + val2\n",
        "  # return the result\n",
        "  add\n",
        "}\n",
        "\n",
        "# pass values to the function\n",
        "add_them(15,25)"
      ],
      "metadata": {
        "id": "gMXXOnuPD9Bu"
      },
      "execution_count": null,
      "outputs": []
    },
    {
      "cell_type": "markdown",
      "source": [
        "Here is a more complex function that takes a value and a vector, then normalizes the value against the vector by subtracting the vector mean from value, and dividing by vector standard deviation."
      ],
      "metadata": {
        "id": "_Ggdht5pDeUa"
      }
    },
    {
      "cell_type": "code",
      "execution_count": null,
      "metadata": {
        "id": "-Y_5GVj7BKp_"
      },
      "outputs": [],
      "source": [
        "x <- 5\n",
        "xx <- c(4, 6, 7, 8, 2, 11)\n",
        "\n",
        "compute_zscore <- function(val, vec) {\n",
        "  z <- (val - mean(vec)) / sd(vec)\n",
        "}\n",
        "\n",
        "print(compute_zscore(x, xx))"
      ]
    },
    {
      "cell_type": "markdown",
      "source": [
        "## Conditions within Functions\n",
        "\n",
        "A function returns `1` if passed value is odd, `0` if even."
      ],
      "metadata": {
        "id": "fIvNv4f8IH33"
      }
    },
    {
      "cell_type": "code",
      "source": [
        "# This uses the modulus math operator and tests for the output\n",
        "\n",
        "is_odd <- function(x){ if (x %% 2 == 1) {\n",
        "    return(1)\n",
        "  } else {\n",
        "    return(0)\n",
        "  }\n",
        "}"
      ],
      "metadata": {
        "id": "BaoVuGY7IJaV"
      },
      "execution_count": null,
      "outputs": []
    },
    {
      "cell_type": "code",
      "source": [
        "is_odd(13)"
      ],
      "metadata": {
        "id": "pCseZAYwISeE"
      },
      "execution_count": null,
      "outputs": []
    },
    {
      "cell_type": "markdown",
      "source": [
        "## Scoping within Functions\n",
        "\n",
        "Python had the notion of a `global` variable which can naturally be populated outside of functions, or explicitly populated as `global` within a function.\n",
        "\n",
        "Notice this in R:"
      ],
      "metadata": {
        "id": "tbTuMbw-JLw4"
      }
    },
    {
      "cell_type": "code",
      "source": [
        "z <- 4\n",
        "\n",
        "test_fcn <- function(x) {\n",
        "  x^z\n",
        "}"
      ],
      "metadata": {
        "id": "yhqDJt4VJWxs"
      },
      "execution_count": null,
      "outputs": []
    },
    {
      "cell_type": "code",
      "source": [
        "test_fcn(2)"
      ],
      "metadata": {
        "id": "UdwstNfIJasq"
      },
      "execution_count": null,
      "outputs": []
    },
    {
      "cell_type": "markdown",
      "source": [
        "If `z` isn't defined in the function, how does this work?\n",
        "\n",
        "R's scoping rules are different than Python's.\n",
        "\n",
        "Since `z` isn't in the function, R looks in the function's environment for it.\n",
        "\n",
        "For more on scoping rules, see [Chapter 15: Scoping Rules of R](https://bookdown.org/rdpeng/rprogdatascience/scoping-rules-of-r.html) in Peng's *R Programming For Data Science*."
      ],
      "metadata": {
        "id": "DI_CuyBOJffK"
      }
    },
    {
      "cell_type": "markdown",
      "source": [
        "## Default Values\n",
        "\n",
        "Functions may expect argument values to be passed to it when invoked, but you can also specify a default value if the argument is not given."
      ],
      "metadata": {
        "id": "DtwTYsmzLd4a"
      }
    },
    {
      "cell_type": "code",
      "source": [
        "div_these <- function(var1, var2 = 2) {\n",
        "  newval = var1 / var2\n",
        "  newval\n",
        "}"
      ],
      "metadata": {
        "id": "lfAIRF3wLnQF"
      },
      "execution_count": 2,
      "outputs": []
    },
    {
      "cell_type": "code",
      "source": [
        "# pass in arguments as normal\n",
        "div_these(20, 5)"
      ],
      "metadata": {
        "id": "cnpYZkEAMVCq"
      },
      "execution_count": null,
      "outputs": []
    },
    {
      "cell_type": "code",
      "source": [
        "# pass in only the first argument\n",
        "div_these(10)"
      ],
      "metadata": {
        "id": "vKXOoO-MMbNr"
      },
      "execution_count": null,
      "outputs": []
    }
  ]
}