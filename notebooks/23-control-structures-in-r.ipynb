{
  "nbformat": 4,
  "nbformat_minor": 0,
  "metadata": {
    "colab": {
      "provenance": [],
      "authorship_tag": "ABX9TyP6i/vVl8dqeiyHWkzAK3iC",
      "include_colab_link": true
    },
    "kernelspec": {
      "name": "ir",
      "display_name": "R"
    },
    "language_info": {
      "name": "R"
    }
  },
  "cells": [
    {
      "cell_type": "markdown",
      "metadata": {
        "id": "view-in-github",
        "colab_type": "text"
      },
      "source": [
        "<a href=\"https://colab.research.google.com/github/nmagee/ds1002/blob/main/notebooks/23-control-structures-in-r.ipynb\" target=\"_parent\"><img src=\"https://colab.research.google.com/assets/colab-badge.svg\" alt=\"Open In Colab\"/></a>"
      ]
    },
    {
      "cell_type": "markdown",
      "source": [
        "# Control Structures\n",
        "\n",
        "R code needs looping and conditionals just like Python does. Here are some examples and practice exercises for you:"
      ],
      "metadata": {
        "id": "jRNjXbUlTQPB"
      }
    },
    {
      "cell_type": "markdown",
      "source": [
        "## `for` Loops\n",
        "\n",
        "A for-loop can iterate up to numeric count or range (example 1), or through a series of items in a list or vector, or for a numeric range/limit against a vector. For loops of this sort are determinate, in that you can easily predict the number of cycles required to completion."
      ],
      "metadata": {
        "id": "BqwD2Nj8TS5E"
      }
    },
    {
      "cell_type": "code",
      "source": [
        "# loops 10x, counting 1-10.\n",
        "\n",
        "for(i in 1:10) {\n",
        "  print(i)\n",
        "}"
      ],
      "metadata": {
        "id": "Y60RH0l1TZFz"
      },
      "execution_count": null,
      "outputs": []
    },
    {
      "cell_type": "code",
      "source": [
        "# loops once for each item in a vector\n",
        "\n",
        "x <- c(\"a\", \"b\", \"x\", \"y\", \"z\")\n",
        "\n",
        "for(i in x) {\n",
        "  print(i)\n",
        "}"
      ],
      "metadata": {
        "id": "vUA8aXUOTeet"
      },
      "execution_count": null,
      "outputs": []
    },
    {
      "cell_type": "code",
      "source": [
        "# loops in a range of items (3x) mapped against a vector.\n",
        "# therefore loops 3x total against a, b, and x.\n",
        "\n",
        "x <- c(\"a\", \"b\", \"x\", \"y\", \"z\")\n",
        "\n",
        "for(i in 1:3) {\n",
        "  print(x[i])\n",
        "}"
      ],
      "metadata": {
        "id": "pAfeV-G2TyrQ"
      },
      "execution_count": null,
      "outputs": []
    },
    {
      "cell_type": "markdown",
      "source": [
        "## `seq_along()`\n",
        "\n",
        "Generates an integer sequence based on the length of an object."
      ],
      "metadata": {
        "id": "A57JqVZrUANj"
      }
    },
    {
      "cell_type": "code",
      "source": [
        "x <- c(\"a\", \"b\", \"x\", \"y\", \"z\")\n",
        "\n",
        "for(i in seq_along(x)) {\n",
        "  print(i)     # the integer of the vector item index\n",
        "  print(x[i])  # the actual value of the vector item\n",
        "}"
      ],
      "metadata": {
        "id": "x9SW3BhsUHPZ"
      },
      "execution_count": null,
      "outputs": []
    },
    {
      "cell_type": "code",
      "source": [
        "# compare to this for-loop that skips integer/indexing and simply takes each value of the vector in sequence\n",
        "\n",
        "for(letter in x) {\n",
        "  print(letter)\n",
        "}"
      ],
      "metadata": {
        "id": "vigE4HTVUTuI"
      },
      "execution_count": null,
      "outputs": []
    },
    {
      "cell_type": "markdown",
      "source": [
        "## `while` Loops\n",
        "\n",
        "As in Python, `while` loops in R often iterate until a condition is met after an indeterminate number of cycles. This might mean cycling through data until a particular value is found, or a particular sum is met, etc."
      ],
      "metadata": {
        "id": "lgOzJViiboPV"
      }
    },
    {
      "cell_type": "code",
      "source": [
        "count <- 0\n",
        "\n",
        "while(count < 10) {\n",
        "  print(count)\n",
        "  count <- count + 1\n",
        "}"
      ],
      "metadata": {
        "id": "lmJoOxuLbpxg"
      },
      "execution_count": null,
      "outputs": []
    },
    {
      "cell_type": "code",
      "source": [
        "my_vector = list(\"a\", \"b\", \"c\", TRUE, \"d\")\n",
        "\n",
        "while(typeof)"
      ],
      "metadata": {
        "id": "3QzQiIPUzxxO"
      },
      "execution_count": null,
      "outputs": []
    },
    {
      "cell_type": "markdown",
      "source": [
        "## Yahtzee!\n",
        "\n",
        "A simple example of a `while` loop in action:"
      ],
      "metadata": {
        "id": "9ek-ByJ80IXo"
      }
    },
    {
      "cell_type": "code",
      "source": [
        "dice <- 1\n",
        "while (dice <= 6) {\n",
        "  if (dice < 6) {\n",
        "    print(\"No Yahtzee\")\n",
        "  } else {\n",
        "    print(\"Yahtzee!\")\n",
        "  }\n",
        "  dice <- dice + 1\n",
        "}"
      ],
      "metadata": {
        "id": "2uybDniK0O5U"
      },
      "execution_count": null,
      "outputs": []
    },
    {
      "cell_type": "markdown",
      "source": [
        "## `break` and `next`\n",
        "\n",
        "`break` - Stops the loop entirely. It \"breaks\" the loop when a condition is met.\n",
        "`next` - Skips an interation of the loop and moves on to the next step in logic."
      ],
      "metadata": {
        "id": "j8h-_W_B0hHR"
      }
    },
    {
      "cell_type": "code",
      "source": [
        "# BREAK\n",
        "\n",
        "i <- 1\n",
        "while (i < 9) {\n",
        "  print(i)\n",
        "  i <- i + 1\n",
        "  if (i == 5) {\n",
        "    print(\"I'm all done!\")\n",
        "    break\n",
        "  }\n",
        "}"
      ],
      "metadata": {
        "id": "CSLP66hf00F6"
      },
      "execution_count": null,
      "outputs": []
    },
    {
      "cell_type": "code",
      "source": [
        "# NEXT\n",
        "\n",
        "i <- 0\n",
        "while (i < 8) {\n",
        "  i <- i + 1\n",
        "  if (i == 5) {\n",
        "    print(\"Here is where I pass\")\n",
        "    next\n",
        "  }\n",
        "  print(i)\n",
        "}"
      ],
      "metadata": {
        "id": "s462Zmrt01OE"
      },
      "execution_count": null,
      "outputs": []
    },
    {
      "cell_type": "markdown",
      "source": [
        "# Printing in R\n",
        "\n",
        "Bonus! There are a variety of ways to print within your R code. Here are the most common:"
      ],
      "metadata": {
        "id": "dtO9tDX711LZ"
      }
    },
    {
      "cell_type": "code",
      "source": [
        "# print a string manually:\n",
        "\n",
        "print(\"This is being printed\")"
      ],
      "metadata": {
        "id": "P-vH0P1s16Dy"
      },
      "execution_count": null,
      "outputs": []
    },
    {
      "cell_type": "code",
      "source": [
        "# print something from a variable\n",
        "\n",
        "x = \"This is being printed a different way\"\n",
        "print(x)"
      ],
      "metadata": {
        "id": "NFsPdB57160g"
      },
      "execution_count": null,
      "outputs": []
    },
    {
      "cell_type": "code",
      "source": [
        "# concatenate things together into a vector to get printed. Keeps separate\n",
        "\n",
        "x = \"Here\"\n",
        "y = \"we\"\n",
        "z = \"go\"\n",
        "\n",
        "print(c(x, y, z))"
      ],
      "metadata": {
        "colab": {
          "base_uri": "https://localhost:8080/"
        },
        "id": "G269VEA616sX",
        "outputId": "10d2253b-c050-4b5b-a503-d0c3052daded"
      },
      "execution_count": 18,
      "outputs": [
        {
          "output_type": "stream",
          "name": "stdout",
          "text": [
            "[1] \"Here\" \"we\"   \"go\"  \n"
          ]
        }
      ]
    },
    {
      "cell_type": "code",
      "source": [
        "# paste() method - replaces a variable with its value and concatenates smoothly\n",
        "\n",
        "x = \"Apples\"\n",
        "\n",
        "print(paste(x, \"are the finest fruit\"))"
      ],
      "metadata": {
        "colab": {
          "base_uri": "https://localhost:8080/"
        },
        "id": "BqjI49dm16Xi",
        "outputId": "febf98fe-211d-43ef-e705-2b7e9d5d8aeb"
      },
      "execution_count": 20,
      "outputs": [
        {
          "output_type": "stream",
          "name": "stdout",
          "text": [
            "[1] \"Apples are the finest fruit\"\n"
          ]
        }
      ]
    },
    {
      "cell_type": "code",
      "source": [
        "# sprint() method - string printing. Note you should specify data type (s)tring, (f)loat, (i)nteger\n",
        "\n",
        "x = \"Bananas\"       # string\n",
        "y = 11              # integer\n",
        "z = 3.14159         # float l\n",
        "\n",
        "sprintf(\"%s are best\", x)\n",
        "sprintf(\"%i is my favorite number\", y)\n",
        "sprintf(\"%f is also known as pi\", z)"
      ],
      "metadata": {
        "colab": {
          "base_uri": "https://localhost:8080/",
          "height": 69
        },
        "id": "ALH7GVSK3ETn",
        "outputId": "d0130262-9024-48cf-d966-c18cb76173a9"
      },
      "execution_count": 24,
      "outputs": [
        {
          "output_type": "display_data",
          "data": {
            "text/html": [
              "'Bananas are best'"
            ],
            "text/markdown": "'Bananas are best'",
            "text/latex": "'Bananas are best'",
            "text/plain": [
              "[1] \"Bananas are best\""
            ]
          },
          "metadata": {}
        },
        {
          "output_type": "display_data",
          "data": {
            "text/html": [
              "'11 is my favorite number'"
            ],
            "text/markdown": "'11 is my favorite number'",
            "text/latex": "'11 is my favorite number'",
            "text/plain": [
              "[1] \"11 is my favorite number\""
            ]
          },
          "metadata": {}
        },
        {
          "output_type": "display_data",
          "data": {
            "text/html": [
              "'3.141590 is also known as pi'"
            ],
            "text/markdown": "'3.141590 is also known as pi'",
            "text/latex": "'3.141590 is also known as pi'",
            "text/plain": [
              "[1] \"3.141590 is also known as pi\""
            ]
          },
          "metadata": {}
        }
      ]
    }
  ]
}