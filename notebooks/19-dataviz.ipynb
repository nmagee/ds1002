{
  "nbformat": 4,
  "nbformat_minor": 0,
  "metadata": {
    "colab": {
      "provenance": [],
      "authorship_tag": "ABX9TyMItP+kyo8FGKHCoMT9P+WE",
      "include_colab_link": true
    },
    "kernelspec": {
      "name": "python3",
      "display_name": "Python 3"
    },
    "language_info": {
      "name": "python"
    }
  },
  "cells": [
    {
      "cell_type": "markdown",
      "metadata": {
        "id": "view-in-github",
        "colab_type": "text"
      },
      "source": [
        "<a href=\"https://colab.research.google.com/github/nmagee/ds1002/blob/main/notebooks/19-dataviz.ipynb\" target=\"_parent\"><img src=\"https://colab.research.google.com/assets/colab-badge.svg\" alt=\"Open In Colab\"/></a>"
      ]
    },
    {
      "cell_type": "markdown",
      "source": [
        "# Plots and Charts in Python\n",
        "\n",
        "We have worked with one simple plotting/visualization library for Python so far: `matplotlib`. It is one of the most common and most powerful viz libraries, but it's not the only one. Let's look at a few more:\n",
        "\n",
        "- Seaborn\n",
        "- Plotly\n",
        "- GGplot\n",
        "\n",
        "\n",
        "Inspiration:\n",
        "- NYTimes Data https://www.nytimes.com/spotlight/graphics\n",
        "- D3 JS https://observablehq.com/@d3/gallery\n",
        "\n"
      ],
      "metadata": {
        "id": "N1DTLdoWmN5r"
      }
    },
    {
      "cell_type": "markdown",
      "source": [
        "# Matplotlib"
      ],
      "metadata": {
        "id": "5vguky1BwKtT"
      }
    },
    {
      "cell_type": "code",
      "source": [
        "import matplotlib.pyplot as plt\n",
        "plt.style.use('classic')\n",
        "%matplotlib inline\n",
        "import numpy as np\n",
        "import pandas as pd"
      ],
      "metadata": {
        "id": "eRVzgBlvwMvV"
      },
      "execution_count": null,
      "outputs": []
    },
    {
      "cell_type": "code",
      "source": [
        "# Create some data\n",
        "rng = np.random.RandomState(0)\n",
        "x = np.linspace(0, 10, 500)\n",
        "y = np.cumsum(rng.randn(500, 6), 0)"
      ],
      "metadata": {
        "id": "6w-6A0xGwPeo"
      },
      "execution_count": null,
      "outputs": []
    },
    {
      "cell_type": "code",
      "source": [
        "# Plot the data with Matplotlib defaults\n",
        "plt.plot(x, y)\n",
        "plt.legend('ABCDEF', ncol=2, loc='upper left');"
      ],
      "metadata": {
        "id": "8fwIF-MwwUT4"
      },
      "execution_count": null,
      "outputs": []
    },
    {
      "cell_type": "markdown",
      "source": [
        "# Seaborn\n",
        "\n",
        "Now let's look at that same data using Seaborn"
      ],
      "metadata": {
        "id": "GElpgGEQwZgZ"
      }
    },
    {
      "cell_type": "code",
      "source": [
        "import seaborn as sns\n",
        "sns.set()"
      ],
      "metadata": {
        "id": "IBCZATyuwe-p"
      },
      "execution_count": null,
      "outputs": []
    },
    {
      "cell_type": "code",
      "source": [
        "# same plotting code as above!\n",
        "plt.plot(x, y)\n",
        "plt.legend('ABCDEF', ncol=2, loc='upper left');"
      ],
      "metadata": {
        "id": "olfa1SHqwheR"
      },
      "execution_count": null,
      "outputs": []
    },
    {
      "cell_type": "markdown",
      "source": [
        "Histograms and Joint Distributions in Seaborn"
      ],
      "metadata": {
        "id": "cC9S8qx_wqQl"
      }
    },
    {
      "cell_type": "code",
      "source": [
        "data = np.random.multivariate_normal([0, 0], [[5, 2], [2, 2]], size=2000)\n",
        "data = pd.DataFrame(data, columns=['x', 'y'])\n",
        "\n",
        "for col in 'xy':\n",
        "    plt.hist(data[col], alpha=0.5)"
      ],
      "metadata": {
        "id": "ZgS8gb2hwnk3"
      },
      "execution_count": null,
      "outputs": []
    },
    {
      "cell_type": "code",
      "source": [
        "# or smooth that out:\n",
        "\n",
        "for col in 'xy':\n",
        "    sns.kdeplot(data[col], fill=True)"
      ],
      "metadata": {
        "id": "cIXuP5Irw1p1"
      },
      "execution_count": null,
      "outputs": []
    },
    {
      "cell_type": "code",
      "source": [
        "# or make that a histogram using `histplot`\n",
        "\n",
        "sns.histplot(data['x'])\n",
        "sns.histplot(data['y']);"
      ],
      "metadata": {
        "id": "XdQKcZHKw_v4"
      },
      "execution_count": null,
      "outputs": []
    },
    {
      "cell_type": "code",
      "source": [
        "# or pass the 2-d dataset into kdeplot to get a 2-d viz of the data\n",
        "\n",
        "sns.kdeplot(data)"
      ],
      "metadata": {
        "id": "Fqd88mjoxVeA"
      },
      "execution_count": null,
      "outputs": []
    },
    {
      "cell_type": "markdown",
      "source": [
        "- - -\n",
        "\n",
        "# Plotly"
      ],
      "metadata": {
        "id": "EhG-6ViUv7n9"
      }
    },
    {
      "cell_type": "code",
      "execution_count": null,
      "metadata": {
        "id": "swpGSvYumM5y"
      },
      "outputs": [],
      "source": [
        "# import packages\n",
        "\n",
        "!pip install chart_studio\n",
        "\n",
        "import pandas as pd\n",
        "import numpy as np\n",
        "import scipy as sp\n",
        "import chart_studio\n",
        "import chart_studio.plotly as py\n",
        "import plotly.figure_factory as ff\n",
        "\n",
        "chart_studio.tools.set_credentials_file(username='nem2p', api_key='s0c2axozox4yaK0bKATo')"
      ]
    },
    {
      "cell_type": "code",
      "source": [
        "# import data as a dataframe\n",
        "\n",
        "df = pd.read_csv(\"https://raw.githubusercontent.com/plotly/datasets/master/school_earnings.csv\")\n",
        "\n",
        "table = ff.create_table(df)\n",
        "py.iplot(table, filename='jupyter-file1')"
      ],
      "metadata": {
        "id": "pniAVx_GmaX4"
      },
      "execution_count": null,
      "outputs": []
    },
    {
      "cell_type": "code",
      "source": [
        "# Get the standard deviation for each column:\n",
        "\n",
        "df.std()"
      ],
      "metadata": {
        "id": "xR8N5v3Bm9-2"
      },
      "execution_count": null,
      "outputs": []
    },
    {
      "cell_type": "code",
      "source": [
        "import chart_studio.plotly as py\n",
        "import plotly.graph_objects as go\n",
        "\n",
        "data = [go.Bar(x=df.School,\n",
        "            y=df.Gap)]\n",
        "\n",
        "py.iplot(data, filename='jupyter-basic_bar')"
      ],
      "metadata": {
        "id": "RNPn5jXepUKe"
      },
      "execution_count": null,
      "outputs": []
    },
    {
      "cell_type": "code",
      "source": [
        "import chart_studio.plotly as py\n",
        "import plotly.graph_objects as go\n",
        "\n",
        "trace_women = go.Bar(x=df.School,\n",
        "                  y=df.Women,\n",
        "                  name='Women',\n",
        "                  marker=dict(color='#ffcdd2'))\n",
        "\n",
        "trace_men = go.Bar(x=df.School,\n",
        "                y=df.Men,\n",
        "                name='Men',\n",
        "                marker=dict(color='#A2D5F2'))\n",
        "\n",
        "trace_gap = go.Bar(x=df.School,\n",
        "                y=df.Gap,\n",
        "                name='Gap',\n",
        "                marker=dict(color='#59606D'))\n",
        "\n",
        "data = [trace_women, trace_men, trace_gap]\n",
        "\n",
        "layout = go.Layout(title=\"Average Earnings for Graduates\",\n",
        "                xaxis=dict(title='School'),\n",
        "                yaxis=dict(title='Salary (in thousands)'))\n",
        "\n",
        "fig = go.Figure(data=data, layout=layout)\n",
        "\n",
        "py.iplot(fig, sharing='public', filename='jupyter-styled_bar')"
      ],
      "metadata": {
        "id": "NkVIvi2ptYp3"
      },
      "execution_count": null,
      "outputs": []
    },
    {
      "cell_type": "markdown",
      "source": [
        "## Mapping"
      ],
      "metadata": {
        "id": "BDNDApSVpi47"
      }
    },
    {
      "cell_type": "code",
      "source": [
        "import chart_studio.plotly as py\n",
        "import plotly.graph_objects as go\n",
        "import pandas as pd\n",
        "\n",
        "mapbox_access_token = 'sk.eyJ1IjoibmVtMnAiLCJhIjoiY2xvbXdhMzdxMTdoajJqbWl0eWljOGl5ciJ9.K_nxX8l8BjI7BXHEFeudLw'\n",
        "\n",
        "df = pd.read_csv('https://raw.githubusercontent.com/plotly/datasets/master/Nuclear%20Waste%20Sites%20on%20American%20Campuses.csv')\n",
        "site_lat = df.lat\n",
        "site_lon = df.lon\n",
        "locations_name = df.text\n",
        "\n",
        "data = [\n",
        "    go.Scattermapbox(\n",
        "        lat=site_lat,\n",
        "        lon=site_lon,\n",
        "        mode='markers',\n",
        "        marker=dict(\n",
        "            size=17,\n",
        "            color='rgb(255, 0, 0)',\n",
        "            opacity=0.7\n",
        "        ),\n",
        "        text=locations_name,\n",
        "        hoverinfo='text'\n",
        "    ),\n",
        "    go.Scattermapbox(\n",
        "        lat=site_lat,\n",
        "        lon=site_lon,\n",
        "        mode='markers',\n",
        "        marker=dict(\n",
        "            size=8,\n",
        "            color='rgb(242, 177, 172)',\n",
        "            opacity=0.7\n",
        "        ),\n",
        "        hoverinfo='none'\n",
        "    )]\n",
        "\n",
        "\n",
        "layout = go.Layout(\n",
        "    title='Nuclear Waste Sites on Campus',\n",
        "    autosize=True,\n",
        "    hovermode='closest',\n",
        "    showlegend=False,\n",
        "    mapbox=dict(\n",
        "        accesstoken=mapbox_access_token,\n",
        "        bearing=0,\n",
        "        center=dict(\n",
        "            lat=38,\n",
        "            lon=-94\n",
        "        ),\n",
        "        pitch=0,\n",
        "        zoom=3,\n",
        "        style='light'\n",
        "    ),\n",
        ")\n",
        "\n",
        "fig = dict(data=data, layout=layout)\n",
        "\n",
        "py.iplot(fig, filename='jupyter-Nuclear Waste Sites on American Campuses')"
      ],
      "metadata": {
        "id": "er-xcwrDphst"
      },
      "execution_count": null,
      "outputs": []
    },
    {
      "cell_type": "markdown",
      "source": [
        "![Mapping Plot](https://s3.amazonaws.com/ds1002-resources/images/plotly-mapping.png)"
      ],
      "metadata": {
        "id": "A2qESyfZvOqM"
      }
    },
    {
      "cell_type": "markdown",
      "source": [
        "## 3-D Plotting"
      ],
      "metadata": {
        "id": "2s3w_BHjr2Ox"
      }
    },
    {
      "cell_type": "code",
      "source": [
        "import chart_studio.plotly as py\n",
        "import plotly.graph_objects as go\n",
        "\n",
        "import numpy as np\n",
        "\n",
        "s = np.linspace(0, 2 * np.pi, 240)\n",
        "t = np.linspace(0, np.pi, 240)\n",
        "tGrid, sGrid = np.meshgrid(s, t)\n",
        "\n",
        "r = 2 + np.sin(7 * sGrid + 5 * tGrid)  # r = 2 + sin(7s+5t)\n",
        "x = r * np.cos(sGrid) * np.sin(tGrid)  # x = r*cos(s)*sin(t)\n",
        "y = r * np.sin(sGrid) * np.sin(tGrid)  # y = r*sin(s)*sin(t)\n",
        "z = r * np.cos(tGrid)                  # z = r*cos(t)\n",
        "\n",
        "surface = go.Surface(x=x, y=y, z=z)\n",
        "data = [surface]\n",
        "\n",
        "layout = go.Layout(\n",
        "    title='Parametric Plot',\n",
        "    scene=dict(\n",
        "        xaxis=dict(\n",
        "            gridcolor='rgb(255, 255, 255)',\n",
        "            zerolinecolor='rgb(255, 255, 255)',\n",
        "            showbackground=True,\n",
        "            backgroundcolor='rgb(230, 230,230)'\n",
        "        ),\n",
        "        yaxis=dict(\n",
        "            gridcolor='rgb(255, 255, 255)',\n",
        "            zerolinecolor='rgb(255, 255, 255)',\n",
        "            showbackground=True,\n",
        "            backgroundcolor='rgb(230, 230,230)'\n",
        "        ),\n",
        "        zaxis=dict(\n",
        "            gridcolor='rgb(255, 255, 255)',\n",
        "            zerolinecolor='rgb(255, 255, 255)',\n",
        "            showbackground=True,\n",
        "            backgroundcolor='rgb(230, 230,230)'\n",
        "        )\n",
        "    )\n",
        ")\n",
        "\n",
        "fig = go.Figure(data=data, layout=layout)\n",
        "py.iplot(fig, filename='jupyter-parametric_plot')"
      ],
      "metadata": {
        "id": "q-QVVy_vr1TG"
      },
      "execution_count": null,
      "outputs": []
    },
    {
      "cell_type": "markdown",
      "source": [
        "![Animated Plot](https://s3.amazonaws.com/ds1002-resources/images/plotly-parametric.png)"
      ],
      "metadata": {
        "id": "IzUKjkcGvUT9"
      }
    },
    {
      "cell_type": "markdown",
      "source": [
        "## Animated Plots\n",
        "\n",
        "![Animated Plot](https://s3.amazonaws.com/ds1002-resources/images/plotly-animated.png)"
      ],
      "metadata": {
        "id": "wdKhzwGzu0kg"
      }
    }
  ]
}