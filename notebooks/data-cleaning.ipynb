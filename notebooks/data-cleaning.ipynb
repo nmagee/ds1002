{
  "cells": [
    {
      "cell_type": "markdown",
      "metadata": {
        "colab_type": "text",
        "id": "view-in-github"
      },
      "source": [
        "<a href=\"https://colab.research.google.com/github/nmagee/ds1002/blob/main/notebooks/data-cleaning.ipynb\" target=\"_parent\"><img src=\"https://colab.research.google.com/assets/colab-badge.svg\" alt=\"Open In Colab\"/></a>"
      ]
    },
    {
      "cell_type": "markdown",
      "metadata": {
        "id": "GPf4ND8yBuKk"
      },
      "source": [
        "## Pandas Data Cleaning Practice\n",
        "\n",
        "You'll be working with bicycle ride sharing data in San Francisco called `ride_sharing.csv`.\n",
        "\n",
        "It contains information on the start and end stations, the trip duration, and some user information for a bike sharing service."
      ]
    },
    {
      "cell_type": "code",
      "execution_count": null,
      "metadata": {
        "id": "jx7qIhkqBuKm"
      },
      "outputs": [],
      "source": [
        "# import dependencies\n",
        "import pandas as pd"
      ]
    },
    {
      "cell_type": "code",
      "execution_count": null,
      "metadata": {
        "id": "I7_HJtNwBuKm"
      },
      "outputs": [],
      "source": [
        "# import csv\n",
        "rides = pd.read_csv('https://ds1002-resources.s3.amazonaws.com/data/ride_sharing.csv')"
      ]
    },
    {
      "cell_type": "markdown",
      "metadata": {
        "id": "ksQhy5t4BuKm"
      },
      "source": [
        "The `user_type column` contains information on whether a user is taking a free ride and takes on the following values:\n",
        "\n",
        "`1` for free riders.  \n",
        "`2` for pay per ride.  \n",
        "`3` for monthly subscribers.\n",
        "\n",
        "**1. Provide summary statistics for the `user_type` columns**"
      ]
    },
    {
      "cell_type": "code",
      "execution_count": null,
      "metadata": {
        "id": "2ZFO4GVnBuKn"
      },
      "outputs": [],
      "source": [
        "rides.dtypes"
      ]
    },
    {
      "cell_type": "code",
      "execution_count": null,
      "metadata": {
        "id": "STo-hUC9BuKn"
      },
      "outputs": [],
      "source": [
        "# create a new column that the correct data type for `user_type`\n",
        "rides['user_type_cat'] = rides['user_type'].astype('category')"
      ]
    },
    {
      "cell_type": "code",
      "execution_count": null,
      "metadata": {
        "id": "f_Z_TI1pBuKn"
      },
      "outputs": [],
      "source": [
        "# use `assert` to confirm change\n",
        "assert rides['user_type_cat'].dtypes == 'category'"
      ]
    },
    {
      "cell_type": "code",
      "execution_count": null,
      "metadata": {
        "id": "CkWNrmivBuKn"
      },
      "outputs": [],
      "source": [
        "# run summary stats on new column\n",
        "rides['user_type_cat'].describe()"
      ]
    },
    {
      "cell_type": "markdown",
      "metadata": {
        "id": "JTNWa2NCBuKn"
      },
      "source": [
        "**2. Find the average ride `duration`.**"
      ]
    },
    {
      "cell_type": "code",
      "execution_count": null,
      "metadata": {
        "id": "v8FGynRLBuKn"
      },
      "outputs": [],
      "source": [
        "# `duration` column: separate the units from the numerical value and\n",
        "# store it in a column called `duration_trim`\n",
        "\n",
        "rides['duration_trim'] = rides['duration'].str.strip('minutes')"
      ]
    },
    {
      "cell_type": "code",
      "execution_count": null,
      "metadata": {
        "id": "5LjLfKvDBuKn"
      },
      "outputs": [],
      "source": [
        "# convert `duration_trim` to `int` and store it as 'duration_min'\n",
        "rides['duration_min'] = rides['duration_trim'].astype('int')"
      ]
    },
    {
      "cell_type": "code",
      "execution_count": null,
      "metadata": {
        "id": "jJe6Oi6UBuKo"
      },
      "outputs": [],
      "source": [
        "# confirm the change\n",
        "assert rides['duration_min'].dtypes == 'int'"
      ]
    },
    {
      "cell_type": "code",
      "execution_count": null,
      "metadata": {
        "id": "WZ18jNyNBuKo"
      },
      "outputs": [],
      "source": [
        "# print the average ride duration\n",
        "print(rides['duration_min'].mean().round(2))"
      ]
    },
    {
      "cell_type": "markdown",
      "metadata": {
        "id": "Cu8pTAgrBuKo"
      },
      "source": [
        "Bicycle tire sizes could be either 26″, 27″ or 29″ and are here correctly stored as a categorical value. In an effort to cut maintenance costs, the ride sharing provider decided to set the maximum tire size to be 27″.\n",
        "\n",
        "**3. Set the maximum tire size to 27\" in the dataset**"
      ]
    },
    {
      "cell_type": "code",
      "execution_count": null,
      "metadata": {
        "id": "SuU9-6ehBuKo"
      },
      "outputs": [],
      "source": [
        "rides.dtypes"
      ]
    },
    {
      "cell_type": "code",
      "execution_count": null,
      "metadata": {
        "id": "4P-N5HnTBuKo"
      },
      "outputs": [],
      "source": [
        "# Set all values above 27 to 27\n",
        "rides.loc[rides['tire_size'] > 27, 'tire_size'] = 27"
      ]
    },
    {
      "cell_type": "code",
      "execution_count": null,
      "metadata": {
        "id": "73JZRjvbBuKo"
      },
      "outputs": [],
      "source": [
        "# Convert tire_sizes to categorical\n",
        "rides['tire_size'] = rides['tire_size'].astype('category')"
      ]
    },
    {
      "cell_type": "code",
      "execution_count": null,
      "metadata": {
        "id": "1U0wuwM-BuKo"
      },
      "outputs": [],
      "source": [
        "# Print tire size description\n",
        "print(rides['tire_size'].describe())"
      ]
    }
  ],
  "metadata": {
    "colab": {
      "include_colab_link": true,
      "provenance": []
    },
    "kernelspec": {
      "display_name": "Python 3.8.9 64-bit",
      "language": "python",
      "name": "python3"
    },
    "language_info": {
      "codemirror_mode": {
        "name": "ipython",
        "version": 3
      },
      "file_extension": ".py",
      "mimetype": "text/x-python",
      "name": "python",
      "nbconvert_exporter": "python",
      "pygments_lexer": "ipython3",
      "version": "3.9.6"
    },
    "orig_nbformat": 4,
    "vscode": {
      "interpreter": {
        "hash": "31f2aee4e71d21fbe5cf8b01ff0e069b9275f58929596ceb00d14d90e3e16cd6"
      }
    }
  },
  "nbformat": 4,
  "nbformat_minor": 0
}
