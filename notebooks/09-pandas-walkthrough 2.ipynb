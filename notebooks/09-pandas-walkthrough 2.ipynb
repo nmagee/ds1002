{
  "nbformat": 4,
  "nbformat_minor": 0,
  "metadata": {
    "colab": {
      "provenance": [],
      "authorship_tag": "ABX9TyMPUTe5tTncUlem6u7o9uhl",
      "include_colab_link": true
    },
    "kernelspec": {
      "name": "python3",
      "display_name": "Python 3"
    },
    "language_info": {
      "name": "python"
    }
  },
  "cells": [
    {
      "cell_type": "markdown",
      "metadata": {
        "id": "view-in-github",
        "colab_type": "text"
      },
      "source": [
        "<a href=\"https://colab.research.google.com/github/nmagee/ds1002/blob/main/notebooks/09-pandas-walkthrough.ipynb\" target=\"_parent\"><img src=\"https://colab.research.google.com/assets/colab-badge.svg\" alt=\"Open In Colab\"/></a>"
      ]
    },
    {
      "cell_type": "code",
      "execution_count": null,
      "metadata": {
        "id": "zK04F0wwyBW4"
      },
      "outputs": [],
      "source": [
        "import numpy as np\n",
        "import pandas as pd\n",
        "import matplotlib.pyplot as plt\n",
        "\n",
        "%matplotlib inline"
      ]
    },
    {
      "cell_type": "code",
      "source": [
        "mock_data = pd.read_csv('MOCK_DATA.csv')"
      ],
      "metadata": {
        "id": "f5iDI2eGyQMs"
      },
      "execution_count": null,
      "outputs": []
    },
    {
      "cell_type": "code",
      "source": [
        "mock_data.info()"
      ],
      "metadata": {
        "id": "0dqxBZm_0hIz"
      },
      "execution_count": null,
      "outputs": []
    },
    {
      "cell_type": "code",
      "source": [
        "mock_data.index"
      ],
      "metadata": {
        "id": "QCtdYSO70C6i"
      },
      "execution_count": null,
      "outputs": []
    },
    {
      "cell_type": "code",
      "source": [
        "mock_data.head()"
      ],
      "metadata": {
        "id": "Vrrd3Y2TynMR"
      },
      "execution_count": null,
      "outputs": []
    },
    {
      "cell_type": "code",
      "source": [
        "mock_data.tail()"
      ],
      "metadata": {
        "id": "ODTnImnqy4Bu"
      },
      "execution_count": null,
      "outputs": []
    },
    {
      "cell_type": "code",
      "source": [
        "mock_data.describe()"
      ],
      "metadata": {
        "id": "kpvUnARqywvH"
      },
      "execution_count": null,
      "outputs": []
    },
    {
      "cell_type": "code",
      "source": [
        "mock_data.columns"
      ],
      "metadata": {
        "id": "h1jR0mAU0Go8"
      },
      "execution_count": null,
      "outputs": []
    },
    {
      "cell_type": "code",
      "source": [
        "mock_data.dtypes"
      ],
      "metadata": {
        "id": "nYPCf-rL0css"
      },
      "execution_count": null,
      "outputs": []
    },
    {
      "cell_type": "code",
      "source": [
        "mock_data = mock_data.rename(columns={'first_name': 'fname','last_name': 'lname'})"
      ],
      "metadata": {
        "id": "GheSj6uC0u5j"
      },
      "execution_count": null,
      "outputs": []
    },
    {
      "cell_type": "code",
      "source": [
        "mock_data['fname']"
      ],
      "metadata": {
        "id": "rjwNt8BK1AUh"
      },
      "execution_count": null,
      "outputs": []
    },
    {
      "cell_type": "code",
      "source": [
        "mock_data.fname"
      ],
      "metadata": {
        "id": "7F84fJ8c1GOm"
      },
      "execution_count": null,
      "outputs": []
    },
    {
      "cell_type": "code",
      "source": [
        "mock_data[['fname','lname']]"
      ],
      "metadata": {
        "id": "JxJBEzQt1SJy"
      },
      "execution_count": null,
      "outputs": []
    },
    {
      "cell_type": "code",
      "source": [
        "pd.value_counts(mock_data['gender']).plot.bar()"
      ],
      "metadata": {
        "id": "fQja1UtBy_ey"
      },
      "execution_count": null,
      "outputs": []
    },
    {
      "cell_type": "code",
      "source": [
        "mock_data.groupby(['gender'])['age'].mean()"
      ],
      "metadata": {
        "id": "szQEKDc9zV06"
      },
      "execution_count": null,
      "outputs": []
    }
  ]
}