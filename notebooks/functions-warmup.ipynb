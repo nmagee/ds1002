{
  "nbformat": 4,
  "nbformat_minor": 0,
  "metadata": {
    "colab": {
      "provenance": [],
      "authorship_tag": "ABX9TyOpawhK21eglXeAo4kfvWaX",
      "include_colab_link": true
    },
    "kernelspec": {
      "name": "python3",
      "display_name": "Python 3"
    },
    "language_info": {
      "name": "python"
    }
  },
  "cells": [
    {
      "cell_type": "markdown",
      "metadata": {
        "id": "view-in-github",
        "colab_type": "text"
      },
      "source": [
        "<a href=\"https://colab.research.google.com/github/nmagee/ds1002/blob/main/notebooks/functions-warmup.ipynb\" target=\"_parent\"><img src=\"https://colab.research.google.com/assets/colab-badge.svg\" alt=\"Open In Colab\"/></a>"
      ]
    },
    {
      "cell_type": "markdown",
      "source": [
        "# Warm-Up"
      ],
      "metadata": {
        "id": "J1KpP6ms77_s"
      }
    },
    {
      "cell_type": "code",
      "execution_count": 1,
      "metadata": {
        "id": "vHvAikqF76bK"
      },
      "outputs": [],
      "source": [
        "# Write a function that takes TWO integer parameters.\n",
        "# The function should range from the first integer to the second\n",
        "# The function should then evaluate each integer and determine whether\n",
        "# it is even or odd, and print that out (for every item)\n",
        "#\n",
        "\n"
      ]
    }
  ]
}