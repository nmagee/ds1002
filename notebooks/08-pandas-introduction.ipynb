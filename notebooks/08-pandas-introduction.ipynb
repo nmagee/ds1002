{
  "cells": [
    {
      "cell_type": "markdown",
      "metadata": {
        "id": "view-in-github",
        "colab_type": "text"
      },
      "source": [
        "<a href=\"https://colab.research.google.com/github/nmagee/ds1002/blob/main/notebooks/08-pandas-introduction.ipynb\" target=\"_parent\"><img src=\"https://colab.research.google.com/assets/colab-badge.svg\" alt=\"Open In Colab\"/></a>"
      ]
    },
    {
      "cell_type": "markdown",
      "metadata": {
        "id": "WxtcT1sJFe8S"
      },
      "source": [
        "# Pandas\n",
        "\n",
        "The data manipulation package of choice for Python users is Pandas. Pandas is built on top of NumPy and provides an efficient implementation of a DataFrame. DataFrames are essentially multidimensional arrays with attached row and column labels, and often with heterogeneous types and/or missing data. As well as offering a convenient storage interface for labeled data, Pandas implements a number of powerful data operations familiar to users of both database frameworks and spreadsheet programs.\n",
        "\n",
        "Let's work through a sample data frame using the Pandas library. We'll start by importing the library and creating a data frame from the Titanic Passenger List.\n",
        "\n",
        "These great examples are adapted from Giles McMullen-Klein's work."
      ]
    },
    {
      "cell_type": "code",
      "execution_count": null,
      "metadata": {
        "id": "ZnePyJ0FFe8T"
      },
      "outputs": [],
      "source": [
        "import numpy as np\n",
        "import pandas as pd\n",
        "import matplotlib.pyplot as plt\n",
        "\n",
        "%matplotlib inline"
      ]
    },
    {
      "cell_type": "code",
      "execution_count": null,
      "metadata": {
        "id": "Oh1LT8T0Fe8U"
      },
      "outputs": [],
      "source": [
        "titanic_df = pd.read_excel('titanic3.xls', 'titanic3', index_col=None, na_values=['NA'])"
      ]
    },
    {
      "cell_type": "code",
      "execution_count": null,
      "metadata": {
        "id": "ixGu-2rXFe8U"
      },
      "outputs": [],
      "source": [
        "titanic_df.head()"
      ]
    },
    {
      "cell_type": "code",
      "execution_count": null,
      "metadata": {
        "id": "h0j6OIMIFe8U"
      },
      "outputs": [],
      "source": [
        "titanic_df.describe()"
      ]
    },
    {
      "cell_type": "code",
      "execution_count": null,
      "metadata": {
        "id": "S3D7ya8FFe8V"
      },
      "outputs": [],
      "source": [
        "titanic_df.drop(['ticket','cabin','boat','body'],axis=1).head()"
      ]
    },
    {
      "cell_type": "code",
      "execution_count": null,
      "metadata": {
        "id": "xaYJQn_VFe8V"
      },
      "outputs": [],
      "source": [
        "titanic_df.isnull()"
      ]
    },
    {
      "cell_type": "code",
      "execution_count": null,
      "metadata": {
        "id": "3AgQuYdBFe8V"
      },
      "outputs": [],
      "source": [
        "titanic_df.isnull().sum()"
      ]
    },
    {
      "cell_type": "code",
      "execution_count": null,
      "metadata": {
        "id": "8rVKOBjlFe8V"
      },
      "outputs": [],
      "source": [
        "pd.value_counts(titanic_df['survived']).plot.bar()"
      ]
    },
    {
      "cell_type": "code",
      "execution_count": null,
      "metadata": {
        "id": "Dut98D1dFe8V"
      },
      "outputs": [],
      "source": [
        "titanic_df['survived'].mean()"
      ]
    },
    {
      "cell_type": "code",
      "execution_count": null,
      "metadata": {
        "id": "W0-NtVl_Fe8W"
      },
      "outputs": [],
      "source": [
        "titanic_df.groupby(['sex','pclass'])['survived'].mean()"
      ]
    },
    {
      "cell_type": "code",
      "execution_count": null,
      "metadata": {
        "id": "kaGVmZqxFe8W"
      },
      "outputs": [],
      "source": [
        "titanic_df['sex'].count()"
      ]
    },
    {
      "cell_type": "code",
      "execution_count": null,
      "metadata": {
        "id": "5wRWe7vwFe8W"
      },
      "outputs": [],
      "source": [
        "titanic_df[titanic_df['age']<18]"
      ]
    },
    {
      "cell_type": "markdown",
      "source": [
        "## Time-Series Data\n",
        "\n",
        "Use pandas to look at stock values over time from a remote API."
      ],
      "metadata": {
        "id": "CsfXhsOsIeeP"
      }
    },
    {
      "cell_type": "code",
      "source": [
        "zzzfPMjA7GsZUuyUpK7n_n7zzz"
      ],
      "metadata": {
        "id": "a2FEqmhEIrWb"
      },
      "execution_count": null,
      "outputs": []
    },
    {
      "cell_type": "code",
      "source": [
        "!pip install quandl\n",
        "import quandl\n",
        "quandl.ApiConfig.api_key = ''\n",
        "google = quandl.get('WIKI/GOOGL')\n",
        "fb = quandl.get('WIKI/FB')"
      ],
      "metadata": {
        "id": "bEH-I3ypGDsT"
      },
      "execution_count": null,
      "outputs": []
    },
    {
      "cell_type": "code",
      "source": [
        "%matplotlib inline\n",
        "google.head()"
      ],
      "metadata": {
        "id": "f66zPVlnHEaL"
      },
      "execution_count": null,
      "outputs": []
    },
    {
      "cell_type": "code",
      "source": [
        "google['Adj. Close'].plot()"
      ],
      "metadata": {
        "id": "Ao5kPfpYHP_o"
      },
      "execution_count": null,
      "outputs": []
    },
    {
      "cell_type": "code",
      "source": [
        "fb.head()"
      ],
      "metadata": {
        "id": "CQSJLSCcH3Wo"
      },
      "execution_count": null,
      "outputs": []
    },
    {
      "cell_type": "code",
      "source": [
        "fb['Adj. Close'].plot()"
      ],
      "metadata": {
        "id": "5E6xUG0pIAFv"
      },
      "execution_count": null,
      "outputs": []
    },
    {
      "cell_type": "code",
      "source": [
        "fb['Volume'].plot()"
      ],
      "metadata": {
        "id": "XyVO4M3MIEh6"
      },
      "execution_count": null,
      "outputs": []
    },
    {
      "cell_type": "code",
      "source": [
        "google.index"
      ],
      "metadata": {
        "id": "rgeCKXFWIODl"
      },
      "execution_count": null,
      "outputs": []
    },
    {
      "cell_type": "code",
      "source": [
        "google['2004']['Adj. Close'].plot()"
      ],
      "metadata": {
        "id": "0fp08t4FI6HJ"
      },
      "execution_count": null,
      "outputs": []
    }
  ],
  "metadata": {
    "kernelspec": {
      "display_name": "Python 3",
      "language": "python",
      "name": "python3"
    },
    "language_info": {
      "codemirror_mode": {
        "name": "ipython",
        "version": 3
      },
      "file_extension": ".py",
      "mimetype": "text/x-python",
      "name": "python",
      "nbconvert_exporter": "python",
      "pygments_lexer": "ipython3",
      "version": "3.9.13"
    },
    "orig_nbformat": 4,
    "colab": {
      "provenance": [],
      "include_colab_link": true
    }
  },
  "nbformat": 4,
  "nbformat_minor": 0
}