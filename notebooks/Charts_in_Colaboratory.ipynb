{
  "cells": [
    {
      "cell_type": "markdown",
      "metadata": {
        "id": "view-in-github",
        "colab_type": "text"
      },
      "source": [
        "<a href=\"https://colab.research.google.com/github/nmagee/ds1002/blob/main/notebooks/Charts_in_Colaboratory.ipynb\" target=\"_parent\"><img src=\"https://colab.research.google.com/assets/colab-badge.svg\" alt=\"Open In Colab\"/></a>"
      ]
    },
    {
      "cell_type": "markdown",
      "metadata": {
        "id": "QSMmdrrVLZ-N"
      },
      "source": [
        "# Papermill Test: Charting in Colaboratory\n",
        "\n",
        "A common use for notebooks is data visualization using charts. Colaboratory makes this easy with several charting tools available as Python imports."
      ]
    },
    {
      "cell_type": "markdown",
      "metadata": {
        "id": "xNzEBRkzL3B0"
      },
      "source": [
        "## Matplotlib\n",
        "\n",
        "[Matplotlib](http://matplotlib.org/) is the most common charting package, see its [documentation](http://matplotlib.org/api/pyplot_api.html) for details, and its [examples](http://matplotlib.org/gallery.html#statistics) for inspiration."
      ]
    },
    {
      "cell_type": "markdown",
      "metadata": {
        "id": "WALI8x49GUpe"
      },
      "source": [
        "### Line Plots"
      ]
    },
    {
      "cell_type": "code",
      "source": [
        "!pip install matplotlib seaborn numpy pandas mpl-tools plotly altair vega_datasets bokeh"
      ],
      "metadata": {
        "id": "V4CIW3OXXefB",
        "outputId": "71daa82f-08a6-4b01-cdfa-71d505454838",
        "colab": {
          "base_uri": "https://localhost:8080/"
        }
      },
      "execution_count": 2,
      "outputs": [
        {
          "output_type": "stream",
          "name": "stdout",
          "text": [
            "Requirement already satisfied: matplotlib in /usr/local/lib/python3.10/dist-packages (3.7.1)\n",
            "Requirement already satisfied: seaborn in /usr/local/lib/python3.10/dist-packages (0.13.1)\n",
            "Requirement already satisfied: numpy in /usr/local/lib/python3.10/dist-packages (1.25.2)\n",
            "Requirement already satisfied: pandas in /usr/local/lib/python3.10/dist-packages (2.0.3)\n",
            "Collecting mpl-tools\n",
            "  Downloading mpl_tools-0.4.0-py3-none-any.whl (18 kB)\n",
            "Requirement already satisfied: plotly in /usr/local/lib/python3.10/dist-packages (5.15.0)\n",
            "Requirement already satisfied: altair in /usr/local/lib/python3.10/dist-packages (4.2.2)\n",
            "Requirement already satisfied: vega_datasets in /usr/local/lib/python3.10/dist-packages (0.9.0)\n",
            "Requirement already satisfied: bokeh in /usr/local/lib/python3.10/dist-packages (3.3.4)\n",
            "Requirement already satisfied: contourpy>=1.0.1 in /usr/local/lib/python3.10/dist-packages (from matplotlib) (1.2.1)\n",
            "Requirement already satisfied: cycler>=0.10 in /usr/local/lib/python3.10/dist-packages (from matplotlib) (0.12.1)\n",
            "Requirement already satisfied: fonttools>=4.22.0 in /usr/local/lib/python3.10/dist-packages (from matplotlib) (4.51.0)\n",
            "Requirement already satisfied: kiwisolver>=1.0.1 in /usr/local/lib/python3.10/dist-packages (from matplotlib) (1.4.5)\n",
            "Requirement already satisfied: packaging>=20.0 in /usr/local/lib/python3.10/dist-packages (from matplotlib) (24.0)\n",
            "Requirement already satisfied: pillow>=6.2.0 in /usr/local/lib/python3.10/dist-packages (from matplotlib) (9.4.0)\n",
            "Requirement already satisfied: pyparsing>=2.3.1 in /usr/local/lib/python3.10/dist-packages (from matplotlib) (3.1.2)\n",
            "Requirement already satisfied: python-dateutil>=2.7 in /usr/local/lib/python3.10/dist-packages (from matplotlib) (2.8.2)\n",
            "Requirement already satisfied: pytz>=2020.1 in /usr/local/lib/python3.10/dist-packages (from pandas) (2023.4)\n",
            "Requirement already satisfied: tzdata>=2022.1 in /usr/local/lib/python3.10/dist-packages (from pandas) (2024.1)\n",
            "Requirement already satisfied: tenacity>=6.2.0 in /usr/local/lib/python3.10/dist-packages (from plotly) (8.3.0)\n",
            "Requirement already satisfied: entrypoints in /usr/local/lib/python3.10/dist-packages (from altair) (0.4)\n",
            "Requirement already satisfied: jinja2 in /usr/local/lib/python3.10/dist-packages (from altair) (3.1.4)\n",
            "Requirement already satisfied: jsonschema>=3.0 in /usr/local/lib/python3.10/dist-packages (from altair) (4.19.2)\n",
            "Requirement already satisfied: toolz in /usr/local/lib/python3.10/dist-packages (from altair) (0.12.1)\n",
            "Requirement already satisfied: PyYAML>=3.10 in /usr/local/lib/python3.10/dist-packages (from bokeh) (6.0.1)\n",
            "Requirement already satisfied: tornado>=5.1 in /usr/local/lib/python3.10/dist-packages (from bokeh) (6.3.3)\n",
            "Requirement already satisfied: xyzservices>=2021.09.1 in /usr/local/lib/python3.10/dist-packages (from bokeh) (2024.4.0)\n",
            "Requirement already satisfied: MarkupSafe>=2.0 in /usr/local/lib/python3.10/dist-packages (from jinja2->altair) (2.1.5)\n",
            "Requirement already satisfied: attrs>=22.2.0 in /usr/local/lib/python3.10/dist-packages (from jsonschema>=3.0->altair) (23.2.0)\n",
            "Requirement already satisfied: jsonschema-specifications>=2023.03.6 in /usr/local/lib/python3.10/dist-packages (from jsonschema>=3.0->altair) (2023.12.1)\n",
            "Requirement already satisfied: referencing>=0.28.4 in /usr/local/lib/python3.10/dist-packages (from jsonschema>=3.0->altair) (0.35.1)\n",
            "Requirement already satisfied: rpds-py>=0.7.1 in /usr/local/lib/python3.10/dist-packages (from jsonschema>=3.0->altair) (0.18.1)\n",
            "Requirement already satisfied: six>=1.5 in /usr/local/lib/python3.10/dist-packages (from python-dateutil>=2.7->matplotlib) (1.16.0)\n",
            "Installing collected packages: mpl-tools\n",
            "Successfully installed mpl-tools-0.4.0\n"
          ]
        }
      ]
    },
    {
      "cell_type": "code",
      "execution_count": null,
      "metadata": {
        "id": "08RTGn_xE3MP"
      },
      "outputs": [],
      "source": [
        "import matplotlib.pyplot as plt\n",
        "\n",
        "x  = [1, 2, 3, 4, 5, 6, 7, 8, 9]\n",
        "y1 = [1, 3, 5, 3, 1, 3, 5, 3, 1]\n",
        "y2 = [2, 4, 6, 4, 2, 4, 6, 4, 2]\n",
        "plt.plot(x, y1, label=\"line L\")\n",
        "plt.plot(x, y2, label=\"line H\")\n",
        "plt.plot()\n",
        "\n",
        "plt.xlabel(\"x axis\")\n",
        "plt.ylabel(\"y axis\")\n",
        "plt.title(\"Line Graph Example\")\n",
        "plt.legend()\n",
        "plt.show()"
      ]
    },
    {
      "cell_type": "markdown",
      "metadata": {
        "id": "sIZLTZ0pdo0Z"
      },
      "source": [
        "### Bar Plots"
      ]
    },
    {
      "cell_type": "code",
      "execution_count": null,
      "metadata": {
        "id": "bZv4MenQpYOF"
      },
      "outputs": [],
      "source": [
        "import matplotlib.pyplot as plt\n",
        "\n",
        "# Look at index 4 and 6, which demonstrate overlapping cases.\n",
        "x1 = [1, 3, 4, 5, 6, 7, 9]\n",
        "y1 = [4, 7, 2, 4, 7, 8, 3]\n",
        "\n",
        "x2 = [2, 4, 6, 8, 10]\n",
        "y2 = [5, 6, 2, 6, 2]\n",
        "\n",
        "# Colors: https://matplotlib.org/api/colors_api.html\n",
        "\n",
        "plt.bar(x1, y1, label=\"Blue Bar\", color='b')\n",
        "plt.bar(x2, y2, label=\"Green Bar\", color='g')\n",
        "plt.plot()\n",
        "\n",
        "plt.xlabel(\"bar number\")\n",
        "plt.ylabel(\"bar height\")\n",
        "plt.title(\"Bar Chart Example\")\n",
        "plt.legend()\n",
        "plt.show()"
      ]
    },
    {
      "cell_type": "markdown",
      "metadata": {
        "id": "YQO2Lw8Xdu7x"
      },
      "source": [
        "### Histograms"
      ]
    },
    {
      "cell_type": "code",
      "execution_count": null,
      "metadata": {
        "cellView": "both",
        "id": "SZ-DMbnPMbMY"
      },
      "outputs": [],
      "source": [
        "import matplotlib.pyplot as plt\n",
        "import numpy as np\n",
        "\n",
        "# Use numpy to generate a bunch of random data in a bell curve around 5.\n",
        "n = 5 + np.random.randn(1000)\n",
        "\n",
        "m = [m for m in range(len(n))]\n",
        "plt.bar(m, n)\n",
        "plt.title(\"Raw Data\")\n",
        "plt.show()\n",
        "\n",
        "plt.hist(n, bins=20)\n",
        "plt.title(\"Histogram\")\n",
        "plt.show()\n",
        "\n",
        "plt.hist(n, cumulative=True, bins=20)\n",
        "plt.title(\"Cumulative Histogram\")\n",
        "plt.show()"
      ]
    },
    {
      "cell_type": "markdown",
      "metadata": {
        "id": "9-CelVUmdz8r"
      },
      "source": [
        "### Scatter Plots"
      ]
    },
    {
      "cell_type": "code",
      "execution_count": null,
      "metadata": {
        "id": "79C7jc9mv-Ji"
      },
      "outputs": [],
      "source": [
        "import matplotlib.pyplot as plt\n",
        "\n",
        "x1 = [2, 3, 4]\n",
        "y1 = [5, 5, 5]\n",
        "\n",
        "x2 = [1, 2, 3, 4, 5]\n",
        "y2 = [2, 3, 2, 3, 4]\n",
        "y3 = [6, 8, 7, 8, 7]\n",
        "\n",
        "# Markers: https://matplotlib.org/api/markers_api.html\n",
        "\n",
        "plt.scatter(x1, y1)\n",
        "plt.scatter(x2, y2, marker='v', color='r')\n",
        "plt.scatter(x2, y3, marker='^', color='m')\n",
        "plt.title('Scatter Plot Example')\n",
        "plt.show()"
      ]
    },
    {
      "cell_type": "markdown",
      "metadata": {
        "id": "nlk-Sk0Nd82p"
      },
      "source": [
        "### Stack Plots"
      ]
    },
    {
      "cell_type": "code",
      "execution_count": null,
      "metadata": {
        "id": "5sxEM0pJzpgr"
      },
      "outputs": [],
      "source": [
        "import matplotlib.pyplot as plt\n",
        "\n",
        "idxes = [ 1,  2,  3,  4,  5,  6,  7,  8,  9]\n",
        "arr1  = [23, 40, 28, 43,  8, 44, 43, 18, 17]\n",
        "arr2  = [17, 30, 22, 14, 17, 17, 29, 22, 30]\n",
        "arr3  = [15, 31, 18, 22, 18, 19, 13, 32, 39]\n",
        "\n",
        "# Adding legend for stack plots is tricky.\n",
        "plt.plot([], [], color='r', label = 'D 1')\n",
        "plt.plot([], [], color='g', label = 'D 2')\n",
        "plt.plot([], [], color='b', label = 'D 3')\n",
        "\n",
        "plt.stackplot(idxes, arr1, arr2, arr3, colors= ['r', 'g', 'b'])\n",
        "plt.title('Stack Plot Example')\n",
        "plt.legend()\n",
        "plt.show()"
      ]
    },
    {
      "cell_type": "markdown",
      "metadata": {
        "id": "C0LOohpqeCjx"
      },
      "source": [
        "### Pie Charts"
      ]
    },
    {
      "cell_type": "code",
      "execution_count": null,
      "metadata": {
        "id": "ZdEG-d4g4U6v"
      },
      "outputs": [],
      "source": [
        "import matplotlib.pyplot as plt\n",
        "\n",
        "labels = 'S1', 'S2', 'S3'\n",
        "sections = [56, 66, 24]\n",
        "colors = ['c', 'g', 'y']\n",
        "\n",
        "plt.pie(sections, labels=labels, colors=colors,\n",
        "        startangle=90,\n",
        "        explode = (0, 0.1, 0),\n",
        "        autopct = '%1.2f%%')\n",
        "\n",
        "plt.axis('equal') # Try commenting this out.\n",
        "plt.title('Pie Chart Example')\n",
        "plt.show()"
      ]
    },
    {
      "cell_type": "markdown",
      "metadata": {
        "id": "sX97x87MTyIf"
      },
      "source": [
        "### fill_between and alpha"
      ]
    },
    {
      "cell_type": "code",
      "execution_count": null,
      "metadata": {
        "id": "BCUl8mTMT4sN"
      },
      "outputs": [],
      "source": [
        "import matplotlib.pyplot as plt\n",
        "import numpy as np\n",
        "\n",
        "ys = 200 + np.random.randn(100)\n",
        "x = [x for x in range(len(ys))]\n",
        "\n",
        "plt.plot(x, ys, '-')\n",
        "plt.fill_between(x, ys, 195, where=(ys > 195), facecolor='g', alpha=0.6)\n",
        "\n",
        "plt.title(\"Fills and Alpha Example\")\n",
        "plt.show()"
      ]
    },
    {
      "cell_type": "markdown",
      "metadata": {
        "id": "jONspxyzeT4Y"
      },
      "source": [
        "### Subplotting using Subplot2grid"
      ]
    },
    {
      "cell_type": "code",
      "execution_count": null,
      "metadata": {
        "id": "JF-dVGj3ExQm"
      },
      "outputs": [],
      "source": [
        "import matplotlib.pyplot as plt\n",
        "import numpy as np\n",
        "\n",
        "def random_plots():\n",
        "  xs = []\n",
        "  ys = []\n",
        "\n",
        "  for i in range(20):\n",
        "    x = i\n",
        "    y = np.random.randint(10)\n",
        "\n",
        "    xs.append(x)\n",
        "    ys.append(y)\n",
        "\n",
        "  return xs, ys\n",
        "\n",
        "fig = plt.figure()\n",
        "ax1 = plt.subplot2grid((5, 2), (0, 0), rowspan=1, colspan=2)\n",
        "ax2 = plt.subplot2grid((5, 2), (1, 0), rowspan=3, colspan=2)\n",
        "ax3 = plt.subplot2grid((5, 2), (4, 0), rowspan=1, colspan=1)\n",
        "ax4 = plt.subplot2grid((5, 2), (4, 1), rowspan=1, colspan=1)\n",
        "\n",
        "x, y = random_plots()\n",
        "ax1.plot(x, y)\n",
        "\n",
        "x, y = random_plots()\n",
        "ax2.plot(x, y)\n",
        "\n",
        "x, y = random_plots()\n",
        "ax3.plot(x, y)\n",
        "\n",
        "x, y = random_plots()\n",
        "ax4.plot(x, y)\n",
        "\n",
        "plt.tight_layout()\n",
        "plt.show()"
      ]
    },
    {
      "cell_type": "markdown",
      "metadata": {
        "id": "fllyxKu8edm6"
      },
      "source": [
        "## Plot styles\n",
        "\n",
        "Colaboratory charts use [Seaborn's](https://seaborn.pydata.org) custom styling by default. To customize styling further please see the [matplotlib docs](https://matplotlib.org/users/style_sheets.html)."
      ]
    },
    {
      "cell_type": "markdown",
      "metadata": {
        "id": "Xn0jLwr8evoR"
      },
      "source": [
        "## 3D Graphs"
      ]
    },
    {
      "cell_type": "markdown",
      "metadata": {
        "id": "DrRCtocXe9SB"
      },
      "source": [
        "### 3D Scatter Plots"
      ]
    },
    {
      "cell_type": "code",
      "execution_count": null,
      "metadata": {
        "id": "Eo2bdDQ5GZ76"
      },
      "outputs": [],
      "source": [
        "import matplotlib.pyplot as plt\n",
        "import numpy as np\n",
        "from mpl_toolkits.mplot3d import axes3d\n",
        "\n",
        "fig = plt.figure()\n",
        "ax = fig.add_subplot(111, projection = '3d')\n",
        "\n",
        "x1 = [1, 2, 3, 4, 5, 6, 7, 8, 9, 10]\n",
        "y1 = np.random.randint(10, size=10)\n",
        "z1 = np.random.randint(10, size=10)\n",
        "\n",
        "x2 = [-1, -2, -3, -4, -5, -6, -7, -8, -9, -10]\n",
        "y2 = np.random.randint(-10, 0, size=10)\n",
        "z2 = np.random.randint(10, size=10)\n",
        "\n",
        "ax.scatter(x1, y1, z1, c='b', marker='o', label='blue')\n",
        "ax.scatter(x2, y2, z2, c='g', marker='D', label='green')\n",
        "\n",
        "ax.set_xlabel('x axis')\n",
        "ax.set_ylabel('y axis')\n",
        "ax.set_zlabel('z axis')\n",
        "plt.title(\"3D Scatter Plot Example\")\n",
        "plt.legend()\n",
        "plt.tight_layout()\n",
        "plt.show()"
      ]
    },
    {
      "cell_type": "markdown",
      "metadata": {
        "id": "MXVPkFpTfCE-"
      },
      "source": [
        "### 3D Bar Plots"
      ]
    },
    {
      "cell_type": "code",
      "execution_count": null,
      "metadata": {
        "id": "YGi1XPCrGsQz"
      },
      "outputs": [],
      "source": [
        "import matplotlib.pyplot as plt\n",
        "import numpy as np\n",
        "\n",
        "fig = plt.figure()\n",
        "ax = fig.add_subplot(111, projection = '3d')\n",
        "\n",
        "x = [1, 2, 3, 4, 5, 6, 7, 8, 9, 10]\n",
        "y = np.random.randint(10, size=10)\n",
        "z = np.zeros(10)\n",
        "\n",
        "dx = np.ones(10)\n",
        "dy = np.ones(10)\n",
        "dz = [1, 2, 3, 4, 5, 6, 7, 8, 9, 10]\n",
        "\n",
        "ax.bar3d(x, y, z, dx, dy, dz, color='g')\n",
        "\n",
        "ax.set_xlabel('x axis')\n",
        "ax.set_ylabel('y axis')\n",
        "ax.set_zlabel('z axis')\n",
        "plt.title(\"3D Bar Chart Example\")\n",
        "plt.tight_layout()\n",
        "plt.show()"
      ]
    },
    {
      "cell_type": "markdown",
      "metadata": {
        "id": "Xbey0KVpfIbQ"
      },
      "source": [
        "### Wireframe Plots"
      ]
    },
    {
      "cell_type": "code",
      "execution_count": null,
      "metadata": {
        "id": "60f2SO4jIfQz"
      },
      "outputs": [],
      "source": [
        "import matplotlib.pyplot as plt\n",
        "\n",
        "fig = plt.figure()\n",
        "ax = fig.add_subplot(111, projection = '3d')\n",
        "\n",
        "x, y, z = axes3d.get_test_data()\n",
        "\n",
        "ax.plot_wireframe(x, y, z, rstride = 2, cstride = 2)\n",
        "\n",
        "plt.title(\"Wireframe Plot Example\")\n",
        "plt.tight_layout()\n",
        "plt.show()"
      ]
    },
    {
      "cell_type": "markdown",
      "metadata": {
        "id": "cRkuifc7PazR"
      },
      "source": [
        "## Seaborn\n",
        "\n",
        "There are several libraries layered on top of Matplotlib that you can use in Colab. One that is worth highlighting is [Seaborn](http://seaborn.pydata.org):"
      ]
    },
    {
      "cell_type": "code",
      "execution_count": null,
      "metadata": {
        "cellView": "both",
        "id": "el13bTbyPRw4"
      },
      "outputs": [],
      "source": [
        "import matplotlib.pyplot as plt\n",
        "import numpy as np\n",
        "import seaborn as sns\n",
        "\n",
        "# Generate some random data\n",
        "num_points = 20\n",
        "# x will be 5, 6, 7... but also twiddled randomly\n",
        "x = 5 + np.arange(num_points) + np.random.randn(num_points)\n",
        "# y will be 10, 11, 12... but twiddled even more randomly\n",
        "y = 10 + np.arange(num_points) + 5 * np.random.randn(num_points)\n",
        "sns.regplot(x, y)\n",
        "plt.show()"
      ]
    },
    {
      "cell_type": "markdown",
      "metadata": {
        "id": "MoWj1knmTZPI"
      },
      "source": [
        "That's a simple scatterplot with a nice regression line fit to it, all with just one call to Seaborn's [regplot](http://seaborn.pydata.org/generated/seaborn.regplot.html#seaborn.regplot).\n",
        "\n",
        "Here's a Seaborn [heatmap](https://seaborn.pydata.org/generated/seaborn.heatmap.html):"
      ]
    },
    {
      "cell_type": "code",
      "execution_count": null,
      "metadata": {
        "cellView": "both",
        "id": "Fjw7UfGZQcL9"
      },
      "outputs": [],
      "source": [
        "import matplotlib.pyplot as plt\n",
        "import numpy as np\n",
        "\n",
        "# Make a 10 x 10 heatmap of some random data\n",
        "side_length = 10\n",
        "# Start with a 10 x 10 matrix with values randomized around 5\n",
        "data = 5 + np.random.randn(side_length, side_length)\n",
        "# The next two lines make the values larger as we get closer to (9, 9)\n",
        "data += np.arange(side_length)\n",
        "data += np.reshape(np.arange(side_length), (side_length, 1))\n",
        "# Generate the heatmap\n",
        "sns.heatmap(data)\n",
        "plt.show()"
      ]
    },
    {
      "cell_type": "markdown",
      "metadata": {
        "id": "beTgCbVa_wFA"
      },
      "source": [
        "## Altair"
      ]
    },
    {
      "cell_type": "markdown",
      "metadata": {
        "id": "610XkhS2Atb0"
      },
      "source": [
        "[Altair](http://altair-viz.github.io) is a declarative visualization library for creating interactive visualizations in Python, and is installed and enabled in Colab by default.\n",
        "\n",
        "For example, here is an interactive scatter plot:"
      ]
    },
    {
      "cell_type": "code",
      "execution_count": null,
      "metadata": {
        "id": "lIYdn1woOS1n"
      },
      "outputs": [],
      "source": [
        "import altair as alt\n",
        "from vega_datasets import data\n",
        "cars = data.cars()\n",
        "\n",
        "alt.Chart(cars).mark_point().encode(\n",
        "    x='Horsepower',\n",
        "    y='Miles_per_Gallon',\n",
        "    color='Origin',\n",
        ").interactive()"
      ]
    },
    {
      "cell_type": "markdown",
      "metadata": {
        "id": "zPAYx6C_tSdc"
      },
      "source": [
        "For more examples of Altair plots, see the [Altair snippets notebook](/notebooks/snippets/altair.ipynb) or the external [Altair Example Gallery](https://altair-viz.github.io/gallery/)."
      ]
    },
    {
      "cell_type": "markdown",
      "metadata": {
        "id": "MYqcrcKLO4xe"
      },
      "source": [
        "## Plotly"
      ]
    },
    {
      "cell_type": "markdown",
      "metadata": {
        "id": "ZFFeVI4yO4xi"
      },
      "source": [
        "### Sample"
      ]
    },
    {
      "cell_type": "code",
      "execution_count": null,
      "metadata": {
        "id": "8YCVGqZkJJxT"
      },
      "outputs": [],
      "source": [
        "from plotly.offline import iplot\n",
        "import plotly.graph_objs as go\n",
        "\n",
        "data = [\n",
        "    go.Contour(\n",
        "        z=[[10, 10.625, 12.5, 15.625, 20],\n",
        "           [5.625, 6.25, 8.125, 11.25, 15.625],\n",
        "           [2.5, 3.125, 5., 8.125, 12.5],\n",
        "           [0.625, 1.25, 3.125, 6.25, 10.625],\n",
        "           [0, 0.625, 2.5, 5.625, 10]]\n",
        "    )\n",
        "]\n",
        "iplot(data)"
      ]
    },
    {
      "cell_type": "markdown",
      "metadata": {
        "id": "JGnotb1n73Yk"
      },
      "source": [
        "## Bokeh"
      ]
    },
    {
      "cell_type": "markdown",
      "metadata": {
        "id": "J3dDw5_wKbpe"
      },
      "source": [
        "### Sample"
      ]
    },
    {
      "cell_type": "code",
      "execution_count": null,
      "metadata": {
        "id": "vlOIt0zZ5uCz"
      },
      "outputs": [],
      "source": [
        "import numpy as np\n",
        "from bokeh.plotting import figure, show\n",
        "from bokeh.io import output_notebook\n",
        "\n",
        "# Call once to configure Bokeh to display plots inline in the notebook.\n",
        "output_notebook()"
      ]
    },
    {
      "cell_type": "code",
      "execution_count": null,
      "metadata": {
        "id": "N-u5cYwpS-y0"
      },
      "outputs": [],
      "source": [
        "N = 4000\n",
        "x = np.random.random(size=N) * 100\n",
        "y = np.random.random(size=N) * 100\n",
        "radii = np.random.random(size=N) * 1.5\n",
        "colors = [\"#%02x%02x%02x\" % (r, g, 150) for r, g in zip(np.floor(50+2*x).astype(int), np.floor(30+2*y).astype(int))]\n",
        "\n",
        "p = figure()\n",
        "p.circle(x, y, radius=radii, fill_color=colors, fill_alpha=0.6, line_color=None)\n",
        "show(p)"
      ]
    }
  ],
  "metadata": {
    "colab": {
      "name": "Charts in Colaboratory",
      "toc_visible": true,
      "provenance": [],
      "include_colab_link": true
    },
    "kernelspec": {
      "display_name": "Python 3",
      "name": "python3"
    }
  },
  "nbformat": 4,
  "nbformat_minor": 0
}