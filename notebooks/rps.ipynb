{
  "nbformat": 4,
  "nbformat_minor": 0,
  "metadata": {
    "colab": {
      "provenance": [],
      "authorship_tag": "ABX9TyNPo7ZT809ILFieOLlVYS5n",
      "include_colab_link": true
    },
    "kernelspec": {
      "name": "python3",
      "display_name": "Python 3"
    },
    "language_info": {
      "name": "python"
    }
  },
  "cells": [
    {
      "cell_type": "markdown",
      "metadata": {
        "id": "view-in-github",
        "colab_type": "text"
      },
      "source": [
        "<a href=\"https://colab.research.google.com/github/nmagee/ds1002/blob/main/notebooks/rps.ipynb\" target=\"_parent\"><img src=\"https://colab.research.google.com/assets/colab-badge.svg\" alt=\"Open In Colab\"/></a>"
      ]
    },
    {
      "cell_type": "code",
      "execution_count": 31,
      "metadata": {
        "colab": {
          "base_uri": "https://localhost:8080/"
        },
        "id": "ShpKh9BJOwnT",
        "outputId": "32c3b981-5846-413b-c48d-c99a3933c648"
      },
      "outputs": [
        {
          "output_type": "stream",
          "name": "stdout",
          "text": [
            "Rock, Paper, Scissors?Rock\n",
            "Tie! The computer chose Rock\n"
          ]
        }
      ],
      "source": [
        "from random import randint\n",
        "\n",
        "t = [\"Rock\", \"Paper\", \"Scissors\"]\n",
        "\n",
        "computer = t[randint(0,2)]\n",
        "\n",
        "player = False\n",
        "\n",
        "while player == False:\n",
        "# set player to True\n",
        "  player = input(\"Rock, Paper, Scissors?\")\n",
        "  if player == computer:\n",
        "    print(f\"Tie! The computer chose {computer}\")\n",
        "  else:\n",
        "    print(f\"Someone won and someone lost. The computer chose {computer}\")\n",
        "player = False\n",
        "# computer = t[randint(0,2)]"
      ]
    }
  ]
}