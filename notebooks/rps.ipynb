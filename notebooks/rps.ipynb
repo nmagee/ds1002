{
  "nbformat": 4,
  "nbformat_minor": 0,
  "metadata": {
    "colab": {
      "provenance": [],
      "authorship_tag": "ABX9TyMwkA/rXztAscb/4yeyFoiI",
      "include_colab_link": true
    },
    "kernelspec": {
      "name": "python3",
      "display_name": "Python 3"
    },
    "language_info": {
      "name": "python"
    }
  },
  "cells": [
    {
      "cell_type": "markdown",
      "metadata": {
        "id": "view-in-github",
        "colab_type": "text"
      },
      "source": [
        "<a href=\"https://colab.research.google.com/github/nmagee/ds1002/blob/main/notebooks/rps.ipynb\" target=\"_parent\"><img src=\"https://colab.research.google.com/assets/colab-badge.svg\" alt=\"Open In Colab\"/></a>"
      ]
    },
    {
      "cell_type": "code",
      "source": [
        "from random import randint\n",
        "\n",
        "t = [\"Rock\", \"Paper\", \"Scissors\"]\n",
        "\n",
        "computer = t[randint(0,2)]\n",
        "\n",
        "player = input(\"Rock, Paper, Scissors? \")\n",
        "\n",
        "if player == computer:\n",
        "  print(\"We have a tie!\")\n",
        "elif player == \"Rock\":\n",
        "  if computer == \"Scissors\":\n",
        "    print(f\"Computer guessed {computer}. You win!\")\n",
        "  else:\n",
        "    print(f\"Computer guessed {computer}. Computer wins\")\n",
        "elif player == \"Paper\":\n",
        "  if computer == \"Rock\":\n",
        "    print(f\"Computer guessed {computer}. You win!\")\n",
        "  else:\n",
        "    print(f\"Computer guessed {computer}. Computer wins\")\n",
        "elif player == \"Scissors\":\n",
        "  if computer == \"Paper\":\n",
        "    print(f\"Computer guessed {computer}. You win!\")\n",
        "  else:\n",
        "    print(f\"Computer guessed {computer}. Computer wins\")\n",
        "else:\n",
        "  print(f\"You guessed {player}. Try again. Something went wrong\")\n",
        "\n",
        "computer = t[randint(0,2)]"
      ],
      "metadata": {
        "id": "QznbsO4yZSxB",
        "outputId": "460a3d93-b44e-400e-8629-d839b4b59057",
        "colab": {
          "base_uri": "https://localhost:8080/"
        }
      },
      "execution_count": 18,
      "outputs": [
        {
          "output_type": "stream",
          "name": "stdout",
          "text": [
            "Rock, Paper, Scissors? Rock\n",
            "Computer guessed Paper. Computer wins\n"
          ]
        }
      ]
    }
  ]
}