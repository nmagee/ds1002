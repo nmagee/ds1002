{
  "nbformat": 4,
  "nbformat_minor": 0,
  "metadata": {
    "colab": {
      "provenance": [],
      "authorship_tag": "ABX9TyPsDTtUnbxZtmhjRkn/Sdt1",
      "include_colab_link": true
    },
    "kernelspec": {
      "name": "python3",
      "display_name": "Python 3"
    },
    "language_info": {
      "name": "python"
    }
  },
  "cells": [
    {
      "cell_type": "markdown",
      "metadata": {
        "id": "view-in-github",
        "colab_type": "text"
      },
      "source": [
        "<a href=\"https://colab.research.google.com/github/nmagee/ds1002/blob/main/notebooks/remote-data.ipynb\" target=\"_parent\"><img src=\"https://colab.research.google.com/assets/colab-badge.svg\" alt=\"Open In Colab\"/></a>"
      ]
    },
    {
      "cell_type": "markdown",
      "source": [
        "# Remote Data"
      ],
      "metadata": {
        "id": "b01FcTeojDfl"
      }
    },
    {
      "cell_type": "code",
      "source": [
        "import requests\n",
        "\n",
        "# Make a GET request\n",
        "response = requests.get('https://ids.pods.uvarc.io/')\n",
        "\n",
        "print(response)\n",
        "print(response.text)\n",
        "print(response.status_code)\n",
        "print(response.encoding)\n",
        "print(response.headers)\n",
        "print(response.raw)\n",
        "print(response.content)"
      ],
      "metadata": {
        "id": "1Ip66AGzb_PY"
      },
      "execution_count": null,
      "outputs": []
    },
    {
      "cell_type": "markdown",
      "source": [],
      "metadata": {
        "id": "0dFxKpLWjCCW"
      }
    },
    {
      "cell_type": "code",
      "execution_count": null,
      "metadata": {
        "id": "xCDnUd-5at2i"
      },
      "outputs": [],
      "source": [
        "import requests\n",
        "\n",
        "# Make a GET request\n",
        "response = requests.get('https://ids.pods.uvarc.io/id/14')\n",
        "\n",
        "# Check the response status code\n",
        "if response.status_code == 200:\n",
        "  print(\"Success\")\n",
        "else:\n",
        "  print(\"Failure\")\n",
        "\n",
        "# Get the response content\n",
        "content = response.content\n",
        "\n",
        "# Decode the response content\n",
        "text = content.decode('utf-8')\n",
        "\n",
        "# Print the response content\n",
        "print(text)\n"
      ]
    },
    {
      "cell_type": "markdown",
      "source": [],
      "metadata": {
        "id": "HQ2kTfqljCv6"
      }
    },
    {
      "cell_type": "code",
      "source": [
        "import requests\n",
        "import json\n",
        "\n",
        "response = requests.get('https://ids.pods.uvarc.io/guid')\n",
        "data = json.loads(response.text)\n",
        "print(data['id'])"
      ],
      "metadata": {
        "id": "zGj4P4SabyNx"
      },
      "execution_count": null,
      "outputs": []
    }
  ]
}