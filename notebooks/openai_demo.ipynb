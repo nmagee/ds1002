{
  "nbformat": 4,
  "nbformat_minor": 0,
  "metadata": {
    "colab": {
      "provenance": [],
      "authorship_tag": "ABX9TyO5Buhy+85fDrsClCkMRR2N",
      "include_colab_link": true
    },
    "kernelspec": {
      "name": "python3",
      "display_name": "Python 3"
    },
    "language_info": {
      "name": "python"
    }
  },
  "cells": [
    {
      "cell_type": "markdown",
      "metadata": {
        "id": "view-in-github",
        "colab_type": "text"
      },
      "source": [
        "<a href=\"https://colab.research.google.com/github/nmagee/ds1002/blob/main/notebooks/openai_demo.ipynb\" target=\"_parent\"><img src=\"https://colab.research.google.com/assets/colab-badge.svg\" alt=\"Open In Colab\"/></a>"
      ]
    },
    {
      "cell_type": "code",
      "execution_count": null,
      "metadata": {
        "id": "fWeV85O_VgHp"
      },
      "outputs": [],
      "source": [
        "!pip install openai"
      ]
    },
    {
      "cell_type": "code",
      "source": [
        "import openai\n",
        "import os\n",
        "\n",
        "openai.api_key = \"\"\n",
        "\n",
        "def get_response_to_prompt(prompt):\n",
        "  response = openai.ChatCompletion.create(model=\"gpt-3.5-turbo\", messages=[{\"role\":\"user\",\"content\":prompt}], temperature=0)\n",
        "  return response.choices[0].message[\"content\"]"
      ],
      "metadata": {
        "id": "hTN-2ujQVsWA"
      },
      "execution_count": 15,
      "outputs": []
    },
    {
      "cell_type": "code",
      "source": [
        "prompt = \"\"\"Classify the text below, delimited by three dashes (-), as havine either a positive or negative sentiment.\"\n",
        "\n",
        "---\n",
        "I thought the pastrami sandwich was amazing\n",
        "---\n",
        "\"\"\""
      ],
      "metadata": {
        "id": "EBhxkyE6V5Hq"
      },
      "execution_count": 13,
      "outputs": []
    },
    {
      "cell_type": "code",
      "source": [
        "response = get_response_to_prompt(prompt)\n",
        "print(response)"
      ],
      "metadata": {
        "colab": {
          "base_uri": "https://localhost:8080/"
        },
        "id": "ZPTG4xZWWByN",
        "outputId": "0e7aad72-8338-4029-c07c-85fa5b79d654"
      },
      "execution_count": 14,
      "outputs": [
        {
          "output_type": "stream",
          "name": "stdout",
          "text": [
            "positive sentiment\n"
          ]
        }
      ]
    }
  ]
}