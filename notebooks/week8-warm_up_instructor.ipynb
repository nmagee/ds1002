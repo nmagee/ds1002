{
 "cells": [
  {
   "cell_type": "markdown",
   "metadata": {},
   "source": [
    "# Warm-up - Boolean Operators"
   ]
  },
  {
   "cell_type": "code",
   "execution_count": 8,
   "metadata": {},
   "outputs": [],
   "source": [
    "# Define variables\n",
    "my_float = 18.0\n",
    "your_float = 14.0"
   ]
  },
  {
   "cell_type": "markdown",
   "metadata": {},
   "source": [
    "1. `my_float` bigger than 10 and smaller than 18?  \n",
    "(use a boolean operator)"
   ]
  },
  {
   "cell_type": "code",
   "execution_count": 5,
   "metadata": {},
   "outputs": [
    {
     "name": "stdout",
     "output_type": "stream",
     "text": [
      "False\n",
      "False\n"
     ]
    }
   ],
   "source": [
    "print(10 < my_float < 18)\n",
    "\n",
    "print(my_float > 10 and my_float < 18)"
   ]
  },
  {
   "cell_type": "markdown",
   "metadata": {},
   "source": [
    "2. `my_float` smaller than 14 or bigger than 17?  \n",
    "(use a boolean operator)"
   ]
  },
  {
   "cell_type": "code",
   "execution_count": 6,
   "metadata": {},
   "outputs": [
    {
     "name": "stdout",
     "output_type": "stream",
     "text": [
      "True\n"
     ]
    }
   ],
   "source": [
    "print(my_float < 14 or my_float > 17)"
   ]
  },
  {
   "cell_type": "markdown",
   "metadata": {},
   "source": [
    "3. Double `my_float` smaller than triple `your_float`?"
   ]
  },
  {
   "cell_type": "code",
   "execution_count": 9,
   "metadata": {},
   "outputs": [
    {
     "data": {
      "text/plain": [
       "True"
      ]
     },
     "execution_count": 9,
     "metadata": {},
     "output_type": "execute_result"
    }
   ],
   "source": [
    "my_float * 2 < your_float * 3"
   ]
  },
  {
   "cell_type": "markdown",
   "metadata": {},
   "source": [
    "`x = 8`  \n",
    "`y = 9`  \n",
    "`not(not(x < 3) and not(y > 14 or y > 10))`  \n",
    "\n",
    "---\n",
    "\n",
    "What will be the result if you execute these statements? (refrain from actually running - use your brain)   \n",
    "a. True  \n",
    "b. False  \n",
    "c. An error  \n",
    "\n",
    "*note: `not` has a higher priority than `and` and `or`; it is executed first*"
   ]
  },
  {
   "cell_type": "markdown",
   "metadata": {},
   "source": [
    "`8 < 3` is `False` -> `not(False)` is `True` -> `not(True)` is **`False`**\n",
    "\n",
    "`9 > 14` is `False`, `9 > 10` is `False` -> `False` -> `not(False)` -> **`True`**\n",
    "\n",
    "**`False`** and **`True`** -> **`False`**"
   ]
  },
  {
   "cell_type": "code",
   "execution_count": null,
   "metadata": {},
   "outputs": [],
   "source": []
  }
 ],
 "metadata": {
  "kernelspec": {
   "display_name": "Python 3.8.9 64-bit",
   "language": "python",
   "name": "python3"
  },
  "language_info": {
   "codemirror_mode": {
    "name": "ipython",
    "version": 3
   },
   "file_extension": ".py",
   "mimetype": "text/x-python",
   "name": "python",
   "nbconvert_exporter": "python",
   "pygments_lexer": "ipython3",
   "version": "3.8.9"
  },
  "orig_nbformat": 4,
  "vscode": {
   "interpreter": {
    "hash": "31f2aee4e71d21fbe5cf8b01ff0e069b9275f58929596ceb00d14d90e3e16cd6"
   }
  }
 },
 "nbformat": 4,
 "nbformat_minor": 2
}
