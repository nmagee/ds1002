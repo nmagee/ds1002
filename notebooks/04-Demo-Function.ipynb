{
  "nbformat": 4,
  "nbformat_minor": 0,
  "metadata": {
    "colab": {
      "provenance": [],
      "authorship_tag": "ABX9TyN7rs0hfdgz13tu+SvRYPGN",
      "include_colab_link": true
    },
    "kernelspec": {
      "name": "python3",
      "display_name": "Python 3"
    },
    "language_info": {
      "name": "python"
    }
  },
  "cells": [
    {
      "cell_type": "markdown",
      "metadata": {
        "id": "view-in-github",
        "colab_type": "text"
      },
      "source": [
        "<a href=\"https://colab.research.google.com/github/nmagee/ds1002/blob/main/notebooks/04-Demo-Function.ipynb\" target=\"_parent\"><img src=\"https://colab.research.google.com/assets/colab-badge.svg\" alt=\"Open In Colab\"/></a>"
      ]
    },
    {
      "cell_type": "markdown",
      "source": [
        "# Demo Function\n",
        "\n",
        "Let's take a simple function and take it apart"
      ],
      "metadata": {
        "id": "1HWuQISTws_V"
      }
    },
    {
      "cell_type": "code",
      "execution_count": null,
      "metadata": {
        "id": "5p2m5kxawsL1"
      },
      "outputs": [],
      "source": [
        "# A simple list and parser\n",
        "\n",
        "dataset = [\"apples\",\"peaches\",\"oranges\",\"bananas\",\"blueberries\",\"kumquats\"]\n",
        "\n",
        "def sort_fruit(dataset):\n",
        "    for d in dataset:\n",
        "        if (d == \"kumquats\"):\n",
        "            print(\"I found a kumquat!\")\n",
        "        else:\n",
        "            print(\"womp womp\")\n",
        "\n",
        "sort_fruit(dataset)"
      ]
    }
  ]
}