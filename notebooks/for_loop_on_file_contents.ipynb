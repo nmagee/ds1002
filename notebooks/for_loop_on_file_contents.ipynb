{
  "nbformat": 4,
  "nbformat_minor": 0,
  "metadata": {
    "colab": {
      "provenance": [],
      "authorship_tag": "ABX9TyN6YBHSK/QpE3q5Lzt8KXFU",
      "include_colab_link": true
    },
    "kernelspec": {
      "name": "python3",
      "display_name": "Python 3"
    },
    "language_info": {
      "name": "python"
    }
  },
  "cells": [
    {
      "cell_type": "markdown",
      "metadata": {
        "id": "view-in-github",
        "colab_type": "text"
      },
      "source": [
        "<a href=\"https://colab.research.google.com/github/nmagee/ds1002/blob/main/notebooks/for_loop_on_file_contents.ipynb\" target=\"_parent\"><img src=\"https://colab.research.google.com/assets/colab-badge.svg\" alt=\"Open In Colab\"/></a>"
      ]
    },
    {
      "cell_type": "code",
      "execution_count": null,
      "metadata": {
        "id": "akonir-wttRR"
      },
      "outputs": [],
      "source": [
        "from urllib.request import urlretrieve\n",
        "\n",
        "url = 'https://raw.githubusercontent.com/nmagee/ds1002/main/data/unique-ids.txt'\n",
        "file = 'unique-ids.txt'\n",
        "urlretrieve(url, file)\n",
        "\n",
        "with open('unique-ids.txt', 'r') as f:\n",
        "  for line in f:\n",
        "    print(line)"
      ]
    }
  ]
}