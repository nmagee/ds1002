{
  "nbformat": 4,
  "nbformat_minor": 0,
  "metadata": {
    "colab": {
      "provenance": [],
      "authorship_tag": "ABX9TyNd74v/z+i6zjwhAePBJ+qK",
      "include_colab_link": true
    },
    "kernelspec": {
      "name": "python3",
      "display_name": "Python 3"
    },
    "language_info": {
      "name": "python"
    }
  },
  "cells": [
    {
      "cell_type": "markdown",
      "metadata": {
        "id": "view-in-github",
        "colab_type": "text"
      },
      "source": [
        "<a href=\"https://colab.research.google.com/github/nmagee/ds1002/blob/main/notebooks/06_numpy_intro.ipynb\" target=\"_parent\"><img src=\"https://colab.research.google.com/assets/colab-badge.svg\" alt=\"Open In Colab\"/></a>"
      ]
    },
    {
      "cell_type": "markdown",
      "source": [
        "## Basic Array Functionality"
      ],
      "metadata": {
        "id": "bP9jDhP4ya3x"
      }
    },
    {
      "cell_type": "code",
      "source": [
        "import numpy as np\n",
        "\n",
        "z = np.ones(10)\n",
        "z"
      ],
      "metadata": {
        "id": "oOCGJiPnxO7L"
      },
      "execution_count": null,
      "outputs": []
    },
    {
      "cell_type": "code",
      "source": [
        "z.shape"
      ],
      "metadata": {
        "id": "QCvVComPxf_7"
      },
      "execution_count": null,
      "outputs": []
    },
    {
      "cell_type": "code",
      "source": [
        "z = np.linspace(2, 10, 5)         # go from 2 to 10, with 5 elements\n",
        "z"
      ],
      "metadata": {
        "id": "K9o0_jOcxmeX"
      },
      "execution_count": null,
      "outputs": []
    },
    {
      "cell_type": "code",
      "source": [
        "a_list = [1,2,3,4,5,6,7]\n",
        "z = np.array([a_list])\n",
        "z"
      ],
      "metadata": {
        "id": "DgYzyO8Vxwez"
      },
      "execution_count": null,
      "outputs": []
    },
    {
      "cell_type": "code",
      "source": [
        "type(z)"
      ],
      "metadata": {
        "id": "bCLMABEhx5Ix"
      },
      "execution_count": null,
      "outputs": []
    },
    {
      "cell_type": "code",
      "source": [
        "b_list = [[9,8,7,6,5,4,3],[1,2,3,4,5,6,7]]      # 2-dimensional array\n",
        "z = np.array([b_list])\n",
        "z"
      ],
      "metadata": {
        "id": "yHljhRBex9Lg"
      },
      "execution_count": null,
      "outputs": []
    },
    {
      "cell_type": "code",
      "source": [
        "z.shape"
      ],
      "metadata": {
        "id": "GXxKSvTVyD8M"
      },
      "execution_count": null,
      "outputs": []
    },
    {
      "cell_type": "code",
      "source": [
        "x = np.array([2, 1, 4, 3, 5])\n",
        "np.sort(x)"
      ],
      "metadata": {
        "id": "z1GXyQZYw4QQ"
      },
      "execution_count": null,
      "outputs": []
    },
    {
      "cell_type": "code",
      "source": [
        "z = np.array([1, 2, 3, 4, 5])"
      ],
      "metadata": {
        "id": "eDGHQKzcvpoF"
      },
      "execution_count": null,
      "outputs": []
    },
    {
      "cell_type": "code",
      "source": [
        "z < 3"
      ],
      "metadata": {
        "id": "50vOX5Rwvypx"
      },
      "execution_count": null,
      "outputs": []
    },
    {
      "cell_type": "code",
      "source": [
        "z > 3"
      ],
      "metadata": {
        "id": "25C6DxaOv1cA"
      },
      "execution_count": null,
      "outputs": []
    },
    {
      "cell_type": "code",
      "source": [
        "z[z > 3]"
      ],
      "metadata": {
        "id": "nWM_38szv2h5"
      },
      "execution_count": null,
      "outputs": []
    },
    {
      "cell_type": "code",
      "source": [
        "a_array = np.array([1,2,3,4,5])\n",
        "b_array = np.array([6,7,8,9,10])"
      ],
      "metadata": {
        "id": "tbJWXO8JwNdI"
      },
      "execution_count": null,
      "outputs": []
    },
    {
      "cell_type": "code",
      "source": [
        "a_array + b_array"
      ],
      "metadata": {
        "id": "ksSgOgz6wTlr"
      },
      "execution_count": null,
      "outputs": []
    },
    {
      "cell_type": "code",
      "source": [
        "a_array + 30"
      ],
      "metadata": {
        "id": "nH0-Yd8pwX5N"
      },
      "execution_count": null,
      "outputs": []
    },
    {
      "cell_type": "code",
      "source": [
        "a_array * b_array"
      ],
      "metadata": {
        "id": "U_PSotFmwZlY"
      },
      "execution_count": null,
      "outputs": []
    },
    {
      "cell_type": "code",
      "source": [
        "a_array * 10"
      ],
      "metadata": {
        "id": "Son_IPI4wcn8"
      },
      "execution_count": null,
      "outputs": []
    },
    {
      "cell_type": "markdown",
      "source": [
        "## Images are Numerical Data"
      ],
      "metadata": {
        "id": "WnaTMQaeyRkq"
      }
    },
    {
      "cell_type": "code",
      "source": [
        "# first fetch an image to play with\n",
        "!curl -o vuelta.jpg https://github.com/nmagee/ds1002/blob/main/notebooks/vuelta.jpg"
      ],
      "metadata": {
        "id": "a9kyq1pQ5o3z"
      },
      "execution_count": null,
      "outputs": []
    },
    {
      "cell_type": "code",
      "execution_count": null,
      "metadata": {
        "id": "f5r-yejvtvUw"
      },
      "outputs": [],
      "source": [
        "!pip install scikit-image matplotlib"
      ]
    },
    {
      "cell_type": "code",
      "source": [
        "from skimage import io\n",
        "\n",
        "photo = io.imread('vuelta.jpg')\n",
        "type(photo)"
      ],
      "metadata": {
        "id": "MekyEI1RueMK"
      },
      "execution_count": null,
      "outputs": []
    },
    {
      "cell_type": "code",
      "source": [
        "photo.shape"
      ],
      "metadata": {
        "id": "aAotRovJuf4U"
      },
      "execution_count": null,
      "outputs": []
    },
    {
      "cell_type": "code",
      "source": [
        "import matplotlib.pyplot as plt\n",
        "plt.imshow(photo)"
      ],
      "metadata": {
        "id": "Svpg3eHxuhny"
      },
      "execution_count": null,
      "outputs": []
    },
    {
      "cell_type": "code",
      "source": [
        "plt.imshow(photo[::-1])"
      ],
      "metadata": {
        "id": "2z9DGVk-uxyx"
      },
      "execution_count": null,
      "outputs": []
    },
    {
      "cell_type": "code",
      "source": [
        "plt.imshow(photo[:, ::-1])"
      ],
      "metadata": {
        "id": "t7NgloZMu3D5"
      },
      "execution_count": null,
      "outputs": []
    },
    {
      "cell_type": "code",
      "source": [
        "plt.imshow(photo[50:200, 300:500])"
      ],
      "metadata": {
        "id": "tp-2V5nIu89y"
      },
      "execution_count": null,
      "outputs": []
    },
    {
      "cell_type": "code",
      "source": [
        "plt.imshow(photo[::2, ::2])"
      ],
      "metadata": {
        "id": "d9KXsXLPvQtG"
      },
      "execution_count": null,
      "outputs": []
    },
    {
      "cell_type": "code",
      "source": [
        "photo_sin = np.sin(photo)\n",
        "photo_sin"
      ],
      "metadata": {
        "id": "l8hgkn2tvWyK"
      },
      "execution_count": null,
      "outputs": []
    },
    {
      "cell_type": "code",
      "source": [
        "print(np.sum(photo))\n",
        "print(np.prod(photo))\n",
        "print(np.mean(photo))\n",
        "print(np.std(photo))\n",
        "print(np.var(photo))\n",
        "print(np.min(photo))\n",
        "print(np.max(photo))\n",
        "print(np.argmin(photo))\n",
        "print(np.argmax(photo))"
      ],
      "metadata": {
        "id": "a99o5Sy-vbb1"
      },
      "execution_count": null,
      "outputs": []
    },
    {
      "cell_type": "code",
      "source": [
        "photo_masked = np.where(photo > 100, 255, 0)"
      ],
      "metadata": {
        "id": "d1cxpr87v9d-"
      },
      "execution_count": null,
      "outputs": []
    },
    {
      "cell_type": "code",
      "source": [
        "plt.imshow(photo_masked)"
      ],
      "metadata": {
        "id": "ULbMPTJswEtM"
      },
      "execution_count": null,
      "outputs": []
    },
    {
      "cell_type": "code",
      "source": [
        "plt.imshow(photo[:,:,0].T)"
      ],
      "metadata": {
        "id": "irDxAP4wwvye"
      },
      "execution_count": null,
      "outputs": []
    }
  ]
}