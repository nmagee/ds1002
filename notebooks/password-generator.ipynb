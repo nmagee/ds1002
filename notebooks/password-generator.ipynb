{
  "cells": [
    {
      "cell_type": "markdown",
      "metadata": {
        "id": "view-in-github",
        "colab_type": "text"
      },
      "source": [
        "<a href=\"https://colab.research.google.com/github/nmagee/ds1002/blob/main/notebooks/password-generator.ipynb\" target=\"_parent\"><img src=\"https://colab.research.google.com/assets/colab-badge.svg\" alt=\"Open In Colab\"/></a>"
      ]
    },
    {
      "cell_type": "markdown",
      "metadata": {
        "id": "-0f83etDA-dx"
      },
      "source": [
        "# Password Generator\n",
        "\n",
        "To start working with Python functions, let's build a simple, real-world example: A password generator.\n",
        "\n",
        "We'll work up the design from simplest to more complex."
      ]
    },
    {
      "cell_type": "code",
      "execution_count": null,
      "metadata": {
        "id": "6hKHnGTsA-dz"
      },
      "outputs": [],
      "source": [
        "# import two helpful libraries that are built into Python\n",
        "import random\n",
        "import string"
      ]
    },
    {
      "cell_type": "code",
      "execution_count": null,
      "metadata": {
        "id": "QK9juZV8A-dz",
        "outputId": "5632e753-a8ee-4fa6-ed11-6136b5a73b3f"
      },
      "outputs": [
        {
          "name": "stdout",
          "output_type": "stream",
          "text": [
            "abcdefghijklmnopqrstuvwxyz\n",
            "ABCDEFGHIJKLMNOPQRSTUVWXYZ\n",
            "0123456789\n",
            "!\"#$%&'()*+,-./:;<=>?@[\\]^_`{|}~\n"
          ]
        }
      ],
      "source": [
        "# string gives us sets of string characters:\n",
        "lc_letters = string.ascii_lowercase\n",
        "uc_letters = string.ascii_uppercase\n",
        "digits = string.digits\n",
        "punctuation = string.punctuation\n",
        "\n",
        "print(lc_letters)\n",
        "print(uc_letters)\n",
        "print(digits)\n",
        "print(punctuation)"
      ]
    },
    {
      "cell_type": "code",
      "execution_count": null,
      "metadata": {
        "id": "LFIdO0pAA-d0"
      },
      "outputs": [],
      "source": [
        "# Build a variable that contains all the string choices\n",
        "all_chars = lc_letters + uc_letters + digits + punctuation\n",
        "\n",
        "# or, even simpler:\n",
        "all_chars = string.ascii_lowercase + string.ascii_uppercase + string.digits + string.punctuation"
      ]
    },
    {
      "cell_type": "code",
      "execution_count": null,
      "metadata": {
        "id": "4BgoNjfYA-d0",
        "outputId": "b8f8133b-c391-43d6-a451-6db30f309915"
      },
      "outputs": [
        {
          "data": {
            "text/plain": [
              "'M'"
            ]
          },
          "execution_count": 43,
          "metadata": {},
          "output_type": "execute_result"
        }
      ],
      "source": [
        "# randomn gives us the ability to randomly select items from a list\n",
        "random.choice(all_chars)"
      ]
    },
    {
      "cell_type": "code",
      "execution_count": null,
      "metadata": {
        "id": "ACEb73s7A-d0",
        "outputId": "803b7351-cb28-4c12-d326-076cb1164e63"
      },
      "outputs": [
        {
          "name": "stdout",
          "output_type": "stream",
          "text": [
            "m{6j[NnzE{\n"
          ]
        }
      ],
      "source": [
        "# now build a for-loop that will randomly select 10 characters from the list.\n",
        "# start with an empty password string\n",
        "mypass = ''\n",
        "for i in range(10):\n",
        "    mypass += random.choice(all_chars)\n",
        "\n",
        "print(mypass)"
      ]
    },
    {
      "cell_type": "code",
      "execution_count": null,
      "metadata": {
        "id": "-H_QI0smA-d1",
        "outputId": "342dca90-eafd-4727-9e85-785200911b13"
      },
      "outputs": [
        {
          "data": {
            "text/plain": [
              "'v#_V1D{v|?'"
            ]
          },
          "execution_count": 69,
          "metadata": {},
          "output_type": "execute_result"
        }
      ],
      "source": [
        "# Using all this inside of a function\n",
        "\n",
        "def generate_password():\n",
        "    all_chars = string.ascii_lowercase + string.ascii_uppercase + string.digits + string.punctuation\n",
        "    mypass = ''\n",
        "    for i in range(10):\n",
        "        mypass += random.choice(all_chars)\n",
        "    return mypass\n",
        "\n",
        "generate_password()"
      ]
    },
    {
      "cell_type": "markdown",
      "metadata": {
        "id": "8J_9-_YsA-d1"
      },
      "source": [
        "## Adding Parameters\n",
        "\n",
        "The above example has no options or parameters - it just spits out a 10-character password each time. That's okay but not very customizable."
      ]
    },
    {
      "cell_type": "code",
      "execution_count": null,
      "metadata": {
        "id": "mcxft6n8A-d1",
        "outputId": "6cd7ed8b-d169-4a39-f21e-382b71741d53"
      },
      "outputs": [
        {
          "name": "stdout",
          "output_type": "stream",
          "text": [
            "KIy55Ybc'z[l\\5#\"\"Oe8\n",
            "F$T3N%Z`I>VCDd)2=Cm7umz}a|~(vS\n",
            "FT_&U\n"
          ]
        }
      ],
      "source": [
        "# Let's add an option to customize the length of the password in the form of an integer parameter\n",
        "\n",
        "def generate_password(length):\n",
        "    all_chars = string.ascii_lowercase + string.ascii_uppercase + string.digits + string.punctuation\n",
        "    mypass = ''\n",
        "    for i in range(length):\n",
        "        mypass += random.choice(all_chars)\n",
        "    return mypass\n",
        "\n",
        "print(generate_password(20))\n",
        "print(generate_password(30))\n",
        "print(generate_password(5))"
      ]
    },
    {
      "cell_type": "code",
      "execution_count": null,
      "metadata": {
        "id": "Am8WxXJaA-d1",
        "outputId": "6e59505e-09bf-428a-f8bd-765ff9f39709"
      },
      "outputs": [
        {
          "name": "stdout",
          "output_type": "stream",
          "text": [
            "yUrsH-h~\n"
          ]
        }
      ],
      "source": [
        "# One problem you may notice in sample passwords from above is that quote marks are included\n",
        "# in the possible characters.  Let's remove those from the all_chars before we generate the password.\n",
        "\n",
        "def generate_password(length):\n",
        "    all_chars = string.ascii_lowercase + string.ascii_uppercase + string.digits + string.punctuation\n",
        "    all_chars = all_chars.replace(\"'\", \"\")\n",
        "    all_chars = all_chars.replace('\"', \"\")\n",
        "    mypass = ''\n",
        "    for i in range(length):\n",
        "        mypass += random.choice(all_chars)\n",
        "    return mypass\n",
        "\n",
        "print(generate_password(8))"
      ]
    },
    {
      "cell_type": "code",
      "execution_count": null,
      "metadata": {
        "id": "vIG2a0kUA-d1",
        "outputId": "cfaedfc3-7dd4-4331-ce67-80bb1b50578a"
      },
      "outputs": [
        {
          "name": "stdout",
          "output_type": "stream",
          "text": [
            "/i8`_1M}8o)GzJ\n"
          ]
        }
      ],
      "source": [
        "# We can also prompt the user to input the length when the function is called\n",
        "\n",
        "def generate_password():\n",
        "    length = int(input('How long would you like your password to be? '))\n",
        "    all_chars = string.ascii_lowercase + string.ascii_uppercase + string.digits + string.punctuation\n",
        "    all_chars = all_chars.replace(\"'\", \"\")\n",
        "    all_chars = all_chars.replace('\"', \"\")\n",
        "    mypass = ''\n",
        "    for i in range(length):\n",
        "        mypass += random.choice(all_chars)\n",
        "    return mypass\n",
        "\n",
        "print(generate_password())"
      ]
    },
    {
      "cell_type": "markdown",
      "metadata": {
        "id": "aE_j36RFA-d1"
      },
      "source": [
        "## Use the function elsewhere\n",
        "\n",
        "Let's define the function again neatly.\n",
        "Then define a second function that takes in a simple list of users and returns a dictionary of users + passwords."
      ]
    },
    {
      "cell_type": "code",
      "execution_count": null,
      "metadata": {
        "id": "RFTObBaMA-d2",
        "outputId": "ae95d482-e9ce-46b8-da7b-7e5c24043b18"
      },
      "outputs": [
        {
          "data": {
            "text/plain": [
              "{'John': ':xiww?<C>c',\n",
              " 'Paul': 'SM5]gCa3Yp',\n",
              " 'George': 'tDB)$YB6V}',\n",
              " 'Ringo': '7ZD,63e(mz'}"
            ]
          },
          "execution_count": 53,
          "metadata": {},
          "output_type": "execute_result"
        }
      ],
      "source": [
        "def generate_password():\n",
        "    all_chars = string.ascii_lowercase + string.ascii_uppercase + string.digits + string.punctuation\n",
        "    all_chars = all_chars.replace(\"'\", \"\")\n",
        "    all_chars = all_chars.replace('\"', \"\")\n",
        "    mypass = ''\n",
        "    for i in range(10):\n",
        "        mypass += random.choice(all_chars)\n",
        "    return mypass\n",
        "\n",
        "userlist = [\"John\", \"Paul\", \"George\", \"Ringo\"]\n",
        "\n",
        "def assign_passwords(userlist):\n",
        "    users = {}\n",
        "    for user in userlist:\n",
        "        users[user] = generate_password()\n",
        "    # return the dict back\n",
        "    return users\n",
        "\n",
        "assign_passwords(userlist)\n"
      ]
    }
  ],
  "metadata": {
    "kernelspec": {
      "display_name": "Python 3",
      "language": "python",
      "name": "python3"
    },
    "language_info": {
      "codemirror_mode": {
        "name": "ipython",
        "version": 3
      },
      "file_extension": ".py",
      "mimetype": "text/x-python",
      "name": "python",
      "nbconvert_exporter": "python",
      "pygments_lexer": "ipython3",
      "version": "3.9.6"
    },
    "colab": {
      "provenance": [],
      "include_colab_link": true
    }
  },
  "nbformat": 4,
  "nbformat_minor": 0
}