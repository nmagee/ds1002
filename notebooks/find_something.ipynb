{
  "cells": [
    {
      "cell_type": "markdown",
      "metadata": {
        "colab_type": "text",
        "id": "view-in-github"
      },
      "source": [
        "<a href=\"https://colab.research.google.com/github/nmagee/ds1002/blob/main/notebooks/find_something.ipynb\" target=\"_parent\"><img src=\"https://colab.research.google.com/assets/colab-badge.svg\" alt=\"Open In Colab\"/></a>"
      ]
    },
    {
      "cell_type": "markdown",
      "metadata": {
        "id": "b-_nznioZ_ha"
      },
      "source": [
        "# Find Something\n",
        "\n",
        "A simple function that digs through a list and looks for what I want."
      ]
    },
    {
      "cell_type": "code",
      "execution_count": null,
      "metadata": {
        "id": "DUv1fi0kZ2U1"
      },
      "outputs": [],
      "source": [
        "things = [\"apples\",\"bananbas\",\"grapes\",\"mangos\",\"blueberries\",\"kumquats\",\"kiwis\"]\n",
        "lookfor = \"kumquats\"\n",
        "\n",
        "def find_something(things, lookfor):\n",
        "  for t in things:\n",
        "    if (t == lookfor):\n",
        "      # Do something\n",
        "      print(\"I found some \" + lookfor)\n",
        "    else:\n",
        "      print(\"Nothing here\")\n",
        "      pass\n",
        "\n",
        "find_something(things, lookfor)"
      ]
    },
    {
      "cell_type": "code",
      "execution_count": null,
      "metadata": {},
      "outputs": [],
      "source": [
        "# add a block of code to find something within a python dictionary \n",
        "# Path: find_something.ipynb\n",
        "\n",
        "things = {\"apples\": 1, \"bananbas\": 2, \"grapes\": 3, \"mangos\": 4, \"blueberries\": 5, \"kumquats\": 6, \"kiwis\": 7}\n",
        "lookfor = \"kumquats\"\n",
        "\n",
        "for t in things:\n",
        "    if (t == lookfor):\n",
        "        # Do something\n",
        "        print(\"I found some \" + lookfor)\n",
        "    else:\n",
        "        print(\"Nothing here\")\n",
        "        pass\n"
      ]
    }
  ],
  "metadata": {
    "colab": {
      "authorship_tag": "ABX9TyNfPCbnbGXUgbBoLCM28/TO",
      "include_colab_link": true,
      "provenance": []
    },
    "kernelspec": {
      "display_name": "Python 3",
      "name": "python3"
    },
    "language_info": {
      "codemirror_mode": {
        "name": "ipython",
        "version": 3
      },
      "file_extension": ".py",
      "mimetype": "text/x-python",
      "name": "python",
      "nbconvert_exporter": "python",
      "pygments_lexer": "ipython3",
      "version": "3.9.6"
    }
  },
  "nbformat": 4,
  "nbformat_minor": 0
}
