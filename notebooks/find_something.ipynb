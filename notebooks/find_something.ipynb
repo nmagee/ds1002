{
  "nbformat": 4,
  "nbformat_minor": 0,
  "metadata": {
    "colab": {
      "provenance": [],
      "authorship_tag": "ABX9TyNfPCbnbGXUgbBoLCM28/TO",
      "include_colab_link": true
    },
    "kernelspec": {
      "name": "python3",
      "display_name": "Python 3"
    },
    "language_info": {
      "name": "python"
    }
  },
  "cells": [
    {
      "cell_type": "markdown",
      "metadata": {
        "id": "view-in-github",
        "colab_type": "text"
      },
      "source": [
        "<a href=\"https://colab.research.google.com/github/nmagee/ds1002/blob/main/notebooks/find_something.ipynb\" target=\"_parent\"><img src=\"https://colab.research.google.com/assets/colab-badge.svg\" alt=\"Open In Colab\"/></a>"
      ]
    },
    {
      "cell_type": "markdown",
      "source": [
        "# Find Something\n",
        "\n",
        "A simple function that digs through a list and looks for what I want."
      ],
      "metadata": {
        "id": "b-_nznioZ_ha"
      }
    },
    {
      "cell_type": "code",
      "execution_count": null,
      "metadata": {
        "id": "DUv1fi0kZ2U1"
      },
      "outputs": [],
      "source": [
        "things = [\"apples\",\"bananbas\",\"grapes\",\"mangos\",\"blueberries\",\"kumquats\",\"kiwis\"]\n",
        "lookfor = \"kumquats\"\n",
        "\n",
        "def find_something(things, lookfor):\n",
        "  for t in things:\n",
        "    if (t == lookfor):\n",
        "      # Do something\n",
        "      print(\"I found some \" + lookfor)\n",
        "    else:\n",
        "      print(\"Nothing here\")\n",
        "      pass\n",
        "\n",
        "find_something(things, lookfor)"
      ]
    }
  ]
}