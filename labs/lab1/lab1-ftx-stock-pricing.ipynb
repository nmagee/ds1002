{
  "nbformat": 4,
  "nbformat_minor": 0,
  "metadata": {
    "colab": {
      "provenance": [],
      "toc_visible": true,
      "authorship_tag": "ABX9TyNy55uJ/T7+V3SSGypHslKX",
      "include_colab_link": true
    },
    "kernelspec": {
      "name": "python3",
      "display_name": "Python 3"
    },
    "language_info": {
      "name": "python"
    }
  },
  "cells": [
    {
      "cell_type": "markdown",
      "metadata": {
        "id": "view-in-github",
        "colab_type": "text"
      },
      "source": [
        "<a href=\"https://colab.research.google.com/github/nmagee/ds1002/blob/main/labs/lab1/lab1-ftx-stock-pricing.ipynb\" target=\"_parent\"><img src=\"https://colab.research.google.com/assets/colab-badge.svg\" alt=\"Open In Colab\"/></a>"
      ]
    },
    {
      "cell_type": "markdown",
      "source": [
        "# Lab 1: Python\n",
        "\n",
        "In this lab you will work with a given data file and write python to answer the questions in the following cells.\n",
        "Point assignments are indicated."
      ],
      "metadata": {
        "id": "2yEePrJ-1G1Z"
      }
    },
    {
      "cell_type": "markdown",
      "source": [
        "## Source Data\n",
        "\n",
        "https://s3.amazonaws.com/ds1002-resources/data/ftx-2021-01-01--2023-12-31.csv\n",
        "\n",
        "Import any necessary libraries and load the remote CSV file below."
      ],
      "metadata": {
        "id": "w0VxTDNf1k2O"
      }
    },
    {
      "cell_type": "code",
      "execution_count": null,
      "metadata": {
        "id": "I0B9chFD1GR0"
      },
      "outputs": [],
      "source": []
    }
  ]
}