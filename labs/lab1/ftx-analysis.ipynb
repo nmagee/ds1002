{
 "cells": [
  {
   "attachments": {},
   "cell_type": "markdown",
   "metadata": {},
   "source": [
    "# Stock Analysis Lab\n",
    "\n",
    "Python Review / Lab 1\n",
    "\n",
    "University of Virginia\n",
    "\n",
    "Programming for Data Science\n",
    "\n",
    "---"
   ]
  },
  {
   "cell_type": "markdown",
   "metadata": {},
   "source": [
    "### Objectives: \n",
    "- Use pandas and functions to compute a stock's rate of growth/decline over time.\n",
    "- Perform sensitivity analysis to understand how the data points impact the beta estimate\n",
    "\n",
    "### Background\n",
    "\n",
    "In finance, CAPM is a single-factor regression model used for explaining and predicting excess stock returns. There are better, more accurate models, but it has its uses. For example, the *market beta* is a useful output.\n",
    "\n",
    "#### Review the instructions below to complete the requested tasks.\n",
    "\n",
    "## TOTAL POINTS: 10 (5% of total grade)\n",
    "---  \n"
   ]
  },
  {
   "cell_type": "markdown",
   "metadata": {},
   "source": []
  },
  {
   "cell_type": "code",
   "execution_count": 21,
   "metadata": {},
   "outputs": [],
   "source": [
    "# load modules\n",
    "import numpy as np\n",
    "import pandas as pd\n",
    "\n",
    "# risk-free Treasury rate\n",
    "R_f = 0.0175 / 252"
   ]
  },
  {
   "cell_type": "code",
   "execution_count": 22,
   "metadata": {},
   "outputs": [],
   "source": [
    "# read in the market data for this stock\n",
    "data = pd.read_csv('https://s3.amazonaws.com/ds1002-resources/data/ftx-2021-01-01--2023-12-31.csv',sep=';')"
   ]
  },
  {
   "cell_type": "markdown",
   "metadata": {},
   "source": [
    "Look at some records  \n",
    "SPY is an ETF for the S&P 500 (the \"stock market\")  \n",
    "AAPL is Apple  \n",
    "The values are closing prices, adjusted for splits and dividends"
   ]
  },
  {
   "cell_type": "code",
   "execution_count": 23,
   "metadata": {},
   "outputs": [
    {
     "data": {
      "text/html": [
       "<div>\n",
       "<style scoped>\n",
       "    .dataframe tbody tr th:only-of-type {\n",
       "        vertical-align: middle;\n",
       "    }\n",
       "\n",
       "    .dataframe tbody tr th {\n",
       "        vertical-align: top;\n",
       "    }\n",
       "\n",
       "    .dataframe thead th {\n",
       "        text-align: right;\n",
       "    }\n",
       "</style>\n",
       "<table border=\"1\" class=\"dataframe\">\n",
       "  <thead>\n",
       "    <tr style=\"text-align: right;\">\n",
       "      <th></th>\n",
       "      <th>timeOpen</th>\n",
       "      <th>timeClose</th>\n",
       "      <th>timeHigh</th>\n",
       "      <th>timeLow</th>\n",
       "      <th>open</th>\n",
       "      <th>high</th>\n",
       "      <th>low</th>\n",
       "      <th>close</th>\n",
       "      <th>volume</th>\n",
       "      <th>marketCap</th>\n",
       "      <th>timestamp</th>\n",
       "    </tr>\n",
       "  </thead>\n",
       "  <tbody>\n",
       "    <tr>\n",
       "      <th>0</th>\n",
       "      <td>2022-12-31T00:00:00.000Z</td>\n",
       "      <td>2022-12-31T23:59:59.999Z</td>\n",
       "      <td>2022-12-31T15:23:00.000Z</td>\n",
       "      <td>2022-12-31T00:21:00.000Z</td>\n",
       "      <td>0.838968</td>\n",
       "      <td>0.853502</td>\n",
       "      <td>0.835226</td>\n",
       "      <td>0.842688</td>\n",
       "      <td>3001502.06</td>\n",
       "      <td>2.771561e+08</td>\n",
       "      <td>2022-12-31T23:59:59.999Z</td>\n",
       "    </tr>\n",
       "    <tr>\n",
       "      <th>1</th>\n",
       "      <td>2022-12-30T00:00:00.000Z</td>\n",
       "      <td>2022-12-30T23:59:59.999Z</td>\n",
       "      <td>2022-12-30T04:22:00.000Z</td>\n",
       "      <td>2022-12-30T15:12:00.000Z</td>\n",
       "      <td>0.860193</td>\n",
       "      <td>0.864752</td>\n",
       "      <td>0.826643</td>\n",
       "      <td>0.839048</td>\n",
       "      <td>3608615.07</td>\n",
       "      <td>2.759588e+08</td>\n",
       "      <td>2022-12-30T23:59:59.999Z</td>\n",
       "    </tr>\n",
       "    <tr>\n",
       "      <th>2</th>\n",
       "      <td>2022-12-29T00:00:00.000Z</td>\n",
       "      <td>2022-12-29T23:59:59.999Z</td>\n",
       "      <td>2022-12-29T00:49:00.000Z</td>\n",
       "      <td>2022-12-29T21:03:00.000Z</td>\n",
       "      <td>0.885723</td>\n",
       "      <td>0.887118</td>\n",
       "      <td>0.843029</td>\n",
       "      <td>0.860231</td>\n",
       "      <td>3766979.57</td>\n",
       "      <td>2.829258e+08</td>\n",
       "      <td>2022-12-29T23:59:59.999Z</td>\n",
       "    </tr>\n",
       "    <tr>\n",
       "      <th>3</th>\n",
       "      <td>2022-12-28T00:00:00.000Z</td>\n",
       "      <td>2022-12-28T23:59:59.999Z</td>\n",
       "      <td>2022-12-28T00:20:00.000Z</td>\n",
       "      <td>2022-12-28T10:44:00.000Z</td>\n",
       "      <td>0.921162</td>\n",
       "      <td>0.925702</td>\n",
       "      <td>0.869842</td>\n",
       "      <td>0.886091</td>\n",
       "      <td>4192949.85</td>\n",
       "      <td>2.914310e+08</td>\n",
       "      <td>2022-12-28T23:59:59.999Z</td>\n",
       "    </tr>\n",
       "    <tr>\n",
       "      <th>4</th>\n",
       "      <td>2022-12-27T00:00:00.000Z</td>\n",
       "      <td>2022-12-27T23:59:59.999Z</td>\n",
       "      <td>2022-12-27T14:19:00.000Z</td>\n",
       "      <td>2022-12-27T19:12:00.000Z</td>\n",
       "      <td>0.931138</td>\n",
       "      <td>0.955402</td>\n",
       "      <td>0.916414</td>\n",
       "      <td>0.923668</td>\n",
       "      <td>4574953.05</td>\n",
       "      <td>3.037898e+08</td>\n",
       "      <td>2022-12-27T23:59:59.999Z</td>\n",
       "    </tr>\n",
       "    <tr>\n",
       "      <th>...</th>\n",
       "      <td>...</td>\n",
       "      <td>...</td>\n",
       "      <td>...</td>\n",
       "      <td>...</td>\n",
       "      <td>...</td>\n",
       "      <td>...</td>\n",
       "      <td>...</td>\n",
       "      <td>...</td>\n",
       "      <td>...</td>\n",
       "      <td>...</td>\n",
       "      <td>...</td>\n",
       "    </tr>\n",
       "    <tr>\n",
       "      <th>722</th>\n",
       "      <td>2021-01-07T00:00:00.000Z</td>\n",
       "      <td>2021-01-07T23:59:59.999Z</td>\n",
       "      <td>2021-01-07T17:59:03.000Z</td>\n",
       "      <td>2021-01-07T08:25:03.000Z</td>\n",
       "      <td>9.386493</td>\n",
       "      <td>10.004872</td>\n",
       "      <td>9.215244</td>\n",
       "      <td>9.562131</td>\n",
       "      <td>46303336.73</td>\n",
       "      <td>9.021580e+08</td>\n",
       "      <td>2021-01-07T23:59:59.999Z</td>\n",
       "    </tr>\n",
       "    <tr>\n",
       "      <th>723</th>\n",
       "      <td>2021-01-06T00:00:00.000Z</td>\n",
       "      <td>2021-01-06T23:59:59.999Z</td>\n",
       "      <td>2021-01-06T23:59:03.000Z</td>\n",
       "      <td>2021-01-06T01:41:03.000Z</td>\n",
       "      <td>8.671285</td>\n",
       "      <td>9.390797</td>\n",
       "      <td>8.425946</td>\n",
       "      <td>9.390797</td>\n",
       "      <td>31404627.93</td>\n",
       "      <td>8.859932e+08</td>\n",
       "      <td>2021-01-06T23:59:59.999Z</td>\n",
       "    </tr>\n",
       "    <tr>\n",
       "      <th>724</th>\n",
       "      <td>2021-01-05T00:00:00.000Z</td>\n",
       "      <td>2021-01-05T23:59:59.999Z</td>\n",
       "      <td>2021-01-05T22:44:03.000Z</td>\n",
       "      <td>2021-01-05T06:19:03.000Z</td>\n",
       "      <td>7.528216</td>\n",
       "      <td>8.714947</td>\n",
       "      <td>7.081120</td>\n",
       "      <td>8.664688</td>\n",
       "      <td>49479278.39</td>\n",
       "      <td>8.174869e+08</td>\n",
       "      <td>2021-01-05T23:59:59.999Z</td>\n",
       "    </tr>\n",
       "    <tr>\n",
       "      <th>725</th>\n",
       "      <td>2021-01-04T00:00:00.000Z</td>\n",
       "      <td>2021-01-04T23:59:59.999Z</td>\n",
       "      <td>2021-01-04T06:40:03.000Z</td>\n",
       "      <td>2021-01-04T10:18:03.000Z</td>\n",
       "      <td>6.948680</td>\n",
       "      <td>7.632146</td>\n",
       "      <td>6.358218</td>\n",
       "      <td>7.514079</td>\n",
       "      <td>40526109.15</td>\n",
       "      <td>7.089305e+08</td>\n",
       "      <td>2021-01-04T23:59:59.999Z</td>\n",
       "    </tr>\n",
       "    <tr>\n",
       "      <th>726</th>\n",
       "      <td>2021-01-03T00:00:00.000Z</td>\n",
       "      <td>2021-01-03T23:59:59.999Z</td>\n",
       "      <td>2021-01-03T16:25:03.000Z</td>\n",
       "      <td>2021-01-03T00:25:03.000Z</td>\n",
       "      <td>6.201133</td>\n",
       "      <td>7.007523</td>\n",
       "      <td>6.171834</td>\n",
       "      <td>6.923968</td>\n",
       "      <td>31046652.87</td>\n",
       "      <td>6.532553e+08</td>\n",
       "      <td>2021-01-03T23:59:59.999Z</td>\n",
       "    </tr>\n",
       "  </tbody>\n",
       "</table>\n",
       "<p>727 rows × 11 columns</p>\n",
       "</div>"
      ],
      "text/plain": [
       "                     timeOpen                 timeClose  \\\n",
       "0    2022-12-31T00:00:00.000Z  2022-12-31T23:59:59.999Z   \n",
       "1    2022-12-30T00:00:00.000Z  2022-12-30T23:59:59.999Z   \n",
       "2    2022-12-29T00:00:00.000Z  2022-12-29T23:59:59.999Z   \n",
       "3    2022-12-28T00:00:00.000Z  2022-12-28T23:59:59.999Z   \n",
       "4    2022-12-27T00:00:00.000Z  2022-12-27T23:59:59.999Z   \n",
       "..                        ...                       ...   \n",
       "722  2021-01-07T00:00:00.000Z  2021-01-07T23:59:59.999Z   \n",
       "723  2021-01-06T00:00:00.000Z  2021-01-06T23:59:59.999Z   \n",
       "724  2021-01-05T00:00:00.000Z  2021-01-05T23:59:59.999Z   \n",
       "725  2021-01-04T00:00:00.000Z  2021-01-04T23:59:59.999Z   \n",
       "726  2021-01-03T00:00:00.000Z  2021-01-03T23:59:59.999Z   \n",
       "\n",
       "                     timeHigh                   timeLow      open       high  \\\n",
       "0    2022-12-31T15:23:00.000Z  2022-12-31T00:21:00.000Z  0.838968   0.853502   \n",
       "1    2022-12-30T04:22:00.000Z  2022-12-30T15:12:00.000Z  0.860193   0.864752   \n",
       "2    2022-12-29T00:49:00.000Z  2022-12-29T21:03:00.000Z  0.885723   0.887118   \n",
       "3    2022-12-28T00:20:00.000Z  2022-12-28T10:44:00.000Z  0.921162   0.925702   \n",
       "4    2022-12-27T14:19:00.000Z  2022-12-27T19:12:00.000Z  0.931138   0.955402   \n",
       "..                        ...                       ...       ...        ...   \n",
       "722  2021-01-07T17:59:03.000Z  2021-01-07T08:25:03.000Z  9.386493  10.004872   \n",
       "723  2021-01-06T23:59:03.000Z  2021-01-06T01:41:03.000Z  8.671285   9.390797   \n",
       "724  2021-01-05T22:44:03.000Z  2021-01-05T06:19:03.000Z  7.528216   8.714947   \n",
       "725  2021-01-04T06:40:03.000Z  2021-01-04T10:18:03.000Z  6.948680   7.632146   \n",
       "726  2021-01-03T16:25:03.000Z  2021-01-03T00:25:03.000Z  6.201133   7.007523   \n",
       "\n",
       "          low     close       volume     marketCap                 timestamp  \n",
       "0    0.835226  0.842688   3001502.06  2.771561e+08  2022-12-31T23:59:59.999Z  \n",
       "1    0.826643  0.839048   3608615.07  2.759588e+08  2022-12-30T23:59:59.999Z  \n",
       "2    0.843029  0.860231   3766979.57  2.829258e+08  2022-12-29T23:59:59.999Z  \n",
       "3    0.869842  0.886091   4192949.85  2.914310e+08  2022-12-28T23:59:59.999Z  \n",
       "4    0.916414  0.923668   4574953.05  3.037898e+08  2022-12-27T23:59:59.999Z  \n",
       "..        ...       ...          ...           ...                       ...  \n",
       "722  9.215244  9.562131  46303336.73  9.021580e+08  2021-01-07T23:59:59.999Z  \n",
       "723  8.425946  9.390797  31404627.93  8.859932e+08  2021-01-06T23:59:59.999Z  \n",
       "724  7.081120  8.664688  49479278.39  8.174869e+08  2021-01-05T23:59:59.999Z  \n",
       "725  6.358218  7.514079  40526109.15  7.089305e+08  2021-01-04T23:59:59.999Z  \n",
       "726  6.171834  6.923968  31046652.87  6.532553e+08  2021-01-03T23:59:59.999Z  \n",
       "\n",
       "[727 rows x 11 columns]"
      ]
     },
     "execution_count": 23,
     "metadata": {},
     "output_type": "execute_result"
    }
   ],
   "source": [
    "data.head(1000)"
   ]
  },
  {
   "cell_type": "code",
   "execution_count": 27,
   "metadata": {},
   "outputs": [],
   "source": [
    "\n",
    "data['rate_of_change'] = data['close'].pct_change()"
   ]
  },
  {
   "cell_type": "markdown",
   "metadata": {},
   "source": [
    "Drop the date column"
   ]
  },
  {
   "cell_type": "code",
   "execution_count": 28,
   "metadata": {},
   "outputs": [
    {
     "data": {
      "text/plain": [
       "[<matplotlib.lines.Line2D at 0x146ccd6a0>]"
      ]
     },
     "execution_count": 28,
     "metadata": {},
     "output_type": "execute_result"
    },
    {
     "data": {
      "image/png": "[encoded data removed]",
      "text/plain": [
       "<Figure size 640x480 with 1 Axes>"
      ]
     },
     "metadata": {},
     "output_type": "display_data"
    }
   ],
   "source": [
    "import matplotlib.pyplot as plt\n",
    "\n",
    "plt.plot(data['timestamp'], data['rate_of_change'])\n"
   ]
  },
  {
   "cell_type": "markdown",
   "metadata": {},
   "source": [
    "Compute daily returns (percentage changes in price) for SPY, AAPL  \n",
    "Be sure to drop the first row of NaN  \n",
    "Hint: pandas has functions to easily do this"
   ]
  },
  {
   "cell_type": "code",
   "execution_count": 19,
   "metadata": {},
   "outputs": [],
   "source": [
    "data['close_diff'] = data['close'].diff()"
   ]
  },
  {
   "cell_type": "markdown",
   "metadata": {},
   "source": [
    "#### 1. (1 PT) Print the first 5 rows of returns"
   ]
  },
  {
   "cell_type": "code",
   "execution_count": null,
   "metadata": {},
   "outputs": [],
   "source": []
  },
  {
   "cell_type": "markdown",
   "metadata": {},
   "source": [
    "Save AAPL, SPY returns into separate numpy arrays  \n",
    "#### 2. (1 PT) Print the first five values from the SPY numpy array, and the AAPL numpy array"
   ]
  },
  {
   "cell_type": "code",
   "execution_count": null,
   "metadata": {},
   "outputs": [],
   "source": []
  },
  {
   "cell_type": "markdown",
   "metadata": {},
   "source": [
    "##### Compute the excess returns of AAPL, SPY by simply subtracting the constant *R_f* from the returns.\n",
    "##### Specifically, for the numpy array containing AAPL returns, subtract *R_f* from each of the returns. Repeat for SPY returns.\n",
    "\n",
    "NOTE:  \n",
    "AAPL - *R_f* = excess return of Apple stock  \n",
    "SPY - *R_f* = excess return of stock market\n"
   ]
  },
  {
   "cell_type": "code",
   "execution_count": null,
   "metadata": {},
   "outputs": [],
   "source": []
  },
  {
   "cell_type": "markdown",
   "metadata": {},
   "source": [
    "#### 3. (1 PT) Print the LAST five excess returns from both AAPL, SPY numpy arrays\n"
   ]
  },
  {
   "cell_type": "code",
   "execution_count": null,
   "metadata": {},
   "outputs": [],
   "source": []
  },
  {
   "cell_type": "markdown",
   "metadata": {},
   "source": [
    "#### 4. (1 PT) Make a scatterplot with SPY excess returns on x-axis, AAPL excess returns on y-axis####\n",
    "Matplotlib documentation: https://matplotlib.org/stable/api/_as_gen/matplotlib.pyplot.scatter.html"
   ]
  },
  {
   "cell_type": "code",
   "execution_count": null,
   "metadata": {},
   "outputs": [],
   "source": []
  },
  {
   "cell_type": "markdown",
   "metadata": {},
   "source": [
    "#### 5. (3 PTS) Use Linear Algebra (matrices) to Compute the Regression Coefficient Estimate\n",
    "\n",
    "Hint 1: Here is the matrix formula where *x′* denotes transpose of *x*.\n",
    "\n",
    "\\begin{aligned} \\hat\\beta_i=(x′x)^{−1}x′y \\end{aligned}  "
   ]
  },
  {
   "cell_type": "markdown",
   "metadata": {},
   "source": [
    "Hint 2: consider numpy functions for matrix multiplication, transpose, and inverse. Be sure to review what these operations do, and how they work, if you're a bit rusty."
   ]
  },
  {
   "cell_type": "code",
   "execution_count": null,
   "metadata": {},
   "outputs": [],
   "source": []
  },
  {
   "cell_type": "markdown",
   "metadata": {},
   "source": [
    "You should have found that the beta estimate is greater than one.  \n",
    "This means that the risk of AAPL stock, given the data, and according to this particular (flawed) model,  \n",
    "is higher relative to the risk of the S&P 500.\n"
   ]
  },
  {
   "cell_type": "markdown",
   "metadata": {},
   "source": [
    "#### Measuring Beta Sensitivity to Dropping Observations (Jackknifing)"
   ]
  },
  {
   "cell_type": "markdown",
   "metadata": {},
   "source": [
    "Let's understand how sensitive the beta is to each data point.   \n",
    "We want to drop each data point (one at a time), compute \\\\(\\hat\\beta_i\\\\) using our formula from above, and save each measurement.\n",
    "\n",
    "#### 6. (3 PTS) Write a function called `beta_sensitivity()` with these specs:\n",
    "\n",
    "- take numpy arrays x and y as inputs\n",
    "- output a list of tuples. each tuple contains (observation row dropped, beta estimate)\n",
    "\n",
    "Hint: **np.delete(x, i).reshape(-1,1)** will delete observation i from array x, and make it a column vector"
   ]
  },
  {
   "cell_type": "code",
   "execution_count": null,
   "metadata": {},
   "outputs": [],
   "source": []
  },
  {
   "cell_type": "markdown",
   "metadata": {},
   "source": [
    "#### Call `beta_sensitivity()` and print the first five tuples of output."
   ]
  },
  {
   "cell_type": "code",
   "execution_count": null,
   "metadata": {},
   "outputs": [],
   "source": []
  },
  {
   "attachments": {},
   "cell_type": "markdown",
   "metadata": {},
   "source": [
    "**Submit html file on Canvas**"
   ]
  }
 ],
 "metadata": {
  "kernelspec": {
   "display_name": "Python 3.8.9 64-bit",
   "language": "python",
   "name": "python3"
  },
  "language_info": {
   "codemirror_mode": {
    "name": "ipython",
    "version": 3
   },
   "file_extension": ".py",
   "mimetype": "text/x-python",
   "name": "python",
   "nbconvert_exporter": "python",
   "pygments_lexer": "ipython3",
   "version": "3.9.6"
  },
  "vscode": {
   "interpreter": {
    "hash": "31f2aee4e71d21fbe5cf8b01ff0e069b9275f58929596ceb00d14d90e3e16cd6"
   }
  }
 },
 "nbformat": 4,
 "nbformat_minor": 4
}
